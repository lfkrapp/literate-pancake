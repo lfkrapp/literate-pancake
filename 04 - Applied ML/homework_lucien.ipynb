{
 "cells": [
  {
   "cell_type": "code",
   "execution_count": 326,
   "metadata": {
    "collapsed": false
   },
   "outputs": [
    {
     "name": "stdout",
     "output_type": "stream",
     "text": [
      "The autoreload extension is already loaded. To reload it, use:\n",
      "  %reload_ext autoreload\n"
     ]
    }
   ],
   "source": [
    "%matplotlib inline\n",
    "import pandas as pd\n",
    "import numpy as np\n",
    "\n",
    "from sklearn.ensemble import RandomForestClassifier\n",
    "from sklearn.model_selection import train_test_split, cross_val_score, GridSearchCV, KFold\n",
    "\n",
    "import matplotlib.pyplot as plt\n",
    "plt.style.use('ggplot')\n",
    "\n",
    "%load_ext autoreload\n",
    "%autoreload 2"
   ]
  },
  {
   "cell_type": "markdown",
   "metadata": {},
   "source": [
    "# Loading data"
   ]
  },
  {
   "cell_type": "code",
   "execution_count": 2,
   "metadata": {
    "collapsed": true
   },
   "outputs": [],
   "source": [
    "data_path = 'CrowdstormingDataJuly1st.csv'\n",
    "raw_data = pd.read_csv(data_path)"
   ]
  },
  {
   "cell_type": "code",
   "execution_count": 3,
   "metadata": {
    "collapsed": false,
    "scrolled": true
   },
   "outputs": [
    {
     "data": {
      "text/html": [
       "<div>\n",
       "<table border=\"1\" class=\"dataframe\">\n",
       "  <thead>\n",
       "    <tr style=\"text-align: right;\">\n",
       "      <th></th>\n",
       "      <th>playerShort</th>\n",
       "      <th>player</th>\n",
       "      <th>club</th>\n",
       "      <th>leagueCountry</th>\n",
       "      <th>birthday</th>\n",
       "      <th>height</th>\n",
       "      <th>weight</th>\n",
       "      <th>position</th>\n",
       "      <th>games</th>\n",
       "      <th>victories</th>\n",
       "      <th>...</th>\n",
       "      <th>rater2</th>\n",
       "      <th>refNum</th>\n",
       "      <th>refCountry</th>\n",
       "      <th>Alpha_3</th>\n",
       "      <th>meanIAT</th>\n",
       "      <th>nIAT</th>\n",
       "      <th>seIAT</th>\n",
       "      <th>meanExp</th>\n",
       "      <th>nExp</th>\n",
       "      <th>seExp</th>\n",
       "    </tr>\n",
       "  </thead>\n",
       "  <tbody>\n",
       "    <tr>\n",
       "      <th>0</th>\n",
       "      <td>lucas-wilchez</td>\n",
       "      <td>Lucas Wilchez</td>\n",
       "      <td>Real Zaragoza</td>\n",
       "      <td>Spain</td>\n",
       "      <td>31.08.1983</td>\n",
       "      <td>177.0</td>\n",
       "      <td>72.0</td>\n",
       "      <td>Attacking Midfielder</td>\n",
       "      <td>1</td>\n",
       "      <td>0</td>\n",
       "      <td>...</td>\n",
       "      <td>0.50</td>\n",
       "      <td>1</td>\n",
       "      <td>1</td>\n",
       "      <td>GRC</td>\n",
       "      <td>0.326391</td>\n",
       "      <td>712.0</td>\n",
       "      <td>0.000564</td>\n",
       "      <td>0.396000</td>\n",
       "      <td>750.0</td>\n",
       "      <td>0.002696</td>\n",
       "    </tr>\n",
       "    <tr>\n",
       "      <th>1</th>\n",
       "      <td>john-utaka</td>\n",
       "      <td>John Utaka</td>\n",
       "      <td>Montpellier HSC</td>\n",
       "      <td>France</td>\n",
       "      <td>08.01.1982</td>\n",
       "      <td>179.0</td>\n",
       "      <td>82.0</td>\n",
       "      <td>Right Winger</td>\n",
       "      <td>1</td>\n",
       "      <td>0</td>\n",
       "      <td>...</td>\n",
       "      <td>0.75</td>\n",
       "      <td>2</td>\n",
       "      <td>2</td>\n",
       "      <td>ZMB</td>\n",
       "      <td>0.203375</td>\n",
       "      <td>40.0</td>\n",
       "      <td>0.010875</td>\n",
       "      <td>-0.204082</td>\n",
       "      <td>49.0</td>\n",
       "      <td>0.061504</td>\n",
       "    </tr>\n",
       "    <tr>\n",
       "      <th>2</th>\n",
       "      <td>abdon-prats</td>\n",
       "      <td>Abdón Prats</td>\n",
       "      <td>RCD Mallorca</td>\n",
       "      <td>Spain</td>\n",
       "      <td>17.12.1992</td>\n",
       "      <td>181.0</td>\n",
       "      <td>79.0</td>\n",
       "      <td>NaN</td>\n",
       "      <td>1</td>\n",
       "      <td>0</td>\n",
       "      <td>...</td>\n",
       "      <td>NaN</td>\n",
       "      <td>3</td>\n",
       "      <td>3</td>\n",
       "      <td>ESP</td>\n",
       "      <td>0.369894</td>\n",
       "      <td>1785.0</td>\n",
       "      <td>0.000229</td>\n",
       "      <td>0.588297</td>\n",
       "      <td>1897.0</td>\n",
       "      <td>0.001002</td>\n",
       "    </tr>\n",
       "    <tr>\n",
       "      <th>3</th>\n",
       "      <td>pablo-mari</td>\n",
       "      <td>Pablo Marí</td>\n",
       "      <td>RCD Mallorca</td>\n",
       "      <td>Spain</td>\n",
       "      <td>31.08.1993</td>\n",
       "      <td>191.0</td>\n",
       "      <td>87.0</td>\n",
       "      <td>Center Back</td>\n",
       "      <td>1</td>\n",
       "      <td>1</td>\n",
       "      <td>...</td>\n",
       "      <td>NaN</td>\n",
       "      <td>3</td>\n",
       "      <td>3</td>\n",
       "      <td>ESP</td>\n",
       "      <td>0.369894</td>\n",
       "      <td>1785.0</td>\n",
       "      <td>0.000229</td>\n",
       "      <td>0.588297</td>\n",
       "      <td>1897.0</td>\n",
       "      <td>0.001002</td>\n",
       "    </tr>\n",
       "    <tr>\n",
       "      <th>4</th>\n",
       "      <td>ruben-pena</td>\n",
       "      <td>Rubén Peña</td>\n",
       "      <td>Real Valladolid</td>\n",
       "      <td>Spain</td>\n",
       "      <td>18.07.1991</td>\n",
       "      <td>172.0</td>\n",
       "      <td>70.0</td>\n",
       "      <td>Right Midfielder</td>\n",
       "      <td>1</td>\n",
       "      <td>1</td>\n",
       "      <td>...</td>\n",
       "      <td>NaN</td>\n",
       "      <td>3</td>\n",
       "      <td>3</td>\n",
       "      <td>ESP</td>\n",
       "      <td>0.369894</td>\n",
       "      <td>1785.0</td>\n",
       "      <td>0.000229</td>\n",
       "      <td>0.588297</td>\n",
       "      <td>1897.0</td>\n",
       "      <td>0.001002</td>\n",
       "    </tr>\n",
       "  </tbody>\n",
       "</table>\n",
       "<p>5 rows × 28 columns</p>\n",
       "</div>"
      ],
      "text/plain": [
       "     playerShort         player             club leagueCountry    birthday  \\\n",
       "0  lucas-wilchez  Lucas Wilchez    Real Zaragoza         Spain  31.08.1983   \n",
       "1     john-utaka     John Utaka  Montpellier HSC        France  08.01.1982   \n",
       "2    abdon-prats    Abdón Prats     RCD Mallorca         Spain  17.12.1992   \n",
       "3     pablo-mari     Pablo Marí     RCD Mallorca         Spain  31.08.1993   \n",
       "4     ruben-pena     Rubén Peña  Real Valladolid         Spain  18.07.1991   \n",
       "\n",
       "   height  weight              position  games  victories    ...     rater2  \\\n",
       "0   177.0    72.0  Attacking Midfielder      1          0    ...       0.50   \n",
       "1   179.0    82.0          Right Winger      1          0    ...       0.75   \n",
       "2   181.0    79.0                   NaN      1          0    ...        NaN   \n",
       "3   191.0    87.0           Center Back      1          1    ...        NaN   \n",
       "4   172.0    70.0      Right Midfielder      1          1    ...        NaN   \n",
       "\n",
       "   refNum  refCountry  Alpha_3   meanIAT    nIAT     seIAT   meanExp    nExp  \\\n",
       "0       1           1      GRC  0.326391   712.0  0.000564  0.396000   750.0   \n",
       "1       2           2      ZMB  0.203375    40.0  0.010875 -0.204082    49.0   \n",
       "2       3           3      ESP  0.369894  1785.0  0.000229  0.588297  1897.0   \n",
       "3       3           3      ESP  0.369894  1785.0  0.000229  0.588297  1897.0   \n",
       "4       3           3      ESP  0.369894  1785.0  0.000229  0.588297  1897.0   \n",
       "\n",
       "      seExp  \n",
       "0  0.002696  \n",
       "1  0.061504  \n",
       "2  0.001002  \n",
       "3  0.001002  \n",
       "4  0.001002  \n",
       "\n",
       "[5 rows x 28 columns]"
      ]
     },
     "execution_count": 3,
     "metadata": {},
     "output_type": "execute_result"
    }
   ],
   "source": [
    "raw_data.head()"
   ]
  },
  {
   "cell_type": "markdown",
   "metadata": {},
   "source": [
    "# Process data, extract features and labels"
   ]
  },
  {
   "cell_type": "markdown",
   "metadata": {},
   "source": [
    "Remove entries with both skin tone rating not available"
   ]
  },
  {
   "cell_type": "code",
   "execution_count": 4,
   "metadata": {
    "collapsed": false
   },
   "outputs": [],
   "source": [
    "data = raw_data.dropna(how='all', subset=['rater1', 'rater2'])"
   ]
  },
  {
   "cell_type": "markdown",
   "metadata": {},
   "source": [
    "Extract relevant features and remove NaN values"
   ]
  },
  {
   "cell_type": "code",
   "execution_count": 5,
   "metadata": {
    "collapsed": false
   },
   "outputs": [
    {
     "data": {
      "text/html": [
       "<div>\n",
       "<table border=\"1\" class=\"dataframe\">\n",
       "  <thead>\n",
       "    <tr style=\"text-align: right;\">\n",
       "      <th></th>\n",
       "      <th>height</th>\n",
       "      <th>weight</th>\n",
       "      <th>games</th>\n",
       "      <th>victories</th>\n",
       "      <th>ties</th>\n",
       "      <th>defeats</th>\n",
       "      <th>goals</th>\n",
       "      <th>yellowCards</th>\n",
       "      <th>yellowReds</th>\n",
       "      <th>redCards</th>\n",
       "      <th>refNum</th>\n",
       "      <th>refCountry</th>\n",
       "      <th>meanIAT</th>\n",
       "      <th>nIAT</th>\n",
       "      <th>seIAT</th>\n",
       "      <th>meanExp</th>\n",
       "      <th>nExp</th>\n",
       "      <th>seExp</th>\n",
       "    </tr>\n",
       "  </thead>\n",
       "  <tbody>\n",
       "    <tr>\n",
       "      <th>0</th>\n",
       "      <td>177.0</td>\n",
       "      <td>72.0</td>\n",
       "      <td>1</td>\n",
       "      <td>0</td>\n",
       "      <td>0</td>\n",
       "      <td>1</td>\n",
       "      <td>0</td>\n",
       "      <td>0</td>\n",
       "      <td>0</td>\n",
       "      <td>0</td>\n",
       "      <td>1</td>\n",
       "      <td>1</td>\n",
       "      <td>0.326391</td>\n",
       "      <td>712.0</td>\n",
       "      <td>0.000564</td>\n",
       "      <td>0.396000</td>\n",
       "      <td>750.0</td>\n",
       "      <td>0.002696</td>\n",
       "    </tr>\n",
       "    <tr>\n",
       "      <th>1</th>\n",
       "      <td>179.0</td>\n",
       "      <td>82.0</td>\n",
       "      <td>1</td>\n",
       "      <td>0</td>\n",
       "      <td>0</td>\n",
       "      <td>1</td>\n",
       "      <td>0</td>\n",
       "      <td>1</td>\n",
       "      <td>0</td>\n",
       "      <td>0</td>\n",
       "      <td>2</td>\n",
       "      <td>2</td>\n",
       "      <td>0.203375</td>\n",
       "      <td>40.0</td>\n",
       "      <td>0.010875</td>\n",
       "      <td>-0.204082</td>\n",
       "      <td>49.0</td>\n",
       "      <td>0.061504</td>\n",
       "    </tr>\n",
       "    <tr>\n",
       "      <th>5</th>\n",
       "      <td>182.0</td>\n",
       "      <td>71.0</td>\n",
       "      <td>1</td>\n",
       "      <td>0</td>\n",
       "      <td>0</td>\n",
       "      <td>1</td>\n",
       "      <td>0</td>\n",
       "      <td>0</td>\n",
       "      <td>0</td>\n",
       "      <td>0</td>\n",
       "      <td>4</td>\n",
       "      <td>4</td>\n",
       "      <td>0.325185</td>\n",
       "      <td>127.0</td>\n",
       "      <td>0.003297</td>\n",
       "      <td>0.538462</td>\n",
       "      <td>130.0</td>\n",
       "      <td>0.013752</td>\n",
       "    </tr>\n",
       "    <tr>\n",
       "      <th>6</th>\n",
       "      <td>187.0</td>\n",
       "      <td>80.0</td>\n",
       "      <td>1</td>\n",
       "      <td>1</td>\n",
       "      <td>0</td>\n",
       "      <td>0</td>\n",
       "      <td>0</td>\n",
       "      <td>0</td>\n",
       "      <td>0</td>\n",
       "      <td>0</td>\n",
       "      <td>4</td>\n",
       "      <td>4</td>\n",
       "      <td>0.325185</td>\n",
       "      <td>127.0</td>\n",
       "      <td>0.003297</td>\n",
       "      <td>0.538462</td>\n",
       "      <td>130.0</td>\n",
       "      <td>0.013752</td>\n",
       "    </tr>\n",
       "    <tr>\n",
       "      <th>7</th>\n",
       "      <td>180.0</td>\n",
       "      <td>68.0</td>\n",
       "      <td>1</td>\n",
       "      <td>0</td>\n",
       "      <td>0</td>\n",
       "      <td>1</td>\n",
       "      <td>0</td>\n",
       "      <td>0</td>\n",
       "      <td>0</td>\n",
       "      <td>0</td>\n",
       "      <td>4</td>\n",
       "      <td>4</td>\n",
       "      <td>0.325185</td>\n",
       "      <td>127.0</td>\n",
       "      <td>0.003297</td>\n",
       "      <td>0.538462</td>\n",
       "      <td>130.0</td>\n",
       "      <td>0.013752</td>\n",
       "    </tr>\n",
       "  </tbody>\n",
       "</table>\n",
       "</div>"
      ],
      "text/plain": [
       "   height  weight  games  victories  ties  defeats  goals  yellowCards  \\\n",
       "0   177.0    72.0      1          0     0        1      0            0   \n",
       "1   179.0    82.0      1          0     0        1      0            1   \n",
       "5   182.0    71.0      1          0     0        1      0            0   \n",
       "6   187.0    80.0      1          1     0        0      0            0   \n",
       "7   180.0    68.0      1          0     0        1      0            0   \n",
       "\n",
       "   yellowReds  redCards  refNum  refCountry   meanIAT   nIAT     seIAT  \\\n",
       "0           0         0       1           1  0.326391  712.0  0.000564   \n",
       "1           0         0       2           2  0.203375   40.0  0.010875   \n",
       "5           0         0       4           4  0.325185  127.0  0.003297   \n",
       "6           0         0       4           4  0.325185  127.0  0.003297   \n",
       "7           0         0       4           4  0.325185  127.0  0.003297   \n",
       "\n",
       "    meanExp   nExp     seExp  \n",
       "0  0.396000  750.0  0.002696  \n",
       "1 -0.204082   49.0  0.061504  \n",
       "5  0.538462  130.0  0.013752  \n",
       "6  0.538462  130.0  0.013752  \n",
       "7  0.538462  130.0  0.013752  "
      ]
     },
     "execution_count": 5,
     "metadata": {},
     "output_type": "execute_result"
    }
   ],
   "source": [
    "features = data.loc[:, data.dtypes != object].copy()\n",
    "features.drop(['rater1', 'rater2'], axis=1, inplace=True)\n",
    "features.dropna(inplace=True)\n",
    "features.head()"
   ]
  },
  {
   "cell_type": "markdown",
   "metadata": {},
   "source": [
    "Extract and create labels for the correspond features"
   ]
  },
  {
   "cell_type": "code",
   "execution_count": 6,
   "metadata": {
    "collapsed": false
   },
   "outputs": [
    {
     "data": {
      "text/plain": [
       "0    0.375\n",
       "1    0.750\n",
       "5    0.125\n",
       "6    0.125\n",
       "7    1.000\n",
       "dtype: float64"
      ]
     },
     "execution_count": 6,
     "metadata": {},
     "output_type": "execute_result"
    }
   ],
   "source": [
    "labels = 0.5*(data.rater2 + data.rater1).copy()\n",
    "labels = labels[features.index]\n",
    "labels.head()"
   ]
  },
  {
   "cell_type": "markdown",
   "metadata": {},
   "source": [
    "# Train a Random Forest Classifier"
   ]
  },
  {
   "cell_type": "markdown",
   "metadata": {},
   "source": [
    "Convert data to numpy array"
   ]
  },
  {
   "cell_type": "code",
   "execution_count": 148,
   "metadata": {
    "collapsed": false
   },
   "outputs": [
    {
     "name": "stdout",
     "output_type": "stream",
     "text": [
      "dimensions y = (123715,)\n",
      "dimensions X = (123715, 18)\n"
     ]
    }
   ],
   "source": [
    "y = np.asarray(labels, dtype=\"|S6\")\n",
    "X = features.as_matrix()\n",
    "print('dimensions y =', y.shape)\n",
    "print('dimensions X =', X.shape)"
   ]
  },
  {
   "cell_type": "markdown",
   "metadata": {},
   "source": [
    "Split data into training and testing sets"
   ]
  },
  {
   "cell_type": "code",
   "execution_count": 139,
   "metadata": {
    "collapsed": false
   },
   "outputs": [],
   "source": [
    "seed = 42\n",
    "X_train, X_test, y_train, y_test = train_test_split(X, y, test_size=0.1, random_state=seed)"
   ]
  },
  {
   "cell_type": "markdown",
   "metadata": {},
   "source": [
    "Define function to print accuracy of the model"
   ]
  },
  {
   "cell_type": "code",
   "execution_count": 140,
   "metadata": {
    "collapsed": true
   },
   "outputs": [],
   "source": [
    "def print_score(classifier, X_train, y_train, X_test, y_test):\n",
    "    print('Train set score :', classifier.score(X_train, y_train))\n",
    "    print('Test set score :', classifier.score(X_test, y_test))"
   ]
  },
  {
   "cell_type": "markdown",
   "metadata": {},
   "source": [
    "Create, train and test the random forest classifier"
   ]
  },
  {
   "cell_type": "code",
   "execution_count": 141,
   "metadata": {
    "collapsed": false
   },
   "outputs": [
    {
     "name": "stdout",
     "output_type": "stream",
     "text": [
      "Train set score : 0.973990282281\n",
      "Test set score : 0.51931781442\n"
     ]
    }
   ],
   "source": [
    "rfc = RandomForestClassifier(n_jobs=-1)\n",
    "model = rfc.fit(X_train, y_train)\n",
    "\n",
    "print_score(rfc, X_train, y_train, X_test, y_test)"
   ]
  },
  {
   "cell_type": "markdown",
   "metadata": {},
   "source": [
    "We clearly see that the model is overfitting. We can decrease the overfitting by increasing the number of maximum features"
   ]
  },
  {
   "cell_type": "code",
   "execution_count": 142,
   "metadata": {
    "collapsed": false
   },
   "outputs": [
    {
     "name": "stdout",
     "output_type": "stream",
     "text": [
      "Train set score : 0.970828880127\n",
      "Test set score : 0.673779502102\n"
     ]
    }
   ],
   "source": [
    "rfc = RandomForestClassifier(max_features=None, n_jobs=-1)\n",
    "model = rfc.fit(X_train, y_train)\n",
    "\n",
    "print_score(rfc, X_train, y_train, X_test, y_test)"
   ]
  },
  {
   "cell_type": "markdown",
   "metadata": {},
   "source": [
    "# TODO\n",
    "- Try other parameters\n",
    "- Don't know what \"Perform cross-validation to mitigate the overfitting of your model.\" means\n",
    "- Maybe add other features such as country or other strings by converting them to a scale (1 to n)\n",
    "\n",
    "Here is some code scraps :"
   ]
  },
  {
   "cell_type": "code",
   "execution_count": 153,
   "metadata": {
    "collapsed": false
   },
   "outputs": [],
   "source": [
    "## ---> Cross validation score <---\n",
    "#scores = cross_val_score(rfc, X_train, y_train, cv=3)\n",
    "#scores.mean()\n",
    "\n",
    "## ---> Parameters search using grid search <---\n",
    "#parameters = {'n_estimators': [5, 10, 15, 20],\n",
    "#              'max_depth': [2, 5, 7, 9]}\n",
    "#grid_rfc = GridSearchCV(rfc, parameters)\n",
    "#grid_rfc.fit(X_train, y_train, oob_score=True)\n",
    "\n",
    "## ---> K-fold score <---\n",
    "#kfold = KFold(n_splits=20)\n",
    "#kfold_score = [rfc.fit(X_train[train], y_train[train]).score(X_train[test], y_train[test])\n",
    "#               for train, test in kfold.split(X_train)]\n",
    "#kfold_score"
   ]
  },
  {
   "cell_type": "code",
   "execution_count": null,
   "metadata": {
    "collapsed": true
   },
   "outputs": [],
   "source": []
  },
  {
   "cell_type": "markdown",
   "metadata": {
    "collapsed": true
   },
   "source": [
    "# Feature imporances"
   ]
  },
  {
   "cell_type": "markdown",
   "metadata": {},
   "source": [
    "Starting by defining a function to plot the features importances"
   ]
  },
  {
   "cell_type": "code",
   "execution_count": 307,
   "metadata": {
    "collapsed": true
   },
   "outputs": [],
   "source": [
    "def plot_features_importances(features_importances):\n",
    "    ft_imp.plot(kind='bar')\n",
    "    \n",
    "    #plt.title('Feature importance for the trained random forest model')\n",
    "    plt.xlabel('Feature name', fontweight='bold')\n",
    "    plt.ylabel('Feature importance [%]', fontweight='bold')\n",
    "    plt.show()"
   ]
  },
  {
   "cell_type": "markdown",
   "metadata": {},
   "source": [
    "Extract and plot the features importances"
   ]
  },
  {
   "cell_type": "code",
   "execution_count": 316,
   "metadata": {
    "collapsed": false
   },
   "outputs": [
    {
     "data": {
      "image/png": "[encoded data removed]",
      "text/plain": [
       "<matplotlib.figure.Figure at 0x7f9e30f9bfd0>"
      ]
     },
     "metadata": {},
     "output_type": "display_data"
    }
   ],
   "source": [
    "# Extract features importances from model\n",
    "features_importances = model.feature_importances_\n",
    "\n",
    "# Create series from features importances and features names\n",
    "ft_imp = pd.Series(features_importances, index=features.columns.values).sort_values(ascending=False)\n",
    "\n",
    "# Plot features\n",
    "plot_features_importances(ft_imp)"
   ]
  },
  {
   "cell_type": "markdown",
   "metadata": {
    "collapsed": true
   },
   "source": [
    "Three features stands out : 'height', 'weight' and 'refNum'. We can try to use the first 6 most usefull features to train our random forest classifier"
   ]
  },
  {
   "cell_type": "code",
   "execution_count": 312,
   "metadata": {
    "collapsed": false
   },
   "outputs": [
    {
     "data": {
      "text/html": [
       "<div>\n",
       "<table border=\"1\" class=\"dataframe\">\n",
       "  <thead>\n",
       "    <tr style=\"text-align: right;\">\n",
       "      <th></th>\n",
       "      <th>weight</th>\n",
       "      <th>height</th>\n",
       "      <th>refNum</th>\n",
       "      <th>games</th>\n",
       "      <th>victories</th>\n",
       "      <th>refCountry</th>\n",
       "    </tr>\n",
       "  </thead>\n",
       "  <tbody>\n",
       "    <tr>\n",
       "      <th>0</th>\n",
       "      <td>72.0</td>\n",
       "      <td>177.0</td>\n",
       "      <td>1</td>\n",
       "      <td>1</td>\n",
       "      <td>0</td>\n",
       "      <td>1</td>\n",
       "    </tr>\n",
       "    <tr>\n",
       "      <th>1</th>\n",
       "      <td>82.0</td>\n",
       "      <td>179.0</td>\n",
       "      <td>2</td>\n",
       "      <td>1</td>\n",
       "      <td>0</td>\n",
       "      <td>2</td>\n",
       "    </tr>\n",
       "    <tr>\n",
       "      <th>5</th>\n",
       "      <td>71.0</td>\n",
       "      <td>182.0</td>\n",
       "      <td>4</td>\n",
       "      <td>1</td>\n",
       "      <td>0</td>\n",
       "      <td>4</td>\n",
       "    </tr>\n",
       "    <tr>\n",
       "      <th>6</th>\n",
       "      <td>80.0</td>\n",
       "      <td>187.0</td>\n",
       "      <td>4</td>\n",
       "      <td>1</td>\n",
       "      <td>1</td>\n",
       "      <td>4</td>\n",
       "    </tr>\n",
       "    <tr>\n",
       "      <th>7</th>\n",
       "      <td>68.0</td>\n",
       "      <td>180.0</td>\n",
       "      <td>4</td>\n",
       "      <td>1</td>\n",
       "      <td>0</td>\n",
       "      <td>4</td>\n",
       "    </tr>\n",
       "  </tbody>\n",
       "</table>\n",
       "</div>"
      ],
      "text/plain": [
       "   weight  height  refNum  games  victories  refCountry\n",
       "0    72.0   177.0       1      1          0           1\n",
       "1    82.0   179.0       2      1          0           2\n",
       "5    71.0   182.0       4      1          0           4\n",
       "6    80.0   187.0       4      1          1           4\n",
       "7    68.0   180.0       4      1          0           4"
      ]
     },
     "execution_count": 312,
     "metadata": {},
     "output_type": "execute_result"
    }
   ],
   "source": [
    "# number of features choosen\n",
    "n_features = 6\n",
    "\n",
    "# extract reduced features set and drop NaN values\n",
    "features_reduced = data[ft_imp.head(n_features).index].copy()\n",
    "features_reduced.dropna(inplace=True)\n",
    "\n",
    "# extract and create reduced labels\n",
    "labels_reduced = labels[features_reduced.index]\n",
    "\n",
    "# show reduced features\n",
    "features_reduced.head()"
   ]
  },
  {
   "cell_type": "markdown",
   "metadata": {},
   "source": [
    "We can now train our random forest classifier on the reduced data set"
   ]
  },
  {
   "cell_type": "code",
   "execution_count": 315,
   "metadata": {
    "collapsed": false
   },
   "outputs": [
    {
     "name": "stdout",
     "output_type": "stream",
     "text": [
      "Train set score : 0.951426700514\n",
      "Test set score : 0.644143053201\n"
     ]
    }
   ],
   "source": [
    "# convert dataframe to numpy array\n",
    "y_r = np.asarray(labels_reduced, dtype=\"|S6\")\n",
    "X_r = features_reduced.as_matrix()\n",
    "\n",
    "# split data into training and testing sets\n",
    "seed = 42\n",
    "X_r_train, X_r_test, y_r_train, y_r_test = train_test_split(X_r, y_r, test_size=0.1, random_state=seed)\n",
    "\n",
    "# create and train model\n",
    "rfc_r = RandomForestClassifier(max_features=None, n_jobs=-1)\n",
    "model_r = rfc_r.fit(X_r_train, y_r_train)\n",
    "\n",
    "# compute score of the train model\n",
    "print_score(rfc_r, X_r_train, y_r_train, X_r_test, y_r_test)"
   ]
  },
  {
   "cell_type": "markdown",
   "metadata": {
    "collapsed": true
   },
   "source": [
    "We can see that the model is not really better. Let's see the features importances"
   ]
  },
  {
   "cell_type": "code",
   "execution_count": 317,
   "metadata": {
    "collapsed": false
   },
   "outputs": [
    {
     "data": {
      "image/png": "[encoded data removed]",
      "text/plain": [
       "<matplotlib.figure.Figure at 0x7f9e30f8b6d8>"
      ]
     },
     "metadata": {},
     "output_type": "display_data"
    }
   ],
   "source": [
    "# Extract features importances from model\n",
    "features_importances_reduced = model_r.feature_importances_\n",
    "\n",
    "# Create series from features importances and features names\n",
    "ft_imp = pd.Series(features_importances_reduced, index=features_reduced.columns.values).sort_values(ascending=False)\n",
    "\n",
    "# Plot features\n",
    "plot_features_importances(ft_imp)"
   ]
  },
  {
   "cell_type": "markdown",
   "metadata": {},
   "source": [
    "# Learning curve"
   ]
  },
  {
   "cell_type": "markdown",
   "metadata": {},
   "source": [
    "Compute score for different values for parameters *n_estimators* and *mas_depth* of the random forest classifier. **Warning this cell is long to run**."
   ]
  },
  {
   "cell_type": "code",
   "execution_count": 350,
   "metadata": {
    "collapsed": false
   },
   "outputs": [],
   "source": [
    "# create starting random forest classifier\n",
    "rfc_l = RandomForestClassifier(max_features=None, n_jobs=-1)\n",
    "\n",
    "# create range of parameters and a grid search object\n",
    "parameters = {'n_estimators': [5, 10, 15, 20],\n",
    "              'max_depth': [2, 5, 7, 9]}\n",
    "grid_rfc = GridSearchCV(rfc_l, parameters)\n",
    "\n",
    "# train classifier with all parameters\n",
    "model_grid = grid_rfc.fit(X_train, y_train)"
   ]
  },
  {
   "cell_type": "code",
   "execution_count": 352,
   "metadata": {
    "collapsed": false
   },
   "outputs": [
    {
     "data": {
      "text/plain": [
       "{'mean_fit_time': array([ 0.24426587,  0.43901189,  0.54590464,  0.74967726,  0.47026237,\n",
       "         0.94131263,  1.18035388,  1.38037388,  0.53570024,  0.94705327,\n",
       "         1.3424685 ,  1.75222834,  0.63553452,  1.04311283,  1.5792888 ,\n",
       "         2.04636367]),\n",
       " 'mean_score_time': array([ 0.1244301 ,  0.12815658,  0.12162415,  0.13972378,  0.12241562,\n",
       "         0.12147991,  0.12413446,  0.13553635,  0.12614783,  0.13072411,\n",
       "         0.12992636,  0.13387648,  0.12564731,  0.13069121,  0.13161381,\n",
       "         0.14114189]),\n",
       " 'mean_test_score': array([ 0.33085151,  0.33389616,  0.333016  ,  0.32956719,  0.37521892,\n",
       "         0.37829949,  0.37658407,  0.37753608,  0.40791069,  0.4102548 ,\n",
       "         0.41100024,  0.41297612,  0.47063578,  0.48025471,  0.47807226,\n",
       "         0.47923085]),\n",
       " 'mean_train_score': array([ 0.33225254,  0.33461919,  0.3339949 ,  0.33070777,  0.37641344,\n",
       "         0.37948502,  0.37827257,  0.37874401,  0.4106859 ,  0.41308842,\n",
       "         0.41455678,  0.41596237,  0.47858879,  0.48947866,  0.48721081,\n",
       "         0.48946057]),\n",
       " 'param_max_depth': masked_array(data = [2 2 2 2 5 5 5 5 7 7 7 7 9 9 9 9],\n",
       "              mask = [False False False False False False False False False False False False\n",
       "  False False False False],\n",
       "        fill_value = ?),\n",
       " 'param_n_estimators': masked_array(data = [5 10 15 20 5 10 15 20 5 10 15 20 5 10 15 20],\n",
       "              mask = [False False False False False False False False False False False False\n",
       "  False False False False],\n",
       "        fill_value = ?),\n",
       " 'params': ({'max_depth': 2, 'n_estimators': 5},\n",
       "  {'max_depth': 2, 'n_estimators': 10},\n",
       "  {'max_depth': 2, 'n_estimators': 15},\n",
       "  {'max_depth': 2, 'n_estimators': 20},\n",
       "  {'max_depth': 5, 'n_estimators': 5},\n",
       "  {'max_depth': 5, 'n_estimators': 10},\n",
       "  {'max_depth': 5, 'n_estimators': 15},\n",
       "  {'max_depth': 5, 'n_estimators': 20},\n",
       "  {'max_depth': 7, 'n_estimators': 5},\n",
       "  {'max_depth': 7, 'n_estimators': 10},\n",
       "  {'max_depth': 7, 'n_estimators': 15},\n",
       "  {'max_depth': 7, 'n_estimators': 20},\n",
       "  {'max_depth': 9, 'n_estimators': 5},\n",
       "  {'max_depth': 9, 'n_estimators': 10},\n",
       "  {'max_depth': 9, 'n_estimators': 15},\n",
       "  {'max_depth': 9, 'n_estimators': 20}),\n",
       " 'rank_test_score': array([15, 13, 14, 16, 12,  9, 11, 10,  8,  7,  6,  5,  4,  1,  3,  2], dtype=int32),\n",
       " 'split0_test_score': array([ 0.33100736,  0.34014064,  0.3313576 ,  0.33141148,  0.37963736,\n",
       "         0.38211601,  0.37783226,  0.37594633,  0.41164426,  0.41547   ,\n",
       "         0.41094377,  0.41511976,  0.4725328 ,  0.49287389,  0.48500687,\n",
       "         0.4852224 ]),\n",
       " 'split0_train_score': array([ 0.3293994 ,  0.33649934,  0.32926468,  0.32926468,  0.37783257,\n",
       "         0.37997467,  0.37811549,  0.37542101,  0.41077251,  0.41484116,\n",
       "         0.41144612,  0.4152588 ,  0.48049201,  0.50064667,  0.49312909,\n",
       "         0.49261714]),\n",
       " 'split1_test_score': array([ 0.3348871 ,  0.3348871 ,  0.34103034,  0.33062995,  0.37104597,\n",
       "         0.3769467 ,  0.37969499,  0.37958722,  0.40515708,  0.40871369,\n",
       "         0.41248585,  0.41140809,  0.47874118,  0.47515762,  0.47801369,\n",
       "         0.47631621]),\n",
       " 'split1_train_score': array([ 0.33412817,  0.33412817,  0.33948996,  0.32962858,  0.37446281,\n",
       "         0.37917795,  0.38188579,  0.38160288,  0.41020356,  0.41233211,\n",
       "         0.41809805,  0.41570006,  0.48493177,  0.4841504 ,  0.48614423,\n",
       "         0.48967385]),\n",
       " 'split2_test_score': array([ 0.32665984,  0.32665984,  0.32665984,  0.32665984,  0.37497305,\n",
       "         0.37583531,  0.37222462,  0.3770748 ,  0.40693037,  0.40658008,\n",
       "         0.40957103,  0.4124003 ,  0.46063268,  0.47273119,  0.4711953 ,\n",
       "         0.47615327]),\n",
       " 'split2_train_score': array([ 0.33323005,  0.33323005,  0.33323005,  0.33323005,  0.37694494,\n",
       "         0.37930245,  0.37481645,  0.37920815,  0.41108162,  0.41209198,\n",
       "         0.41412617,  0.41692824,  0.47034258,  0.48363891,  0.48235912,\n",
       "         0.48609072]),\n",
       " 'std_fit_time': array([ 0.01055725,  0.00459975,  0.0049233 ,  0.00660389,  0.05399576,\n",
       "         0.0053609 ,  0.19293694,  0.04504895,  0.00489484,  0.00743743,\n",
       "         0.00348792,  0.01088469,  0.00328984,  0.00886195,  0.04302717,\n",
       "         0.00220327]),\n",
       " 'std_score_time': array([ 0.0065427 ,  0.00764071,  0.00190345,  0.00486742,  0.00102556,\n",
       "         0.00323073,  0.00467   ,  0.00802172,  0.00639689,  0.0060159 ,\n",
       "         0.00629025,  0.00501593,  0.00549587,  0.00358945,  0.00722565,\n",
       "         0.00349648]),\n",
       " 'std_test_score': array([ 0.00336051,  0.00554795,  0.00598269,  0.00208033,  0.00351178,\n",
       "         0.00273671,  0.00317487,  0.00152177,  0.00273763,  0.00378937,\n",
       "         0.00119062,  0.00156905,  0.00751336,  0.0089784 ,  0.00563871,\n",
       "         0.00423742]),\n",
       " 'std_train_score': array([ 0.00205052,  0.0013791 ,  0.00420934,  0.0017897 ,  0.00142611,\n",
       "         0.00034994,  0.00288818,  0.00254499,  0.00036366,  0.00124325,\n",
       "         0.00273265,  0.00070633,  0.00610616,  0.00789974,  0.00446104,\n",
       "         0.00266867])}"
      ]
     },
     "execution_count": 352,
     "metadata": {},
     "output_type": "execute_result"
    }
   ],
   "source": [
    "model_grid.cv_results_"
   ]
  },
  {
   "cell_type": "code",
   "execution_count": null,
   "metadata": {
    "collapsed": true
   },
   "outputs": [],
   "source": []
  },
  {
   "cell_type": "code",
   "execution_count": null,
   "metadata": {
    "collapsed": true
   },
   "outputs": [],
   "source": []
  }
 ],
 "metadata": {
  "kernelspec": {
   "display_name": "Python 3",
   "language": "python",
   "name": "python3"
  },
  "language_info": {
   "codemirror_mode": {
    "name": "ipython",
    "version": 3
   },
   "file_extension": ".py",
   "mimetype": "text/x-python",
   "name": "python",
   "nbconvert_exporter": "python",
   "pygments_lexer": "ipython3",
   "version": "3.5.2+"
  }
 },
 "nbformat": 4,
 "nbformat_minor": 1
}
