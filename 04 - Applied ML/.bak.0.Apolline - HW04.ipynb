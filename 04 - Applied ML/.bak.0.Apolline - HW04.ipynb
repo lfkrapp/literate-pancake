{
 "cells": [
  {
   "cell_type": "markdown",
   "metadata": {},
   "source": [
    "# Cleaning and Analysing Data"
   ]
  },
  {
   "cell_type": "markdown",
   "metadata": {},
   "source": [
    "Dans cette partie, on analyse et nettoie les données avant de ne leur appliquer des algo de machine learning"
   ]
  },
  {
   "cell_type": "code",
   "execution_count": 268,
   "metadata": {
    "collapsed": false
   },
   "outputs": [
    {
     "name": "stdout",
     "output_type": "stream",
     "text": [
      "The autoreload extension is already loaded. To reload it, use:\n",
      "  %reload_ext autoreload\n"
     ]
    }
   ],
   "source": [
    "%matplotlib inline\n",
    "import pandas as pd\n",
    "import numpy as np\n",
    "\n",
    "from sklearn.ensemble import RandomForestClassifier\n",
    "from sklearn.learning_curve import learning_curve\n",
    "from sklearn.cluster import KMeans\n",
    "from sklearn.metrics import silhouette_score\n",
    "from sklearn.cross_validation import train_test_split, cross_val_score\n",
    "\n",
    "import seaborn as sns\n",
    "import matplotlib.pyplot as plt\n",
    "plt.style.use('ggplot')\n",
    "\n",
    "%load_ext autoreload\n",
    "%autoreload 2"
   ]
  },
  {
   "cell_type": "markdown",
   "metadata": {},
   "source": [
    "## Dataset description"
   ]
  },
  {
   "cell_type": "markdown",
   "metadata": {},
   "source": []
  },
  {
   "cell_type": "markdown",
   "metadata": {},
   "source": [
    "### Loading Data"
   ]
  },
  {
   "cell_type": "code",
   "execution_count": 2,
   "metadata": {
    "collapsed": false
   },
   "outputs": [
    {
     "name": "stdout",
     "output_type": "stream",
     "text": [
      "(146028, 28)\n"
     ]
    },
    {
     "data": {
      "text/html": [
       "<div>\n",
       "<table border=\"1\" class=\"dataframe\">\n",
       "  <thead>\n",
       "    <tr style=\"text-align: right;\">\n",
       "      <th></th>\n",
       "      <th>playerShort</th>\n",
       "      <th>player</th>\n",
       "      <th>club</th>\n",
       "      <th>leagueCountry</th>\n",
       "      <th>birthday</th>\n",
       "      <th>height</th>\n",
       "      <th>weight</th>\n",
       "      <th>position</th>\n",
       "      <th>games</th>\n",
       "      <th>victories</th>\n",
       "      <th>...</th>\n",
       "      <th>rater2</th>\n",
       "      <th>refNum</th>\n",
       "      <th>refCountry</th>\n",
       "      <th>Alpha_3</th>\n",
       "      <th>meanIAT</th>\n",
       "      <th>nIAT</th>\n",
       "      <th>seIAT</th>\n",
       "      <th>meanExp</th>\n",
       "      <th>nExp</th>\n",
       "      <th>seExp</th>\n",
       "    </tr>\n",
       "  </thead>\n",
       "  <tbody>\n",
       "    <tr>\n",
       "      <th>0</th>\n",
       "      <td>lucas-wilchez</td>\n",
       "      <td>Lucas Wilchez</td>\n",
       "      <td>Real Zaragoza</td>\n",
       "      <td>Spain</td>\n",
       "      <td>31.08.1983</td>\n",
       "      <td>177.0</td>\n",
       "      <td>72.0</td>\n",
       "      <td>Attacking Midfielder</td>\n",
       "      <td>1</td>\n",
       "      <td>0</td>\n",
       "      <td>...</td>\n",
       "      <td>0.50</td>\n",
       "      <td>1</td>\n",
       "      <td>1</td>\n",
       "      <td>GRC</td>\n",
       "      <td>0.326391</td>\n",
       "      <td>712.0</td>\n",
       "      <td>0.000564</td>\n",
       "      <td>0.396000</td>\n",
       "      <td>750.0</td>\n",
       "      <td>0.002696</td>\n",
       "    </tr>\n",
       "    <tr>\n",
       "      <th>1</th>\n",
       "      <td>john-utaka</td>\n",
       "      <td>John Utaka</td>\n",
       "      <td>Montpellier HSC</td>\n",
       "      <td>France</td>\n",
       "      <td>08.01.1982</td>\n",
       "      <td>179.0</td>\n",
       "      <td>82.0</td>\n",
       "      <td>Right Winger</td>\n",
       "      <td>1</td>\n",
       "      <td>0</td>\n",
       "      <td>...</td>\n",
       "      <td>0.75</td>\n",
       "      <td>2</td>\n",
       "      <td>2</td>\n",
       "      <td>ZMB</td>\n",
       "      <td>0.203375</td>\n",
       "      <td>40.0</td>\n",
       "      <td>0.010875</td>\n",
       "      <td>-0.204082</td>\n",
       "      <td>49.0</td>\n",
       "      <td>0.061504</td>\n",
       "    </tr>\n",
       "    <tr>\n",
       "      <th>2</th>\n",
       "      <td>abdon-prats</td>\n",
       "      <td>Abdón Prats</td>\n",
       "      <td>RCD Mallorca</td>\n",
       "      <td>Spain</td>\n",
       "      <td>17.12.1992</td>\n",
       "      <td>181.0</td>\n",
       "      <td>79.0</td>\n",
       "      <td>NaN</td>\n",
       "      <td>1</td>\n",
       "      <td>0</td>\n",
       "      <td>...</td>\n",
       "      <td>NaN</td>\n",
       "      <td>3</td>\n",
       "      <td>3</td>\n",
       "      <td>ESP</td>\n",
       "      <td>0.369894</td>\n",
       "      <td>1785.0</td>\n",
       "      <td>0.000229</td>\n",
       "      <td>0.588297</td>\n",
       "      <td>1897.0</td>\n",
       "      <td>0.001002</td>\n",
       "    </tr>\n",
       "    <tr>\n",
       "      <th>3</th>\n",
       "      <td>pablo-mari</td>\n",
       "      <td>Pablo Marí</td>\n",
       "      <td>RCD Mallorca</td>\n",
       "      <td>Spain</td>\n",
       "      <td>31.08.1993</td>\n",
       "      <td>191.0</td>\n",
       "      <td>87.0</td>\n",
       "      <td>Center Back</td>\n",
       "      <td>1</td>\n",
       "      <td>1</td>\n",
       "      <td>...</td>\n",
       "      <td>NaN</td>\n",
       "      <td>3</td>\n",
       "      <td>3</td>\n",
       "      <td>ESP</td>\n",
       "      <td>0.369894</td>\n",
       "      <td>1785.0</td>\n",
       "      <td>0.000229</td>\n",
       "      <td>0.588297</td>\n",
       "      <td>1897.0</td>\n",
       "      <td>0.001002</td>\n",
       "    </tr>\n",
       "    <tr>\n",
       "      <th>4</th>\n",
       "      <td>ruben-pena</td>\n",
       "      <td>Rubén Peña</td>\n",
       "      <td>Real Valladolid</td>\n",
       "      <td>Spain</td>\n",
       "      <td>18.07.1991</td>\n",
       "      <td>172.0</td>\n",
       "      <td>70.0</td>\n",
       "      <td>Right Midfielder</td>\n",
       "      <td>1</td>\n",
       "      <td>1</td>\n",
       "      <td>...</td>\n",
       "      <td>NaN</td>\n",
       "      <td>3</td>\n",
       "      <td>3</td>\n",
       "      <td>ESP</td>\n",
       "      <td>0.369894</td>\n",
       "      <td>1785.0</td>\n",
       "      <td>0.000229</td>\n",
       "      <td>0.588297</td>\n",
       "      <td>1897.0</td>\n",
       "      <td>0.001002</td>\n",
       "    </tr>\n",
       "  </tbody>\n",
       "</table>\n",
       "<p>5 rows × 28 columns</p>\n",
       "</div>"
      ],
      "text/plain": [
       "     playerShort         player             club leagueCountry    birthday  \\\n",
       "0  lucas-wilchez  Lucas Wilchez    Real Zaragoza         Spain  31.08.1983   \n",
       "1     john-utaka     John Utaka  Montpellier HSC        France  08.01.1982   \n",
       "2    abdon-prats    Abdón Prats     RCD Mallorca         Spain  17.12.1992   \n",
       "3     pablo-mari     Pablo Marí     RCD Mallorca         Spain  31.08.1993   \n",
       "4     ruben-pena     Rubén Peña  Real Valladolid         Spain  18.07.1991   \n",
       "\n",
       "   height  weight              position  games  victories    ...     rater2  \\\n",
       "0   177.0    72.0  Attacking Midfielder      1          0    ...       0.50   \n",
       "1   179.0    82.0          Right Winger      1          0    ...       0.75   \n",
       "2   181.0    79.0                   NaN      1          0    ...        NaN   \n",
       "3   191.0    87.0           Center Back      1          1    ...        NaN   \n",
       "4   172.0    70.0      Right Midfielder      1          1    ...        NaN   \n",
       "\n",
       "   refNum  refCountry  Alpha_3   meanIAT    nIAT     seIAT   meanExp    nExp  \\\n",
       "0       1           1      GRC  0.326391   712.0  0.000564  0.396000   750.0   \n",
       "1       2           2      ZMB  0.203375    40.0  0.010875 -0.204082    49.0   \n",
       "2       3           3      ESP  0.369894  1785.0  0.000229  0.588297  1897.0   \n",
       "3       3           3      ESP  0.369894  1785.0  0.000229  0.588297  1897.0   \n",
       "4       3           3      ESP  0.369894  1785.0  0.000229  0.588297  1897.0   \n",
       "\n",
       "      seExp  \n",
       "0  0.002696  \n",
       "1  0.061504  \n",
       "2  0.001002  \n",
       "3  0.001002  \n",
       "4  0.001002  \n",
       "\n",
       "[5 rows x 28 columns]"
      ]
     },
     "execution_count": 2,
     "metadata": {},
     "output_type": "execute_result"
    }
   ],
   "source": [
    "path = 'CrowdstormingDataJuly1st.csv'\n",
    "raw_data  = pd.read_csv(path)\n",
    "print(raw_data .shape)\n",
    "raw_data .head(5)"
   ]
  },
  {
   "cell_type": "markdown",
   "metadata": {},
   "source": [
    "146028 lignes (interaction joueur / arbitre), 28 features"
   ]
  },
  {
   "cell_type": "code",
   "execution_count": 3,
   "metadata": {
    "collapsed": false
   },
   "outputs": [
    {
     "data": {
      "text/plain": [
       "False    146028\n",
       "dtype: int64"
      ]
     },
     "execution_count": 3,
     "metadata": {},
     "output_type": "execute_result"
    }
   ],
   "source": [
    "raw_data[['playerShort', 'refNum']].duplicated().value_counts()"
   ]
  },
  {
   "cell_type": "markdown",
   "metadata": {},
   "source": [
    "### Skin rating"
   ]
  },
  {
   "cell_type": "markdown",
   "metadata": {},
   "source": [
    "- rater1 - skin rating of photo by rater 1 (5-point scale ranging from “very light skin” to “very dark skin”)\n",
    "- rater2 - skin rating of photo by rater 2 (5-point scale ranging from “very light skin” to “very dark skin”)"
   ]
  },
  {
   "cell_type": "code",
   "execution_count": 4,
   "metadata": {
    "collapsed": false
   },
   "outputs": [
    {
     "data": {
      "text/plain": [
       "(array([ 0.  ,  0.25,  0.5 ,  0.75,  1.  ,   nan]),\n",
       " array([ 0.  ,  0.25,  0.5 ,  0.75,  1.  ,   nan]))"
      ]
     },
     "execution_count": 4,
     "metadata": {},
     "output_type": "execute_result"
    }
   ],
   "source": [
    "np.sort(raw_data['rater1'].unique()), np.sort(raw_data['rater2'].unique())"
   ]
  },
  {
   "cell_type": "markdown",
   "metadata": {},
   "source": [
    "Remove entries with both skin tone rating not available<br>\n",
    "Ce sera notre dataset de base"
   ]
  },
  {
   "cell_type": "code",
   "execution_count": 4,
   "metadata": {
    "collapsed": false
   },
   "outputs": [
    {
     "data": {
      "text/plain": [
       "(124621, 28)"
      ]
     },
     "execution_count": 4,
     "metadata": {},
     "output_type": "execute_result"
    }
   ],
   "source": [
    "df = raw_data.dropna(how='all', subset=['rater1', 'rater2'])\n",
    "df.shape"
   ]
  },
  {
   "cell_type": "markdown",
   "metadata": {},
   "source": [
    "Les notes sont-elles fiables?"
   ]
  },
  {
   "cell_type": "code",
   "execution_count": 68,
   "metadata": {
    "collapsed": false
   },
   "outputs": [
    {
     "data": {
      "text/plain": [
       "count    124621.000000\n",
       "mean          0.058319\n",
       "std           0.106505\n",
       "min           0.000000\n",
       "25%           0.000000\n",
       "50%           0.000000\n",
       "75%           0.000000\n",
       "max           0.500000\n",
       "dtype: float64"
      ]
     },
     "execution_count": 68,
     "metadata": {},
     "output_type": "execute_result"
    }
   ],
   "source": [
    "np.abs(df['rater2'] - df['rater1']).describe()"
   ]
  },
  {
   "cell_type": "code",
   "execution_count": 7,
   "metadata": {
    "collapsed": false
   },
   "outputs": [
    {
     "data": {
      "text/plain": [
       "164"
      ]
     },
     "execution_count": 7,
     "metadata": {},
     "output_type": "execute_result"
    }
   ],
   "source": [
    "df.loc[np.abs(df['rater2'] - df['rater1']) == 0.5].shape[0]"
   ]
  },
  {
   "cell_type": "code",
   "execution_count": 5,
   "metadata": {
    "collapsed": false
   },
   "outputs": [
    {
     "data": {
      "text/plain": [
       "(124457, 28)"
      ]
     },
     "execution_count": 5,
     "metadata": {},
     "output_type": "execute_result"
    }
   ],
   "source": [
    "index_unreliable = df.loc[np.abs(df['rater2'] - df['rater1']) == 0.5].index\n",
    "df = df.drop(index_unreliable)\n",
    "df.shape"
   ]
  },
  {
   "cell_type": "code",
   "execution_count": 6,
   "metadata": {
    "collapsed": true
   },
   "outputs": [],
   "source": [
    "df['skin'] = df[['rater1', 'rater2']].mean(axis=1)"
   ]
  },
  {
   "cell_type": "code",
   "execution_count": 10,
   "metadata": {
    "collapsed": false
   },
   "outputs": [
    {
     "data": {
      "text/plain": [
       "<matplotlib.text.Text at 0x2ced15545f8>"
      ]
     },
     "execution_count": 10,
     "metadata": {},
     "output_type": "execute_result"
    },
    {
     "data": {
      "image/png": "[encoded data removed]",
      "text/plain": [
       "<matplotlib.figure.Figure at 0x2ced1505b00>"
      ]
     },
     "metadata": {},
     "output_type": "display_data"
    }
   ],
   "source": [
    "plt.hist(df.skin)\n",
    "plt.xlabel(\"Skin tone\") \n",
    "plt.ylabel(\"Count\")"
   ]
  },
  {
   "cell_type": "markdown",
   "metadata": {},
   "source": [
    "- Plus de blancs que de noirs (mais il vaut mieux regarder dans le df player pr se faire une idée de la pop)\n",
    "- Quand on voit ça, on se dit qu'on peut faire 2 classes"
   ]
  },
  {
   "cell_type": "code",
   "execution_count": 7,
   "metadata": {
    "collapsed": false,
    "scrolled": true
   },
   "outputs": [],
   "source": [
    "# round x to their nearest n_val values\n",
    "def discretize_by_width (x, nb_values): # x appartient à 01\n",
    "    return ((nb_values-1)*x).round()/(nb_values-1)\n",
    "\n",
    "df['skin_discretized_5'] = discretize_by_width(df.skin, 5)\n",
    "df['skin_discretized_2'] = discretize_by_width(df.skin, 2)"
   ]
  },
  {
   "cell_type": "code",
   "execution_count": 124,
   "metadata": {
    "collapsed": false
   },
   "outputs": [
    {
     "data": {
      "text/plain": [
       "<matplotlib.text.Text at 0x2acc199b7b8>"
      ]
     },
     "execution_count": 124,
     "metadata": {},
     "output_type": "execute_result"
    },
    {
     "data": {
      "image/png": "[encoded data removed]",
      "text/plain": [
       "<matplotlib.figure.Figure at 0x2acca7da518>"
      ]
     },
     "metadata": {},
     "output_type": "display_data"
    }
   ],
   "source": [
    "f, (ax1, ax2) = plt.subplots(1, 2, sharey=True)\n",
    "ax1.hist(df.skin_discretized_5)\n",
    "ax1.set_title('5 class labels')\n",
    "ax1.set_xlabel(\"Skin\") \n",
    "ax2.hist(df.skin_discretized_2)\n",
    "ax2.set_title('2 class label')\n",
    "ax2.set_xlabel(\"Skin\") "
   ]
  },
  {
   "cell_type": "markdown",
   "metadata": {},
   "source": [
    "### Autres features nulles"
   ]
  },
  {
   "cell_type": "code",
   "execution_count": 8,
   "metadata": {
    "collapsed": false
   },
   "outputs": [
    {
     "data": {
      "text/plain": [
       "Index(['height', 'weight', 'position', 'Alpha_3', 'meanIAT', 'nIAT', 'seIAT',\n",
       "       'meanExp', 'nExp', 'seExp'],\n",
       "      dtype='object')"
      ]
     },
     "execution_count": 8,
     "metadata": {},
     "output_type": "execute_result"
    }
   ],
   "source": [
    "df.columns[df.isnull().any()]"
   ]
  },
  {
   "cell_type": "code",
   "execution_count": 8,
   "metadata": {
    "collapsed": true
   },
   "outputs": [],
   "source": [
    "df.dropna(inplace=True)"
   ]
  },
  {
   "cell_type": "markdown",
   "metadata": {},
   "source": [
    "# Analyse\n",
    "Analyse en différentes parties : df peut se décomposer"
   ]
  },
  {
   "cell_type": "markdown",
   "metadata": {},
   "source": [
    "### Les joueurs"
   ]
  },
  {
   "cell_type": "code",
   "execution_count": 82,
   "metadata": {
    "collapsed": false
   },
   "outputs": [
    {
     "data": {
      "text/plain": [
       "count    1417.000000\n",
       "mean       81.364150\n",
       "std        34.635716\n",
       "min         1.000000\n",
       "25%        56.000000\n",
       "50%        77.000000\n",
       "75%       103.000000\n",
       "max       202.000000\n",
       "Name: playerShort, dtype: float64"
      ]
     },
     "execution_count": 82,
     "metadata": {},
     "output_type": "execute_result"
    }
   ],
   "source": [
    "df['playerShort'].value_counts().describe()"
   ]
  },
  {
   "cell_type": "code",
   "execution_count": 83,
   "metadata": {
    "collapsed": false
   },
   "outputs": [],
   "source": [
    "def identity(x):\n",
    "    return list(x)[0]    # type(x) = pandas.core.series.Series / players.feature = pandas.core.series\n",
    "\n",
    "players = df.groupby(df['playerShort'])\n",
    "players = players.agg({'player': identity, 'club':identity, 'leagueCountry':identity, 'birthday':identity, \n",
    "             'height':identity, 'weight':identity, 'position':identity, \n",
    "             'games':sum, 'victories':sum, 'ties':sum, 'defeats':sum, 'goals':sum, \n",
    "             'yellowCards':sum, 'yellowReds':sum, 'redCards':sum, 'skin':identity})"
   ]
  },
  {
   "cell_type": "code",
   "execution_count": 84,
   "metadata": {
    "collapsed": false,
    "scrolled": true
   },
   "outputs": [
    {
     "data": {
      "text/plain": [
       "defeats         76.621736\n",
       "games          246.880734\n",
       "weight          76.278052\n",
       "redCards         1.042343\n",
       "yellowReds       1.001411\n",
       "victories      111.571630\n",
       "yellowCards     32.936486\n",
       "goals           29.310515\n",
       "skin             0.282816\n",
       "ties            58.687368\n",
       "height         182.170783\n",
       "dtype: float64"
      ]
     },
     "execution_count": 84,
     "metadata": {},
     "output_type": "execute_result"
    }
   ],
   "source": [
    "players.mean()"
   ]
  },
  {
   "cell_type": "code",
   "execution_count": 91,
   "metadata": {
    "collapsed": false
   },
   "outputs": [
    {
     "data": {
      "text/plain": [
       "Germany    461\n",
       "Spain      404\n",
       "England    323\n",
       "France     229\n",
       "Name: leagueCountry, dtype: int64"
      ]
     },
     "execution_count": 91,
     "metadata": {},
     "output_type": "execute_result"
    }
   ],
   "source": [
    "players.leagueCountry.value_counts()"
   ]
  },
  {
   "cell_type": "code",
   "execution_count": 90,
   "metadata": {
    "collapsed": false
   },
   "outputs": [
    {
     "data": {
      "text/plain": [
       "<matplotlib.text.Text at 0x2acc2eb9588>"
      ]
     },
     "execution_count": 90,
     "metadata": {},
     "output_type": "execute_result"
    },
    {
     "data": {
      "image/png": "[encoded data removed]",
      "text/plain": [
       "<matplotlib.figure.Figure at 0x2acc14e7320>"
      ]
     },
     "metadata": {},
     "output_type": "display_data"
    }
   ],
   "source": [
    "f, (ax1, ax2) = plt.subplots(1, 2, sharey=True)\n",
    "\n",
    "ax1.hist(players['skin'])\n",
    "ax1.set_xlabel(\"Skin tone\") \n",
    "ax1.set_ylabel(\"Number of players\")\n",
    "\n",
    "ax2.hist(players['games'])\n",
    "ax2.set_xlabel(\"Number of games played\") \n",
    "ax2.set_ylabel(\"Number of players\")"
   ]
  },
  {
   "cell_type": "markdown",
   "metadata": {},
   "source": [
    "### Joueur Arbitre dyads"
   ]
  },
  {
   "cell_type": "code",
   "execution_count": 48,
   "metadata": {
    "collapsed": false
   },
   "outputs": [
    {
     "data": {
      "text/plain": [
       "games          3.034269\n",
       "victories      1.371263\n",
       "ties           0.721293\n",
       "defeats        0.941714\n",
       "yellowCards    0.404803\n",
       "yellowReds     0.012308\n",
       "redCards       0.012811\n",
       "dtype: float64"
      ]
     },
     "execution_count": 48,
     "metadata": {},
     "output_type": "execute_result"
    }
   ],
   "source": [
    "df[['games','victories', 'ties', 'defeats', 'yellowCards', 'yellowReds', 'redCards']].mean()"
   ]
  },
  {
   "cell_type": "markdown",
   "metadata": {},
   "source": [
    "### Les arbitres"
   ]
  },
  {
   "cell_type": "code",
   "execution_count": 49,
   "metadata": {
    "collapsed": false
   },
   "outputs": [
    {
     "data": {
      "text/plain": [
       "count    2893.000000\n",
       "mean       39.852402\n",
       "std        87.977242\n",
       "min         1.000000\n",
       "25%         2.000000\n",
       "50%         8.000000\n",
       "75%        31.000000\n",
       "max       770.000000\n",
       "Name: refNum, dtype: float64"
      ]
     },
     "execution_count": 49,
     "metadata": {},
     "output_type": "execute_result"
    }
   ],
   "source": [
    "df['refNum'].value_counts().describe()"
   ]
  },
  {
   "cell_type": "code",
   "execution_count": 50,
   "metadata": {
    "collapsed": true
   },
   "outputs": [],
   "source": [
    "referees = df.groupby(df['refNum'])\n",
    "referees = referees.agg({'refCountry': identity, 'games':sum, 'goals':sum, 'yellowCards':sum, 'yellowReds':sum, 'redCards':sum})"
   ]
  },
  {
   "cell_type": "code",
   "execution_count": 51,
   "metadata": {
    "collapsed": false,
    "scrolled": false
   },
   "outputs": [
    {
     "data": {
      "text/html": [
       "<div>\n",
       "<table border=\"1\" class=\"dataframe\">\n",
       "  <thead>\n",
       "    <tr style=\"text-align: right;\">\n",
       "      <th></th>\n",
       "      <th>redCards</th>\n",
       "      <th>yellowCards</th>\n",
       "      <th>goals</th>\n",
       "      <th>refCountry</th>\n",
       "      <th>yellowReds</th>\n",
       "      <th>games</th>\n",
       "    </tr>\n",
       "  </thead>\n",
       "  <tbody>\n",
       "    <tr>\n",
       "      <th>count</th>\n",
       "      <td>2893.000000</td>\n",
       "      <td>2893.000000</td>\n",
       "      <td>2893.000000</td>\n",
       "      <td>2893.000000</td>\n",
       "      <td>2893.000000</td>\n",
       "      <td>2893.000000</td>\n",
       "    </tr>\n",
       "    <tr>\n",
       "      <th>mean</th>\n",
       "      <td>0.510543</td>\n",
       "      <td>16.132389</td>\n",
       "      <td>14.356377</td>\n",
       "      <td>39.168337</td>\n",
       "      <td>0.490494</td>\n",
       "      <td>120.922917</td>\n",
       "    </tr>\n",
       "    <tr>\n",
       "      <th>std</th>\n",
       "      <td>1.927537</td>\n",
       "      <td>58.181324</td>\n",
       "      <td>46.491978</td>\n",
       "      <td>33.301968</td>\n",
       "      <td>1.927363</td>\n",
       "      <td>418.575011</td>\n",
       "    </tr>\n",
       "    <tr>\n",
       "      <th>min</th>\n",
       "      <td>0.000000</td>\n",
       "      <td>0.000000</td>\n",
       "      <td>0.000000</td>\n",
       "      <td>1.000000</td>\n",
       "      <td>0.000000</td>\n",
       "      <td>1.000000</td>\n",
       "    </tr>\n",
       "    <tr>\n",
       "      <th>25%</th>\n",
       "      <td>0.000000</td>\n",
       "      <td>0.000000</td>\n",
       "      <td>0.000000</td>\n",
       "      <td>8.000000</td>\n",
       "      <td>0.000000</td>\n",
       "      <td>3.000000</td>\n",
       "    </tr>\n",
       "    <tr>\n",
       "      <th>50%</th>\n",
       "      <td>0.000000</td>\n",
       "      <td>1.000000</td>\n",
       "      <td>2.000000</td>\n",
       "      <td>32.000000</td>\n",
       "      <td>0.000000</td>\n",
       "      <td>11.000000</td>\n",
       "    </tr>\n",
       "    <tr>\n",
       "      <th>75%</th>\n",
       "      <td>0.000000</td>\n",
       "      <td>6.000000</td>\n",
       "      <td>8.000000</td>\n",
       "      <td>57.000000</td>\n",
       "      <td>0.000000</td>\n",
       "      <td>52.000000</td>\n",
       "    </tr>\n",
       "    <tr>\n",
       "      <th>max</th>\n",
       "      <td>22.000000</td>\n",
       "      <td>698.000000</td>\n",
       "      <td>519.000000</td>\n",
       "      <td>161.000000</td>\n",
       "      <td>28.000000</td>\n",
       "      <td>5186.000000</td>\n",
       "    </tr>\n",
       "  </tbody>\n",
       "</table>\n",
       "</div>"
      ],
      "text/plain": [
       "          redCards  yellowCards        goals   refCountry   yellowReds  \\\n",
       "count  2893.000000  2893.000000  2893.000000  2893.000000  2893.000000   \n",
       "mean      0.510543    16.132389    14.356377    39.168337     0.490494   \n",
       "std       1.927537    58.181324    46.491978    33.301968     1.927363   \n",
       "min       0.000000     0.000000     0.000000     1.000000     0.000000   \n",
       "25%       0.000000     0.000000     0.000000     8.000000     0.000000   \n",
       "50%       0.000000     1.000000     2.000000    32.000000     0.000000   \n",
       "75%       0.000000     6.000000     8.000000    57.000000     0.000000   \n",
       "max      22.000000   698.000000   519.000000   161.000000    28.000000   \n",
       "\n",
       "             games  \n",
       "count  2893.000000  \n",
       "mean    120.922917  \n",
       "std     418.575011  \n",
       "min       1.000000  \n",
       "25%       3.000000  \n",
       "50%      11.000000  \n",
       "75%      52.000000  \n",
       "max    5186.000000  "
      ]
     },
     "execution_count": 51,
     "metadata": {},
     "output_type": "execute_result"
    }
   ],
   "source": [
    "referees.describe()"
   ]
  },
  {
   "cell_type": "markdown",
   "metadata": {},
   "source": [
    "- Certains jouent très peu de jeux\n",
    "- On donne surtout des cartons jaunes"
   ]
  },
  {
   "cell_type": "code",
   "execution_count": 52,
   "metadata": {
    "collapsed": false
   },
   "outputs": [
    {
     "data": {
      "text/plain": [
       "349830"
      ]
     },
     "execution_count": 52,
     "metadata": {},
     "output_type": "execute_result"
    }
   ],
   "source": [
    "# Nombre total de matchs\n",
    "sum(referees['games'])"
   ]
  },
  {
   "cell_type": "code",
   "execution_count": 53,
   "metadata": {
    "collapsed": false,
    "scrolled": true
   },
   "outputs": [
    {
     "data": {
      "text/plain": [
       "<matplotlib.text.Text at 0x2ced1ee73c8>"
      ]
     },
     "execution_count": 53,
     "metadata": {},
     "output_type": "execute_result"
    },
    {
     "data": {
      "image/png": "[encoded data removed]",
      "text/plain": [
       "<matplotlib.figure.Figure at 0x2ced1d62cf8>"
      ]
     },
     "metadata": {},
     "output_type": "display_data"
    }
   ],
   "source": [
    "plt.hist(referees['games'])\n",
    "plt.xlabel(\"Number of games refereed\") \n",
    "plt.ylabel(\"Number of referees\")"
   ]
  },
  {
   "cell_type": "markdown",
   "metadata": {},
   "source": [
    "### Les pays des arbitres"
   ]
  },
  {
   "cell_type": "markdown",
   "metadata": {},
   "source": [
    "On utilise le tableau des arbitres"
   ]
  },
  {
   "cell_type": "code",
   "execution_count": 54,
   "metadata": {
    "collapsed": false
   },
   "outputs": [
    {
     "data": {
      "text/plain": [
       "count    152.000000\n",
       "mean      19.032895\n",
       "std       52.076029\n",
       "min        1.000000\n",
       "25%        2.000000\n",
       "50%        5.500000\n",
       "75%       19.250000\n",
       "max      570.000000\n",
       "Name: refCountry, dtype: float64"
      ]
     },
     "execution_count": 54,
     "metadata": {},
     "output_type": "execute_result"
    }
   ],
   "source": [
    "referees['refCountry'].value_counts().describe()"
   ]
  },
  {
   "cell_type": "markdown",
   "metadata": {},
   "source": [
    "Pays plus ou moins peuplés"
   ]
  },
  {
   "cell_type": "code",
   "execution_count": 55,
   "metadata": {
    "collapsed": false,
    "scrolled": true
   },
   "outputs": [
    {
     "data": {
      "text/plain": [
       "<matplotlib.text.Text at 0x2ced1f60b38>"
      ]
     },
     "execution_count": 55,
     "metadata": {},
     "output_type": "execute_result"
    },
    {
     "data": {
      "image/png": "[encoded data removed]",
      "text/plain": [
       "<matplotlib.figure.Figure at 0x2ced1f1ff60>"
      ]
     },
     "metadata": {},
     "output_type": "display_data"
    }
   ],
   "source": [
    "plt.hist(referees['refCountry'])\n",
    "plt.xlabel(\"Country\") \n",
    "plt.ylabel(\"Number of referees\")"
   ]
  },
  {
   "cell_type": "code",
   "execution_count": 57,
   "metadata": {
    "collapsed": false
   },
   "outputs": [
    {
     "data": {
      "text/plain": [
       "(152, 6)"
      ]
     },
     "execution_count": 57,
     "metadata": {},
     "output_type": "execute_result"
    }
   ],
   "source": [
    "refCountry = df[['refCountry','meanIAT','nIAT', 'seIAT', 'meanExp', 'nExp']]\n",
    "refCountry = refCountry.drop_duplicates()\n",
    "refCountry.shape"
   ]
  },
  {
   "cell_type": "code",
   "execution_count": 58,
   "metadata": {
    "collapsed": false
   },
   "outputs": [
    {
     "data": {
      "text/html": [
       "<div>\n",
       "<table border=\"1\" class=\"dataframe\">\n",
       "  <thead>\n",
       "    <tr style=\"text-align: right;\">\n",
       "      <th></th>\n",
       "      <th>refCountry</th>\n",
       "      <th>meanIAT</th>\n",
       "      <th>nIAT</th>\n",
       "      <th>seIAT</th>\n",
       "      <th>meanExp</th>\n",
       "      <th>nExp</th>\n",
       "    </tr>\n",
       "  </thead>\n",
       "  <tbody>\n",
       "    <tr>\n",
       "      <th>count</th>\n",
       "      <td>152.000000</td>\n",
       "      <td>152.000000</td>\n",
       "      <td>1.520000e+02</td>\n",
       "      <td>1.520000e+02</td>\n",
       "      <td>152.000000</td>\n",
       "      <td>1.520000e+02</td>\n",
       "    </tr>\n",
       "    <tr>\n",
       "      <th>mean</th>\n",
       "      <td>78.296053</td>\n",
       "      <td>0.305099</td>\n",
       "      <td>1.504561e+04</td>\n",
       "      <td>1.312417e-02</td>\n",
       "      <td>0.291296</td>\n",
       "      <td>1.548661e+04</td>\n",
       "    </tr>\n",
       "    <tr>\n",
       "      <th>std</th>\n",
       "      <td>45.475245</td>\n",
       "      <td>0.106170</td>\n",
       "      <td>1.602920e+05</td>\n",
       "      <td>3.252193e-02</td>\n",
       "      <td>0.640170</td>\n",
       "      <td>1.646550e+05</td>\n",
       "    </tr>\n",
       "    <tr>\n",
       "      <th>min</th>\n",
       "      <td>1.000000</td>\n",
       "      <td>-0.047254</td>\n",
       "      <td>2.000000e+00</td>\n",
       "      <td>2.235373e-07</td>\n",
       "      <td>-1.375000</td>\n",
       "      <td>2.000000e+00</td>\n",
       "    </tr>\n",
       "    <tr>\n",
       "      <th>25%</th>\n",
       "      <td>39.750000</td>\n",
       "      <td>0.262227</td>\n",
       "      <td>3.975000e+01</td>\n",
       "      <td>5.997501e-04</td>\n",
       "      <td>0.022440</td>\n",
       "      <td>4.075000e+01</td>\n",
       "    </tr>\n",
       "    <tr>\n",
       "      <th>50%</th>\n",
       "      <td>77.500000</td>\n",
       "      <td>0.340406</td>\n",
       "      <td>1.995000e+02</td>\n",
       "      <td>2.215379e-03</td>\n",
       "      <td>0.395070</td>\n",
       "      <td>2.070000e+02</td>\n",
       "    </tr>\n",
       "    <tr>\n",
       "      <th>75%</th>\n",
       "      <td>116.250000</td>\n",
       "      <td>0.371913</td>\n",
       "      <td>6.700000e+02</td>\n",
       "      <td>1.050398e-02</td>\n",
       "      <td>0.638593</td>\n",
       "      <td>7.065000e+02</td>\n",
       "    </tr>\n",
       "    <tr>\n",
       "      <th>max</th>\n",
       "      <td>161.000000</td>\n",
       "      <td>0.573793</td>\n",
       "      <td>1.975803e+06</td>\n",
       "      <td>2.862871e-01</td>\n",
       "      <td>1.800000</td>\n",
       "      <td>2.029548e+06</td>\n",
       "    </tr>\n",
       "  </tbody>\n",
       "</table>\n",
       "</div>"
      ],
      "text/plain": [
       "       refCountry     meanIAT          nIAT         seIAT     meanExp  \\\n",
       "count  152.000000  152.000000  1.520000e+02  1.520000e+02  152.000000   \n",
       "mean    78.296053    0.305099  1.504561e+04  1.312417e-02    0.291296   \n",
       "std     45.475245    0.106170  1.602920e+05  3.252193e-02    0.640170   \n",
       "min      1.000000   -0.047254  2.000000e+00  2.235373e-07   -1.375000   \n",
       "25%     39.750000    0.262227  3.975000e+01  5.997501e-04    0.022440   \n",
       "50%     77.500000    0.340406  1.995000e+02  2.215379e-03    0.395070   \n",
       "75%    116.250000    0.371913  6.700000e+02  1.050398e-02    0.638593   \n",
       "max    161.000000    0.573793  1.975803e+06  2.862871e-01    1.800000   \n",
       "\n",
       "               nExp  \n",
       "count  1.520000e+02  \n",
       "mean   1.548661e+04  \n",
       "std    1.646550e+05  \n",
       "min    2.000000e+00  \n",
       "25%    4.075000e+01  \n",
       "50%    2.070000e+02  \n",
       "75%    7.065000e+02  \n",
       "max    2.029548e+06  "
      ]
     },
     "execution_count": 58,
     "metadata": {},
     "output_type": "execute_result"
    }
   ],
   "source": [
    "refCountry.describe()"
   ]
  },
  {
   "cell_type": "markdown",
   "metadata": {},
   "source": [
    "### Feature selection"
   ]
  },
  {
   "cell_type": "markdown",
   "metadata": {},
   "source": [
    "- Useless / Meaningless features"
   ]
  },
  {
   "cell_type": "markdown",
   "metadata": {},
   "source": [
    "photoID"
   ]
  },
  {
   "cell_type": "code",
   "execution_count": 9,
   "metadata": {
    "collapsed": false
   },
   "outputs": [],
   "source": [
    "df = df.drop('photoID',axis=1)"
   ]
  },
  {
   "cell_type": "markdown",
   "metadata": {},
   "source": [
    "- Correlated features"
   ]
  },
  {
   "cell_type": "code",
   "execution_count": null,
   "metadata": {
    "collapsed": true
   },
   "outputs": [],
   "source": [
    "games = victoire + défaite?"
   ]
  },
  {
   "cell_type": "code",
   "execution_count": 61,
   "metadata": {
    "collapsed": false
   },
   "outputs": [
    {
     "data": {
      "text/plain": [
       "((65750, 31), (115293, 31))"
      ]
     },
     "execution_count": 61,
     "metadata": {},
     "output_type": "execute_result"
    }
   ],
   "source": [
    "df[df['victories']+df['defeats']==df['games']].shape, df.shape"
   ]
  },
  {
   "cell_type": "markdown",
   "metadata": {},
   "source": [
    "- Feature transformation -> to numerical"
   ]
  },
  {
   "cell_type": "markdown",
   "metadata": {},
   "source": [
    "Année de naissance, mais pas la date 31.08.1983 ?"
   ]
  },
  {
   "cell_type": "code",
   "execution_count": 10,
   "metadata": {
    "collapsed": false
   },
   "outputs": [],
   "source": [
    "df['year'] = df['birthday'].apply(lambda x: int(x.split('.')[2]))"
   ]
  },
  {
   "cell_type": "markdown",
   "metadata": {},
   "source": [
    "Comme pas ordinal, on ne peut pas transformer string en numerical"
   ]
  },
  {
   "cell_type": "markdown",
   "metadata": {},
   "source": [
    "## Labels & features"
   ]
  },
  {
   "cell_type": "markdown",
   "metadata": {},
   "source": [
    "Labels"
   ]
  },
  {
   "cell_type": "code",
   "execution_count": 11,
   "metadata": {
    "collapsed": true
   },
   "outputs": [],
   "source": [
    "y = np.asarray(df['skin_discretized_5'], dtype=\"|S6\")"
   ]
  },
  {
   "cell_type": "markdown",
   "metadata": {},
   "source": [
    "Features"
   ]
  },
  {
   "cell_type": "code",
   "execution_count": 12,
   "metadata": {
    "collapsed": false
   },
   "outputs": [],
   "source": [
    "X = df.copy()\n",
    "X = X.drop(['rater1', 'rater2', 'skin', 'skin_discretized_5', 'skin_discretized_2',\n",
    "           'playerShort', 'player', 'club', 'leagueCountry', 'birthday', 'position', 'Alpha_3'], axis=1)"
   ]
  },
  {
   "cell_type": "markdown",
   "metadata": {},
   "source": [
    "Features standardization"
   ]
  },
  {
   "cell_type": "code",
   "execution_count": 13,
   "metadata": {
    "collapsed": true
   },
   "outputs": [],
   "source": [
    "def standardize(x):\n",
    "    \"\"\"Standardize the original data set.\"\"\"\n",
    "    mean_x = np.mean(x)\n",
    "    x = x - mean_x\n",
    "    std_x = np.std(x)\n",
    "    x = x / std_x\n",
    "    return x"
   ]
  },
  {
   "cell_type": "code",
   "execution_count": 14,
   "metadata": {
    "collapsed": false
   },
   "outputs": [],
   "source": [
    "X = standardize(X)"
   ]
  },
  {
   "cell_type": "markdown",
   "metadata": {},
   "source": [
    "Features correlation with y"
   ]
  },
  {
   "cell_type": "code",
   "execution_count": 16,
   "metadata": {
    "collapsed": false
   },
   "outputs": [],
   "source": [
    "y_X = pd.concat([df['skin_discretized_5'],X], axis=1)\n",
    "corr = y_X.corr()\n",
    "corr = corr['skin_discretized_5'] # correlation between y and D features\n",
    "corr = corr.drop('skin_discretized_5')"
   ]
  },
  {
   "cell_type": "code",
   "execution_count": 52,
   "metadata": {
    "collapsed": false
   },
   "outputs": [
    {
     "data": {
      "text/plain": [
       "<matplotlib.text.Text at 0x1ae26c94048>"
      ]
     },
     "execution_count": 52,
     "metadata": {},
     "output_type": "execute_result"
    },
    {
     "data": {
      "image/png": "[encoded data removed]",
      "text/plain": [
       "<matplotlib.figure.Figure at 0x1ae26eedf28>"
      ]
     },
     "metadata": {},
     "output_type": "display_data"
    }
   ],
   "source": [
    "g = corr.plot(figsize =(10,5), x = 'index')\n",
    "g.axhline(0,color='#FF8C00', linestyle='--')\n",
    "g.set_xlabel(\"Features\")\n",
    "g.set_ylabel(\"Correlation with y\") "
   ]
  },
  {
   "cell_type": "markdown",
   "metadata": {},
   "source": [
    "Height, refCountry, meanIAT, seIAT, meanExp, seExp sont les var les plus corrélées (0 pas de corrélation / -1 ou 1 : corrélation)"
   ]
  },
  {
   "cell_type": "markdown",
   "metadata": {},
   "source": [
    "# 1 - Supervised Learning : Random Forests"
   ]
  },
  {
   "cell_type": "markdown",
   "metadata": {},
   "source": [
    "## Train/test split"
   ]
  },
  {
   "cell_type": "code",
   "execution_count": 53,
   "metadata": {
    "collapsed": false
   },
   "outputs": [],
   "source": [
    "# STEP 1: split X and y into training and testing sets\n",
    "X_train, X_test, y_train, y_test = train_test_split(X, y, test_size=0.4, random_state=4)"
   ]
  },
  {
   "cell_type": "markdown",
   "metadata": {},
   "source": [
    "## 1st model"
   ]
  },
  {
   "cell_type": "markdown",
   "metadata": {},
   "source": [
    "max_depth => reduce bias<br/>\n",
    "n_estimators => reduce variance"
   ]
  },
  {
   "cell_type": "code",
   "execution_count": 55,
   "metadata": {
    "collapsed": false
   },
   "outputs": [
    {
     "data": {
      "text/plain": [
       "RandomForestClassifier(bootstrap=True, class_weight=None, criterion='gini',\n",
       "            max_depth=None, max_features='auto', max_leaf_nodes=None,\n",
       "            min_samples_leaf=1, min_samples_split=2,\n",
       "            min_weight_fraction_leaf=0.0, n_estimators=10, n_jobs=-1,\n",
       "            oob_score=False, random_state=None, verbose=0,\n",
       "            warm_start=False)"
      ]
     },
     "execution_count": 55,
     "metadata": {},
     "output_type": "execute_result"
    }
   ],
   "source": [
    "# STEP 2: train the model on the training set\n",
    "# instantiate the model (using the default parameters)\n",
    "rfc = RandomForestClassifier(n_jobs=-1)\n",
    "# fit the model with data\n",
    "rfc.fit(X_train, y_train)"
   ]
  },
  {
   "cell_type": "markdown",
   "metadata": {},
   "source": [
    "n_estimators=10 arbres / max_depth = None"
   ]
  },
  {
   "cell_type": "markdown",
   "metadata": {},
   "source": [
    "Define function to print accuracy of the model"
   ]
  },
  {
   "cell_type": "code",
   "execution_count": 56,
   "metadata": {
    "collapsed": true
   },
   "outputs": [],
   "source": [
    "def print_score(classifier, X_train, y_train, X_test, y_test):\n",
    "    print('Train set score :', classifier.score(X_train, y_train))\n",
    "    print('Test set score :', classifier.score(X_test, y_test))"
   ]
  },
  {
   "cell_type": "code",
   "execution_count": 58,
   "metadata": {
    "collapsed": false
   },
   "outputs": [
    {
     "name": "stdout",
     "output_type": "stream",
     "text": [
      "Train set score : 0.993754969281\n",
      "Test set score : 0.80723361811\n"
     ]
    }
   ],
   "source": [
    "print_score(rfc, X_train, y_train, X_test, y_test)"
   ]
  },
  {
   "cell_type": "markdown",
   "metadata": {},
   "source": [
    "- <b>Influence of parameters</b>"
   ]
  },
  {
   "cell_type": "markdown",
   "metadata": {},
   "source": [
    "We see that the model is overfitting. We can decrease the overfitting by increasing the number of maximum features"
   ]
  },
  {
   "cell_type": "code",
   "execution_count": 66,
   "metadata": {
    "collapsed": false
   },
   "outputs": [
    {
     "name": "stdout",
     "output_type": "stream",
     "text": [
      "Train set score : 0.996241416697\n",
      "Test set score : 0.955917429203\n"
     ]
    }
   ],
   "source": [
    "rfc = RandomForestClassifier(max_features=None, n_jobs=-1)\n",
    "rfc.fit(X_train, y_train)\n",
    "\n",
    "print_score(rfc, X_train, y_train, X_test, y_test)"
   ]
  },
  {
   "cell_type": "code",
   "execution_count": 60,
   "metadata": {
    "collapsed": false
   },
   "outputs": [
    {
     "name": "stdout",
     "output_type": "stream",
     "text": [
      "Train set score : 0.999392844236\n",
      "Test set score : 0.851836593087\n"
     ]
    }
   ],
   "source": [
    "rfc = RandomForestClassifier(n_estimators=100, n_jobs=-1)\n",
    "rfc.fit(X_train, y_train)\n",
    "\n",
    "print_score(rfc, X_train, y_train, X_test, y_test)"
   ]
  },
  {
   "cell_type": "markdown",
   "metadata": {},
   "source": [
    "- <b>Perform cross-validation to mitigate the overfitting of your model. </b>"
   ]
  },
  {
   "cell_type": "markdown",
   "metadata": {},
   "source": [
    "Cross-validation example: parameter tuning<br>\n",
    "On choisit max_features plutôt que n_estimator car l'improvement se fait en un temps plus court"
   ]
  },
  {
   "cell_type": "code",
   "execution_count": 80,
   "metadata": {
    "collapsed": false
   },
   "outputs": [],
   "source": [
    "max_features_range = list(range(5, 20))\n",
    "max_features_scores = []\n",
    "for mf in max_features_range:\n",
    "    rfc = RandomForestClassifier(max_features=mf, n_jobs=-1)\n",
    "    scores = cross_val_score(rfc, X, y, cv=3, scoring='accuracy')\n",
    "    max_features_scores.append(scores.mean())"
   ]
  },
  {
   "cell_type": "code",
   "execution_count": 81,
   "metadata": {
    "collapsed": false
   },
   "outputs": [
    {
     "data": {
      "text/plain": [
       "<matplotlib.text.Text at 0x1ae2734cf28>"
      ]
     },
     "execution_count": 81,
     "metadata": {},
     "output_type": "execute_result"
    },
    {
     "data": {
      "image/png": "[encoded data removed]",
      "text/plain": [
       "<matplotlib.figure.Figure at 0x1ae2732cef0>"
      ]
     },
     "metadata": {},
     "output_type": "display_data"
    }
   ],
   "source": [
    "# plot the value of  for KNN (x-axis) versus the cross-validated accuracy (y-axis)\n",
    "plt.plot(max_features_range, max_features_scores)\n",
    "plt.xlabel('Value of max_features parameter for Random Forest')\n",
    "plt.ylabel('Cross-Validated Accuracy')"
   ]
  },
  {
   "cell_type": "code",
   "execution_count": 95,
   "metadata": {
    "collapsed": false
   },
   "outputs": [
    {
     "data": {
      "text/plain": [
       "11    16.0\n",
       "Name: max_features, dtype: float64"
      ]
     },
     "execution_count": 95,
     "metadata": {},
     "output_type": "execute_result"
    }
   ],
   "source": [
    "range_score = pd.DataFrame(np.c_[max_features_range, max_features_scores], columns = ['max_features', 'score'])\n",
    "range_score.loc[range_score.score == max(range_score.score)].max_features"
   ]
  },
  {
   "cell_type": "markdown",
   "metadata": {},
   "source": [
    "Let's build this new classifier with max_features = 16"
   ]
  },
  {
   "cell_type": "code",
   "execution_count": 110,
   "metadata": {
    "collapsed": false
   },
   "outputs": [
    {
     "name": "stdout",
     "output_type": "stream",
     "text": [
      "Train set score : 0.996328153235\n",
      "Test set score : 0.957305173685\n"
     ]
    }
   ],
   "source": [
    "rfc = RandomForestClassifier(max_features=16, n_jobs=-1)\n",
    "model = rfc.fit(X_train, y_train)\n",
    "\n",
    "print_score(rfc, X_train, y_train, X_test, y_test)"
   ]
  },
  {
   "cell_type": "markdown",
   "metadata": {},
   "source": [
    "The overfitting is reduced"
   ]
  },
  {
   "cell_type": "markdown",
   "metadata": {},
   "source": [
    "- <b>Once you assessed your model, inspect the feature\\_importances_ attribute and discuss the obtained results. </b>"
   ]
  },
  {
   "cell_type": "markdown",
   "metadata": {},
   "source": [
    "Starting by defining a function to plot the features importances"
   ]
  },
  {
   "cell_type": "code",
   "execution_count": 98,
   "metadata": {
    "collapsed": true
   },
   "outputs": [],
   "source": [
    "def plot_features_importances(ft_imp):\n",
    "    plt.figure()\n",
    "    ft_imp.plot(kind='bar')\n",
    "    \n",
    "    #plt.title('Feature importance for the trained random forest model')\n",
    "    plt.xlabel('Feature name', fontweight='bold')\n",
    "    plt.ylabel('Features importance [%]', fontweight='bold')\n",
    "    plt.show()"
   ]
  },
  {
   "cell_type": "markdown",
   "metadata": {},
   "source": [
    "Extract and plot the features importances"
   ]
  },
  {
   "cell_type": "code",
   "execution_count": 111,
   "metadata": {
    "collapsed": false
   },
   "outputs": [
    {
     "data": {
      "image/png": "[encoded data removed]",
      "text/plain": [
       "<matplotlib.figure.Figure at 0x1ae275f4668>"
      ]
     },
     "metadata": {},
     "output_type": "display_data"
    }
   ],
   "source": [
    "# Extract features importances from model\n",
    "features_importances = model.feature_importances_\n",
    "\n",
    "# Create series from features importances and features names\n",
    "ft_imp = pd.Series(features_importances, index=X.columns.values).sort_values(ascending=False)\n",
    "\n",
    "# Plot features\n",
    "plot_features_importances(ft_imp)"
   ]
  },
  {
   "cell_type": "markdown",
   "metadata": {},
   "source": [
    "yellowReds and redCards are not used<br/>\n",
    "Three features stands out : 'height', 'weight' and 'year'. We can try to use the first 7 most usefull features to train our random forest classifier<br>\n",
    "Rappel : On avait obtenu Height, refCountry, meanIAT, seIAT, meanExp, seExp dans les coeffs de corrélation des features à y"
   ]
  },
  {
   "cell_type": "markdown",
   "metadata": {},
   "source": [
    "- <b>With different assumptions on the data (e.g., dropping certain features even before feeding them to the classifier), can you obtain a substantially different feature\\_importances_ attribute?</b>"
   ]
  },
  {
   "cell_type": "code",
   "execution_count": 104,
   "metadata": {
    "collapsed": false
   },
   "outputs": [
    {
     "data": {
      "text/html": [
       "<div>\n",
       "<table border=\"1\" class=\"dataframe\">\n",
       "  <thead>\n",
       "    <tr style=\"text-align: right;\">\n",
       "      <th></th>\n",
       "      <th>weight</th>\n",
       "      <th>height</th>\n",
       "      <th>year</th>\n",
       "      <th>refCountry</th>\n",
       "      <th>refNum</th>\n",
       "      <th>meanExp</th>\n",
       "      <th>meanIAT</th>\n",
       "    </tr>\n",
       "  </thead>\n",
       "  <tbody>\n",
       "    <tr>\n",
       "      <th>0</th>\n",
       "      <td>72.0</td>\n",
       "      <td>177.0</td>\n",
       "      <td>1983</td>\n",
       "      <td>1</td>\n",
       "      <td>1</td>\n",
       "      <td>0.396000</td>\n",
       "      <td>0.326391</td>\n",
       "    </tr>\n",
       "    <tr>\n",
       "      <th>1</th>\n",
       "      <td>82.0</td>\n",
       "      <td>179.0</td>\n",
       "      <td>1982</td>\n",
       "      <td>2</td>\n",
       "      <td>2</td>\n",
       "      <td>-0.204082</td>\n",
       "      <td>0.203375</td>\n",
       "    </tr>\n",
       "  </tbody>\n",
       "</table>\n",
       "</div>"
      ],
      "text/plain": [
       "   weight  height  year  refCountry  refNum   meanExp   meanIAT\n",
       "0    72.0   177.0  1983           1       1  0.396000  0.326391\n",
       "1    82.0   179.0  1982           2       2 -0.204082  0.203375"
      ]
     },
     "execution_count": 104,
     "metadata": {},
     "output_type": "execute_result"
    }
   ],
   "source": [
    "# number of features choosen\n",
    "n_features = 7\n",
    "\n",
    "# extract reduced features set and drop NaN values\n",
    "X_reduced = df[ft_imp.head(n_features).index].copy()\n",
    "X_reduced.head(2)"
   ]
  },
  {
   "cell_type": "markdown",
   "metadata": {},
   "source": [
    "We can now train our random forest classifier on the reduced data set"
   ]
  },
  {
   "cell_type": "code",
   "execution_count": 113,
   "metadata": {
    "collapsed": false
   },
   "outputs": [
    {
     "name": "stdout",
     "output_type": "stream",
     "text": [
      "Train set score : 0.986584748825\n",
      "Test set score : 0.895962530899\n"
     ]
    }
   ],
   "source": [
    "X_train_r, X_test_r, y_train_r, y_test_r = train_test_split(X_reduced, y, test_size=0.4, random_state=4)\n",
    "\n",
    "rfc_r = RandomForestClassifier(n_jobs=-1)\n",
    "model_r = rfc_r.fit(X_train_r, y_train_r)\n",
    "\n",
    "print_score(rfc_r, X_train_r, y_train_r, X_test_r, y_test_r)"
   ]
  },
  {
   "cell_type": "markdown",
   "metadata": {},
   "source": [
    "Not so bad with only 37% for the initial features"
   ]
  },
  {
   "cell_type": "markdown",
   "metadata": {},
   "source": [
    "Let's see the features importances"
   ]
  },
  {
   "cell_type": "code",
   "execution_count": 131,
   "metadata": {
    "collapsed": false
   },
   "outputs": [
    {
     "data": {
      "text/html": [
       "<div>\n",
       "<table border=\"1\" class=\"dataframe\">\n",
       "  <thead>\n",
       "    <tr style=\"text-align: right;\">\n",
       "      <th></th>\n",
       "      <th>0</th>\n",
       "      <th>1</th>\n",
       "    </tr>\n",
       "  </thead>\n",
       "  <tbody>\n",
       "    <tr>\n",
       "      <th>weight</th>\n",
       "      <td>33.158038</td>\n",
       "      <td>29.876728</td>\n",
       "    </tr>\n",
       "    <tr>\n",
       "      <th>height</th>\n",
       "      <td>26.537459</td>\n",
       "      <td>26.779202</td>\n",
       "    </tr>\n",
       "    <tr>\n",
       "      <th>year</th>\n",
       "      <td>24.364290</td>\n",
       "      <td>23.465959</td>\n",
       "    </tr>\n",
       "    <tr>\n",
       "      <th>refNum</th>\n",
       "      <td>2.407823</td>\n",
       "      <td>9.883823</td>\n",
       "    </tr>\n",
       "    <tr>\n",
       "      <th>meanExp</th>\n",
       "      <td>1.705683</td>\n",
       "      <td>3.535597</td>\n",
       "    </tr>\n",
       "    <tr>\n",
       "      <th>refCountry</th>\n",
       "      <td>2.630957</td>\n",
       "      <td>3.378826</td>\n",
       "    </tr>\n",
       "    <tr>\n",
       "      <th>meanIAT</th>\n",
       "      <td>1.983698</td>\n",
       "      <td>3.079865</td>\n",
       "    </tr>\n",
       "  </tbody>\n",
       "</table>\n",
       "</div>"
      ],
      "text/plain": [
       "                    0          1\n",
       "weight      33.158038  29.876728\n",
       "height      26.537459  26.779202\n",
       "year        24.364290  23.465959\n",
       "refNum       2.407823   9.883823\n",
       "meanExp      1.705683   3.535597\n",
       "refCountry   2.630957   3.378826\n",
       "meanIAT      1.983698   3.079865"
      ]
     },
     "execution_count": 131,
     "metadata": {},
     "output_type": "execute_result"
    }
   ],
   "source": [
    "# Extract features importances from model\n",
    "features_importances_reduced = model_r.feature_importances_\n",
    "\n",
    "# Create series from features importances and features names\n",
    "ft_imp_r = pd.Series(features_importances_reduced, index=X_reduced.columns.values).sort_values(ascending=False)\n",
    "\n",
    "# Compare features importance\n",
    "pd.concat([ft_imp*100, ft_imp_r*100], axis=1, join='inner')"
   ]
  },
  {
   "cell_type": "markdown",
   "metadata": {},
   "source": [
    "The order of the features importance is similar but :\n",
    "- The importance of the most significant feature has decreased\n",
    "- The importance of the less significant features has increased"
   ]
  },
  {
   "cell_type": "markdown",
   "metadata": {},
   "source": [
    "- <b>BONUS: plot the learning curves against at least 2 different sets of parameters passed to your Random Forest. To obtain smooth curves, partition your data in at least 20 folds. Can you find a set of parameters that leads to high bias, and one which does not?</b>"
   ]
  },
  {
   "cell_type": "markdown",
   "metadata": {},
   "source": [
    "Bias => Depth"
   ]
  },
  {
   "cell_type": "markdown",
   "metadata": {},
   "source": [
    "- High Bias (low Train Score) : max_depth = 3"
   ]
  },
  {
   "cell_type": "code",
   "execution_count": 149,
   "metadata": {
    "collapsed": false
   },
   "outputs": [],
   "source": [
    "rfc = RandomForestClassifier(max_depth=3, max_features=16, n_estimators=10, n_jobs=-1)\n",
    "\n",
    "training_sizes=np.array([0.1, 0.325, 0.55, 0.775, 1.]) # set training batch sizes\n",
    "n_folds = 20 # set n-folds cross validation\n",
    "\n",
    "# compute learning curve\n",
    "train_sizes, train_scores, valid_scores = learning_curve(rfc, X, y, train_sizes=training_sizes, cv=n_folds, n_jobs=-1)"
   ]
  },
  {
   "cell_type": "code",
   "execution_count": 156,
   "metadata": {
    "collapsed": false
   },
   "outputs": [
    {
     "data": {
      "image/png": "[encoded data removed]",
      "text/plain": [
       "<matplotlib.figure.Figure at 0x1ae265c3ba8>"
      ]
     },
     "metadata": {},
     "output_type": "display_data"
    }
   ],
   "source": [
    "plt.figure(figsize=(12,6))\n",
    "plt.plot(train_sizes, train_scores.mean(axis=1))\n",
    "plt.plot(train_sizes, valid_scores.mean(axis=1))\n",
    "plt.legend(['train scores','valide scores'])\n",
    "plt.xlabel('Training sample size', fontweight='bold')\n",
    "plt.ylabel('Score [%]', fontweight='bold')\n",
    "plt.show()"
   ]
  },
  {
   "cell_type": "markdown",
   "metadata": {},
   "source": [
    "High Bias => More Data doesn't help"
   ]
  },
  {
   "cell_type": "markdown",
   "metadata": {},
   "source": [
    "- Small Bias"
   ]
  },
  {
   "cell_type": "code",
   "execution_count": 157,
   "metadata": {
    "collapsed": false
   },
   "outputs": [],
   "source": [
    "rfc = RandomForestClassifier(max_depth=150, max_features=16, n_estimators=10, n_jobs=-1)\n",
    "\n",
    "training_sizes=np.array([0.1, 0.325, 0.55, 0.775, 1.]) # set training batch sizes\n",
    "n_folds = 20 # set n-folds cross validation\n",
    "\n",
    "# compute learning curve\n",
    "train_sizes, train_scores, valid_scores = learning_curve(rfc, X, y, train_sizes=training_sizes, cv=n_folds, n_jobs=-1)"
   ]
  },
  {
   "cell_type": "code",
   "execution_count": 158,
   "metadata": {
    "collapsed": false,
    "scrolled": true
   },
   "outputs": [
    {
     "data": {
      "image/png": "[encoded data removed]",
      "text/plain": [
       "<matplotlib.figure.Figure at 0x1ae258dbd68>"
      ]
     },
     "metadata": {},
     "output_type": "display_data"
    }
   ],
   "source": [
    "plt.figure(figsize=(12,6))\n",
    "plt.plot(train_sizes, train_scores.mean(axis=1))\n",
    "plt.plot(train_sizes, valid_scores.mean(axis=1))\n",
    "plt.legend(['train scores','valide scores'])\n",
    "plt.xlabel('Training sample size', fontweight='bold')\n",
    "plt.ylabel('Score [%]', fontweight='bold')\n",
    "plt.show()"
   ]
  },
  {
   "cell_type": "markdown",
   "metadata": {},
   "source": [
    "Smal Bias : More data can help to reduce variance"
   ]
  },
  {
   "cell_type": "markdown",
   "metadata": {},
   "source": [
    "# 2. Clustering using an unsupervised learning technique"
   ]
  },
  {
   "cell_type": "markdown",
   "metadata": {},
   "source": [
    "<i>Aggregate the referee information grouping by soccer player, and use an\n",
    "unsupervised learning technique to cluster the soccer players in 2 disjoint clusters.\n",
    "Remove features iteratively, and at each step perform again the clustering and\n",
    "compute the silhouette score -- can you find a configuration of features with high\n",
    "silhouette score where players with dark and light skin colors belong to different\n",
    "clusters? Discuss the obtained results.</i>"
   ]
  },
  {
   "cell_type": "markdown",
   "metadata": {},
   "source": [
    "- Aggregate the referee information grouping by soccer player"
   ]
  },
  {
   "cell_type": "code",
   "execution_count": null,
   "metadata": {
    "collapsed": true
   },
   "outputs": [],
   "source": [
    "'victories':sum, 'ties':sum, 'defeats':sum, 'goals':sum, \n",
    "                              'yellowCards':sum, 'yellowReds':sum, 'redCards':sum,"
   ]
  },
  {
   "cell_type": "code",
   "execution_count": 254,
   "metadata": {
    "collapsed": false
   },
   "outputs": [],
   "source": [
    "def mean(x):\n",
    "    return np.mean(x)\n",
    "\n",
    "players_df = df.groupby(df['playerShort'])\n",
    "# take only numerical features\n",
    "players_df = players_df.agg({'height':identity, 'weight':identity, 'skin':identity, 'year':identity,\n",
    "                              'games':sum, 'victories':sum, 'ties':sum, 'defeats':sum, 'goals':sum, \n",
    "                              'yellowCards':sum, 'yellowReds':sum, 'redCards':sum,\n",
    "                              'meanIAT': mean, 'nIAT': mean, 'seIAT': mean, \n",
    "                              'meanExp': mean, 'nExp': mean, 'seExp': mean\n",
    "                             })"
   ]
  },
  {
   "cell_type": "markdown",
   "metadata": {},
   "source": [
    "Le nombre de cartons, buts, victoires... est proportionnel au nombre de matchs joués. On divise donc ces features par le nombre de matchs :"
   ]
  },
  {
   "cell_type": "code",
   "execution_count": 261,
   "metadata": {
    "collapsed": false
   },
   "outputs": [],
   "source": [
    "for feature in ['victories', 'ties', 'defeats', 'goals', 'yellowCards', 'yellowReds', 'redCards']:\n",
    "    players_df[feature] = players_df[feature] / players_df.games"
   ]
  },
  {
   "cell_type": "markdown",
   "metadata": {},
   "source": [
    "Standardization"
   ]
  },
  {
   "cell_type": "code",
   "execution_count": 262,
   "metadata": {
    "collapsed": false
   },
   "outputs": [
    {
     "data": {
      "text/html": [
       "<div>\n",
       "<table border=\"1\" class=\"dataframe\">\n",
       "  <thead>\n",
       "    <tr style=\"text-align: right;\">\n",
       "      <th></th>\n",
       "      <th>yellowReds</th>\n",
       "      <th>victories</th>\n",
       "      <th>meanExp</th>\n",
       "      <th>height</th>\n",
       "      <th>ties</th>\n",
       "      <th>redCards</th>\n",
       "      <th>seExp</th>\n",
       "      <th>goals</th>\n",
       "      <th>skin</th>\n",
       "      <th>meanIAT</th>\n",
       "      <th>yellowCards</th>\n",
       "      <th>weight</th>\n",
       "      <th>nExp</th>\n",
       "      <th>defeats</th>\n",
       "      <th>games</th>\n",
       "      <th>seIAT</th>\n",
       "      <th>nIAT</th>\n",
       "      <th>year</th>\n",
       "    </tr>\n",
       "    <tr>\n",
       "      <th>playerShort</th>\n",
       "      <th></th>\n",
       "      <th></th>\n",
       "      <th></th>\n",
       "      <th></th>\n",
       "      <th></th>\n",
       "      <th></th>\n",
       "      <th></th>\n",
       "      <th></th>\n",
       "      <th></th>\n",
       "      <th></th>\n",
       "      <th></th>\n",
       "      <th></th>\n",
       "      <th></th>\n",
       "      <th></th>\n",
       "      <th></th>\n",
       "      <th></th>\n",
       "      <th></th>\n",
       "      <th></th>\n",
       "    </tr>\n",
       "  </thead>\n",
       "  <tbody>\n",
       "    <tr>\n",
       "      <th>aaron-hughes</th>\n",
       "      <td>-0.690829</td>\n",
       "      <td>-0.582505</td>\n",
       "      <td>0.309252</td>\n",
       "      <td>-0.025119</td>\n",
       "      <td>0.751504</td>\n",
       "      <td>-0.728126</td>\n",
       "      <td>0.291169</td>\n",
       "      <td>-0.816500</td>\n",
       "      <td>-0.549349</td>\n",
       "      <td>-0.188539</td>\n",
       "      <td>-1.378934</td>\n",
       "      <td>-0.743505</td>\n",
       "      <td>0.149509</td>\n",
       "      <td>0.251795</td>\n",
       "      <td>2.881194</td>\n",
       "      <td>0.059161</td>\n",
       "      <td>0.141324</td>\n",
       "      <td>-1.519347</td>\n",
       "    </tr>\n",
       "    <tr>\n",
       "      <th>aaron-hunt</th>\n",
       "      <td>-0.690829</td>\n",
       "      <td>-0.147926</td>\n",
       "      <td>-0.179684</td>\n",
       "      <td>0.121964</td>\n",
       "      <td>-0.445040</td>\n",
       "      <td>-0.231371</td>\n",
       "      <td>-0.416213</td>\n",
       "      <td>0.680839</td>\n",
       "      <td>-0.549349</td>\n",
       "      <td>-0.004801</td>\n",
       "      <td>-0.137526</td>\n",
       "      <td>-0.461770</td>\n",
       "      <td>0.374394</td>\n",
       "      <td>0.426934</td>\n",
       "      <td>0.630699</td>\n",
       "      <td>-0.395373</td>\n",
       "      <td>0.379086</td>\n",
       "      <td>0.084911</td>\n",
       "    </tr>\n",
       "  </tbody>\n",
       "</table>\n",
       "</div>"
      ],
      "text/plain": [
       "              yellowReds  victories   meanExp    height      ties  redCards  \\\n",
       "playerShort                                                                   \n",
       "aaron-hughes   -0.690829  -0.582505  0.309252 -0.025119  0.751504 -0.728126   \n",
       "aaron-hunt     -0.690829  -0.147926 -0.179684  0.121964 -0.445040 -0.231371   \n",
       "\n",
       "                 seExp     goals      skin   meanIAT  yellowCards    weight  \\\n",
       "playerShort                                                                   \n",
       "aaron-hughes  0.291169 -0.816500 -0.549349 -0.188539    -1.378934 -0.743505   \n",
       "aaron-hunt   -0.416213  0.680839 -0.549349 -0.004801    -0.137526 -0.461770   \n",
       "\n",
       "                  nExp   defeats     games     seIAT      nIAT      year  \n",
       "playerShort                                                               \n",
       "aaron-hughes  0.149509  0.251795  2.881194  0.059161  0.141324 -1.519347  \n",
       "aaron-hunt    0.374394  0.426934  0.630699 -0.395373  0.379086  0.084911  "
      ]
     },
     "execution_count": 262,
     "metadata": {},
     "output_type": "execute_result"
    }
   ],
   "source": [
    "players_df = standardize(players_df)\n",
    "players_df.head(2)"
   ]
  },
  {
   "cell_type": "markdown",
   "metadata": {},
   "source": [
    "Let's try a k-means clustering on the training data, K = 2"
   ]
  },
  {
   "cell_type": "code",
   "execution_count": 263,
   "metadata": {
    "collapsed": false
   },
   "outputs": [
    {
     "data": {
      "text/plain": [
       "0.10155857619029483"
      ]
     },
     "execution_count": 263,
     "metadata": {},
     "output_type": "execute_result"
    }
   ],
   "source": [
    "kmeans_model = KMeans(n_clusters=2)\n",
    "clust_model = kmeans_model.fit(players_df)\n",
    "score = silhouette_score(players_df, clust_model.predict(players_df))\n",
    "score"
   ]
  },
  {
   "cell_type": "markdown",
   "metadata": {},
   "source": [
    "Really low score"
   ]
  },
  {
   "cell_type": "markdown",
   "metadata": {},
   "source": [
    "- Remove features iteratively, and at each step perform again the clustering and\n",
    "compute the silhouette score = = Feature selection = Ablation"
   ]
  },
  {
   "cell_type": "markdown",
   "metadata": {},
   "source": [
    "A chaque itération, on retire la feature sans laquelle on obtient le plus grand score. (Cross Validation)<br>\n",
    "Tant que le score s'améliore, on continue."
   ]
  },
  {
   "cell_type": "code",
   "execution_count": 251,
   "metadata": {
    "collapsed": true
   },
   "outputs": [],
   "source": [
    "def find_feature_to_delete(X):\n",
    "    \n",
    "    nb_features = X.shape[1]\n",
    "    scores = np.zeros(nb_features)\n",
    "    \n",
    "    for nb_f in list(range(nb_features)):\n",
    "        \n",
    "        x_del = X.drop(X.columns[nb_f], axis=1)\n",
    "        kmeans_model = KMeans(n_clusters=2)\n",
    "        clust_model = kmeans_model.fit(x_del)\n",
    "        \n",
    "        scores[nb_f]=silhouette_score(x_del, clust_model.predict(x_del))\n",
    "    \n",
    "    return X.columns[np.argmax(scores)], np.max(scores)"
   ]
  },
  {
   "cell_type": "code",
   "execution_count": 264,
   "metadata": {
    "collapsed": false
   },
   "outputs": [
    {
     "name": "stdout",
     "output_type": "stream",
     "text": [
      "Initial Score :  0.10155857619\n",
      "Deleted feature =  meanIAT  \t \t Score =  0.131160573683\n",
      "Deleted feature =  yellowReds  \t \t Score =  0.142335770521\n",
      "Deleted feature =  redCards  \t \t Score =  0.154998168103\n",
      "Deleted feature =  meanExp  \t \t Score =  0.16834336149\n",
      "Deleted feature =  yellowCards  \t \t Score =  0.18141161893\n",
      "Deleted feature =  year  \t \t Score =  0.199335294312\n",
      "Deleted feature =  defeats  \t \t Score =  0.381301964952\n",
      "Deleted feature =  goals  \t \t Score =  0.411091794097\n",
      "Deleted feature =  height  \t \t Score =  0.434902465494\n",
      "Deleted feature =  weight  \t \t Score =  0.500348979003\n",
      "Deleted feature =  games  \t \t Score =  0.542958997464\n",
      "Deleted feature =  seExp  \t \t Score =  0.789027721972\n"
     ]
    }
   ],
   "source": [
    "old_score = 0  \n",
    "# init : score = 0.219\n",
    "players_df_reduced = players_df.copy()\n",
    "\n",
    "print(\"Initial Score : \", score)\n",
    "\n",
    "while (players_df_reduced.shape[1] > 1):\n",
    "    old_score = score\n",
    "    feature, score = find_feature_to_delete(players_df_reduced)\n",
    "    if (score > old_score):\n",
    "        print(\"Deleted feature = \", feature, \" \\t \\t Score = \", score)\n",
    "        players_df_reduced = players_df_reduced.drop(feature, axis=1)\n",
    "    else :\n",
    "        break"
   ]
  },
  {
   "cell_type": "code",
   "execution_count": 266,
   "metadata": {
    "collapsed": false
   },
   "outputs": [
    {
     "data": {
      "text/plain": [
       "(6,\n",
       " Index(['victories', 'ties', 'skin', 'nExp', 'seIAT', 'nIAT'], dtype='object'))"
      ]
     },
     "execution_count": 266,
     "metadata": {},
     "output_type": "execute_result"
    }
   ],
   "source": [
    "players_df_reduced.shape[1], players_df_reduced.columns"
   ]
  },
  {
   "cell_type": "code",
   "execution_count": 280,
   "metadata": {
    "collapsed": false
   },
   "outputs": [
    {
     "name": "stdout",
     "output_type": "stream",
     "text": [
      "0.712623145895\n"
     ]
    },
    {
     "data": {
      "text/plain": [
       "<matplotlib.text.Text at 0x1ae4a6f8828>"
      ]
     },
     "execution_count": 280,
     "metadata": {},
     "output_type": "execute_result"
    },
    {
     "data": {
      "image/png": "[encoded data removed]",
      "text/plain": [
       "<matplotlib.figure.Figure at 0x1ae4a769240>"
      ]
     },
     "metadata": {},
     "output_type": "display_data"
    }
   ],
   "source": [
    "kmeans_model = KMeans(n_clusters=2)\n",
    "clust_model = kmeans_model.fit(players_df_reduced)\n",
    "y_pred = clust_model.predict(players_df_reduced)\n",
    "score = silhouette_score(players_df_reduced, y_pred)\n",
    "print(score)\n",
    "\n",
    "plt.scatter(players_df_reduced['skin'], y_pred)\n",
    "plt.xlabel('skin tone')\n",
    "plt.ylabel('cluster')"
   ]
  },
  {
   "cell_type": "markdown",
   "metadata": {},
   "source": [
    "Le cluster choisi semble relativement indépendant de la couleur de la peau puisqu'elle est répartie de façons égale dans chaque cluster."
   ]
  },
  {
   "cell_type": "markdown",
   "metadata": {},
   "source": [
    "Quel était le score de la peau seule?"
   ]
  },
  {
   "cell_type": "code",
   "execution_count": 305,
   "metadata": {
    "collapsed": false
   },
   "outputs": [
    {
     "data": {
      "text/plain": [
       "0.715866997442967"
      ]
     },
     "execution_count": 305,
     "metadata": {},
     "output_type": "execute_result"
    }
   ],
   "source": [
    "skin=players_df[['skin']]\n",
    "kmeans_model = KMeans(n_clusters=2)\n",
    "clust_model = kmeans_model.fit(skin)\n",
    "score=silhouette_score(skin, clust_model.predict(skin))\n",
    "score"
   ]
  },
  {
   "cell_type": "markdown",
   "metadata": {},
   "source": [
    "L'ablation ne nous assure pas de trouver la meilleure combinaison de features possible.<br/>\n",
    "Nous qui cherchons à classifier en fonction de la couleur de peau, pourquoi ne pas partir de là et ajouter progressivement des features? (Wrapper)"
   ]
  },
  {
   "cell_type": "code",
   "execution_count": 304,
   "metadata": {
    "collapsed": true
   },
   "outputs": [],
   "source": [
    "def find_feature_to_add(X, features):\n",
    "    \n",
    "    scores = np.zeros(X.shape[1])\n",
    "    \n",
    "    for nb_f in list(range(X.shape[1])):\n",
    "        if not (X.columns[nb_f] in features):\n",
    "            \n",
    "            features.append(X.columns[nb_f])\n",
    "            kmeans_model = KMeans(n_clusters=2)\n",
    "            clust_model = kmeans_model.fit(X[features])\n",
    "            scores[nb_f]=silhouette_score(X[features], clust_model.predict(X[features]))\n",
    "            print(scores[nb_f])\n",
    "            features.remove(X.columns[nb_f])\n",
    "    \n",
    "    return X.columns[np.argmax(scores)], np.max(scores)"
   ]
  },
  {
   "cell_type": "code",
   "execution_count": 306,
   "metadata": {
    "collapsed": false
   },
   "outputs": [
    {
     "name": "stdout",
     "output_type": "stream",
     "text": [
      "Initial Score :  0.715866997443\n",
      "0.489186851214\n",
      "0.453984196956\n",
      "0.46267694973\n",
      "0.432629425748\n",
      "0.468856735337\n",
      "0.486752141745\n",
      "0.61746460624\n",
      "0.467455763795\n",
      "0.477619440085\n",
      "0.446115230077\n",
      "0.440237723465\n",
      "0.569282613263\n",
      "0.463432873106\n",
      "0.442664792906\n",
      "0.623834369411\n",
      "0.570075324524\n",
      "0.430336905308\n"
     ]
    }
   ],
   "source": [
    "old_score = 0  \n",
    "# init : score = 0.71586\n",
    "features = ['skin']\n",
    "players_df_reduced = players_df.copy()\n",
    "\n",
    "print(\"Initial Score : \", score)\n",
    "\n",
    "while (len(features) < players_df.shape[1]):\n",
    "    old_score = score\n",
    "    feature, score = find_feature_to_add(players_df, features)\n",
    "    if (score > old_score):\n",
    "        print(\"Added feature = \", feature, \" \\t \\t Score = \", score)\n",
    "        features.append(feature)\n",
    "    else :\n",
    "        break"
   ]
  },
  {
   "cell_type": "markdown",
   "metadata": {},
   "source": [
    "Il ne parvient pas à trouver de feature capable d'améliorer le score<br/>\n",
    "Certaines données sont liées et ne permettent une amélioration du score qu'à partir du moment ou on les rassemble"
   ]
  }
 ],
 "metadata": {
  "anaconda-cloud": {},
  "kernelspec": {
   "display_name": "Python 3",
   "language": "python",
   "name": "python3"
  },
  "language_info": {
   "codemirror_mode": {
    "name": "ipython",
    "version": 3
   },
   "file_extension": ".py",
   "mimetype": "text/x-python",
   "name": "python",
   "nbconvert_exporter": "python",
   "pygments_lexer": "ipython3",
   "version": "3.5.2+"
  }
 },
 "nbformat": 4,
 "nbformat_minor": 1
}
