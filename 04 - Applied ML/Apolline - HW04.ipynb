{
 "cells": [
  {
   "cell_type": "markdown",
   "metadata": {},
   "source": [
    "# HM04 - Applied ML"
   ]
  },
  {
   "cell_type": "markdown",
   "metadata": {},
   "source": [
    "### Plan :\n",
    "0 - Cleaning and Analysing Data<br/>\n",
    "1 - Supervised Learning : Random Forest<br/>\n",
    "2 - Unsupervised Learning : Clustering"
   ]
  },
  {
   "cell_type": "markdown",
   "metadata": {},
   "source": [
    "# 0 - Cleaning and Analysing Data"
   ]
  },
  {
   "cell_type": "markdown",
   "metadata": {},
   "source": [
    "In this first part, we analyse and clean the data in order to understand them and work on a clean Dataset."
   ]
  },
  {
   "cell_type": "code",
   "execution_count": 2,
   "metadata": {
    "collapsed": false
   },
   "outputs": [
    {
     "name": "stdout",
     "output_type": "stream",
     "text": [
      "The autoreload extension is already loaded. To reload it, use:\n",
      "  %reload_ext autoreload\n"
     ]
    }
   ],
   "source": [
    "%matplotlib inline\n",
    "import pandas as pd\n",
    "import numpy as np\n",
    "\n",
    "from sklearn.ensemble import RandomForestClassifier\n",
    "from sklearn.learning_curve import learning_curve\n",
    "from sklearn.cluster import KMeans\n",
    "from sklearn.metrics import silhouette_score\n",
    "from sklearn.cross_validation import train_test_split, cross_val_score\n",
    "\n",
    "import seaborn as sns\n",
    "import matplotlib.pyplot as plt\n",
    "plt.style.use('ggplot')\n",
    "\n",
    "%load_ext autoreload\n",
    "%autoreload 2"
   ]
  },
  {
   "cell_type": "markdown",
   "metadata": {},
   "source": [
    "### 0 - a - Loading Data"
   ]
  },
  {
   "cell_type": "markdown",
   "metadata": {},
   "source": [
    "The data contains dyads of soccer players and referees. "
   ]
  },
  {
   "cell_type": "code",
   "execution_count": 3,
   "metadata": {
    "collapsed": false
   },
   "outputs": [
    {
     "name": "stdout",
     "output_type": "stream",
     "text": [
      "(146028, 28)\n"
     ]
    },
    {
     "data": {
      "text/html": [
       "<div>\n",
       "<table border=\"1\" class=\"dataframe\">\n",
       "  <thead>\n",
       "    <tr style=\"text-align: right;\">\n",
       "      <th></th>\n",
       "      <th>playerShort</th>\n",
       "      <th>player</th>\n",
       "      <th>club</th>\n",
       "      <th>leagueCountry</th>\n",
       "      <th>birthday</th>\n",
       "      <th>height</th>\n",
       "      <th>weight</th>\n",
       "      <th>position</th>\n",
       "      <th>games</th>\n",
       "      <th>victories</th>\n",
       "      <th>...</th>\n",
       "      <th>rater2</th>\n",
       "      <th>refNum</th>\n",
       "      <th>refCountry</th>\n",
       "      <th>Alpha_3</th>\n",
       "      <th>meanIAT</th>\n",
       "      <th>nIAT</th>\n",
       "      <th>seIAT</th>\n",
       "      <th>meanExp</th>\n",
       "      <th>nExp</th>\n",
       "      <th>seExp</th>\n",
       "    </tr>\n",
       "  </thead>\n",
       "  <tbody>\n",
       "    <tr>\n",
       "      <th>0</th>\n",
       "      <td>lucas-wilchez</td>\n",
       "      <td>Lucas Wilchez</td>\n",
       "      <td>Real Zaragoza</td>\n",
       "      <td>Spain</td>\n",
       "      <td>31.08.1983</td>\n",
       "      <td>177.0</td>\n",
       "      <td>72.0</td>\n",
       "      <td>Attacking Midfielder</td>\n",
       "      <td>1</td>\n",
       "      <td>0</td>\n",
       "      <td>...</td>\n",
       "      <td>0.50</td>\n",
       "      <td>1</td>\n",
       "      <td>1</td>\n",
       "      <td>GRC</td>\n",
       "      <td>0.326391</td>\n",
       "      <td>712.0</td>\n",
       "      <td>0.000564</td>\n",
       "      <td>0.396000</td>\n",
       "      <td>750.0</td>\n",
       "      <td>0.002696</td>\n",
       "    </tr>\n",
       "    <tr>\n",
       "      <th>1</th>\n",
       "      <td>john-utaka</td>\n",
       "      <td>John Utaka</td>\n",
       "      <td>Montpellier HSC</td>\n",
       "      <td>France</td>\n",
       "      <td>08.01.1982</td>\n",
       "      <td>179.0</td>\n",
       "      <td>82.0</td>\n",
       "      <td>Right Winger</td>\n",
       "      <td>1</td>\n",
       "      <td>0</td>\n",
       "      <td>...</td>\n",
       "      <td>0.75</td>\n",
       "      <td>2</td>\n",
       "      <td>2</td>\n",
       "      <td>ZMB</td>\n",
       "      <td>0.203375</td>\n",
       "      <td>40.0</td>\n",
       "      <td>0.010875</td>\n",
       "      <td>-0.204082</td>\n",
       "      <td>49.0</td>\n",
       "      <td>0.061504</td>\n",
       "    </tr>\n",
       "    <tr>\n",
       "      <th>2</th>\n",
       "      <td>abdon-prats</td>\n",
       "      <td>Abdón Prats</td>\n",
       "      <td>RCD Mallorca</td>\n",
       "      <td>Spain</td>\n",
       "      <td>17.12.1992</td>\n",
       "      <td>181.0</td>\n",
       "      <td>79.0</td>\n",
       "      <td>NaN</td>\n",
       "      <td>1</td>\n",
       "      <td>0</td>\n",
       "      <td>...</td>\n",
       "      <td>NaN</td>\n",
       "      <td>3</td>\n",
       "      <td>3</td>\n",
       "      <td>ESP</td>\n",
       "      <td>0.369894</td>\n",
       "      <td>1785.0</td>\n",
       "      <td>0.000229</td>\n",
       "      <td>0.588297</td>\n",
       "      <td>1897.0</td>\n",
       "      <td>0.001002</td>\n",
       "    </tr>\n",
       "    <tr>\n",
       "      <th>3</th>\n",
       "      <td>pablo-mari</td>\n",
       "      <td>Pablo Marí</td>\n",
       "      <td>RCD Mallorca</td>\n",
       "      <td>Spain</td>\n",
       "      <td>31.08.1993</td>\n",
       "      <td>191.0</td>\n",
       "      <td>87.0</td>\n",
       "      <td>Center Back</td>\n",
       "      <td>1</td>\n",
       "      <td>1</td>\n",
       "      <td>...</td>\n",
       "      <td>NaN</td>\n",
       "      <td>3</td>\n",
       "      <td>3</td>\n",
       "      <td>ESP</td>\n",
       "      <td>0.369894</td>\n",
       "      <td>1785.0</td>\n",
       "      <td>0.000229</td>\n",
       "      <td>0.588297</td>\n",
       "      <td>1897.0</td>\n",
       "      <td>0.001002</td>\n",
       "    </tr>\n",
       "    <tr>\n",
       "      <th>4</th>\n",
       "      <td>ruben-pena</td>\n",
       "      <td>Rubén Peña</td>\n",
       "      <td>Real Valladolid</td>\n",
       "      <td>Spain</td>\n",
       "      <td>18.07.1991</td>\n",
       "      <td>172.0</td>\n",
       "      <td>70.0</td>\n",
       "      <td>Right Midfielder</td>\n",
       "      <td>1</td>\n",
       "      <td>1</td>\n",
       "      <td>...</td>\n",
       "      <td>NaN</td>\n",
       "      <td>3</td>\n",
       "      <td>3</td>\n",
       "      <td>ESP</td>\n",
       "      <td>0.369894</td>\n",
       "      <td>1785.0</td>\n",
       "      <td>0.000229</td>\n",
       "      <td>0.588297</td>\n",
       "      <td>1897.0</td>\n",
       "      <td>0.001002</td>\n",
       "    </tr>\n",
       "  </tbody>\n",
       "</table>\n",
       "<p>5 rows × 28 columns</p>\n",
       "</div>"
      ],
      "text/plain": [
       "     playerShort         player             club leagueCountry    birthday  \\\n",
       "0  lucas-wilchez  Lucas Wilchez    Real Zaragoza         Spain  31.08.1983   \n",
       "1     john-utaka     John Utaka  Montpellier HSC        France  08.01.1982   \n",
       "2    abdon-prats    Abdón Prats     RCD Mallorca         Spain  17.12.1992   \n",
       "3     pablo-mari     Pablo Marí     RCD Mallorca         Spain  31.08.1993   \n",
       "4     ruben-pena     Rubén Peña  Real Valladolid         Spain  18.07.1991   \n",
       "\n",
       "   height  weight              position  games  victories    ...     rater2  \\\n",
       "0   177.0    72.0  Attacking Midfielder      1          0    ...       0.50   \n",
       "1   179.0    82.0          Right Winger      1          0    ...       0.75   \n",
       "2   181.0    79.0                   NaN      1          0    ...        NaN   \n",
       "3   191.0    87.0           Center Back      1          1    ...        NaN   \n",
       "4   172.0    70.0      Right Midfielder      1          1    ...        NaN   \n",
       "\n",
       "   refNum  refCountry  Alpha_3   meanIAT    nIAT     seIAT   meanExp    nExp  \\\n",
       "0       1           1      GRC  0.326391   712.0  0.000564  0.396000   750.0   \n",
       "1       2           2      ZMB  0.203375    40.0  0.010875 -0.204082    49.0   \n",
       "2       3           3      ESP  0.369894  1785.0  0.000229  0.588297  1897.0   \n",
       "3       3           3      ESP  0.369894  1785.0  0.000229  0.588297  1897.0   \n",
       "4       3           3      ESP  0.369894  1785.0  0.000229  0.588297  1897.0   \n",
       "\n",
       "      seExp  \n",
       "0  0.002696  \n",
       "1  0.061504  \n",
       "2  0.001002  \n",
       "3  0.001002  \n",
       "4  0.001002  \n",
       "\n",
       "[5 rows x 28 columns]"
      ]
     },
     "execution_count": 3,
     "metadata": {},
     "output_type": "execute_result"
    }
   ],
   "source": [
    "path = 'CrowdstormingDataJuly1st.csv'\n",
    "raw_data  = pd.read_csv(path)\n",
    "print(raw_data .shape)\n",
    "raw_data .head(5)"
   ]
  },
  {
   "cell_type": "markdown",
   "metadata": {},
   "source": [
    "We've got 146 028 dyads, described by 28 features.<br/>\n",
    "Each row should be described by an unique pair (player, referee). Is it the case?"
   ]
  },
  {
   "cell_type": "code",
   "execution_count": 4,
   "metadata": {
    "collapsed": false
   },
   "outputs": [
    {
     "data": {
      "text/plain": [
       "False    146028\n",
       "dtype: int64"
      ]
     },
     "execution_count": 4,
     "metadata": {},
     "output_type": "execute_result"
    }
   ],
   "source": [
    "raw_data[['playerShort', 'refNum']].duplicated().value_counts()"
   ]
  },
  {
   "cell_type": "markdown",
   "metadata": {},
   "source": [
    "Actually, each pair (player, referee) is unique."
   ]
  },
  {
   "cell_type": "markdown",
   "metadata": {},
   "source": [
    "### 0 - b - Skin rating processing"
   ]
  },
  {
   "cell_type": "markdown",
   "metadata": {},
   "source": [
    "In our study, we are interested on the skin tone of the players.<br/>\n",
    "This skin tone is determined by 2 raters, using their photo.<br/>\n",
    "As some photos are missing, we should first delete the affected rows."
   ]
  },
  {
   "cell_type": "code",
   "execution_count": 26,
   "metadata": {
    "collapsed": false
   },
   "outputs": [
    {
     "data": {
      "text/plain": [
       "124621"
      ]
     },
     "execution_count": 26,
     "metadata": {},
     "output_type": "execute_result"
    }
   ],
   "source": [
    "df = raw_data.dropna(subset=['photoID'])\n",
    "df.shape[0]"
   ]
  },
  {
   "cell_type": "markdown",
   "metadata": {},
   "source": [
    "The skin is rated  with a 5-point scale ranging from “very light skin” to “very dark skin” :"
   ]
  },
  {
   "cell_type": "code",
   "execution_count": 27,
   "metadata": {
    "collapsed": false
   },
   "outputs": [
    {
     "data": {
      "text/plain": [
       "(array([ 0.  ,  0.25,  0.5 ,  0.75,  1.  ]),\n",
       " array([ 0.  ,  0.25,  0.5 ,  0.75,  1.  ]))"
      ]
     },
     "execution_count": 27,
     "metadata": {},
     "output_type": "execute_result"
    }
   ],
   "source": [
    "np.sort(df['rater1'].unique()), np.sort(df['rater2'].unique())"
   ]
  },
  {
   "cell_type": "markdown",
   "metadata": {},
   "source": [
    "Are these ratings reliable?"
   ]
  },
  {
   "cell_type": "code",
   "execution_count": 28,
   "metadata": {
    "collapsed": false
   },
   "outputs": [
    {
     "data": {
      "text/plain": [
       "count    124621.000000\n",
       "mean          0.058319\n",
       "std           0.106505\n",
       "min           0.000000\n",
       "25%           0.000000\n",
       "50%           0.000000\n",
       "75%           0.000000\n",
       "max           0.500000\n",
       "dtype: float64"
      ]
     },
     "execution_count": 28,
     "metadata": {},
     "output_type": "execute_result"
    }
   ],
   "source": [
    "np.abs(df['rater2'] - df['rater1']).describe()"
   ]
  },
  {
   "cell_type": "code",
   "execution_count": 29,
   "metadata": {
    "collapsed": false
   },
   "outputs": [
    {
     "data": {
      "text/plain": [
       "164"
      ]
     },
     "execution_count": 29,
     "metadata": {},
     "output_type": "execute_result"
    }
   ],
   "source": [
    "df.loc[np.abs(df['rater2'] - df['rater1']) == 0.5].shape[0]"
   ]
  },
  {
   "cell_type": "markdown",
   "metadata": {},
   "source": [
    "In some cases, the raters disagree. Let's remove these meaningless ratings :"
   ]
  },
  {
   "cell_type": "code",
   "execution_count": 31,
   "metadata": {
    "collapsed": false
   },
   "outputs": [
    {
     "data": {
      "text/plain": [
       "124457"
      ]
     },
     "execution_count": 31,
     "metadata": {},
     "output_type": "execute_result"
    }
   ],
   "source": [
    "index_unreliable = df.loc[np.abs(df['rater2'] - df['rater1']) == 0.5].index\n",
    "df = df.drop(index_unreliable)\n",
    "df.shape[0]"
   ]
  },
  {
   "cell_type": "markdown",
   "metadata": {},
   "source": [
    "For each row, we compute the mean of the ratings as an estimator of the skin tone of the player :"
   ]
  },
  {
   "cell_type": "code",
   "execution_count": 32,
   "metadata": {
    "collapsed": true
   },
   "outputs": [],
   "source": [
    "df['skin'] = df[['rater1', 'rater2']].mean(axis=1)"
   ]
  },
  {
   "cell_type": "markdown",
   "metadata": {},
   "source": [
    "In this dyads' dataframe, how are the skin tones represented?"
   ]
  },
  {
   "cell_type": "code",
   "execution_count": 33,
   "metadata": {
    "collapsed": false
   },
   "outputs": [
    {
     "data": {
      "text/plain": [
       "<matplotlib.text.Text at 0x16c1c0ccbe0>"
      ]
     },
     "execution_count": 33,
     "metadata": {},
     "output_type": "execute_result"
    },
    {
     "data": {
      "image/png": "[encoded data removed]",
      "text/plain": [
       "<matplotlib.figure.Figure at 0x16c1b8059b0>"
      ]
     },
     "metadata": {},
     "output_type": "display_data"
    }
   ],
   "source": [
    "plt.hist(df.skin)\n",
    "plt.xlabel(\"Skin tone\") \n",
    "plt.ylabel(\"Count\")"
   ]
  },
  {
   "cell_type": "markdown",
   "metadata": {},
   "source": [
    "- It would seem that \"light\" skin are more represented than \"dark\" skins. (but we should have a look at the \"player\" dataframe to get an accurate idea of it!)\n",
    "- \"Light\" and \"Dark\" skins are well separated; we could split it into 2 classes."
   ]
  },
  {
   "cell_type": "markdown",
   "metadata": {},
   "source": [
    "Let's discretise the skin tone by width :\n",
    "- One time using the initial scale in 5 values\n",
    "- Another time using a binary scale (2 values)"
   ]
  },
  {
   "cell_type": "code",
   "execution_count": 34,
   "metadata": {
    "collapsed": false,
    "scrolled": true
   },
   "outputs": [],
   "source": [
    "# round x to their nearest n_val values\n",
    "def discretize_by_width (x, nb_values): # x appartient à 01\n",
    "    return ((nb_values-1)*x).round()/(nb_values-1)\n",
    "\n",
    "df['skin_discretized_5'] = discretize_by_width(df.skin, 5)\n",
    "df['skin_discretized_2'] = discretize_by_width(df.skin, 2)"
   ]
  },
  {
   "cell_type": "code",
   "execution_count": 35,
   "metadata": {
    "collapsed": false
   },
   "outputs": [
    {
     "data": {
      "text/plain": [
       "<matplotlib.text.Text at 0x16c1c15a0b8>"
      ]
     },
     "execution_count": 35,
     "metadata": {},
     "output_type": "execute_result"
    },
    {
     "data": {
      "image/png": "[encoded data removed]",
      "text/plain": [
       "<matplotlib.figure.Figure at 0x16c1c0c9dd8>"
      ]
     },
     "metadata": {},
     "output_type": "display_data"
    }
   ],
   "source": [
    "f, (ax1, ax2) = plt.subplots(1, 2, sharey=True)\n",
    "ax1.hist(df.skin_discretized_5)\n",
    "ax1.set_title('5 class labels')\n",
    "ax1.set_xlabel(\"Skin\") \n",
    "ax2.hist(df.skin_discretized_2)\n",
    "ax2.set_title('2 class label')\n",
    "ax2.set_xlabel(\"Skin\") "
   ]
  },
  {
   "cell_type": "markdown",
   "metadata": {},
   "source": [
    "### 0 - c - Null features processing"
   ]
  },
  {
   "cell_type": "markdown",
   "metadata": {},
   "source": [
    "Is there null values in our dataset? What are the affected features?"
   ]
  },
  {
   "cell_type": "code",
   "execution_count": 36,
   "metadata": {
    "collapsed": false
   },
   "outputs": [
    {
     "data": {
      "text/plain": [
       "Index(['height', 'weight', 'position', 'Alpha_3', 'meanIAT', 'nIAT', 'seIAT',\n",
       "       'meanExp', 'nExp', 'seExp'],\n",
       "      dtype='object')"
      ]
     },
     "execution_count": 36,
     "metadata": {},
     "output_type": "execute_result"
    }
   ],
   "source": [
    "df.columns[df.isnull().any()]"
   ]
  },
  {
   "cell_type": "markdown",
   "metadata": {},
   "source": [
    "We choose to delete the affected rows :"
   ]
  },
  {
   "cell_type": "code",
   "execution_count": 37,
   "metadata": {
    "collapsed": false
   },
   "outputs": [
    {
     "name": "stdout",
     "output_type": "stream",
     "text": [
      "9164  rows deleted\n"
     ]
    }
   ],
   "source": [
    "initial_shape = df.shape[0]\n",
    "df.dropna(inplace=True)\n",
    "print(initial_shape - df.shape[0], \" rows deleted\")"
   ]
  },
  {
   "cell_type": "markdown",
   "metadata": {},
   "source": [
    "### 0 - d - Data Analysis\n",
    "The dataset can be seen as the join of 4 datasets :\n",
    "- The players\n",
    "- The referees\n",
    "- The referees' countries\n",
    "- The player/referee dyads"
   ]
  },
  {
   "cell_type": "markdown",
   "metadata": {},
   "source": [
    "Let's learn a bit more about our data and analyse these 4 datasets !"
   ]
  },
  {
   "cell_type": "markdown",
   "metadata": {},
   "source": [
    "- **Players**"
   ]
  },
  {
   "cell_type": "code",
   "execution_count": 82,
   "metadata": {
    "collapsed": false
   },
   "outputs": [
    {
     "data": {
      "text/plain": [
       "count    1417.000000\n",
       "mean       81.364150\n",
       "std        34.635716\n",
       "min         1.000000\n",
       "25%        56.000000\n",
       "50%        77.000000\n",
       "75%       103.000000\n",
       "max       202.000000\n",
       "Name: playerShort, dtype: float64"
      ]
     },
     "execution_count": 82,
     "metadata": {},
     "output_type": "execute_result"
    }
   ],
   "source": [
    "df['playerShort'].value_counts().describe()"
   ]
  },
  {
   "cell_type": "markdown",
   "metadata": {},
   "source": [
    "We've got 1417 players, meeting on average 381 referees (ranging from 1 to 202)<br/>\n",
    "Let's build the players' dataframe, aggregating some other values linked to the dyads (as games and cards). "
   ]
  },
  {
   "cell_type": "code",
   "execution_count": 38,
   "metadata": {
    "collapsed": false
   },
   "outputs": [],
   "source": [
    "def identity(x):\n",
    "    return list(x)[0]    # type(x) = pandas.core.series.Series / players.feature = pandas.core.series\n",
    "\n",
    "players = df.groupby(df['playerShort'])\n",
    "players = players.agg({'player': identity, 'club':identity, 'leagueCountry':identity, 'birthday':identity, \n",
    "             'height':identity, 'weight':identity, 'position':identity, \n",
    "             'games':sum, 'victories':sum, 'ties':sum, 'defeats':sum, 'goals':sum, \n",
    "             'yellowCards':sum, 'yellowReds':sum, 'redCards':sum, 'skin':identity})"
   ]
  },
  {
   "cell_type": "markdown",
   "metadata": {},
   "source": [
    "Let's have a look at the average of the numerical features :"
   ]
  },
  {
   "cell_type": "code",
   "execution_count": 39,
   "metadata": {
    "collapsed": false,
    "scrolled": true
   },
   "outputs": [
    {
     "data": {
      "text/plain": [
       "skin             0.282816\n",
       "redCards         1.042343\n",
       "weight          76.278052\n",
       "yellowCards     32.936486\n",
       "ties            58.687368\n",
       "goals           29.310515\n",
       "yellowReds       1.001411\n",
       "games          246.880734\n",
       "height         182.170783\n",
       "defeats         76.621736\n",
       "victories      111.571630\n",
       "dtype: float64"
      ]
     },
     "execution_count": 39,
     "metadata": {},
     "output_type": "execute_result"
    }
   ],
   "source": [
    "players.mean()"
   ]
  },
  {
   "cell_type": "markdown",
   "metadata": {},
   "source": [
    "- The averaged skin tone is \"light\"\n",
    "- There are more yellowCards than the two others"
   ]
  },
  {
   "cell_type": "code",
   "execution_count": 40,
   "metadata": {
    "collapsed": false
   },
   "outputs": [
    {
     "data": {
      "text/plain": [
       "Germany    461\n",
       "Spain      404\n",
       "England    323\n",
       "France     229\n",
       "Name: leagueCountry, dtype: int64"
      ]
     },
     "execution_count": 40,
     "metadata": {},
     "output_type": "execute_result"
    }
   ],
   "source": [
    "players.leagueCountry.value_counts()"
   ]
  },
  {
   "cell_type": "code",
   "execution_count": 41,
   "metadata": {
    "collapsed": false
   },
   "outputs": [
    {
     "data": {
      "text/plain": [
       "<matplotlib.text.Text at 0x16c1d6e8630>"
      ]
     },
     "execution_count": 41,
     "metadata": {},
     "output_type": "execute_result"
    },
    {
     "data": {
      "image/png": "[encoded data removed]",
      "text/plain": [
       "<matplotlib.figure.Figure at 0x16c1c20fe80>"
      ]
     },
     "metadata": {},
     "output_type": "display_data"
    }
   ],
   "source": [
    "f, (ax1, ax2) = plt.subplots(1, 2, sharey=True)\n",
    "\n",
    "ax1.hist(players['skin'])\n",
    "ax1.set_xlabel(\"Skin tone\") \n",
    "ax1.set_ylabel(\"Number of players\")\n",
    "\n",
    "ax2.hist(players['games'])\n",
    "ax2.set_xlabel(\"Number of games played\") \n",
    "ax2.set_ylabel(\"Number of players\")"
   ]
  },
  {
   "cell_type": "markdown",
   "metadata": {},
   "source": [
    "- **Player/Referee dyads**"
   ]
  },
  {
   "cell_type": "markdown",
   "metadata": {},
   "source": [
    "Now, let's have a look at the specific dyads' features :"
   ]
  },
  {
   "cell_type": "code",
   "execution_count": 48,
   "metadata": {
    "collapsed": false
   },
   "outputs": [
    {
     "data": {
      "text/plain": [
       "games          3.034269\n",
       "victories      1.371263\n",
       "ties           0.721293\n",
       "defeats        0.941714\n",
       "yellowCards    0.404803\n",
       "yellowReds     0.012308\n",
       "redCards       0.012811\n",
       "dtype: float64"
      ]
     },
     "execution_count": 48,
     "metadata": {},
     "output_type": "execute_result"
    }
   ],
   "source": [
    "df[['games','victories', 'ties', 'defeats', 'yellowCards', 'yellowReds', 'redCards']].mean()"
   ]
  },
  {
   "cell_type": "markdown",
   "metadata": {},
   "source": [
    "- **Referees**"
   ]
  },
  {
   "cell_type": "code",
   "execution_count": 49,
   "metadata": {
    "collapsed": false
   },
   "outputs": [
    {
     "data": {
      "text/plain": [
       "count    2893.000000\n",
       "mean       39.852402\n",
       "std        87.977242\n",
       "min         1.000000\n",
       "25%         2.000000\n",
       "50%         8.000000\n",
       "75%        31.000000\n",
       "max       770.000000\n",
       "Name: refNum, dtype: float64"
      ]
     },
     "execution_count": 49,
     "metadata": {},
     "output_type": "execute_result"
    }
   ],
   "source": [
    "df['refNum'].value_counts().describe()"
   ]
  },
  {
   "cell_type": "markdown",
   "metadata": {},
   "source": [
    "We've got 2893 referees, meeting on average 40 players (ranging from 1 to 770)<br/>\n",
    "Let's build the referees' dataframe, aggregating some other values linked to the dyads (as games and cards). "
   ]
  },
  {
   "cell_type": "code",
   "execution_count": 42,
   "metadata": {
    "collapsed": false
   },
   "outputs": [],
   "source": [
    "referees = df.groupby(df['refNum'])\n",
    "referees = referees.agg({'refCountry': identity, 'games':sum, 'goals':sum, 'yellowCards':sum, 'yellowReds':sum, 'redCards':sum})"
   ]
  },
  {
   "cell_type": "code",
   "execution_count": 43,
   "metadata": {
    "collapsed": false,
    "scrolled": false
   },
   "outputs": [
    {
     "data": {
      "text/html": [
       "<div>\n",
       "<table border=\"1\" class=\"dataframe\">\n",
       "  <thead>\n",
       "    <tr style=\"text-align: right;\">\n",
       "      <th></th>\n",
       "      <th>goals</th>\n",
       "      <th>yellowReds</th>\n",
       "      <th>games</th>\n",
       "      <th>redCards</th>\n",
       "      <th>refCountry</th>\n",
       "      <th>yellowCards</th>\n",
       "    </tr>\n",
       "  </thead>\n",
       "  <tbody>\n",
       "    <tr>\n",
       "      <th>count</th>\n",
       "      <td>2893.000000</td>\n",
       "      <td>2893.000000</td>\n",
       "      <td>2893.000000</td>\n",
       "      <td>2893.000000</td>\n",
       "      <td>2893.000000</td>\n",
       "      <td>2893.000000</td>\n",
       "    </tr>\n",
       "    <tr>\n",
       "      <th>mean</th>\n",
       "      <td>14.356377</td>\n",
       "      <td>0.490494</td>\n",
       "      <td>120.922917</td>\n",
       "      <td>0.510543</td>\n",
       "      <td>39.168337</td>\n",
       "      <td>16.132389</td>\n",
       "    </tr>\n",
       "    <tr>\n",
       "      <th>std</th>\n",
       "      <td>46.491978</td>\n",
       "      <td>1.927363</td>\n",
       "      <td>418.575011</td>\n",
       "      <td>1.927537</td>\n",
       "      <td>33.301968</td>\n",
       "      <td>58.181324</td>\n",
       "    </tr>\n",
       "    <tr>\n",
       "      <th>min</th>\n",
       "      <td>0.000000</td>\n",
       "      <td>0.000000</td>\n",
       "      <td>1.000000</td>\n",
       "      <td>0.000000</td>\n",
       "      <td>1.000000</td>\n",
       "      <td>0.000000</td>\n",
       "    </tr>\n",
       "    <tr>\n",
       "      <th>25%</th>\n",
       "      <td>0.000000</td>\n",
       "      <td>0.000000</td>\n",
       "      <td>3.000000</td>\n",
       "      <td>0.000000</td>\n",
       "      <td>8.000000</td>\n",
       "      <td>0.000000</td>\n",
       "    </tr>\n",
       "    <tr>\n",
       "      <th>50%</th>\n",
       "      <td>2.000000</td>\n",
       "      <td>0.000000</td>\n",
       "      <td>11.000000</td>\n",
       "      <td>0.000000</td>\n",
       "      <td>32.000000</td>\n",
       "      <td>1.000000</td>\n",
       "    </tr>\n",
       "    <tr>\n",
       "      <th>75%</th>\n",
       "      <td>8.000000</td>\n",
       "      <td>0.000000</td>\n",
       "      <td>52.000000</td>\n",
       "      <td>0.000000</td>\n",
       "      <td>57.000000</td>\n",
       "      <td>6.000000</td>\n",
       "    </tr>\n",
       "    <tr>\n",
       "      <th>max</th>\n",
       "      <td>519.000000</td>\n",
       "      <td>28.000000</td>\n",
       "      <td>5186.000000</td>\n",
       "      <td>22.000000</td>\n",
       "      <td>161.000000</td>\n",
       "      <td>698.000000</td>\n",
       "    </tr>\n",
       "  </tbody>\n",
       "</table>\n",
       "</div>"
      ],
      "text/plain": [
       "             goals   yellowReds        games     redCards   refCountry  \\\n",
       "count  2893.000000  2893.000000  2893.000000  2893.000000  2893.000000   \n",
       "mean     14.356377     0.490494   120.922917     0.510543    39.168337   \n",
       "std      46.491978     1.927363   418.575011     1.927537    33.301968   \n",
       "min       0.000000     0.000000     1.000000     0.000000     1.000000   \n",
       "25%       0.000000     0.000000     3.000000     0.000000     8.000000   \n",
       "50%       2.000000     0.000000    11.000000     0.000000    32.000000   \n",
       "75%       8.000000     0.000000    52.000000     0.000000    57.000000   \n",
       "max     519.000000    28.000000  5186.000000    22.000000   161.000000   \n",
       "\n",
       "       yellowCards  \n",
       "count  2893.000000  \n",
       "mean     16.132389  \n",
       "std      58.181324  \n",
       "min       0.000000  \n",
       "25%       0.000000  \n",
       "50%       1.000000  \n",
       "75%       6.000000  \n",
       "max     698.000000  "
      ]
     },
     "execution_count": 43,
     "metadata": {},
     "output_type": "execute_result"
    }
   ],
   "source": [
    "referees.describe()"
   ]
  },
  {
   "cell_type": "markdown",
   "metadata": {},
   "source": [
    "We notice that some referees are a lot more present than average. "
   ]
  },
  {
   "cell_type": "code",
   "execution_count": 46,
   "metadata": {
    "collapsed": false,
    "scrolled": true
   },
   "outputs": [
    {
     "data": {
      "text/plain": [
       "<matplotlib.text.Text at 0x16c1b863828>"
      ]
     },
     "execution_count": 46,
     "metadata": {},
     "output_type": "execute_result"
    },
    {
     "data": {
      "image/png": "[encoded data removed]",
      "text/plain": [
       "<matplotlib.figure.Figure at 0x16c1b851358>"
      ]
     },
     "metadata": {},
     "output_type": "display_data"
    }
   ],
   "source": [
    "nb_games = sum(referees['games']) # number of games\n",
    "plt.hist((referees['games']/nb_games)*100)\n",
    "plt.xlabel(\"Percentage of games refereed\") \n",
    "plt.ylabel(\"Number of referees\")"
   ]
  },
  {
   "cell_type": "markdown",
   "metadata": {},
   "source": [
    "- **Referees' countries**"
   ]
  },
  {
   "cell_type": "markdown",
   "metadata": {},
   "source": [
    "We can use the referees' dataset to how many referees come from each country :"
   ]
  },
  {
   "cell_type": "code",
   "execution_count": 55,
   "metadata": {
    "collapsed": false,
    "scrolled": true
   },
   "outputs": [
    {
     "data": {
      "text/plain": [
       "<matplotlib.text.Text at 0x2ced1f60b38>"
      ]
     },
     "execution_count": 55,
     "metadata": {},
     "output_type": "execute_result"
    },
    {
     "data": {
      "image/png": "[encoded data removed]",
      "text/plain": [
       "<matplotlib.figure.Figure at 0x2ced1f1ff60>"
      ]
     },
     "metadata": {},
     "output_type": "display_data"
    }
   ],
   "source": [
    "plt.hist(referees['refCountry'])\n",
    "plt.xlabel(\"Country\") \n",
    "plt.ylabel(\"Number of referees\")"
   ]
  },
  {
   "cell_type": "markdown",
   "metadata": {},
   "source": [
    "A lot of country counts a poor number of referees.<br/>\n",
    "Let's build the countries' dataset :"
   ]
  },
  {
   "cell_type": "code",
   "execution_count": 57,
   "metadata": {
    "collapsed": false
   },
   "outputs": [
    {
     "data": {
      "text/plain": [
       "(152, 6)"
      ]
     },
     "execution_count": 57,
     "metadata": {},
     "output_type": "execute_result"
    }
   ],
   "source": [
    "refCountry = df[['refCountry','meanIAT','nIAT', 'seIAT', 'meanExp', 'nExp']]\n",
    "refCountry = refCountry.drop_duplicates()\n",
    "refCountry.shape"
   ]
  },
  {
   "cell_type": "code",
   "execution_count": 58,
   "metadata": {
    "collapsed": false
   },
   "outputs": [
    {
     "data": {
      "text/html": [
       "<div>\n",
       "<table border=\"1\" class=\"dataframe\">\n",
       "  <thead>\n",
       "    <tr style=\"text-align: right;\">\n",
       "      <th></th>\n",
       "      <th>refCountry</th>\n",
       "      <th>meanIAT</th>\n",
       "      <th>nIAT</th>\n",
       "      <th>seIAT</th>\n",
       "      <th>meanExp</th>\n",
       "      <th>nExp</th>\n",
       "    </tr>\n",
       "  </thead>\n",
       "  <tbody>\n",
       "    <tr>\n",
       "      <th>count</th>\n",
       "      <td>152.000000</td>\n",
       "      <td>152.000000</td>\n",
       "      <td>1.520000e+02</td>\n",
       "      <td>1.520000e+02</td>\n",
       "      <td>152.000000</td>\n",
       "      <td>1.520000e+02</td>\n",
       "    </tr>\n",
       "    <tr>\n",
       "      <th>mean</th>\n",
       "      <td>78.296053</td>\n",
       "      <td>0.305099</td>\n",
       "      <td>1.504561e+04</td>\n",
       "      <td>1.312417e-02</td>\n",
       "      <td>0.291296</td>\n",
       "      <td>1.548661e+04</td>\n",
       "    </tr>\n",
       "    <tr>\n",
       "      <th>std</th>\n",
       "      <td>45.475245</td>\n",
       "      <td>0.106170</td>\n",
       "      <td>1.602920e+05</td>\n",
       "      <td>3.252193e-02</td>\n",
       "      <td>0.640170</td>\n",
       "      <td>1.646550e+05</td>\n",
       "    </tr>\n",
       "    <tr>\n",
       "      <th>min</th>\n",
       "      <td>1.000000</td>\n",
       "      <td>-0.047254</td>\n",
       "      <td>2.000000e+00</td>\n",
       "      <td>2.235373e-07</td>\n",
       "      <td>-1.375000</td>\n",
       "      <td>2.000000e+00</td>\n",
       "    </tr>\n",
       "    <tr>\n",
       "      <th>25%</th>\n",
       "      <td>39.750000</td>\n",
       "      <td>0.262227</td>\n",
       "      <td>3.975000e+01</td>\n",
       "      <td>5.997501e-04</td>\n",
       "      <td>0.022440</td>\n",
       "      <td>4.075000e+01</td>\n",
       "    </tr>\n",
       "    <tr>\n",
       "      <th>50%</th>\n",
       "      <td>77.500000</td>\n",
       "      <td>0.340406</td>\n",
       "      <td>1.995000e+02</td>\n",
       "      <td>2.215379e-03</td>\n",
       "      <td>0.395070</td>\n",
       "      <td>2.070000e+02</td>\n",
       "    </tr>\n",
       "    <tr>\n",
       "      <th>75%</th>\n",
       "      <td>116.250000</td>\n",
       "      <td>0.371913</td>\n",
       "      <td>6.700000e+02</td>\n",
       "      <td>1.050398e-02</td>\n",
       "      <td>0.638593</td>\n",
       "      <td>7.065000e+02</td>\n",
       "    </tr>\n",
       "    <tr>\n",
       "      <th>max</th>\n",
       "      <td>161.000000</td>\n",
       "      <td>0.573793</td>\n",
       "      <td>1.975803e+06</td>\n",
       "      <td>2.862871e-01</td>\n",
       "      <td>1.800000</td>\n",
       "      <td>2.029548e+06</td>\n",
       "    </tr>\n",
       "  </tbody>\n",
       "</table>\n",
       "</div>"
      ],
      "text/plain": [
       "       refCountry     meanIAT          nIAT         seIAT     meanExp  \\\n",
       "count  152.000000  152.000000  1.520000e+02  1.520000e+02  152.000000   \n",
       "mean    78.296053    0.305099  1.504561e+04  1.312417e-02    0.291296   \n",
       "std     45.475245    0.106170  1.602920e+05  3.252193e-02    0.640170   \n",
       "min      1.000000   -0.047254  2.000000e+00  2.235373e-07   -1.375000   \n",
       "25%     39.750000    0.262227  3.975000e+01  5.997501e-04    0.022440   \n",
       "50%     77.500000    0.340406  1.995000e+02  2.215379e-03    0.395070   \n",
       "75%    116.250000    0.371913  6.700000e+02  1.050398e-02    0.638593   \n",
       "max    161.000000    0.573793  1.975803e+06  2.862871e-01    1.800000   \n",
       "\n",
       "               nExp  \n",
       "count  1.520000e+02  \n",
       "mean   1.548661e+04  \n",
       "std    1.646550e+05  \n",
       "min    2.000000e+00  \n",
       "25%    4.075000e+01  \n",
       "50%    2.070000e+02  \n",
       "75%    7.065000e+02  \n",
       "max    2.029548e+06  "
      ]
     },
     "execution_count": 58,
     "metadata": {},
     "output_type": "execute_result"
    }
   ],
   "source": [
    "refCountry.describe()"
   ]
  },
  {
   "cell_type": "markdown",
   "metadata": {},
   "source": [
    "### 0 - e - Features' analysis"
   ]
  },
  {
   "cell_type": "markdown",
   "metadata": {},
   "source": [
    "- **Useless features**"
   ]
  },
  {
   "cell_type": "markdown",
   "metadata": {},
   "source": [
    "Some features are useless : *photoID*, *rater1*, *rater2* were only used to build the *skin* feature: we don't need them anymore. "
   ]
  },
  {
   "cell_type": "code",
   "execution_count": 47,
   "metadata": {
    "collapsed": false
   },
   "outputs": [],
   "source": [
    "df = df.drop('photoID',axis=1)\n",
    "df = df.drop('rater1',axis=1)\n",
    "df = df.drop('rater2',axis=1)"
   ]
  },
  {
   "cell_type": "markdown",
   "metadata": {},
   "source": [
    "- **Redondant features**"
   ]
  },
  {
   "cell_type": "markdown",
   "metadata": {},
   "source": [
    "As the dataset is the join of several datasets, some features are redondant :\n",
    "    - The features specific to one particular player\n",
    "    - The features specific to one particular country\n",
    "    - The features specific to one particular referee (ie, his country)"
   ]
  },
  {
   "cell_type": "markdown",
   "metadata": {},
   "source": [
    "- **Correlated features**"
   ]
  },
  {
   "cell_type": "markdown",
   "metadata": {},
   "source": [
    "Some features are intuitively correlated :\n",
    "    - The number of games is correlated with the sum of victories and defeats\n",
    "    - The number of yellowreds may be correlated with the number of yellowCards"
   ]
  },
  {
   "cell_type": "markdown",
   "metadata": {},
   "source": [
    "- **Feature transformation** -> to numerical"
   ]
  },
  {
   "cell_type": "markdown",
   "metadata": {},
   "source": [
    "Our algorithms will use numerical features. However, some of our features are strings.<br/>\n",
    "But these features are categorical (and not ordinal), so it doesn't make any sense to convert it into numerical values.<br/>\n",
    "Yet, we can still conserve the year of birth :"
   ]
  },
  {
   "cell_type": "code",
   "execution_count": 48,
   "metadata": {
    "collapsed": false
   },
   "outputs": [],
   "source": [
    "df['year'] = df['birthday'].apply(lambda x: int(x.split('.')[2]))"
   ]
  },
  {
   "cell_type": "markdown",
   "metadata": {},
   "source": [
    "### 0 - e - Building labels and features datasets"
   ]
  },
  {
   "cell_type": "markdown",
   "metadata": {},
   "source": [
    "For the supervised learning part, we choose to keep the original dyad's dataset instead of a player's dataset (even if it implies to deal with redondant data). Indeed, by aggregating features in a player's dataset, we loose a lot of information."
   ]
  },
  {
   "cell_type": "markdown",
   "metadata": {},
   "source": [
    "- ** Labels **"
   ]
  },
  {
   "cell_type": "markdown",
   "metadata": {},
   "source": [
    "For the supervised learning, we choose to keep 5 labels to represent the skin tone :"
   ]
  },
  {
   "cell_type": "code",
   "execution_count": 53,
   "metadata": {
    "collapsed": true
   },
   "outputs": [],
   "source": [
    "y = np.asarray(df['skin_discretized_5'], dtype=\"|S6\")"
   ]
  },
  {
   "cell_type": "markdown",
   "metadata": {},
   "source": [
    "- ** Features **"
   ]
  },
  {
   "cell_type": "code",
   "execution_count": 132,
   "metadata": {
    "collapsed": false
   },
   "outputs": [],
   "source": [
    "X = df.copy()\n",
    "# Drop the labels and non-numerical features (refNum and refCountry are part of them!)\n",
    "X = X.drop(['skin', 'skin_discretized_5', 'skin_discretized_2',\n",
    "           'playerShort', 'player', 'club', 'leagueCountry', 'birthday', 'position', 'Alpha_3', 'refNum', 'refCountry'], axis=1)"
   ]
  },
  {
   "cell_type": "markdown",
   "metadata": {},
   "source": [
    "- ** Features standardization **"
   ]
  },
  {
   "cell_type": "code",
   "execution_count": 133,
   "metadata": {
    "collapsed": true
   },
   "outputs": [],
   "source": [
    "def standardize(x):\n",
    "    \"\"\"Standardize the original data set.\"\"\"\n",
    "    mean_x = np.mean(x)\n",
    "    x = x - mean_x\n",
    "    std_x = np.std(x)\n",
    "    x = x / std_x\n",
    "    return x"
   ]
  },
  {
   "cell_type": "code",
   "execution_count": 134,
   "metadata": {
    "collapsed": false
   },
   "outputs": [],
   "source": [
    "X = standardize(X)"
   ]
  },
  {
   "cell_type": "markdown",
   "metadata": {},
   "source": [
    "- **Features correlation with y**"
   ]
  },
  {
   "cell_type": "code",
   "execution_count": 135,
   "metadata": {
    "collapsed": false
   },
   "outputs": [],
   "source": [
    "y_X = pd.concat([df['skin_discretized_5'],X], axis=1)\n",
    "corr = y_X.corr()\n",
    "corr = corr['skin_discretized_5'] # correlation between y and D features\n",
    "corr = corr.drop('skin_discretized_5')"
   ]
  },
  {
   "cell_type": "code",
   "execution_count": 136,
   "metadata": {
    "collapsed": false
   },
   "outputs": [
    {
     "data": {
      "text/plain": [
       "<matplotlib.text.Text at 0x16c0543b4e0>"
      ]
     },
     "execution_count": 136,
     "metadata": {},
     "output_type": "execute_result"
    },
    {
     "data": {
      "image/png": "[encoded data removed]",
      "text/plain": [
       "<matplotlib.figure.Figure at 0x16c00017390>"
      ]
     },
     "metadata": {},
     "output_type": "display_data"
    }
   ],
   "source": [
    "g = corr.plot(figsize =(10,5), x = 'index')\n",
    "g.axhline(0,color='#FF8C00', linestyle='--')\n",
    "g.set_xlabel(\"Features\")\n",
    "g.set_ylabel(\"Correlation with y\") "
   ]
  },
  {
   "cell_type": "code",
   "execution_count": 137,
   "metadata": {
    "collapsed": false
   },
   "outputs": [
    {
     "data": {
      "text/plain": [
       "height     0.075737\n",
       "seExp      0.062987\n",
       "meanIAT    0.058348\n",
       "seIAT      0.051858\n",
       "meanExp    0.044224\n",
       "weight     0.029897\n",
       "Name: skin_discretized_5, dtype: float64"
      ]
     },
     "execution_count": 137,
     "metadata": {},
     "output_type": "execute_result"
    }
   ],
   "source": [
    "abs(corr).sort_values(ascending=False).head(6)"
   ]
  },
  {
   "cell_type": "markdown",
   "metadata": {},
   "source": [
    "If the correlation coefficient :<br/>\n",
    "= 0     => No correlation<br/>\n",
    "= -1/1  => Correlation<br/><br/>\n",
    "*Height*, *seExp*, *meanIAT*, *seIAT*, *meanExp* and *weight* are the most correlated features with y. <br/>"
   ]
  },
  {
   "cell_type": "markdown",
   "metadata": {},
   "source": [
    "# 1 - Supervised Learning : Random Forests"
   ]
  },
  {
   "cell_type": "markdown",
   "metadata": {},
   "source": [
    "In this part, we will predict the skin tone of a player (given dyad's information) using a supervised method : random forests."
   ]
  },
  {
   "cell_type": "markdown",
   "metadata": {},
   "source": [
    "* **Train/test split**"
   ]
  },
  {
   "cell_type": "code",
   "execution_count": 138,
   "metadata": {
    "collapsed": false
   },
   "outputs": [],
   "source": [
    "# split X and y into training and testing sets\n",
    "X_train, X_test, y_train, y_test = train_test_split(X, y, test_size=0.4, random_state=4)"
   ]
  },
  {
   "cell_type": "markdown",
   "metadata": {},
   "source": [
    "- **1st random forest classifier**"
   ]
  },
  {
   "cell_type": "markdown",
   "metadata": {},
   "source": [
    "Now, we build our first random forest classifier, with default parameters (n_estimators=10 arbres, max_depth = None).<br/>\n",
    "Then, we train the model on the training set."
   ]
  },
  {
   "cell_type": "code",
   "execution_count": 139,
   "metadata": {
    "collapsed": false
   },
   "outputs": [
    {
     "data": {
      "text/plain": [
       "RandomForestClassifier(bootstrap=True, class_weight=None, criterion='gini',\n",
       "            max_depth=None, max_features='auto', max_leaf_nodes=None,\n",
       "            min_samples_leaf=1, min_samples_split=2,\n",
       "            min_weight_fraction_leaf=0.0, n_estimators=10, n_jobs=-1,\n",
       "            oob_score=False, random_state=None, verbose=0,\n",
       "            warm_start=False)"
      ]
     },
     "execution_count": 139,
     "metadata": {},
     "output_type": "execute_result"
    }
   ],
   "source": [
    "# instantiate the model (using the default parameters)\n",
    "rfc = RandomForestClassifier(n_jobs=-1)\n",
    "# fit the model with data\n",
    "rfc.fit(X_train, y_train)"
   ]
  },
  {
   "cell_type": "markdown",
   "metadata": {},
   "source": [
    "Let's define a function to print the model's accuracy :"
   ]
  },
  {
   "cell_type": "code",
   "execution_count": 112,
   "metadata": {
    "collapsed": true
   },
   "outputs": [],
   "source": [
    "def print_score(classifier, X_train, y_train, X_test, y_test):\n",
    "    print('Train set score :', classifier.score(X_train, y_train))\n",
    "    print('Test set score :', classifier.score(X_test, y_test))"
   ]
  },
  {
   "cell_type": "code",
   "execution_count": 140,
   "metadata": {
    "collapsed": false
   },
   "outputs": [
    {
     "name": "stdout",
     "output_type": "stream",
     "text": [
      "Train set score : 0.988579689194\n",
      "Test set score : 0.835010191249\n"
     ]
    }
   ],
   "source": [
    "print_score(rfc, X_train, y_train, X_test, y_test)"
   ]
  },
  {
   "cell_type": "markdown",
   "metadata": {},
   "source": [
    "We observe that the model is overfitting (the training set score is really high while the test set one is a bit less important)"
   ]
  },
  {
   "cell_type": "markdown",
   "metadata": {},
   "source": [
    "- <b>Influence of parameters</b>"
   ]
  },
  {
   "cell_type": "markdown",
   "metadata": {},
   "source": [
    "Random Forests include 2 fondamental parameters :\n",
    "    - max_depth (reduces bias)\n",
    "    - n_estimators (reduces variance, and so, overfitting)"
   ]
  },
  {
   "cell_type": "markdown",
   "metadata": {},
   "source": [
    "We saw that our model was overfitting. <br/>\n",
    "We can decrease this overfitting by increasing the number of maximum features"
   ]
  },
  {
   "cell_type": "code",
   "execution_count": 141,
   "metadata": {
    "collapsed": false
   },
   "outputs": [
    {
     "name": "stdout",
     "output_type": "stream",
     "text": [
      "Train set score : 0.990589085652\n",
      "Test set score : 0.960210763693\n"
     ]
    }
   ],
   "source": [
    "rfc = RandomForestClassifier(max_features=None, n_jobs=-1)\n",
    "rfc.fit(X_train, y_train)\n",
    "\n",
    "print_score(rfc, X_train, y_train, X_test, y_test)"
   ]
  },
  {
   "cell_type": "markdown",
   "metadata": {},
   "source": [
    "We can also decrease it by increasing the number of trees :"
   ]
  },
  {
   "cell_type": "code",
   "execution_count": 142,
   "metadata": {
    "collapsed": false
   },
   "outputs": [
    {
     "name": "stdout",
     "output_type": "stream",
     "text": [
      "Train set score : 0.992916516082\n",
      "Test set score : 0.87711956286\n"
     ]
    }
   ],
   "source": [
    "rfc = RandomForestClassifier(n_estimators=100, n_jobs=-1)\n",
    "rfc.fit(X_train, y_train)\n",
    "\n",
    "print_score(rfc, X_train, y_train, X_test, y_test)"
   ]
  },
  {
   "cell_type": "markdown",
   "metadata": {},
   "source": [
    "But increasing this parameter increases also the computation time.. (more than the test accuracy!)"
   ]
  },
  {
   "cell_type": "markdown",
   "metadata": {},
   "source": [
    "- <b>Perform cross-validation to mitigate the overfitting of your model </b>"
   ]
  },
  {
   "cell_type": "markdown",
   "metadata": {},
   "source": [
    "We can use cross-validation to find the optimal value of parameters.<br/>\n",
    "Let's find the optimal value for the *max_features* parameter :"
   ]
  },
  {
   "cell_type": "code",
   "execution_count": 143,
   "metadata": {
    "collapsed": false
   },
   "outputs": [],
   "source": [
    "max_features_range = list(range(5, 18))\n",
    "max_features_scores = []\n",
    "for mf in max_features_range:\n",
    "    rfc = RandomForestClassifier(max_features=mf, n_jobs=-1)\n",
    "    scores = cross_val_score(rfc, X, y, cv=3, scoring='accuracy')\n",
    "    max_features_scores.append(scores.mean())"
   ]
  },
  {
   "cell_type": "code",
   "execution_count": 144,
   "metadata": {
    "collapsed": false
   },
   "outputs": [
    {
     "data": {
      "text/plain": [
       "<matplotlib.text.Text at 0x16c0569d6d8>"
      ]
     },
     "execution_count": 144,
     "metadata": {},
     "output_type": "execute_result"
    },
    {
     "data": {
      "image/png": "[encoded data removed]",
      "text/plain": [
       "<matplotlib.figure.Figure at 0x16c05479860>"
      ]
     },
     "metadata": {},
     "output_type": "display_data"
    }
   ],
   "source": [
    "# plot the value of for max_features (x-axis) versus the cross-validated accuracy (y-axis)\n",
    "plt.plot(max_features_range, max_features_scores)\n",
    "plt.xlabel('Value of max_features parameter for Random Forest')\n",
    "plt.ylabel('Cross-Validated Accuracy')"
   ]
  },
  {
   "cell_type": "code",
   "execution_count": 145,
   "metadata": {
    "collapsed": false
   },
   "outputs": [
    {
     "data": {
      "text/plain": [
       "9    14.0\n",
       "Name: max_features, dtype: float64"
      ]
     },
     "execution_count": 145,
     "metadata": {},
     "output_type": "execute_result"
    }
   ],
   "source": [
    "range_score = pd.DataFrame(np.c_[max_features_range, max_features_scores], columns = ['max_features', 'score'])\n",
    "range_score.loc[range_score.score == max(range_score.score)].max_features"
   ]
  },
  {
   "cell_type": "markdown",
   "metadata": {},
   "source": [
    "The optimal paramet for max_feature paramater seems to be 14.\n",
    "Let's build this new classifier with this value."
   ]
  },
  {
   "cell_type": "code",
   "execution_count": 146,
   "metadata": {
    "collapsed": false
   },
   "outputs": [
    {
     "name": "stdout",
     "output_type": "stream",
     "text": [
      "Train set score : 0.991268521865\n",
      "Test set score : 0.960492649291\n"
     ]
    }
   ],
   "source": [
    "rfc = RandomForestClassifier(max_features=14, n_jobs=-1)\n",
    "model = rfc.fit(X_train, y_train)\n",
    "\n",
    "print_score(rfc, X_train, y_train, X_test, y_test)"
   ]
  },
  {
   "cell_type": "markdown",
   "metadata": {},
   "source": [
    "The overfitting is reduced !<br/>\n",
    "We can reduce it a bit more by increasing the number of trees :"
   ]
  },
  {
   "cell_type": "code",
   "execution_count": 148,
   "metadata": {
    "collapsed": false
   },
   "outputs": [
    {
     "name": "stdout",
     "output_type": "stream",
     "text": [
      "Train set score : 0.992916516082\n",
      "Test set score : 0.963593390867\n"
     ]
    }
   ],
   "source": [
    "rfc = RandomForestClassifier(max_features=14, n_estimators=100, n_jobs=-1)\n",
    "model = rfc.fit(X_train, y_train)\n",
    "\n",
    "print_score(rfc, X_train, y_train, X_test, y_test)"
   ]
  },
  {
   "cell_type": "markdown",
   "metadata": {},
   "source": [
    "- <b>The feature\\_importances_ attribute </b>"
   ]
  },
  {
   "cell_type": "markdown",
   "metadata": {},
   "source": [
    "Let's define a function to plot the features importances :"
   ]
  },
  {
   "cell_type": "code",
   "execution_count": 126,
   "metadata": {
    "collapsed": true
   },
   "outputs": [],
   "source": [
    "def plot_features_importances(ft_imp):\n",
    "    plt.figure()\n",
    "    ft_imp.plot(kind='bar')\n",
    "    \n",
    "    #plt.title('Feature importance for the trained random forest model')\n",
    "    plt.xlabel('Feature name', fontweight='bold')\n",
    "    plt.ylabel('Features importance [%]', fontweight='bold')\n",
    "    plt.show()"
   ]
  },
  {
   "cell_type": "markdown",
   "metadata": {},
   "source": [
    "We extract and plot the features importances"
   ]
  },
  {
   "cell_type": "code",
   "execution_count": 149,
   "metadata": {
    "collapsed": false
   },
   "outputs": [
    {
     "data": {
      "image/png": "[encoded data removed]",
      "text/plain": [
       "<matplotlib.figure.Figure at 0x16c054d3cf8>"
      ]
     },
     "metadata": {},
     "output_type": "display_data"
    }
   ],
   "source": [
    "# Extract features importances from model\n",
    "features_importances = model.feature_importances_\n",
    "\n",
    "# Create series from features importances and features names\n",
    "ft_imp = pd.Series(features_importances, index=X.columns.values).sort_values(ascending=False)\n",
    "\n",
    "# Plot features\n",
    "plot_features_importances(ft_imp)"
   ]
  },
  {
   "cell_type": "markdown",
   "metadata": {},
   "source": [
    "    - yellowReds and redCards are not used\n",
    "    - Three features stands out : 'height', 'weight' and 'year'. \n",
    "    - Remember, we already computed a measure of the features importance (its correlation with y). The order is different, but we find almost the same \"most\" important features."
   ]
  },
  {
   "cell_type": "markdown",
   "metadata": {},
   "source": [
    "- <b>With different assumptions on the data (e.g., dropping certain features even before feeding them to the classifier), can you obtain a substantially different feature\\_importances_ attribute?</b>"
   ]
  },
  {
   "cell_type": "markdown",
   "metadata": {},
   "source": [
    "Let's try a model using only the 5 most important features : weight, height, year, meanExp and meanIAT"
   ]
  },
  {
   "cell_type": "code",
   "execution_count": 150,
   "metadata": {
    "collapsed": false
   },
   "outputs": [
    {
     "data": {
      "text/html": [
       "<div>\n",
       "<table border=\"1\" class=\"dataframe\">\n",
       "  <thead>\n",
       "    <tr style=\"text-align: right;\">\n",
       "      <th></th>\n",
       "      <th>weight</th>\n",
       "      <th>height</th>\n",
       "      <th>year</th>\n",
       "      <th>meanExp</th>\n",
       "      <th>meanIAT</th>\n",
       "    </tr>\n",
       "  </thead>\n",
       "  <tbody>\n",
       "    <tr>\n",
       "      <th>0</th>\n",
       "      <td>72.0</td>\n",
       "      <td>177.0</td>\n",
       "      <td>1983</td>\n",
       "      <td>0.396000</td>\n",
       "      <td>0.326391</td>\n",
       "    </tr>\n",
       "    <tr>\n",
       "      <th>1</th>\n",
       "      <td>82.0</td>\n",
       "      <td>179.0</td>\n",
       "      <td>1982</td>\n",
       "      <td>-0.204082</td>\n",
       "      <td>0.203375</td>\n",
       "    </tr>\n",
       "  </tbody>\n",
       "</table>\n",
       "</div>"
      ],
      "text/plain": [
       "   weight  height  year   meanExp   meanIAT\n",
       "0    72.0   177.0  1983  0.396000  0.326391\n",
       "1    82.0   179.0  1982 -0.204082  0.203375"
      ]
     },
     "execution_count": 150,
     "metadata": {},
     "output_type": "execute_result"
    }
   ],
   "source": [
    "# number of features choosen\n",
    "n_features = 5\n",
    "\n",
    "# extract reduced features set and drop NaN values\n",
    "X_reduced = df[ft_imp.head(n_features).index].copy()\n",
    "X_reduced.head(2)"
   ]
  },
  {
   "cell_type": "markdown",
   "metadata": {},
   "source": [
    "We can now train our random forest classifier on the reduced data set"
   ]
  },
  {
   "cell_type": "code",
   "execution_count": 151,
   "metadata": {
    "collapsed": false
   },
   "outputs": [
    {
     "name": "stdout",
     "output_type": "stream",
     "text": [
      "Train set score : 0.975424647633\n",
      "Test set score : 0.949260592393\n"
     ]
    }
   ],
   "source": [
    "X_train_r, X_test_r, y_train_r, y_test_r = train_test_split(X_reduced, y, test_size=0.4, random_state=4)\n",
    "\n",
    "rfc_r = RandomForestClassifier(n_jobs=-1)\n",
    "model_r = rfc_r.fit(X_train_r, y_train_r)\n",
    "\n",
    "print_score(rfc_r, X_train_r, y_train_r, X_test_r, y_test_r)"
   ]
  },
  {
   "cell_type": "markdown",
   "metadata": {},
   "source": [
    "The test set score is pretty good, with only 5 features !<br/>\n",
    "Let's look again at the features importances :"
   ]
  },
  {
   "cell_type": "code",
   "execution_count": 152,
   "metadata": {
    "collapsed": false
   },
   "outputs": [
    {
     "data": {
      "text/html": [
       "<div>\n",
       "<table border=\"1\" class=\"dataframe\">\n",
       "  <thead>\n",
       "    <tr style=\"text-align: right;\">\n",
       "      <th></th>\n",
       "      <th>0</th>\n",
       "      <th>1</th>\n",
       "    </tr>\n",
       "  </thead>\n",
       "  <tbody>\n",
       "    <tr>\n",
       "      <th>weight</th>\n",
       "      <td>33.409475</td>\n",
       "      <td>36.114197</td>\n",
       "    </tr>\n",
       "    <tr>\n",
       "      <th>height</th>\n",
       "      <td>27.429820</td>\n",
       "      <td>28.677751</td>\n",
       "    </tr>\n",
       "    <tr>\n",
       "      <th>year</th>\n",
       "      <td>24.970794</td>\n",
       "      <td>23.358919</td>\n",
       "    </tr>\n",
       "    <tr>\n",
       "      <th>meanExp</th>\n",
       "      <td>2.638425</td>\n",
       "      <td>6.030184</td>\n",
       "    </tr>\n",
       "    <tr>\n",
       "      <th>meanIAT</th>\n",
       "      <td>2.540252</td>\n",
       "      <td>5.818949</td>\n",
       "    </tr>\n",
       "  </tbody>\n",
       "</table>\n",
       "</div>"
      ],
      "text/plain": [
       "                 0          1\n",
       "weight   33.409475  36.114197\n",
       "height   27.429820  28.677751\n",
       "year     24.970794  23.358919\n",
       "meanExp   2.638425   6.030184\n",
       "meanIAT   2.540252   5.818949"
      ]
     },
     "execution_count": 152,
     "metadata": {},
     "output_type": "execute_result"
    }
   ],
   "source": [
    "# Extract features importances from model\n",
    "features_importances_reduced = model_r.feature_importances_\n",
    "\n",
    "# Create series from features importances and features names\n",
    "ft_imp_r = pd.Series(features_importances_reduced, index=X_reduced.columns.values).sort_values(ascending=False)\n",
    "\n",
    "# Compare features importance\n",
    "pd.concat([ft_imp*100, ft_imp_r*100], axis=1, join='inner')"
   ]
  },
  {
   "cell_type": "markdown",
   "metadata": {},
   "source": [
    "The order of the features importance is the same but the importance of meanExp and meanIAT has tripled."
   ]
  },
  {
   "cell_type": "markdown",
   "metadata": {},
   "source": [
    "- <b>BONUS: plot the learning curves against at least 2 different sets of parameters passed to your Random Forest. To obtain smooth curves, partition your data in at least 20 folds. Can you find a set of parameters that leads to high bias, and one which does not?</b>"
   ]
  },
  {
   "cell_type": "markdown",
   "metadata": {},
   "source": [
    "We know that we can influence bias by adjusting the trees' depth.\n",
    "\n",
    "#### High Bias (low Train Score) : max_depth = 3"
   ]
  },
  {
   "cell_type": "code",
   "execution_count": 153,
   "metadata": {
    "collapsed": false
   },
   "outputs": [],
   "source": [
    "rfc = RandomForestClassifier(max_depth=3, max_features=14, n_estimators=10, n_jobs=-1)\n",
    "\n",
    "training_sizes=np.array([0.1, 0.325, 0.55, 0.775, 1.]) # set training batch sizes\n",
    "n_folds = 20 # set n-folds cross validation\n",
    "\n",
    "# compute learning curve\n",
    "train_sizes, train_scores, valid_scores = learning_curve(rfc, X, y, train_sizes=training_sizes, cv=n_folds, n_jobs=-1)"
   ]
  },
  {
   "cell_type": "code",
   "execution_count": 154,
   "metadata": {
    "collapsed": false
   },
   "outputs": [
    {
     "data": {
      "image/png": "[encoded data removed]",
      "text/plain": [
       "<matplotlib.figure.Figure at 0x16c0551d208>"
      ]
     },
     "metadata": {},
     "output_type": "display_data"
    }
   ],
   "source": [
    "plt.figure(figsize=(12,6))\n",
    "plt.plot(train_sizes, train_scores.mean(axis=1))\n",
    "plt.plot(train_sizes, valid_scores.mean(axis=1))\n",
    "plt.legend(['train scores','valide scores'])\n",
    "plt.xlabel('Training sample size', fontweight='bold')\n",
    "plt.ylabel('Score [%]', fontweight='bold')\n",
    "plt.show()"
   ]
  },
  {
   "cell_type": "markdown",
   "metadata": {},
   "source": [
    "When we faces an high bias, more data doesn't help (the test and training accuracy remains under 50%)"
   ]
  },
  {
   "cell_type": "markdown",
   "metadata": {},
   "source": [
    "#### Small Bias (high Train Score : max_depth = 150)"
   ]
  },
  {
   "cell_type": "code",
   "execution_count": 157,
   "metadata": {
    "collapsed": false
   },
   "outputs": [],
   "source": [
    "rfc = RandomForestClassifier(max_depth=150, max_features=14, n_estimators=10, n_jobs=-1)\n",
    "\n",
    "training_sizes=np.array([0.1, 0.325, 0.55, 0.775, 1.]) # set training batch sizes\n",
    "n_folds = 20 # set n-folds cross validation\n",
    "\n",
    "# compute learning curve\n",
    "train_sizes, train_scores, valid_scores = learning_curve(rfc, X, y, train_sizes=training_sizes, cv=n_folds, n_jobs=-1)"
   ]
  },
  {
   "cell_type": "code",
   "execution_count": 158,
   "metadata": {
    "collapsed": false,
    "scrolled": true
   },
   "outputs": [
    {
     "data": {
      "image/png": "[encoded data removed]",
      "text/plain": [
       "<matplotlib.figure.Figure at 0x16c0551d748>"
      ]
     },
     "metadata": {},
     "output_type": "display_data"
    }
   ],
   "source": [
    "plt.figure(figsize=(12,6))\n",
    "plt.plot(train_sizes, train_scores.mean(axis=1))\n",
    "plt.plot(train_sizes, valid_scores.mean(axis=1))\n",
    "plt.legend(['train scores','valide scores'])\n",
    "plt.xlabel('Training sample size', fontweight='bold')\n",
    "plt.ylabel('Score [%]', fontweight='bold')\n",
    "plt.show()"
   ]
  },
  {
   "cell_type": "markdown",
   "metadata": {},
   "source": [
    "When we have a small bias, more data can help to reduce variance (as it is the case here)."
   ]
  },
  {
   "cell_type": "markdown",
   "metadata": {},
   "source": [
    "# 2. Clustering using an unsupervised learning technique"
   ]
  },
  {
   "cell_type": "markdown",
   "metadata": {},
   "source": [
    "In this part, we will use an unsupervised technique (K-Means) to cluster the soccer players in 2 disjoint clusters.<br/>\n",
    "We will see if we can find a configuration of features where players with dark and light skin colors belong to different\n",
    "clusters."
   ]
  },
  {
   "cell_type": "markdown",
   "metadata": {},
   "source": [
    "- <b>Aggregate the referee information grouping by soccer player</b>"
   ]
  },
  {
   "cell_type": "code",
   "execution_count": 264,
   "metadata": {
    "collapsed": false
   },
   "outputs": [],
   "source": [
    "def mean(x):\n",
    "    return np.mean(x)\n",
    "\n",
    "players_df_ns = df.groupby(df['playerShort'])\n",
    "# take only numerical features\n",
    "players_df_ns = players_df_ns.agg({'height':identity, 'weight':identity, 'skin':identity, 'year':identity,\n",
    "                              'games':sum, 'victories':sum, 'ties':sum, 'defeats':sum, 'goals':sum, \n",
    "                              'yellowCards':sum, 'yellowReds':sum, 'redCards':sum,\n",
    "                              'meanIAT': mean, 'nIAT': mean, 'seIAT': mean, \n",
    "                              'meanExp': mean, 'nExp': mean, 'seExp': mean\n",
    "                             })"
   ]
  },
  {
   "cell_type": "markdown",
   "metadata": {},
   "source": [
    "The number of cards, goals, victories... is proportionnal to the number of games played. So, we divide these features by the number of games :"
   ]
  },
  {
   "cell_type": "code",
   "execution_count": 265,
   "metadata": {
    "collapsed": false
   },
   "outputs": [],
   "source": [
    "for feature in ['victories', 'ties', 'defeats', 'goals', 'yellowCards', 'yellowReds', 'redCards']:\n",
    "    players_df_ns[feature] = players_df_ns[feature] / players_df_ns.games"
   ]
  },
  {
   "cell_type": "markdown",
   "metadata": {},
   "source": [
    "Now, we standardize the dataset :"
   ]
  },
  {
   "cell_type": "code",
   "execution_count": 266,
   "metadata": {
    "collapsed": false
   },
   "outputs": [
    {
     "data": {
      "text/html": [
       "<div>\n",
       "<table border=\"1\" class=\"dataframe\">\n",
       "  <thead>\n",
       "    <tr style=\"text-align: right;\">\n",
       "      <th></th>\n",
       "      <th>skin</th>\n",
       "      <th>meanIAT</th>\n",
       "      <th>seExp</th>\n",
       "      <th>redCards</th>\n",
       "      <th>year</th>\n",
       "      <th>weight</th>\n",
       "      <th>yellowCards</th>\n",
       "      <th>ties</th>\n",
       "      <th>defeats</th>\n",
       "      <th>goals</th>\n",
       "      <th>yellowReds</th>\n",
       "      <th>nExp</th>\n",
       "      <th>games</th>\n",
       "      <th>nIAT</th>\n",
       "      <th>seIAT</th>\n",
       "      <th>height</th>\n",
       "      <th>meanExp</th>\n",
       "      <th>victories</th>\n",
       "    </tr>\n",
       "    <tr>\n",
       "      <th>playerShort</th>\n",
       "      <th></th>\n",
       "      <th></th>\n",
       "      <th></th>\n",
       "      <th></th>\n",
       "      <th></th>\n",
       "      <th></th>\n",
       "      <th></th>\n",
       "      <th></th>\n",
       "      <th></th>\n",
       "      <th></th>\n",
       "      <th></th>\n",
       "      <th></th>\n",
       "      <th></th>\n",
       "      <th></th>\n",
       "      <th></th>\n",
       "      <th></th>\n",
       "      <th></th>\n",
       "      <th></th>\n",
       "    </tr>\n",
       "  </thead>\n",
       "  <tbody>\n",
       "    <tr>\n",
       "      <th>aaron-hughes</th>\n",
       "      <td>-0.549349</td>\n",
       "      <td>-0.188539</td>\n",
       "      <td>0.291169</td>\n",
       "      <td>-0.728126</td>\n",
       "      <td>-1.519347</td>\n",
       "      <td>-0.743505</td>\n",
       "      <td>-1.378934</td>\n",
       "      <td>0.751504</td>\n",
       "      <td>0.251795</td>\n",
       "      <td>-0.816500</td>\n",
       "      <td>-0.690829</td>\n",
       "      <td>0.149509</td>\n",
       "      <td>2.881194</td>\n",
       "      <td>0.141324</td>\n",
       "      <td>0.059161</td>\n",
       "      <td>-0.025119</td>\n",
       "      <td>0.309252</td>\n",
       "      <td>-0.582505</td>\n",
       "    </tr>\n",
       "    <tr>\n",
       "      <th>aaron-hunt</th>\n",
       "      <td>-0.549349</td>\n",
       "      <td>-0.004801</td>\n",
       "      <td>-0.416213</td>\n",
       "      <td>-0.231371</td>\n",
       "      <td>0.084911</td>\n",
       "      <td>-0.461770</td>\n",
       "      <td>-0.137526</td>\n",
       "      <td>-0.445040</td>\n",
       "      <td>0.426934</td>\n",
       "      <td>0.680839</td>\n",
       "      <td>-0.690829</td>\n",
       "      <td>0.374394</td>\n",
       "      <td>0.630699</td>\n",
       "      <td>0.379086</td>\n",
       "      <td>-0.395373</td>\n",
       "      <td>0.121964</td>\n",
       "      <td>-0.179684</td>\n",
       "      <td>-0.147926</td>\n",
       "    </tr>\n",
       "  </tbody>\n",
       "</table>\n",
       "</div>"
      ],
      "text/plain": [
       "                  skin   meanIAT     seExp  redCards      year    weight  \\\n",
       "playerShort                                                                \n",
       "aaron-hughes -0.549349 -0.188539  0.291169 -0.728126 -1.519347 -0.743505   \n",
       "aaron-hunt   -0.549349 -0.004801 -0.416213 -0.231371  0.084911 -0.461770   \n",
       "\n",
       "              yellowCards      ties   defeats     goals  yellowReds      nExp  \\\n",
       "playerShort                                                                     \n",
       "aaron-hughes    -1.378934  0.751504  0.251795 -0.816500   -0.690829  0.149509   \n",
       "aaron-hunt      -0.137526 -0.445040  0.426934  0.680839   -0.690829  0.374394   \n",
       "\n",
       "                 games      nIAT     seIAT    height   meanExp  victories  \n",
       "playerShort                                                                \n",
       "aaron-hughes  2.881194  0.141324  0.059161 -0.025119  0.309252  -0.582505  \n",
       "aaron-hunt    0.630699  0.379086 -0.395373  0.121964 -0.179684  -0.147926  "
      ]
     },
     "execution_count": 266,
     "metadata": {},
     "output_type": "execute_result"
    }
   ],
   "source": [
    "players_df = standardize(players_df_ns)\n",
    "players_df.head(2)"
   ]
  },
  {
   "cell_type": "markdown",
   "metadata": {},
   "source": [
    "- <b>Use an unsupervised learning technique to cluster the players in 2 disjoint clusters.</b>"
   ]
  },
  {
   "cell_type": "markdown",
   "metadata": {},
   "source": [
    "Let's try a K-Means clustering on the Dataset (K = 2)"
   ]
  },
  {
   "cell_type": "code",
   "execution_count": 199,
   "metadata": {
    "collapsed": false
   },
   "outputs": [
    {
     "data": {
      "text/plain": [
       "0.11245151197278028"
      ]
     },
     "execution_count": 199,
     "metadata": {},
     "output_type": "execute_result"
    }
   ],
   "source": [
    "kmeans_model = KMeans(n_clusters=2)\n",
    "clust_model = kmeans_model.fit(players_df)\n",
    "score = silhouette_score(players_df, clust_model.predict(players_df))\n",
    "score"
   ]
  },
  {
   "cell_type": "markdown",
   "metadata": {},
   "source": [
    "Not a really convincing score.."
   ]
  },
  {
   "cell_type": "markdown",
   "metadata": {},
   "source": [
    "- <b>Feature selection : Ablation</b>"
   ]
  },
  {
   "cell_type": "markdown",
   "metadata": {},
   "source": [
    "At each iteration, we remove the feature without which we obtain the better score.<br/>\n",
    "We continue while the silhouette score is improving."
   ]
  },
  {
   "cell_type": "code",
   "execution_count": 165,
   "metadata": {
    "collapsed": true
   },
   "outputs": [],
   "source": [
    "def find_feature_to_delete(X):\n",
    "    \n",
    "    nb_features = X.shape[1]\n",
    "    scores = np.zeros(nb_features)\n",
    "    \n",
    "    for nb_f in list(range(nb_features)):\n",
    "        \n",
    "        x_del = X.drop(X.columns[nb_f], axis=1)\n",
    "        kmeans_model = KMeans(n_clusters=2)\n",
    "        clust_model = kmeans_model.fit(x_del)\n",
    "        \n",
    "        scores[nb_f]=silhouette_score(x_del, clust_model.predict(x_del))\n",
    "    \n",
    "    return X.columns[np.argmax(scores)], np.max(scores)"
   ]
  },
  {
   "cell_type": "code",
   "execution_count": 200,
   "metadata": {
    "collapsed": false
   },
   "outputs": [
    {
     "name": "stdout",
     "output_type": "stream",
     "text": [
      "Initial Score :  0.112451511973\n",
      "Deleted feature =  meanIAT  \t \t Score =  0.130856109636\n",
      "Deleted feature =  yellowReds  \t \t Score =  0.144559310327\n",
      "Deleted feature =  redCards  \t \t Score =  0.154998168103\n",
      "Deleted feature =  meanExp  \t \t Score =  0.167929359441\n",
      "Deleted feature =  yellowCards  \t \t Score =  0.183782194164\n",
      "Deleted feature =  weight  \t \t Score =  0.200240205892\n",
      "Deleted feature =  year  \t \t Score =  0.217493703864\n",
      "Deleted feature =  victories  \t \t Score =  0.401146276045\n",
      "Deleted feature =  height  \t \t Score =  0.433146733052\n",
      "Deleted feature =  goals  \t \t Score =  0.497851953162\n",
      "Deleted feature =  seIAT  \t \t Score =  0.657329979654\n",
      "Deleted feature =  ties  \t \t Score =  0.747065900722\n",
      "Deleted feature =  defeats  \t \t Score =  0.814675635724\n",
      "Deleted feature =  seExp  \t \t Score =  0.841966309369\n"
     ]
    }
   ],
   "source": [
    "old_score = 0  \n",
    "# init : score = 0.10767790851\n",
    "players_df_reduced = players_df.copy()\n",
    "\n",
    "print(\"Initial Score : \", score)\n",
    "\n",
    "while (players_df_reduced.shape[1] > 1):\n",
    "    old_score = score\n",
    "    feature, score = find_feature_to_delete(players_df_reduced)\n",
    "    if (score > old_score):\n",
    "        print(\"Deleted feature = \", feature, \" \\t \\t Score = \", score)\n",
    "        players_df_reduced = players_df_reduced.drop(feature, axis=1)\n",
    "    else :\n",
    "        break"
   ]
  },
  {
   "cell_type": "code",
   "execution_count": 201,
   "metadata": {
    "collapsed": false
   },
   "outputs": [
    {
     "data": {
      "text/plain": [
       "(4, Index(['skin', 'nExp', 'games', 'nIAT'], dtype='object'))"
      ]
     },
     "execution_count": 201,
     "metadata": {},
     "output_type": "execute_result"
    }
   ],
   "source": [
    "players_df_reduced.shape[1], players_df_reduced.columns"
   ]
  },
  {
   "cell_type": "markdown",
   "metadata": {},
   "source": [
    "With Ablation's selection method, we find the best clustering by using ['skin', 'nExp', 'games', 'nIAT'] as parameters."
   ]
  },
  {
   "cell_type": "code",
   "execution_count": 274,
   "metadata": {
    "collapsed": false
   },
   "outputs": [
    {
     "name": "stdout",
     "output_type": "stream",
     "text": [
      "0.754301154792\n"
     ]
    }
   ],
   "source": [
    "kmeans_model = KMeans(n_clusters=2)\n",
    "clust_model = kmeans_model.fit(players_df_reduced)\n",
    "y_pred = clust_model.predict(players_df_reduced)\n",
    "score = silhouette_score(players_df_reduced, y_pred)\n",
    "print(score)"
   ]
  },
  {
   "cell_type": "markdown",
   "metadata": {},
   "source": [
    "That's much better !<br/>\n",
    "Let's have a look at these clusters :"
   ]
  },
  {
   "cell_type": "code",
   "execution_count": 275,
   "metadata": {
    "collapsed": false
   },
   "outputs": [],
   "source": [
    "skin_cluster = np.c_[np.asarray(players_df_ns['skin']), y_pred]\n",
    "skin_cluster = pd.DataFrame(skin_cluster, columns=['skin','cluster'])"
   ]
  },
  {
   "cell_type": "code",
   "execution_count": 278,
   "metadata": {
    "collapsed": false
   },
   "outputs": [
    {
     "data": {
      "text/html": [
       "<div>\n",
       "<table border=\"1\" class=\"dataframe\">\n",
       "  <thead>\n",
       "    <tr style=\"text-align: right;\">\n",
       "      <th></th>\n",
       "      <th>skin</th>\n",
       "    </tr>\n",
       "    <tr>\n",
       "      <th>cluster</th>\n",
       "      <th></th>\n",
       "    </tr>\n",
       "  </thead>\n",
       "  <tbody>\n",
       "    <tr>\n",
       "      <th>0.0</th>\n",
       "      <td>0.279996</td>\n",
       "    </tr>\n",
       "    <tr>\n",
       "      <th>1.0</th>\n",
       "      <td>0.470238</td>\n",
       "    </tr>\n",
       "  </tbody>\n",
       "</table>\n",
       "</div>"
      ],
      "text/plain": [
       "             skin\n",
       "cluster          \n",
       "0.0      0.279996\n",
       "1.0      0.470238"
      ]
     },
     "execution_count": 278,
     "metadata": {},
     "output_type": "execute_result"
    }
   ],
   "source": [
    "skin_cluster_grouped = skin_cluster.groupby(skin_cluster['cluster']).mean()\n",
    "skin_cluster_grouped"
   ]
  },
  {
   "cell_type": "markdown",
   "metadata": {},
   "source": [
    "It seems that cluster 1 contains an higher proportion of \"dark\" skin people.<br/>\n",
    "But..."
   ]
  },
  {
   "cell_type": "code",
   "execution_count": 276,
   "metadata": {
    "collapsed": false
   },
   "outputs": [
    {
     "data": {
      "text/plain": [
       "0.0    1396\n",
       "1.0      21\n",
       "Name: cluster, dtype: int64"
      ]
     },
     "execution_count": 276,
     "metadata": {},
     "output_type": "execute_result"
    }
   ],
   "source": [
    "skin_cluster['cluster'].value_counts()"
   ]
  },
  {
   "cell_type": "markdown",
   "metadata": {},
   "source": [
    "Given the proportion of players in each cluster, this classification doesn't make any sense in term of skin tone.<br/>\n",
    "This can be explain by the fact that :\n",
    "    - Features are not equally represented (more 'light' skin players, more referees countries with low nExp and nIAT)\n",
    "    - We loosed a lot of information by aggregating information to build the players dataset."
   ]
  },
  {
   "cell_type": "markdown",
   "metadata": {},
   "source": [
    "- <b>Clustering the skin alone</b>"
   ]
  },
  {
   "cell_type": "code",
   "execution_count": 269,
   "metadata": {
    "collapsed": false
   },
   "outputs": [
    {
     "data": {
      "text/plain": [
       "0.715866997442967"
      ]
     },
     "execution_count": 269,
     "metadata": {},
     "output_type": "execute_result"
    }
   ],
   "source": [
    "skin=players_df[['skin']]\n",
    "kmeans_model = KMeans(n_clusters=2)\n",
    "clust_model = kmeans_model.fit(skin)\n",
    "y_pred = clust_model.predict(players_df[['skin']])\n",
    "score=silhouette_score(skin, clust_model.predict(skin))\n",
    "score"
   ]
  },
  {
   "cell_type": "code",
   "execution_count": 273,
   "metadata": {
    "collapsed": false
   },
   "outputs": [
    {
     "data": {
      "text/html": [
       "<div>\n",
       "<table border=\"1\" class=\"dataframe\">\n",
       "  <thead>\n",
       "    <tr style=\"text-align: right;\">\n",
       "      <th></th>\n",
       "      <th>skin</th>\n",
       "    </tr>\n",
       "    <tr>\n",
       "      <th>cluster</th>\n",
       "      <th></th>\n",
       "    </tr>\n",
       "  </thead>\n",
       "  <tbody>\n",
       "    <tr>\n",
       "      <th>0.0</th>\n",
       "      <td>0.734848</td>\n",
       "    </tr>\n",
       "    <tr>\n",
       "      <th>1.0</th>\n",
       "      <td>0.145584</td>\n",
       "    </tr>\n",
       "  </tbody>\n",
       "</table>\n",
       "</div>"
      ],
      "text/plain": [
       "             skin\n",
       "cluster          \n",
       "0.0      0.734848\n",
       "1.0      0.145584"
      ]
     },
     "execution_count": 273,
     "metadata": {},
     "output_type": "execute_result"
    }
   ],
   "source": [
    "skin_cluster = np.c_[np.asarray(players_df_ns['skin']), y_pred]\n",
    "skin_cluster = pd.DataFrame(skin_cluster, columns=['skin','cluster'])\n",
    "\n",
    "skin_cluster_grouped = skin_cluster.groupby(skin_cluster['cluster']).mean()\n",
    "skin_cluster_grouped"
   ]
  },
  {
   "cell_type": "markdown",
   "metadata": {},
   "source": [
    "Clustering with the skin as only parameters gives us almost correct clusters. (fortunately!)<br/>\n",
    "But it isn't interesting given that we can't make any correlation with other features."
   ]
  }
 ],
 "metadata": {
  "anaconda-cloud": {},
  "kernelspec": {
   "display_name": "Python [conda root]",
   "language": "python",
   "name": "conda-root-py"
  },
  "language_info": {
   "codemirror_mode": {
    "name": "ipython",
    "version": 3
   },
   "file_extension": ".py",
   "mimetype": "text/x-python",
   "name": "python",
   "nbconvert_exporter": "python",
   "pygments_lexer": "ipython3",
   "version": "3.5.2"
  }
 },
 "nbformat": 4,
 "nbformat_minor": 1
}
