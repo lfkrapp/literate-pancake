{
 "cells": [
  {
   "cell_type": "markdown",
   "metadata": {},
   "source": [
    "# Building a choropleth map"
   ]
  },
  {
   "cell_type": "code",
   "execution_count": 1,
   "metadata": {
    "collapsed": false
   },
   "outputs": [],
   "source": [
    "%matplotlib inline\n",
    "import pandas as pd\n",
    "import numpy as np\n",
    "import time\n",
    "import glob\n",
    "import matplotlib.pyplot as plt\n",
    "import folium\n",
    "from time import sleep\n",
    "\n",
    "%load_ext autoreload\n",
    "%autoreload 2"
   ]
  },
  {
   "cell_type": "markdown",
   "metadata": {},
   "source": [
    "## Loading & wrangling the data "
   ]
  },
  {
   "cell_type": "code",
   "execution_count": 2,
   "metadata": {
    "collapsed": false
   },
   "outputs": [],
   "source": [
    "data_path = 'data/P3_GrantExport.xlsx'\n",
    "grant_data = pd.read_excel(data_path)"
   ]
  },
  {
   "cell_type": "markdown",
   "metadata": {},
   "source": [
    "We start by selecting the features we're interested in. Obviously, we need the grant given to a project. We also want the University (from which we will retrieve the canton) and the Institution (since for some projects one is missing, but we're somehow confident we can retrieve the canton from either of those two). At last, we decide for now to save the reason a project got a funding, without being sure whether or not it will be usefull.\n",
    "\n"
   ]
  },
  {
   "cell_type": "code",
   "execution_count": 3,
   "metadata": {
    "collapsed": false
   },
   "outputs": [
    {
     "data": {
      "text/plain": [
       "Approved Amount                 63967\n",
       "University                      50988\n",
       "Institution                     58831\n",
       "Funding Instrument Hierarchy    62915\n",
       "dtype: int64"
      ]
     },
     "execution_count": 3,
     "metadata": {},
     "output_type": "execute_result"
    }
   ],
   "source": [
    "grant_data = grant_data[[\"Approved Amount\", \"University\", \"Institution\",\"Funding Instrument Hierarchy\"]]\n",
    "grant_data.count()"
   ]
  },
  {
   "cell_type": "markdown",
   "metadata": {},
   "source": [
    "For now we did not remove any entries. A more thorough visualization gave us the confirmation that we should though. We start by removing entries for which the Approved Amount is not a number, since we won't be able to use those data in this study."
   ]
  },
  {
   "cell_type": "code",
   "execution_count": 4,
   "metadata": {
    "collapsed": false
   },
   "outputs": [
    {
     "data": {
      "text/plain": [
       "Approved Amount                 52663\n",
       "University                      50487\n",
       "Institution                     48205\n",
       "Funding Instrument Hierarchy    51620\n",
       "dtype: int64"
      ]
     },
     "execution_count": 4,
     "metadata": {},
     "output_type": "execute_result"
    }
   ],
   "source": [
    "grant_data = grant_data[grant_data['Approved Amount'].apply(lambda x: str(x).isdigit())]\n",
    "grant_data.count()"
   ]
  },
  {
   "cell_type": "markdown",
   "metadata": {},
   "source": [
    "As we can see we already removed about 11K entries, but we can do better. Indeed, we will use the Google's API to link a university name or an institution to a canton. So far we are confident that we can find the canton from either of those two. That means however, that we cannot treat data that miss both those values."
   ]
  },
  {
   "cell_type": "code",
   "execution_count": 5,
   "metadata": {
    "collapsed": false
   },
   "outputs": [
    {
     "data": {
      "text/plain": [
       "Approved Amount                 51843\n",
       "University                      50487\n",
       "Institution                     48205\n",
       "Funding Instrument Hierarchy    50800\n",
       "dtype: int64"
      ]
     },
     "execution_count": 5,
     "metadata": {},
     "output_type": "execute_result"
    }
   ],
   "source": [
    "grant_data = grant_data.dropna(subset=[\"Institution\", \"University\"], how=\"all\")\n",
    "grant_data.count()"
   ]
  },
  {
   "cell_type": "markdown",
   "metadata": {},
   "source": [
    "We removed another 1K entries. But we saw a special value in the university field: Nicht zuteilbar - NA, for which we won't be able to retrieve the canton."
   ]
  },
  {
   "cell_type": "code",
   "execution_count": 6,
   "metadata": {
    "collapsed": false
   },
   "outputs": [
    {
     "data": {
      "text/plain": [
       "Approved Amount                 49252\n",
       "University                      47896\n",
       "Institution                     48025\n",
       "Funding Instrument Hierarchy    48231\n",
       "dtype: int64"
      ]
     },
     "execution_count": 6,
     "metadata": {},
     "output_type": "execute_result"
    }
   ],
   "source": [
    "grant_data = grant_data[grant_data[\"University\"] != \"Nicht zuteilbar - NA\"]\n",
    "grant_data.count()"
   ]
  },
  {
   "cell_type": "markdown",
   "metadata": {},
   "source": [
    "We observe that for many entries, an acronym is given at the end of the University field. A first logical step to do before moving to an API is to retrieve this acronym, and when possible, associate it to a canton (sometimes, it is already the canton's abbreviation itself). We will then have to  use the API on the remaining, undetermined entries."
   ]
  },
  {
   "cell_type": "code",
   "execution_count": 7,
   "metadata": {
    "collapsed": false
   },
   "outputs": [
    {
     "data": {
      "text/plain": [
       "ZH                           6704\n",
       "GE                           6346\n",
       "ETHZ                         6093\n",
       "BE                           5422\n",
       "BS                           4685\n",
       "EPFL                         4370\n",
       "LA                           4062\n",
       "FR                           2041\n",
       "NE                           1580\n",
       "NPO                          1463\n",
       "nan                          1356\n",
       "PSI                           535\n",
       "FP                            490\n",
       "SG                            424\n",
       "USI                           338\n",
       "EAWAG                         330\n",
       "HES-SO                        270\n",
       "ZFH                           256\n",
       "EMPA                          236\n",
       "FHNW                          221\n",
       "WSL                           220\n",
       "LU                            211\n",
       "IHEID                         194\n",
       "BFH                           136\n",
       "AGS                           135\n",
       "SUPSI                         134\n",
       "FMI                            83\n",
       "IDIAP                          81\n",
       "ASPIT                          81\n",
       "HSLU                           61\n",
       "                             ... \n",
       "HEPL                           16\n",
       "PHLU                           14\n",
       "IRO                            14\n",
       "PHSG                           13\n",
       "PHBern                         12\n",
       "IKG                            12\n",
       "EHB                            12\n",
       "SPF                            10\n",
       "BITG                            8\n",
       "CREALP                          8\n",
       "HEPFR                           7\n",
       "PHGR                            7\n",
       "PHZG                            7\n",
       "HEPBEJUNE                       7\n",
       "RWS                             6\n",
       "PHTG                            6\n",
       "FUS                             6\n",
       "ISR                             6\n",
       "IRSOL                           5\n",
       "PHSZ                            5\n",
       "ISSKA                           3\n",
       "STHB                            3\n",
       "FHKD                            3\n",
       "SHLR                            2\n",
       "FTL                             2\n",
       "ASP                             2\n",
       "PHVS                            2\n",
       "PHSH                            1\n",
       "Forschungskommission SAGW       1\n",
       "FFHS                            1\n",
       "Name: shorthand, dtype: int64"
      ]
     },
     "execution_count": 7,
     "metadata": {},
     "output_type": "execute_result"
    }
   ],
   "source": [
    "grant_data[\"shorthand\"] = grant_data[\"University\"].apply(lambda x : str(x).split(\"- \")[-1])\n",
    "grant_data[\"shorthand\"].value_counts()"
   ]
  },
  {
   "cell_type": "markdown",
   "metadata": {},
   "source": [
    "With this trick we can already sort a large portion of the dataframe. We will now create a feature \"Canton\" which we can fill with values of \"Shorthand\" we can associate for a canton (including EPFL and ETH in VD and ZH because, come on), and let blank for others."
   ]
  },
  {
   "cell_type": "code",
   "execution_count": 8,
   "metadata": {
    "collapsed": false
   },
   "outputs": [],
   "source": [
    "#We already know the locations of some frequent occurences and it seems better to call the API on the fewer cases possible\n",
    "grant_data.replace([\"EPFL\", \"ETHZ\", \"LA\"], [\"VD\", \"ZH\", \"VD\"], inplace=True)"
   ]
  },
  {
   "cell_type": "code",
   "execution_count": 9,
   "metadata": {
    "collapsed": false
   },
   "outputs": [],
   "source": [
    "# data needed by parse_name_for_cantons\n",
    "abrv_path = 'data/cantons.csv'\n",
    "abrv_data = pd.read_csv(abrv_path, sep=',')\n",
    "\n",
    "# extract acronyms\n",
    "acronyms = abrv_data['acronym'].copy()\n",
    "\n",
    "# set acronyms as index for later\n",
    "abrv_data.set_index('canton', inplace=True)"
   ]
  },
  {
   "cell_type": "code",
   "execution_count": 10,
   "metadata": {
    "collapsed": false,
    "scrolled": true
   },
   "outputs": [
    {
     "data": {
      "text/plain": [
       "ZH    12797\n",
       "VD     8432\n",
       "GE     6346\n",
       "BE     5422\n",
       "BS     4685\n",
       "FR     2041\n",
       "NE     1580\n",
       "SG      424\n",
       "LU      211\n",
       "Name: Canton, dtype: int64"
      ]
     },
     "execution_count": 10,
     "metadata": {},
     "output_type": "execute_result"
    }
   ],
   "source": [
    "grant_data[\"Canton\"] = grant_data[\"shorthand\"][grant_data[\"shorthand\"].isin(acronyms.values)]\n",
    "grant_data[\"Canton\"].value_counts()\n",
    "#grant_data[\"Canton\"].describe()"
   ]
  },
  {
   "cell_type": "markdown",
   "metadata": {},
   "source": [
    "That's 40K less google searches ! :D"
   ]
  },
  {
   "cell_type": "markdown",
   "metadata": {},
   "source": [
    "## Dealing with non obvious values"
   ]
  },
  {
   "cell_type": "markdown",
   "metadata": {},
   "source": [
    "Despite the fact that we have considerably reduced the number of unknown Cantons, we still try to investigate about 7000 university names. The limit of requests for the Google Maps Geocoding API is requests 2'500 per day so we need an other approach to solve this problem. Luckily, there are a lot of duplicates in the university name and they don't needed to be investigated twice."
   ]
  },
  {
   "cell_type": "code",
   "execution_count": 11,
   "metadata": {
    "collapsed": false
   },
   "outputs": [
    {
     "name": "stdout",
     "output_type": "stream",
     "text": [
      "University    65\n",
      "dtype: int64\n"
     ]
    }
   ],
   "source": [
    "# remove duplicates and missing\n",
    "unknown_uni = grant_data[pd.isnull(grant_data['Canton'])]['University'].dropna().drop_duplicates().copy().to_frame()\n",
    "unknown_uni['University'] = unknown_uni['University'].apply(lambda x : str(x).split(\" -\")[0])\n",
    "\n",
    "# checking that there are not too many entry left\n",
    "print(unknown_uni.count())\n",
    "#unknown_uni.tail()"
   ]
  },
  {
   "cell_type": "markdown",
   "metadata": {},
   "source": [
    "To parse the name in the University column, we define the function find_canton_abrv. This function takes a string with some clue about the location and then try to find the location from this clue using the geocoder library and Google Maps Geocoding API. Finally, we use the find the canton name and convert it to an abreviation using the file cantons.csv."
   ]
  },
  {
   "cell_type": "code",
   "execution_count": 12,
   "metadata": {
    "collapsed": true
   },
   "outputs": [],
   "source": [
    "# library used to parse location\n",
    "import geocoder\n",
    "\n",
    "def find_canton_abrv(clue):\n",
    "    \"\"\"Find canton abreviation. \n",
    "    Take a string containg clues as input and\n",
    "    output a string of the abreviation or \n",
    "    1) NaN if not found\n",
    "    2) - if not in Switzerland\"\"\"\n",
    "    \n",
    "    # find location from clue\n",
    "    g = geocoder.google(clue)\n",
    "    sleep(1)\n",
    "    \n",
    "    if g.country == 'CH':\n",
    "        return g.state\n",
    "    \n",
    "    elif g.country == None:\n",
    "        return np.nan\n",
    "    else:\n",
    "        return '-'"
   ]
  },
  {
   "cell_type": "markdown",
   "metadata": {},
   "source": [
    "We can now try to fetch information on the unknown university (cell takes about 1 minute to execute)"
   ]
  },
  {
   "cell_type": "code",
   "execution_count": 13,
   "metadata": {
    "collapsed": false,
    "scrolled": true
   },
   "outputs": [],
   "source": [
    "# use find_canton_abrv\n",
    "unknown_uni['Canton'] = unknown_uni['University'].apply(lambda x : find_canton_abrv(x))"
   ]
  },
  {
   "cell_type": "code",
   "execution_count": 14,
   "metadata": {
    "collapsed": false
   },
   "outputs": [
    {
     "name": "stdout",
     "output_type": "stream",
     "text": [
      "True     46\n",
      "False    19\n",
      "Name: Canton, dtype: int64\n"
     ]
    },
    {
     "data": {
      "text/html": [
       "<div>\n",
       "<table border=\"1\" class=\"dataframe\">\n",
       "  <thead>\n",
       "    <tr style=\"text-align: right;\">\n",
       "      <th></th>\n",
       "      <th>University</th>\n",
       "      <th>Canton</th>\n",
       "    </tr>\n",
       "  </thead>\n",
       "  <tbody>\n",
       "    <tr>\n",
       "      <th>2</th>\n",
       "      <td>NPO (Biblioth., Museen, Verwalt.)</td>\n",
       "      <td>NaN</td>\n",
       "    </tr>\n",
       "    <tr>\n",
       "      <th>29</th>\n",
       "      <td>Eidg. Forschungsanstalt für Wald,Schnee,Land</td>\n",
       "      <td>NaN</td>\n",
       "    </tr>\n",
       "    <tr>\n",
       "      <th>56</th>\n",
       "      <td>Inst. de Hautes Etudes Internat. et du Dév</td>\n",
       "      <td>NaN</td>\n",
       "    </tr>\n",
       "    <tr>\n",
       "      <th>83</th>\n",
       "      <td>Weitere Institute</td>\n",
       "      <td>NaN</td>\n",
       "    </tr>\n",
       "    <tr>\n",
       "      <th>89</th>\n",
       "      <td>Firmen/Privatwirtschaft</td>\n",
       "      <td>NaN</td>\n",
       "    </tr>\n",
       "    <tr>\n",
       "      <th>138</th>\n",
       "      <td>Pädagogische Hochschule Graubünden</td>\n",
       "      <td>NaN</td>\n",
       "    </tr>\n",
       "    <tr>\n",
       "      <th>207</th>\n",
       "      <td>Pädagogische Hochschule Zürich</td>\n",
       "      <td>ZH</td>\n",
       "    </tr>\n",
       "    <tr>\n",
       "      <th>674</th>\n",
       "      <td>Schweiz. Institut für Kunstwissenschaft</td>\n",
       "      <td>NaN</td>\n",
       "    </tr>\n",
       "    <tr>\n",
       "      <th>704</th>\n",
       "      <td>SUP della Svizzera italiana</td>\n",
       "      <td>NaN</td>\n",
       "    </tr>\n",
       "    <tr>\n",
       "      <th>748</th>\n",
       "      <td>HES de Suisse occidentale</td>\n",
       "      <td>NaN</td>\n",
       "    </tr>\n",
       "  </tbody>\n",
       "</table>\n",
       "</div>"
      ],
      "text/plain": [
       "                                       University Canton\n",
       "2               NPO (Biblioth., Museen, Verwalt.)    NaN\n",
       "29   Eidg. Forschungsanstalt für Wald,Schnee,Land    NaN\n",
       "56     Inst. de Hautes Etudes Internat. et du Dév    NaN\n",
       "83                              Weitere Institute    NaN\n",
       "89                        Firmen/Privatwirtschaft    NaN\n",
       "138            Pädagogische Hochschule Graubünden    NaN\n",
       "207                Pädagogische Hochschule Zürich     ZH\n",
       "674       Schweiz. Institut für Kunstwissenschaft    NaN\n",
       "704                   SUP della Svizzera italiana    NaN\n",
       "748                     HES de Suisse occidentale    NaN"
      ]
     },
     "execution_count": 14,
     "metadata": {},
     "output_type": "execute_result"
    }
   ],
   "source": [
    "print(unknown_uni['Canton'].isnull().value_counts())\n",
    "unknown_uni.head(10)"
   ]
  },
  {
   "cell_type": "code",
   "execution_count": null,
   "metadata": {
    "collapsed": false
   },
   "outputs": [],
   "source": []
  },
  {
   "cell_type": "markdown",
   "metadata": {},
   "source": [
    "We can save cleaned data for later use without needing to run again the slow cell above"
   ]
  },
  {
   "cell_type": "code",
   "execution_count": 15,
   "metadata": {
    "collapsed": true
   },
   "outputs": [],
   "source": [
    "grant_data.to_csv(\"data/data.csv\")\n",
    "unknown_uni[unknown_uni['Canton'].isnull()].to_csv(\"data/still_unknown_uni.csv\")"
   ]
  },
  {
   "cell_type": "markdown",
   "metadata": {},
   "source": [
    "We should finally be able to retrieve the canton feature in this dataframe."
   ]
  },
  {
   "cell_type": "markdown",
   "metadata": {
    "collapsed": false
   },
   "source": [
    "## Creating the map"
   ]
  },
  {
   "cell_type": "markdown",
   "metadata": {},
   "source": [
    "We have to manipulate a little bit the data frame first. It makes a bit more sense to use the means instead of the sums to check differences. Otherwise we would simply see a huge difference between ZH (ETHZ) and VD (EPFL) with the others cantons, since they hold so many more projects."
   ]
  },
  {
   "cell_type": "code",
   "execution_count": 64,
   "metadata": {
    "collapsed": false
   },
   "outputs": [
    {
     "data": {
      "text/html": [
       "<div>\n",
       "<table border=\"1\" class=\"dataframe\">\n",
       "  <thead>\n",
       "    <tr style=\"text-align: right;\">\n",
       "      <th></th>\n",
       "      <th>Approved Amount</th>\n",
       "    </tr>\n",
       "    <tr>\n",
       "      <th>Canton</th>\n",
       "      <th></th>\n",
       "    </tr>\n",
       "  </thead>\n",
       "  <tbody>\n",
       "    <tr>\n",
       "      <th>BE</th>\n",
       "      <td>277396</td>\n",
       "    </tr>\n",
       "    <tr>\n",
       "      <th>BS</th>\n",
       "      <td>284500</td>\n",
       "    </tr>\n",
       "    <tr>\n",
       "      <th>FR</th>\n",
       "      <td>220108</td>\n",
       "    </tr>\n",
       "    <tr>\n",
       "      <th>GE</th>\n",
       "      <td>288047</td>\n",
       "    </tr>\n",
       "    <tr>\n",
       "      <th>LU</th>\n",
       "      <td>189382</td>\n",
       "    </tr>\n",
       "    <tr>\n",
       "      <th>NE</th>\n",
       "      <td>241777</td>\n",
       "    </tr>\n",
       "    <tr>\n",
       "      <th>SG</th>\n",
       "      <td>162059</td>\n",
       "    </tr>\n",
       "    <tr>\n",
       "      <th>VD</th>\n",
       "      <td>278009</td>\n",
       "    </tr>\n",
       "    <tr>\n",
       "      <th>ZH</th>\n",
       "      <td>267871</td>\n",
       "    </tr>\n",
       "  </tbody>\n",
       "</table>\n",
       "</div>"
      ],
      "text/plain": [
       "        Approved Amount\n",
       "Canton                 \n",
       "BE               277396\n",
       "BS               284500\n",
       "FR               220108\n",
       "GE               288047\n",
       "LU               189382\n",
       "NE               241777\n",
       "SG               162059\n",
       "VD               278009\n",
       "ZH               267871"
      ]
     },
     "execution_count": 64,
     "metadata": {},
     "output_type": "execute_result"
    }
   ],
   "source": [
    "canonical_grant_data = grant_data[[\"Approved Amount\", \"Canton\"]].set_index([\"Canton\"])\n",
    "canonical_grant_data = canonical_grant_data.groupby(canonical_grant_data.index).mean()\n",
    "canonical_grant_data"
   ]
  },
  {
   "cell_type": "markdown",
   "metadata": {},
   "source": [
    "However for Folium to work we need to have a match between the indices of the DF with the abbreviations present in the json file. Thus we add null values to the DF"
   ]
  },
  {
   "cell_type": "code",
   "execution_count": 65,
   "metadata": {
    "collapsed": true
   },
   "outputs": [],
   "source": [
    "for x in acronyms.values:\n",
    "    if x not in canonical_grant_data.index:\n",
    "        canonical_grant_data.loc[x] = 0"
   ]
  },
  {
   "cell_type": "code",
   "execution_count": 66,
   "metadata": {
    "collapsed": false
   },
   "outputs": [
    {
     "data": {
      "text/html": [
       "<div>\n",
       "<table border=\"1\" class=\"dataframe\">\n",
       "  <thead>\n",
       "    <tr style=\"text-align: right;\">\n",
       "      <th></th>\n",
       "      <th>Approved Amount</th>\n",
       "    </tr>\n",
       "    <tr>\n",
       "      <th>Canton</th>\n",
       "      <th></th>\n",
       "    </tr>\n",
       "  </thead>\n",
       "  <tbody>\n",
       "    <tr>\n",
       "      <th>BE</th>\n",
       "      <td>277396</td>\n",
       "    </tr>\n",
       "    <tr>\n",
       "      <th>BS</th>\n",
       "      <td>284500</td>\n",
       "    </tr>\n",
       "    <tr>\n",
       "      <th>FR</th>\n",
       "      <td>220108</td>\n",
       "    </tr>\n",
       "    <tr>\n",
       "      <th>GE</th>\n",
       "      <td>288047</td>\n",
       "    </tr>\n",
       "    <tr>\n",
       "      <th>LU</th>\n",
       "      <td>189382</td>\n",
       "    </tr>\n",
       "    <tr>\n",
       "      <th>NE</th>\n",
       "      <td>241777</td>\n",
       "    </tr>\n",
       "    <tr>\n",
       "      <th>SG</th>\n",
       "      <td>162059</td>\n",
       "    </tr>\n",
       "    <tr>\n",
       "      <th>VD</th>\n",
       "      <td>278009</td>\n",
       "    </tr>\n",
       "    <tr>\n",
       "      <th>ZH</th>\n",
       "      <td>267871</td>\n",
       "    </tr>\n",
       "    <tr>\n",
       "      <th>AG</th>\n",
       "      <td>0</td>\n",
       "    </tr>\n",
       "    <tr>\n",
       "      <th>AI</th>\n",
       "      <td>0</td>\n",
       "    </tr>\n",
       "    <tr>\n",
       "      <th>AR</th>\n",
       "      <td>0</td>\n",
       "    </tr>\n",
       "    <tr>\n",
       "      <th>BL</th>\n",
       "      <td>0</td>\n",
       "    </tr>\n",
       "    <tr>\n",
       "      <th>GL</th>\n",
       "      <td>0</td>\n",
       "    </tr>\n",
       "    <tr>\n",
       "      <th>GR</th>\n",
       "      <td>0</td>\n",
       "    </tr>\n",
       "    <tr>\n",
       "      <th>JU</th>\n",
       "      <td>0</td>\n",
       "    </tr>\n",
       "    <tr>\n",
       "      <th>NW</th>\n",
       "      <td>0</td>\n",
       "    </tr>\n",
       "    <tr>\n",
       "      <th>OW</th>\n",
       "      <td>0</td>\n",
       "    </tr>\n",
       "    <tr>\n",
       "      <th>SH</th>\n",
       "      <td>0</td>\n",
       "    </tr>\n",
       "    <tr>\n",
       "      <th>SZ</th>\n",
       "      <td>0</td>\n",
       "    </tr>\n",
       "    <tr>\n",
       "      <th>SO</th>\n",
       "      <td>0</td>\n",
       "    </tr>\n",
       "    <tr>\n",
       "      <th>TG</th>\n",
       "      <td>0</td>\n",
       "    </tr>\n",
       "    <tr>\n",
       "      <th>TI</th>\n",
       "      <td>0</td>\n",
       "    </tr>\n",
       "    <tr>\n",
       "      <th>UR</th>\n",
       "      <td>0</td>\n",
       "    </tr>\n",
       "    <tr>\n",
       "      <th>VS</th>\n",
       "      <td>0</td>\n",
       "    </tr>\n",
       "    <tr>\n",
       "      <th>ZG</th>\n",
       "      <td>0</td>\n",
       "    </tr>\n",
       "  </tbody>\n",
       "</table>\n",
       "</div>"
      ],
      "text/plain": [
       "        Approved Amount\n",
       "Canton                 \n",
       "BE               277396\n",
       "BS               284500\n",
       "FR               220108\n",
       "GE               288047\n",
       "LU               189382\n",
       "NE               241777\n",
       "SG               162059\n",
       "VD               278009\n",
       "ZH               267871\n",
       "AG                    0\n",
       "AI                    0\n",
       "AR                    0\n",
       "BL                    0\n",
       "GL                    0\n",
       "GR                    0\n",
       "JU                    0\n",
       "NW                    0\n",
       "OW                    0\n",
       "SH                    0\n",
       "SZ                    0\n",
       "SO                    0\n",
       "TG                    0\n",
       "TI                    0\n",
       "UR                    0\n",
       "VS                    0\n",
       "ZG                    0"
      ]
     },
     "execution_count": 66,
     "metadata": {},
     "output_type": "execute_result"
    }
   ],
   "source": [
    "canonical_grant_data"
   ]
  },
  {
   "cell_type": "code",
   "execution_count": 79,
   "metadata": {
    "collapsed": false
   },
   "outputs": [
    {
     "ename": "IndexError",
     "evalue": "list index out of range",
     "output_type": "error",
     "traceback": [
      "\u001b[1;31m---------------------------------------------------------------------------\u001b[0m",
      "\u001b[1;31mIndexError\u001b[0m                                Traceback (most recent call last)",
      "\u001b[1;32m<ipython-input-79-466162c53f6f>\u001b[0m in \u001b[0;36m<module>\u001b[1;34m()\u001b[0m\n\u001b[0;32m      8\u001b[0m                      \u001b[1;31m#topojson='objects.cantons',\u001b[0m\u001b[1;33m\u001b[0m\u001b[1;33m\u001b[0m\u001b[0m\n\u001b[0;32m      9\u001b[0m                      \u001b[0mfill_color\u001b[0m\u001b[1;33m=\u001b[0m\u001b[1;34m'YlGn'\u001b[0m\u001b[1;33m,\u001b[0m \u001b[1;31m#fill_opacity=0.7, line_opacity=0.2,\u001b[0m\u001b[1;33m\u001b[0m\u001b[0m\n\u001b[1;32m---> 10\u001b[1;33m                      \u001b[0mlegend_name\u001b[0m \u001b[1;33m=\u001b[0m \u001b[1;34m'Average grant data per project'\u001b[0m\u001b[1;33m\u001b[0m\u001b[0m\n\u001b[0m\u001b[0;32m     11\u001b[0m                     )\n\u001b[0;32m     12\u001b[0m \u001b[0mch_map\u001b[0m\u001b[1;33m.\u001b[0m\u001b[0msave\u001b[0m\u001b[1;33m(\u001b[0m\u001b[1;34m'ch_map.html'\u001b[0m\u001b[1;33m)\u001b[0m\u001b[1;33m\u001b[0m\u001b[0m\n",
      "\u001b[1;32m/home/pierre/anaconda3/lib/python3.5/site-packages/folium-0.3.0.dev0-py3.5.egg/folium/folium.py\u001b[0m in \u001b[0;36mchoropleth\u001b[1;34m(self, geo_path, geo_str, data_out, data, columns, key_on, threshold_scale, fill_color, fill_opacity, line_color, line_weight, line_opacity, legend_name, topojson, reset, smooth_factor, highlight)\u001b[0m\n\u001b[0;32m    261\u001b[0m         \u001b[1;32mif\u001b[0m \u001b[0mhasattr\u001b[0m\u001b[1;33m(\u001b[0m\u001b[0mdata\u001b[0m\u001b[1;33m,\u001b[0m \u001b[1;34m'set_index'\u001b[0m\u001b[1;33m)\u001b[0m\u001b[1;33m:\u001b[0m\u001b[1;33m\u001b[0m\u001b[0m\n\u001b[0;32m    262\u001b[0m             \u001b[1;31m# This is a pd.DataFrame\u001b[0m\u001b[1;33m\u001b[0m\u001b[1;33m\u001b[0m\u001b[0m\n\u001b[1;32m--> 263\u001b[1;33m             \u001b[0mcolor_data\u001b[0m \u001b[1;33m=\u001b[0m \u001b[0mdata\u001b[0m\u001b[1;33m.\u001b[0m\u001b[0mset_index\u001b[0m\u001b[1;33m(\u001b[0m\u001b[0mcolumns\u001b[0m\u001b[1;33m[\u001b[0m\u001b[1;36m0\u001b[0m\u001b[1;33m]\u001b[0m\u001b[1;33m)\u001b[0m\u001b[1;33m[\u001b[0m\u001b[0mcolumns\u001b[0m\u001b[1;33m[\u001b[0m\u001b[1;36m1\u001b[0m\u001b[1;33m]\u001b[0m\u001b[1;33m]\u001b[0m\u001b[1;33m.\u001b[0m\u001b[0mto_dict\u001b[0m\u001b[1;33m(\u001b[0m\u001b[1;33m)\u001b[0m\u001b[1;33m\u001b[0m\u001b[0m\n\u001b[0m\u001b[0;32m    264\u001b[0m         \u001b[1;32melif\u001b[0m \u001b[0mhasattr\u001b[0m\u001b[1;33m(\u001b[0m\u001b[0mdata\u001b[0m\u001b[1;33m,\u001b[0m \u001b[1;34m'to_dict'\u001b[0m\u001b[1;33m)\u001b[0m\u001b[1;33m:\u001b[0m\u001b[1;33m\u001b[0m\u001b[0m\n\u001b[0;32m    265\u001b[0m             \u001b[1;31m# This is a pd.Series\u001b[0m\u001b[1;33m\u001b[0m\u001b[1;33m\u001b[0m\u001b[0m\n",
      "\u001b[1;31mIndexError\u001b[0m: list index out of range"
     ]
    }
   ],
   "source": [
    "geo_str = 'ch-cantons.topojson.json'\n",
    "\n",
    "ch_map = folium.Map(location=[46.6430788,8.018626], tiles='Mapbox Bright', zoom_start=7)\n",
    "ch_map.choropleth(geo_path=geo_str, \n",
    "                     data=canonical_grant_data,\n",
    "                     columns=['Approved Amount'],\n",
    "                     key_on='feature.id',\n",
    "                     #topojson='objects.cantons',\n",
    "                     fill_color='YlGn', #fill_opacity=0.7, line_opacity=0.2,   \n",
    "                     legend_name = 'Average grant data per project'\n",
    "                    )\n",
    "ch_map.save('ch_map.html')\n"
   ]
  },
  {
   "cell_type": "code",
   "execution_count": 17,
   "metadata": {
    "collapsed": false
   },
   "outputs": [
    {
     "data": {
      "text/html": [
       "<iframe width='100%' height=\"350\" src=\"ch_map.html\"></iframe>"
      ],
      "text/plain": [
       "<IPython.core.display.HTML object>"
      ]
     },
     "metadata": {},
     "output_type": "display_data"
    }
   ],
   "source": [
    "%%HTML\n",
    "<iframe width='100%' height=\"350\" src=\"ch_map.html\"></iframe>"
   ]
  },
  {
   "cell_type": "markdown",
   "metadata": {},
   "source": [
    "# TESTING AREA TO REMOVE A THE END"
   ]
  },
  {
   "cell_type": "code",
   "execution_count": null,
   "metadata": {
    "collapsed": false
   },
   "outputs": [],
   "source": [
    "grant_data.head()"
   ]
  },
  {
   "cell_type": "code",
   "execution_count": null,
   "metadata": {
    "collapsed": false
   },
   "outputs": [],
   "source": [
    "import geocoder\n",
    "g = geocoder.google('Paul Scherrer Institut')"
   ]
  },
  {
   "cell_type": "code",
   "execution_count": null,
   "metadata": {
    "collapsed": false
   },
   "outputs": [],
   "source": [
    "g"
   ]
  },
  {
   "cell_type": "code",
   "execution_count": null,
   "metadata": {
    "collapsed": false
   },
   "outputs": [],
   "source": []
  },
  {
   "cell_type": "code",
   "execution_count": null,
   "metadata": {
    "collapsed": true
   },
   "outputs": [],
   "source": []
  }
 ],
 "metadata": {
  "anaconda-cloud": {},
  "kernelspec": {
   "display_name": "Python [Root]",
   "language": "python",
   "name": "Python [Root]"
  },
  "language_info": {
   "codemirror_mode": {
    "name": "ipython",
    "version": 3
   },
   "file_extension": ".py",
   "mimetype": "text/x-python",
   "name": "python",
   "nbconvert_exporter": "python",
   "pygments_lexer": "ipython3",
   "version": "3.5.2"
  }
 },
 "nbformat": 4,
 "nbformat_minor": 1
}
