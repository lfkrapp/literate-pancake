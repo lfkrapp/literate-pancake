{
 "cells": [
  {
   "cell_type": "markdown",
   "metadata": {},
   "source": [
    "# Building a choropleth map"
   ]
  },
  {
   "cell_type": "code",
   "execution_count": 229,
   "metadata": {
    "collapsed": false
   },
   "outputs": [
    {
     "name": "stdout",
     "output_type": "stream",
     "text": [
      "The autoreload extension is already loaded. To reload it, use:\n",
      "  %reload_ext autoreload\n"
     ]
    }
   ],
   "source": [
    "%matplotlib inline\n",
    "import pandas as pd\n",
    "import numpy as np\n",
    "import time\n",
    "import glob\n",
    "import matplotlib.pyplot as plt\n",
    "import folium\n",
    "from time import sleep\n",
    "\n",
    "%load_ext autoreload\n",
    "%autoreload 2"
   ]
  },
  {
   "cell_type": "markdown",
   "metadata": {},
   "source": [
    "## Loading & wrangling the data "
   ]
  },
  {
   "cell_type": "code",
   "execution_count": 19,
   "metadata": {
    "collapsed": false
   },
   "outputs": [],
   "source": [
    "data_path = 'data/P3_GrantExport.xlsx'\n",
    "grant_data = pd.read_excel(data_path)"
   ]
  },
  {
   "cell_type": "markdown",
   "metadata": {},
   "source": [
    "We start by selecting the features we're interested in. Obviously, we need the grant given to a project. We also want the University (from which we will retrieve the canton) and the Institution (since for some projects one is missing, but we're somehow confident we can retrieve the canton from either of those two). At last, we decide for now to save the reason a project got a funding, without being sure whether or not it will be usefull.\n",
    "\n"
   ]
  },
  {
   "cell_type": "code",
   "execution_count": 20,
   "metadata": {
    "collapsed": false
   },
   "outputs": [
    {
     "data": {
      "text/plain": [
       "Approved Amount                 63967\n",
       "University                      50988\n",
       "Institution                     58831\n",
       "Funding Instrument Hierarchy    62915\n",
       "dtype: int64"
      ]
     },
     "execution_count": 20,
     "metadata": {},
     "output_type": "execute_result"
    }
   ],
   "source": [
    "grant_data = grant_data[[\"Approved Amount\", \"University\", \"Institution\",\"Funding Instrument Hierarchy\"]]\n",
    "grant_data.count()"
   ]
  },
  {
   "cell_type": "markdown",
   "metadata": {},
   "source": [
    "For now we did not remove any entries. A more thorough visualization gave us the confirmation that we should though. We start by removing entries for which the Approved Amount is not a number, since we won't be able to use those data in this study."
   ]
  },
  {
   "cell_type": "code",
   "execution_count": 21,
   "metadata": {
    "collapsed": false
   },
   "outputs": [
    {
     "data": {
      "text/plain": [
       "Approved Amount                 52663\n",
       "University                      50487\n",
       "Institution                     48205\n",
       "Funding Instrument Hierarchy    51620\n",
       "dtype: int64"
      ]
     },
     "execution_count": 21,
     "metadata": {},
     "output_type": "execute_result"
    }
   ],
   "source": [
    "grant_data = grant_data[grant_data['Approved Amount'].apply(lambda x: str(x).isdigit())]\n",
    "grant_data.count()"
   ]
  },
  {
   "cell_type": "markdown",
   "metadata": {},
   "source": [
    "As we can see we already removed about 11K entries, but we can do better. Indeed, we will use the Google's API to link a university name or an institution to a canton. So far we are confident that we can find the canton from either of those two. That means however, that we cannot treat data that miss both those values."
   ]
  },
  {
   "cell_type": "code",
   "execution_count": 22,
   "metadata": {
    "collapsed": false
   },
   "outputs": [
    {
     "data": {
      "text/plain": [
       "Approved Amount                 51843\n",
       "University                      50487\n",
       "Institution                     48205\n",
       "Funding Instrument Hierarchy    50800\n",
       "dtype: int64"
      ]
     },
     "execution_count": 22,
     "metadata": {},
     "output_type": "execute_result"
    }
   ],
   "source": [
    "grant_data = grant_data.dropna(subset=[\"Institution\", \"University\"], how=\"all\")\n",
    "grant_data.count()"
   ]
  },
  {
   "cell_type": "markdown",
   "metadata": {},
   "source": [
    "We removed another 1K entries. But we saw a special value in the university field: Nicht zuteilbar - NA, for which we won't be able to retrieve the canton."
   ]
  },
  {
   "cell_type": "code",
   "execution_count": 23,
   "metadata": {
    "collapsed": false
   },
   "outputs": [
    {
     "data": {
      "text/plain": [
       "Approved Amount                 49252\n",
       "University                      47896\n",
       "Institution                     48025\n",
       "Funding Instrument Hierarchy    48231\n",
       "dtype: int64"
      ]
     },
     "execution_count": 23,
     "metadata": {},
     "output_type": "execute_result"
    }
   ],
   "source": [
    "grant_data = grant_data[grant_data[\"University\"] != \"Nicht zuteilbar - NA\"]\n",
    "grant_data.count()"
   ]
  },
  {
   "cell_type": "markdown",
   "metadata": {},
   "source": [
    "We observe that for many entries, an acronym is given at the end of the University field. A first logical step to do before moving to an API is to retrieve this acronym, and when possible, associate it to a canton (sometimes, it is already the canton's abbreviation itself). We will then have to  use the API on the remaining, undetermined entries."
   ]
  },
  {
   "cell_type": "code",
   "execution_count": 24,
   "metadata": {
    "collapsed": false
   },
   "outputs": [
    {
     "data": {
      "text/plain": [
       "ZH                           6704\n",
       "GE                           6346\n",
       "ETHZ                         6093\n",
       "BE                           5422\n",
       "BS                           4685\n",
       "EPFL                         4370\n",
       "LA                           4062\n",
       "FR                           2041\n",
       "NE                           1580\n",
       "NPO                          1463\n",
       "nan                          1356\n",
       "PSI                           535\n",
       "FP                            490\n",
       "SG                            424\n",
       "USI                           338\n",
       "EAWAG                         330\n",
       "HES-SO                        270\n",
       "ZFH                           256\n",
       "EMPA                          236\n",
       "FHNW                          221\n",
       "WSL                           220\n",
       "LU                            211\n",
       "IHEID                         194\n",
       "BFH                           136\n",
       "AGS                           135\n",
       "SUPSI                         134\n",
       "FMI                            83\n",
       "ASPIT                          81\n",
       "IDIAP                          81\n",
       "HSLU                           61\n",
       "                             ... \n",
       "HEPL                           16\n",
       "IRO                            14\n",
       "PHLU                           14\n",
       "PHSG                           13\n",
       "PHBern                         12\n",
       "IKG                            12\n",
       "EHB                            12\n",
       "SPF                            10\n",
       "BITG                            8\n",
       "CREALP                          8\n",
       "PHGR                            7\n",
       "HEPBEJUNE                       7\n",
       "HEPFR                           7\n",
       "PHZG                            7\n",
       "RWS                             6\n",
       "FUS                             6\n",
       "ISR                             6\n",
       "PHTG                            6\n",
       "IRSOL                           5\n",
       "PHSZ                            5\n",
       "ISSKA                           3\n",
       "FHKD                            3\n",
       "STHB                            3\n",
       "FTL                             2\n",
       "ASP                             2\n",
       "SHLR                            2\n",
       "PHVS                            2\n",
       "PHSH                            1\n",
       "Forschungskommission SAGW       1\n",
       "FFHS                            1\n",
       "Name: shorthand, dtype: int64"
      ]
     },
     "execution_count": 24,
     "metadata": {},
     "output_type": "execute_result"
    }
   ],
   "source": [
    "grant_data[\"shorthand\"] = grant_data[\"University\"].apply(lambda x : str(x).split(\"- \")[-1])\n",
    "grant_data[\"shorthand\"].value_counts()"
   ]
  },
  {
   "cell_type": "markdown",
   "metadata": {},
   "source": [
    "With this trick we can already sort a large portion of the dataframe. We will now create a feature \"Canton\" which we can fill with values of \"Short\" we can associate for a canton (including EPFL and ETH in VD and ZH because, come on), and let blank for others."
   ]
  },
  {
   "cell_type": "code",
   "execution_count": 47,
   "metadata": {
    "collapsed": false
   },
   "outputs": [],
   "source": [
    "#We already know the locations of some frequent occurences and it seems better to call the API on the fewer cases possible\n",
    "grant_data.replace([\"EPFL\", \"ETHZ\", \"LA\"], [\"VD\", \"ZH\", \"VD\"], inplace=True)"
   ]
  },
  {
   "cell_type": "code",
   "execution_count": 72,
   "metadata": {
    "collapsed": false
   },
   "outputs": [],
   "source": [
    "# data needed by parse_name_for_cantons\n",
    "abrv_path = 'data/cantons.csv'\n",
    "abrv_data = pd.read_csv(abrv_path, sep=',')\n",
    "\n",
    "# extract acronyms\n",
    "acronyms = abrv_data['acronym'].copy()\n",
    "\n",
    "# set acronyms as index for later\n",
    "abrv_data.set_index('canton', inplace=True)"
   ]
  },
  {
   "cell_type": "code",
   "execution_count": 78,
   "metadata": {
    "collapsed": false,
    "scrolled": true
   },
   "outputs": [
    {
     "data": {
      "text/plain": [
       "ZH    12797\n",
       "VD     8432\n",
       "GE     6346\n",
       "BE     5422\n",
       "BS     4685\n",
       "FR     2041\n",
       "NE     1580\n",
       "SG      424\n",
       "LU      211\n",
       "Name: Canton, dtype: int64"
      ]
     },
     "execution_count": 78,
     "metadata": {},
     "output_type": "execute_result"
    }
   ],
   "source": [
    "grant_data[\"Canton\"] = grant_data[\"shorthand\"][grant_data[\"shorthand\"].isin(acronyms.values)]\n",
    "grant_data[\"Canton\"].value_counts()\n",
    "#grant_data[\"Canton\"].describe()"
   ]
  },
  {
   "cell_type": "markdown",
   "metadata": {},
   "source": [
    "That's 40K less google searches ! :D"
   ]
  },
  {
   "cell_type": "markdown",
   "metadata": {},
   "source": [
    "Despite the fact that we have considerably reduced the number of unknown Cantons, we still try to investigate about 7000 university names. The limit of requests for the Google Maps Geocoding API is requests 2'500 per day so we need an other approach to solve this problem. Luckily, there are a lot of duplicates in the university name and they don't needed to be investigated twice."
   ]
  },
  {
   "cell_type": "code",
   "execution_count": 238,
   "metadata": {
    "collapsed": false
   },
   "outputs": [
    {
     "name": "stdout",
     "output_type": "stream",
     "text": [
      "University    65\n",
      "dtype: int64\n"
     ]
    },
    {
     "data": {
      "text/html": [
       "<div>\n",
       "<table border=\"1\" class=\"dataframe\">\n",
       "  <thead>\n",
       "    <tr style=\"text-align: right;\">\n",
       "      <th></th>\n",
       "      <th>University</th>\n",
       "    </tr>\n",
       "  </thead>\n",
       "  <tbody>\n",
       "    <tr>\n",
       "      <th>47601</th>\n",
       "      <td>Pädagogische Hochschule Schaffhausen</td>\n",
       "    </tr>\n",
       "    <tr>\n",
       "      <th>48266</th>\n",
       "      <td>Pädagogische Hochschule Nordwestschweiz</td>\n",
       "    </tr>\n",
       "    <tr>\n",
       "      <th>48769</th>\n",
       "      <td>Staatsunabh. Theologische Hochschule Basel</td>\n",
       "    </tr>\n",
       "    <tr>\n",
       "      <th>51199</th>\n",
       "      <td>Facoltà di Teologia di Lugano</td>\n",
       "    </tr>\n",
       "    <tr>\n",
       "      <th>53016</th>\n",
       "      <td>Fernfachhochschule Schweiz (Mitglied SUPSI)</td>\n",
       "    </tr>\n",
       "  </tbody>\n",
       "</table>\n",
       "</div>"
      ],
      "text/plain": [
       "                                        University\n",
       "47601         Pädagogische Hochschule Schaffhausen\n",
       "48266      Pädagogische Hochschule Nordwestschweiz\n",
       "48769   Staatsunabh. Theologische Hochschule Basel\n",
       "51199                Facoltà di Teologia di Lugano\n",
       "53016  Fernfachhochschule Schweiz (Mitglied SUPSI)"
      ]
     },
     "execution_count": 238,
     "metadata": {},
     "output_type": "execute_result"
    }
   ],
   "source": [
    "# remove duplicates and missing\n",
    "unknown_uni = grant_data[pd.isnull(grant_data['Canton'])]['University'].dropna().drop_duplicates().copy().to_frame()\n",
    "unknown_uni['University'] = unknown_uni['University'].apply(lambda x : str(x).split(\" -\")[0])\n",
    "\n",
    "# checking that there are not too many entry left\n",
    "print(unknown_uni.count())\n",
    "#unknown_uni.tail()"
   ]
  },
  {
   "cell_type": "markdown",
   "metadata": {},
   "source": [
    "To parse the name in the University column, we define the function find_canton_abrv. This function takes a string with some clue about the location and then try to find the location from this clue using the geocoder library and Google Maps Geocoding API. Finally, we use the find the canton name and convert it to an abreviation using the file cantons.csv."
   ]
  },
  {
   "cell_type": "code",
   "execution_count": 263,
   "metadata": {
    "collapsed": true
   },
   "outputs": [],
   "source": [
    "# library used to parse location\n",
    "import geocoder\n",
    "\n",
    "def find_canton_abrv(clue):\n",
    "    \"\"\"Find canton abreviation. \n",
    "    Take a string containg clues as input and\n",
    "    output a string of the abreviation or \n",
    "    1) NaN if not found\n",
    "    2) - if not in Switzerland\"\"\"\n",
    "    \n",
    "    # find location from clue\n",
    "    g = geocoder.google(clue)\n",
    "    sleep(1)\n",
    "    \n",
    "    if g.country == 'CH':\n",
    "        return g.state\n",
    "    \n",
    "    elif g.country == None:\n",
    "        return np.nan\n",
    "    else:\n",
    "        return '-'"
   ]
  },
  {
   "cell_type": "markdown",
   "metadata": {},
   "source": [
    "We can now try to fetch information on the unknown university (cell takes about 1 minute to execute)"
   ]
  },
  {
   "cell_type": "code",
   "execution_count": 261,
   "metadata": {
    "collapsed": false,
    "scrolled": true
   },
   "outputs": [],
   "source": [
    "# use find_canton_abrv\n",
    "unknown_uni['Canton'] = unknown_uni['University'].apply(lambda x : find_canton_abrv(x))"
   ]
  },
  {
   "cell_type": "code",
   "execution_count": 267,
   "metadata": {
    "collapsed": false
   },
   "outputs": [
    {
     "name": "stdout",
     "output_type": "stream",
     "text": [
      "True     46\n",
      "False    19\n",
      "Name: Canton, dtype: int64\n"
     ]
    },
    {
     "data": {
      "text/html": [
       "<div>\n",
       "<table border=\"1\" class=\"dataframe\">\n",
       "  <thead>\n",
       "    <tr style=\"text-align: right;\">\n",
       "      <th></th>\n",
       "      <th>University</th>\n",
       "      <th>Canton</th>\n",
       "    </tr>\n",
       "  </thead>\n",
       "  <tbody>\n",
       "    <tr>\n",
       "      <th>2</th>\n",
       "      <td>NPO (Biblioth., Museen, Verwalt.)</td>\n",
       "      <td>NaN</td>\n",
       "    </tr>\n",
       "    <tr>\n",
       "      <th>29</th>\n",
       "      <td>Eidg. Forschungsanstalt für Wald,Schnee,Land</td>\n",
       "      <td>NaN</td>\n",
       "    </tr>\n",
       "    <tr>\n",
       "      <th>56</th>\n",
       "      <td>Inst. de Hautes Etudes Internat. et du Dév</td>\n",
       "      <td>NaN</td>\n",
       "    </tr>\n",
       "    <tr>\n",
       "      <th>83</th>\n",
       "      <td>Weitere Institute</td>\n",
       "      <td>NaN</td>\n",
       "    </tr>\n",
       "    <tr>\n",
       "      <th>89</th>\n",
       "      <td>Firmen/Privatwirtschaft</td>\n",
       "      <td>NaN</td>\n",
       "    </tr>\n",
       "    <tr>\n",
       "      <th>138</th>\n",
       "      <td>Pädagogische Hochschule Graubünden</td>\n",
       "      <td>NaN</td>\n",
       "    </tr>\n",
       "    <tr>\n",
       "      <th>207</th>\n",
       "      <td>Pädagogische Hochschule Zürich</td>\n",
       "      <td>ZH</td>\n",
       "    </tr>\n",
       "    <tr>\n",
       "      <th>674</th>\n",
       "      <td>Schweiz. Institut für Kunstwissenschaft</td>\n",
       "      <td>NaN</td>\n",
       "    </tr>\n",
       "    <tr>\n",
       "      <th>704</th>\n",
       "      <td>SUP della Svizzera italiana</td>\n",
       "      <td>NaN</td>\n",
       "    </tr>\n",
       "    <tr>\n",
       "      <th>748</th>\n",
       "      <td>HES de Suisse occidentale</td>\n",
       "      <td>NaN</td>\n",
       "    </tr>\n",
       "  </tbody>\n",
       "</table>\n",
       "</div>"
      ],
      "text/plain": [
       "                                       University Canton\n",
       "2               NPO (Biblioth., Museen, Verwalt.)    NaN\n",
       "29   Eidg. Forschungsanstalt für Wald,Schnee,Land    NaN\n",
       "56     Inst. de Hautes Etudes Internat. et du Dév    NaN\n",
       "83                              Weitere Institute    NaN\n",
       "89                        Firmen/Privatwirtschaft    NaN\n",
       "138            Pädagogische Hochschule Graubünden    NaN\n",
       "207                Pädagogische Hochschule Zürich     ZH\n",
       "674       Schweiz. Institut für Kunstwissenschaft    NaN\n",
       "704                   SUP della Svizzera italiana    NaN\n",
       "748                     HES de Suisse occidentale    NaN"
      ]
     },
     "execution_count": 267,
     "metadata": {},
     "output_type": "execute_result"
    }
   ],
   "source": [
    "print(unknown_uni['Canton'].isnull().value_counts())\n",
    "unknown_uni.head(10)"
   ]
  },
  {
   "cell_type": "code",
   "execution_count": null,
   "metadata": {
    "collapsed": false
   },
   "outputs": [],
   "source": []
  },
  {
   "cell_type": "markdown",
   "metadata": {},
   "source": [
    "We can save cleaned data for later use without needing to run again the slow cell above"
   ]
  },
  {
   "cell_type": "code",
   "execution_count": 268,
   "metadata": {
    "collapsed": true
   },
   "outputs": [],
   "source": [
    "grant_data.to_csv(\"data/data.csv\")\n",
    "unknown_uni[unknown_uni['Canton'].isnull()].to_csv(\"data/still_unknown_uni.csv\")"
   ]
  },
  {
   "cell_type": "markdown",
   "metadata": {},
   "source": [
    "We should finally be able to retrieve the canton feature in this dataframe."
   ]
  },
  {
   "cell_type": "markdown",
   "metadata": {
    "collapsed": false
   },
   "source": [
    "## Linking the University name to a Swiss canton"
   ]
  },
  {
   "cell_type": "code",
   "execution_count": 29,
   "metadata": {
    "collapsed": true
   },
   "outputs": [],
   "source": [
    "geo_str = 'ch-cantons.topojson.json'\n",
    "\n",
    "ch_map = folium.Map(location=[46.6430788,8.018626], tiles='Mapbox Bright', zoom_start=7)\n",
    "ch_map.choropleth(geo_path=geo_str)\n",
    "ch_map.save('ch_map.html')"
   ]
  },
  {
   "cell_type": "code",
   "execution_count": 30,
   "metadata": {
    "collapsed": false
   },
   "outputs": [
    {
     "data": {
      "text/html": [
       "<iframe width='100%' height=\"350\" src=\"ch_map.html\"></iframe>"
      ],
      "text/plain": [
       "<IPython.core.display.HTML object>"
      ]
     },
     "metadata": {},
     "output_type": "display_data"
    }
   ],
   "source": [
    "%%HTML\n",
    "<iframe width='100%' height=\"350\" src=\"ch_map.html\"></iframe>"
   ]
  },
  {
   "cell_type": "markdown",
   "metadata": {},
   "source": [
    "# TESTING AREA TO REMOVE A THE END"
   ]
  },
  {
   "cell_type": "code",
   "execution_count": 143,
   "metadata": {
    "collapsed": false
   },
   "outputs": [
    {
     "data": {
      "text/html": [
       "<div>\n",
       "<table border=\"1\" class=\"dataframe\">\n",
       "  <thead>\n",
       "    <tr style=\"text-align: right;\">\n",
       "      <th></th>\n",
       "      <th>Approved Amount</th>\n",
       "      <th>University</th>\n",
       "      <th>Institution</th>\n",
       "      <th>Funding Instrument Hierarchy</th>\n",
       "      <th>shorthand</th>\n",
       "      <th>Canton</th>\n",
       "    </tr>\n",
       "  </thead>\n",
       "  <tbody>\n",
       "    <tr>\n",
       "      <th>1</th>\n",
       "      <td>41022</td>\n",
       "      <td>Université de Genève - GE</td>\n",
       "      <td>Faculté de Psychologie et des Sciences de l'Ed...</td>\n",
       "      <td>Project funding</td>\n",
       "      <td>GE</td>\n",
       "      <td>GE</td>\n",
       "    </tr>\n",
       "    <tr>\n",
       "      <th>2</th>\n",
       "      <td>79732</td>\n",
       "      <td>NPO (Biblioth., Museen, Verwalt.) - NPO</td>\n",
       "      <td>Kommission für das Corpus philosophorum medii ...</td>\n",
       "      <td>Project funding</td>\n",
       "      <td>NPO</td>\n",
       "      <td>NaN</td>\n",
       "    </tr>\n",
       "    <tr>\n",
       "      <th>3</th>\n",
       "      <td>52627</td>\n",
       "      <td>Universität Basel - BS</td>\n",
       "      <td>Abt. Handschriften und Alte Drucke Bibliothek ...</td>\n",
       "      <td>Project funding</td>\n",
       "      <td>BS</td>\n",
       "      <td>BS</td>\n",
       "    </tr>\n",
       "    <tr>\n",
       "      <th>4</th>\n",
       "      <td>120042</td>\n",
       "      <td>NPO (Biblioth., Museen, Verwalt.) - NPO</td>\n",
       "      <td>Schweiz. Thesauruskommission</td>\n",
       "      <td>Project funding</td>\n",
       "      <td>NPO</td>\n",
       "      <td>NaN</td>\n",
       "    </tr>\n",
       "    <tr>\n",
       "      <th>5</th>\n",
       "      <td>53009</td>\n",
       "      <td>Université de Fribourg - FR</td>\n",
       "      <td>Séminaire de politique économique, d'économie ...</td>\n",
       "      <td>Project funding</td>\n",
       "      <td>FR</td>\n",
       "      <td>FR</td>\n",
       "    </tr>\n",
       "  </tbody>\n",
       "</table>\n",
       "</div>"
      ],
      "text/plain": [
       "   Approved Amount                               University  \\\n",
       "1            41022                Université de Genève - GE   \n",
       "2            79732  NPO (Biblioth., Museen, Verwalt.) - NPO   \n",
       "3            52627                   Universität Basel - BS   \n",
       "4           120042  NPO (Biblioth., Museen, Verwalt.) - NPO   \n",
       "5            53009              Université de Fribourg - FR   \n",
       "\n",
       "                                         Institution  \\\n",
       "1  Faculté de Psychologie et des Sciences de l'Ed...   \n",
       "2  Kommission für das Corpus philosophorum medii ...   \n",
       "3  Abt. Handschriften und Alte Drucke Bibliothek ...   \n",
       "4                       Schweiz. Thesauruskommission   \n",
       "5  Séminaire de politique économique, d'économie ...   \n",
       "\n",
       "  Funding Instrument Hierarchy shorthand Canton  \n",
       "1              Project funding        GE     GE  \n",
       "2              Project funding       NPO    NaN  \n",
       "3              Project funding        BS     BS  \n",
       "4              Project funding       NPO    NaN  \n",
       "5              Project funding        FR     FR  "
      ]
     },
     "execution_count": 143,
     "metadata": {},
     "output_type": "execute_result"
    }
   ],
   "source": [
    "grant_data.head()"
   ]
  },
  {
   "cell_type": "code",
   "execution_count": 242,
   "metadata": {
    "collapsed": false
   },
   "outputs": [],
   "source": [
    "import geocoder\n",
    "g = geocoder.google('Paul Scherrer Institut')"
   ]
  },
  {
   "cell_type": "code",
   "execution_count": 249,
   "metadata": {
    "collapsed": false
   },
   "outputs": [
    {
     "data": {
      "text/plain": [
       "<[OK] Google - Geocode [Paul Scherrer Institut, 5232 Villigen, Switzerland]>"
      ]
     },
     "execution_count": 249,
     "metadata": {},
     "output_type": "execute_result"
    }
   ],
   "source": [
    "g"
   ]
  },
  {
   "cell_type": "code",
   "execution_count": null,
   "metadata": {
    "collapsed": false
   },
   "outputs": [],
   "source": []
  },
  {
   "cell_type": "code",
   "execution_count": null,
   "metadata": {
    "collapsed": true
   },
   "outputs": [],
   "source": []
  }
 ],
 "metadata": {
  "anaconda-cloud": {},
  "kernelspec": {
   "display_name": "Python 3",
   "language": "python",
   "name": "python3"
  },
  "language_info": {
   "codemirror_mode": {
    "name": "ipython",
    "version": 3
   },
   "file_extension": ".py",
   "mimetype": "text/x-python",
   "name": "python",
   "nbconvert_exporter": "python",
   "pygments_lexer": "ipython3",
   "version": "3.5.2+"
  }
 },
 "nbformat": 4,
 "nbformat_minor": 1
}
