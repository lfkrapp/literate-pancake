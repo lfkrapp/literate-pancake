{
 "cells": [
  {
   "cell_type": "markdown",
   "metadata": {},
   "source": [
    "# Building a choropleth map"
   ]
  },
  {
   "cell_type": "code",
   "execution_count": 1,
   "metadata": {
    "collapsed": false
   },
   "outputs": [],
   "source": [
    "%matplotlib inline\n",
    "import pandas as pd\n",
    "import numpy as np\n",
    "import time\n",
    "import glob\n",
    "import matplotlib.pyplot as plt\n",
    "import folium\n",
    "from time import sleep\n",
    "\n",
    "%load_ext autoreload\n",
    "%autoreload 2"
   ]
  },
  {
   "cell_type": "markdown",
   "metadata": {},
   "source": [
    "## Loading & wrangling the data "
   ]
  },
  {
   "cell_type": "code",
   "execution_count": 2,
   "metadata": {
    "collapsed": false
   },
   "outputs": [],
   "source": [
    "data_path = 'data/P3_GrantExport.xlsx'\n",
    "grant_data = pd.read_excel(data_path)"
   ]
  },
  {
   "cell_type": "markdown",
   "metadata": {},
   "source": [
    "We start by selecting the features we're interested in. Obviously, we need the grant given to a project. We also want the University (from which we will retrieve the canton) and the Institution (since for some projects one is missing, but we're somehow confident we can retrieve the canton from either of those two). At last, we decide for now to save the reason a project got a funding, without being sure whether or not it will be usefull.\n",
    "\n"
   ]
  },
  {
   "cell_type": "code",
   "execution_count": 3,
   "metadata": {
    "collapsed": false
   },
   "outputs": [
    {
     "data": {
      "text/plain": [
       "Approved Amount                 63967\n",
       "University                      50988\n",
       "Institution                     58831\n",
       "Funding Instrument Hierarchy    62915\n",
       "dtype: int64"
      ]
     },
     "execution_count": 3,
     "metadata": {},
     "output_type": "execute_result"
    }
   ],
   "source": [
    "grant_data = grant_data[[\"Approved Amount\", \"University\", \"Institution\",\"Funding Instrument Hierarchy\"]]\n",
    "grant_data.count()"
   ]
  },
  {
   "cell_type": "markdown",
   "metadata": {},
   "source": [
    "For now we did not remove any entries. A more thorough visualization gave us the confirmation that we should though. We start by removing entries for which the Approved Amount is not a number, since we won't be able to use those data in this study."
   ]
  },
  {
   "cell_type": "code",
   "execution_count": 4,
   "metadata": {
    "collapsed": false
   },
   "outputs": [
    {
     "data": {
      "text/plain": [
       "Approved Amount                 52663\n",
       "University                      50487\n",
       "Institution                     48205\n",
       "Funding Instrument Hierarchy    51620\n",
       "dtype: int64"
      ]
     },
     "execution_count": 4,
     "metadata": {},
     "output_type": "execute_result"
    }
   ],
   "source": [
    "grant_data = grant_data[grant_data['Approved Amount'].apply(lambda x: str(x).isdigit())]\n",
    "grant_data.count()"
   ]
  },
  {
   "cell_type": "markdown",
   "metadata": {},
   "source": [
    "As we can see we already removed about 11K entries, but we can do better. Indeed, we will use the Google's API to link a university name or an institution to a canton. So far we are confident that we can find the canton from either of those two. That means however, that we cannot treat data that miss both those values."
   ]
  },
  {
   "cell_type": "code",
   "execution_count": 5,
   "metadata": {
    "collapsed": false
   },
   "outputs": [
    {
     "data": {
      "text/plain": [
       "Approved Amount                 51843\n",
       "University                      50487\n",
       "Institution                     48205\n",
       "Funding Instrument Hierarchy    50800\n",
       "dtype: int64"
      ]
     },
     "execution_count": 5,
     "metadata": {},
     "output_type": "execute_result"
    }
   ],
   "source": [
    "grant_data = grant_data.dropna(subset=[\"Institution\", \"University\"], how=\"all\")\n",
    "grant_data.count()"
   ]
  },
  {
   "cell_type": "markdown",
   "metadata": {},
   "source": [
    "We removed another 1K entries. But we saw a special value in the university field: Nicht zuteilbar - NA, for which we won't be able to retrieve the canton."
   ]
  },
  {
   "cell_type": "code",
   "execution_count": 6,
   "metadata": {
    "collapsed": false
   },
   "outputs": [
    {
     "data": {
      "text/plain": [
       "Approved Amount                 49252\n",
       "University                      47896\n",
       "Institution                     48025\n",
       "Funding Instrument Hierarchy    48231\n",
       "dtype: int64"
      ]
     },
     "execution_count": 6,
     "metadata": {},
     "output_type": "execute_result"
    }
   ],
   "source": [
    "grant_data = grant_data[grant_data[\"University\"] != \"Nicht zuteilbar - NA\"]\n",
    "grant_data.count()"
   ]
  },
  {
   "cell_type": "markdown",
   "metadata": {},
   "source": [
    "We observe that for many entries, an acronym is given at the end of the University field. A first logical step to do before moving to an API is to retrieve this acronym, and when possible, associate it to a canton (sometimes, it is already the canton's abbreviation itself). We will then have to  use the API on the remaining, undetermined entries."
   ]
  },
  {
   "cell_type": "code",
   "execution_count": 7,
   "metadata": {
    "collapsed": false
   },
   "outputs": [
    {
     "data": {
      "text/plain": [
       "ZH                           6704\n",
       "GE                           6346\n",
       "ETHZ                         6093\n",
       "BE                           5422\n",
       "BS                           4685\n",
       "EPFL                         4370\n",
       "LA                           4062\n",
       "FR                           2041\n",
       "NE                           1580\n",
       "NPO                          1463\n",
       "nan                          1356\n",
       "PSI                           535\n",
       "FP                            490\n",
       "SG                            424\n",
       "USI                           338\n",
       "EAWAG                         330\n",
       "HES-SO                        270\n",
       "ZFH                           256\n",
       "EMPA                          236\n",
       "FHNW                          221\n",
       "WSL                           220\n",
       "LU                            211\n",
       "IHEID                         194\n",
       "BFH                           136\n",
       "AGS                           135\n",
       "SUPSI                         134\n",
       "FMI                            83\n",
       "IDIAP                          81\n",
       "ASPIT                          81\n",
       "HSLU                           61\n",
       "                             ... \n",
       "HEPL                           16\n",
       "IRO                            14\n",
       "PHLU                           14\n",
       "PHSG                           13\n",
       "EHB                            12\n",
       "PHBern                         12\n",
       "IKG                            12\n",
       "SPF                            10\n",
       "CREALP                          8\n",
       "BITG                            8\n",
       "HEPBEJUNE                       7\n",
       "PHGR                            7\n",
       "HEPFR                           7\n",
       "PHZG                            7\n",
       "FUS                             6\n",
       "ISR                             6\n",
       "PHTG                            6\n",
       "RWS                             6\n",
       "IRSOL                           5\n",
       "PHSZ                            5\n",
       "ISSKA                           3\n",
       "STHB                            3\n",
       "FHKD                            3\n",
       "ASP                             2\n",
       "SHLR                            2\n",
       "PHVS                            2\n",
       "FTL                             2\n",
       "PHSH                            1\n",
       "FFHS                            1\n",
       "Forschungskommission SAGW       1\n",
       "Name: shorthand, dtype: int64"
      ]
     },
     "execution_count": 7,
     "metadata": {},
     "output_type": "execute_result"
    }
   ],
   "source": [
    "grant_data[\"shorthand\"] = grant_data[\"University\"].apply(lambda x : str(x).split(\"- \")[-1])\n",
    "grant_data[\"shorthand\"].value_counts()"
   ]
  },
  {
   "cell_type": "markdown",
   "metadata": {},
   "source": [
    "With this trick we can already sort a large portion of the dataframe. We will now create a feature \"Canton\" which we can fill with values of \"Shorthand\" we can associate for a canton (including EPFL and ETH in VD and ZH because, come on), and let blank for others."
   ]
  },
  {
   "cell_type": "code",
   "execution_count": 8,
   "metadata": {
    "collapsed": false
   },
   "outputs": [],
   "source": [
    "#We already know the locations of some frequent occurences and it seems better to call the API on the fewer cases possible\n",
    "grant_data.replace([\"EPFL\", \"ETHZ\", \"LA\"], [\"VD\", \"ZH\", \"VD\"], inplace=True)"
   ]
  },
  {
   "cell_type": "code",
   "execution_count": 9,
   "metadata": {
    "collapsed": false
   },
   "outputs": [],
   "source": [
    "# data needed by parse_name_for_cantons\n",
    "abrv_path = 'data/cantons.csv'\n",
    "abrv_data = pd.read_csv(abrv_path, sep=',')\n",
    "\n",
    "# extract acronyms\n",
    "acronyms = abrv_data['acronym'].copy()\n",
    "\n",
    "# set acronyms as index for later\n",
    "abrv_data.set_index('canton', inplace=True)"
   ]
  },
  {
   "cell_type": "code",
   "execution_count": 10,
   "metadata": {
    "collapsed": false,
    "scrolled": true
   },
   "outputs": [
    {
     "data": {
      "text/plain": [
       "ZH    12797\n",
       "VD     8432\n",
       "GE     6346\n",
       "BE     5422\n",
       "BS     4685\n",
       "FR     2041\n",
       "NE     1580\n",
       "SG      424\n",
       "LU      211\n",
       "Name: Canton, dtype: int64"
      ]
     },
     "execution_count": 10,
     "metadata": {},
     "output_type": "execute_result"
    }
   ],
   "source": [
    "grant_data[\"Canton\"] = grant_data[\"shorthand\"][grant_data[\"shorthand\"].isin(acronyms.values)]\n",
    "grant_data[\"Canton\"].value_counts()\n",
    "#grant_data[\"Canton\"].describe()"
   ]
  },
  {
   "cell_type": "markdown",
   "metadata": {},
   "source": [
    "That's 40K less google searches ! :D"
   ]
  },
  {
   "cell_type": "markdown",
   "metadata": {},
   "source": [
    "## Dealing with non obvious values"
   ]
  },
  {
   "cell_type": "markdown",
   "metadata": {},
   "source": [
    "Despite the fact that we have considerably reduced the number of unknown Cantons, we still try to investigate about 7000 university names. The limit of requests for the Google Maps Geocoding API is requests 2'500 per day so we need an other approach to solve this problem. Luckily, there are a lot of duplicates in the university name and they don't needed to be investigated twice."
   ]
  },
  {
   "cell_type": "code",
   "execution_count": 11,
   "metadata": {
    "collapsed": false
   },
   "outputs": [
    {
     "name": "stdout",
     "output_type": "stream",
     "text": [
      "University    65\n",
      "dtype: int64\n"
     ]
    }
   ],
   "source": [
    "# remove duplicates and missing\n",
    "unknown_uni = grant_data[pd.isnull(grant_data['Canton'])]['University'].dropna().drop_duplicates().copy().to_frame()\n",
    "#unknown_uni['University'] = unknown_uni['University'].apply(lambda x : str(x).split(\" -\")[0])\n",
    "\n",
    "# checking that there are not too many entry left\n",
    "print(unknown_uni.count())\n",
    "#unknown_uni.tail()"
   ]
  },
  {
   "cell_type": "markdown",
   "metadata": {},
   "source": [
    "To parse the name in the University column, we define the function find_canton_abrv. This function takes a string with some clue about the location and then try to find the location from this clue using the geocoder library and Google Maps Geocoding API. Finally, we use the find the canton name and convert it to an abreviation using the file cantons.csv."
   ]
  },
  {
   "cell_type": "code",
   "execution_count": 12,
   "metadata": {
    "collapsed": true
   },
   "outputs": [],
   "source": [
    "# library used to parse location\n",
    "import geocoder\n",
    "\n",
    "def find_canton_abrv(clue):\n",
    "    \"\"\"Find canton abreviation. \n",
    "    Take a string containg clues as input and\n",
    "    output a string of the abreviation or \n",
    "    1) NaN if not found\n",
    "    2) - if not in Switzerland\"\"\"\n",
    "    \n",
    "    # find location from clue\n",
    "    g = geocoder.google(clue)\n",
    "    sleep(1)\n",
    "    \n",
    "    if g.country == 'CH':\n",
    "        return g.state\n",
    "    \n",
    "    elif g.country == None:\n",
    "        return np.nan\n",
    "    else:\n",
    "        return '-'"
   ]
  },
  {
   "cell_type": "markdown",
   "metadata": {},
   "source": [
    "We can now try to fetch information on the unknown university (cell takes about 1 minute to execute)"
   ]
  },
  {
   "cell_type": "code",
   "execution_count": 13,
   "metadata": {
    "collapsed": false,
    "scrolled": true
   },
   "outputs": [],
   "source": [
    "# use find_canton_abrv\n",
    "unknown_uni['Canton'] = unknown_uni['University'].apply(lambda x : find_canton_abrv(str(x).split(\" -\")[0]))"
   ]
  },
  {
   "cell_type": "code",
   "execution_count": 14,
   "metadata": {
    "collapsed": false
   },
   "outputs": [
    {
     "name": "stdout",
     "output_type": "stream",
     "text": [
      "True     46\n",
      "False    19\n",
      "Name: Canton, dtype: int64\n"
     ]
    },
    {
     "data": {
      "text/html": [
       "<div>\n",
       "<table border=\"1\" class=\"dataframe\">\n",
       "  <thead>\n",
       "    <tr style=\"text-align: right;\">\n",
       "      <th></th>\n",
       "      <th>University</th>\n",
       "      <th>Canton</th>\n",
       "    </tr>\n",
       "  </thead>\n",
       "  <tbody>\n",
       "    <tr>\n",
       "      <th>2</th>\n",
       "      <td>NPO (Biblioth., Museen, Verwalt.) - NPO</td>\n",
       "      <td>NaN</td>\n",
       "    </tr>\n",
       "    <tr>\n",
       "      <th>29</th>\n",
       "      <td>Eidg. Forschungsanstalt für Wald,Schnee,Land -...</td>\n",
       "      <td>NaN</td>\n",
       "    </tr>\n",
       "    <tr>\n",
       "      <th>56</th>\n",
       "      <td>Inst. de Hautes Etudes Internat. et du Dév - I...</td>\n",
       "      <td>NaN</td>\n",
       "    </tr>\n",
       "    <tr>\n",
       "      <th>83</th>\n",
       "      <td>Weitere Institute - FINST</td>\n",
       "      <td>NaN</td>\n",
       "    </tr>\n",
       "    <tr>\n",
       "      <th>89</th>\n",
       "      <td>Firmen/Privatwirtschaft - FP</td>\n",
       "      <td>NaN</td>\n",
       "    </tr>\n",
       "    <tr>\n",
       "      <th>138</th>\n",
       "      <td>Pädagogische Hochschule Graubünden - PHGR</td>\n",
       "      <td>NaN</td>\n",
       "    </tr>\n",
       "    <tr>\n",
       "      <th>207</th>\n",
       "      <td>Pädagogische Hochschule Zürich - PHZFH</td>\n",
       "      <td>ZH</td>\n",
       "    </tr>\n",
       "    <tr>\n",
       "      <th>674</th>\n",
       "      <td>Schweiz. Institut für Kunstwissenschaft - SIK-...</td>\n",
       "      <td>NaN</td>\n",
       "    </tr>\n",
       "    <tr>\n",
       "      <th>704</th>\n",
       "      <td>SUP della Svizzera italiana - SUPSI</td>\n",
       "      <td>NaN</td>\n",
       "    </tr>\n",
       "    <tr>\n",
       "      <th>748</th>\n",
       "      <td>HES de Suisse occidentale - HES-SO</td>\n",
       "      <td>NaN</td>\n",
       "    </tr>\n",
       "    <tr>\n",
       "      <th>920</th>\n",
       "      <td>Robert Walser-Stiftung Bern - RWS</td>\n",
       "      <td>BE</td>\n",
       "    </tr>\n",
       "    <tr>\n",
       "      <th>1494</th>\n",
       "      <td>Paul Scherrer Institut - PSI</td>\n",
       "      <td>AG</td>\n",
       "    </tr>\n",
       "    <tr>\n",
       "      <th>1707</th>\n",
       "      <td>Pädagogische Hochschule St. Gallen - PHSG</td>\n",
       "      <td>SG</td>\n",
       "    </tr>\n",
       "    <tr>\n",
       "      <th>1793</th>\n",
       "      <td>Eidg. Anstalt für Wasserversorgung - EAWAG</td>\n",
       "      <td>NaN</td>\n",
       "    </tr>\n",
       "    <tr>\n",
       "      <th>1851</th>\n",
       "      <td>Eidg. Material und Prüfungsanstalt - EMPA</td>\n",
       "      <td>NaN</td>\n",
       "    </tr>\n",
       "    <tr>\n",
       "      <th>2131</th>\n",
       "      <td>Physikal.-Meteorolog. Observatorium Davos - PMOD</td>\n",
       "      <td>GR</td>\n",
       "    </tr>\n",
       "    <tr>\n",
       "      <th>2471</th>\n",
       "      <td>Berner Fachhochschule - BFH</td>\n",
       "      <td>NaN</td>\n",
       "    </tr>\n",
       "    <tr>\n",
       "      <th>2634</th>\n",
       "      <td>Swiss Center for Electronics and Microtech. - ...</td>\n",
       "      <td>NaN</td>\n",
       "    </tr>\n",
       "    <tr>\n",
       "      <th>4872</th>\n",
       "      <td>Weitere Spitäler - ASPIT</td>\n",
       "      <td>NaN</td>\n",
       "    </tr>\n",
       "    <tr>\n",
       "      <th>4900</th>\n",
       "      <td>AO Research Institute - AORI</td>\n",
       "      <td>-</td>\n",
       "    </tr>\n",
       "    <tr>\n",
       "      <th>4961</th>\n",
       "      <td>Allergie- und Asthmaforschung - SIAF</td>\n",
       "      <td>NaN</td>\n",
       "    </tr>\n",
       "    <tr>\n",
       "      <th>5090</th>\n",
       "      <td>Forschungsinstitut für biologischen Landbau - ...</td>\n",
       "      <td>NaN</td>\n",
       "    </tr>\n",
       "    <tr>\n",
       "      <th>5136</th>\n",
       "      <td>Friedrich Miescher Institute - FMI</td>\n",
       "      <td>NaN</td>\n",
       "    </tr>\n",
       "    <tr>\n",
       "      <th>5187</th>\n",
       "      <td>Kantonsspital St. Gallen - KSPSG</td>\n",
       "      <td>SG</td>\n",
       "    </tr>\n",
       "    <tr>\n",
       "      <th>5292</th>\n",
       "      <td>Forschungsanstalten Agroscope - AGS</td>\n",
       "      <td>NaN</td>\n",
       "    </tr>\n",
       "    <tr>\n",
       "      <th>5847</th>\n",
       "      <td>Ente Ospedaliero Cantonale - EOC</td>\n",
       "      <td>NaN</td>\n",
       "    </tr>\n",
       "    <tr>\n",
       "      <th>6072</th>\n",
       "      <td>Inst. universit. romand de Santé au Travail - IST</td>\n",
       "      <td>NaN</td>\n",
       "    </tr>\n",
       "    <tr>\n",
       "      <th>8266</th>\n",
       "      <td>Eidg. Hochschulinstitut für Berufsbildung - EHB</td>\n",
       "      <td>NaN</td>\n",
       "    </tr>\n",
       "    <tr>\n",
       "      <th>8470</th>\n",
       "      <td>Zürcher Fachhochschule (ohne PH) - ZFH</td>\n",
       "      <td>NaN</td>\n",
       "    </tr>\n",
       "    <tr>\n",
       "      <th>8717</th>\n",
       "      <td>Università della Svizzera italiana - USI</td>\n",
       "      <td>NaN</td>\n",
       "    </tr>\n",
       "    <tr>\n",
       "      <th>...</th>\n",
       "      <td>...</td>\n",
       "      <td>...</td>\n",
       "    </tr>\n",
       "    <tr>\n",
       "      <th>15515</th>\n",
       "      <td>Pädagogische Hochschule Bern - PHBern</td>\n",
       "      <td>BE</td>\n",
       "    </tr>\n",
       "    <tr>\n",
       "      <th>16655</th>\n",
       "      <td>Institut Universitaire Kurt Bösch - IUKB</td>\n",
       "      <td>NaN</td>\n",
       "    </tr>\n",
       "    <tr>\n",
       "      <th>18035</th>\n",
       "      <td>Schweizer Paraplegiker Forschung - SPF</td>\n",
       "      <td>NaN</td>\n",
       "    </tr>\n",
       "    <tr>\n",
       "      <th>18550</th>\n",
       "      <td>Hochschule Luzern - HSLU</td>\n",
       "      <td>LU</td>\n",
       "    </tr>\n",
       "    <tr>\n",
       "      <th>19141</th>\n",
       "      <td>Forschungsinstitut für Opthalmologie - IRO</td>\n",
       "      <td>NaN</td>\n",
       "    </tr>\n",
       "    <tr>\n",
       "      <th>19316</th>\n",
       "      <td>Haute école pédagogique du canton de Vaud - HEPL</td>\n",
       "      <td>NaN</td>\n",
       "    </tr>\n",
       "    <tr>\n",
       "      <th>26433</th>\n",
       "      <td>Fachhochschule Ostschweiz - FHO</td>\n",
       "      <td>NaN</td>\n",
       "    </tr>\n",
       "    <tr>\n",
       "      <th>27814</th>\n",
       "      <td>Inst. Suisse de Spéléologie et Karstologie - I...</td>\n",
       "      <td>NaN</td>\n",
       "    </tr>\n",
       "    <tr>\n",
       "      <th>27895</th>\n",
       "      <td>Swiss Institute of Bioinformatics - SIB</td>\n",
       "      <td>NaN</td>\n",
       "    </tr>\n",
       "    <tr>\n",
       "      <th>28169</th>\n",
       "      <td>Haute école pédagogique BE, JU, NE - HEPBEJUNE</td>\n",
       "      <td>NaN</td>\n",
       "    </tr>\n",
       "    <tr>\n",
       "      <th>28178</th>\n",
       "      <td>Pädagogische Hochschule Luzern - PHLU</td>\n",
       "      <td>LU</td>\n",
       "    </tr>\n",
       "    <tr>\n",
       "      <th>31512</th>\n",
       "      <td>Forschungskommission SAGW</td>\n",
       "      <td>NaN</td>\n",
       "    </tr>\n",
       "    <tr>\n",
       "      <th>32142</th>\n",
       "      <td>Istituto Svizzero di Roma - ISR</td>\n",
       "      <td>-</td>\n",
       "    </tr>\n",
       "    <tr>\n",
       "      <th>33524</th>\n",
       "      <td>Pädag. Hochschule Tessin (Teilschule SUPSI) - ASP</td>\n",
       "      <td>TI</td>\n",
       "    </tr>\n",
       "    <tr>\n",
       "      <th>35067</th>\n",
       "      <td>Haute école pédagogique fribourgeoise - HEPFR</td>\n",
       "      <td>NaN</td>\n",
       "    </tr>\n",
       "    <tr>\n",
       "      <th>35261</th>\n",
       "      <td>Pädagogische Hochschule Schwyz - PHSZ</td>\n",
       "      <td>SZ</td>\n",
       "    </tr>\n",
       "    <tr>\n",
       "      <th>36021</th>\n",
       "      <td>Pädagogische Hochschule Thurgau - PHTG</td>\n",
       "      <td>TG</td>\n",
       "    </tr>\n",
       "    <tr>\n",
       "      <th>37364</th>\n",
       "      <td>Biotechnologie Institut Thurgau - BITG</td>\n",
       "      <td>TG</td>\n",
       "    </tr>\n",
       "    <tr>\n",
       "      <th>40511</th>\n",
       "      <td>Fachhochschule Kalaidos - FHKD</td>\n",
       "      <td>NaN</td>\n",
       "    </tr>\n",
       "    <tr>\n",
       "      <th>41018</th>\n",
       "      <td>Schweizer Kompetenzzentrum Sozialwissensch. - ...</td>\n",
       "      <td>NaN</td>\n",
       "    </tr>\n",
       "    <tr>\n",
       "      <th>41467</th>\n",
       "      <td>Pädagogische Hochschule Wallis - PHVS</td>\n",
       "      <td>NaN</td>\n",
       "    </tr>\n",
       "    <tr>\n",
       "      <th>43711</th>\n",
       "      <td>Schweiz. Hochschule für Logopädie Rorschach - ...</td>\n",
       "      <td>None</td>\n",
       "    </tr>\n",
       "    <tr>\n",
       "      <th>45038</th>\n",
       "      <td>Pädagogische Hochschule Zug - PHZG</td>\n",
       "      <td>NaN</td>\n",
       "    </tr>\n",
       "    <tr>\n",
       "      <th>45205</th>\n",
       "      <td>Instituto Ricerche Solari Locarno - IRSOL</td>\n",
       "      <td>TI</td>\n",
       "    </tr>\n",
       "    <tr>\n",
       "      <th>45459</th>\n",
       "      <td>Franklin University Switzerland - FUS</td>\n",
       "      <td>NaN</td>\n",
       "    </tr>\n",
       "    <tr>\n",
       "      <th>47601</th>\n",
       "      <td>Pädagogische Hochschule Schaffhausen - PHSH</td>\n",
       "      <td>SH</td>\n",
       "    </tr>\n",
       "    <tr>\n",
       "      <th>48266</th>\n",
       "      <td>Pädagogische Hochschule Nordwestschweiz - PHFHNW</td>\n",
       "      <td>NaN</td>\n",
       "    </tr>\n",
       "    <tr>\n",
       "      <th>48769</th>\n",
       "      <td>Staatsunabh. Theologische Hochschule Basel - STHB</td>\n",
       "      <td>BS</td>\n",
       "    </tr>\n",
       "    <tr>\n",
       "      <th>51199</th>\n",
       "      <td>Facoltà di Teologia di Lugano - FTL</td>\n",
       "      <td>TI</td>\n",
       "    </tr>\n",
       "    <tr>\n",
       "      <th>53016</th>\n",
       "      <td>Fernfachhochschule Schweiz (Mitglied SUPSI) - ...</td>\n",
       "      <td>NaN</td>\n",
       "    </tr>\n",
       "  </tbody>\n",
       "</table>\n",
       "<p>65 rows × 2 columns</p>\n",
       "</div>"
      ],
      "text/plain": [
       "                                              University Canton\n",
       "2                NPO (Biblioth., Museen, Verwalt.) - NPO    NaN\n",
       "29     Eidg. Forschungsanstalt für Wald,Schnee,Land -...    NaN\n",
       "56     Inst. de Hautes Etudes Internat. et du Dév - I...    NaN\n",
       "83                             Weitere Institute - FINST    NaN\n",
       "89                          Firmen/Privatwirtschaft - FP    NaN\n",
       "138            Pädagogische Hochschule Graubünden - PHGR    NaN\n",
       "207               Pädagogische Hochschule Zürich - PHZFH     ZH\n",
       "674    Schweiz. Institut für Kunstwissenschaft - SIK-...    NaN\n",
       "704                  SUP della Svizzera italiana - SUPSI    NaN\n",
       "748                   HES de Suisse occidentale - HES-SO    NaN\n",
       "920                    Robert Walser-Stiftung Bern - RWS     BE\n",
       "1494                        Paul Scherrer Institut - PSI     AG\n",
       "1707           Pädagogische Hochschule St. Gallen - PHSG     SG\n",
       "1793          Eidg. Anstalt für Wasserversorgung - EAWAG    NaN\n",
       "1851           Eidg. Material und Prüfungsanstalt - EMPA    NaN\n",
       "2131    Physikal.-Meteorolog. Observatorium Davos - PMOD     GR\n",
       "2471                         Berner Fachhochschule - BFH    NaN\n",
       "2634   Swiss Center for Electronics and Microtech. - ...    NaN\n",
       "4872                            Weitere Spitäler - ASPIT    NaN\n",
       "4900                        AO Research Institute - AORI      -\n",
       "4961                Allergie- und Asthmaforschung - SIAF    NaN\n",
       "5090   Forschungsinstitut für biologischen Landbau - ...    NaN\n",
       "5136                  Friedrich Miescher Institute - FMI    NaN\n",
       "5187                    Kantonsspital St. Gallen - KSPSG     SG\n",
       "5292                 Forschungsanstalten Agroscope - AGS    NaN\n",
       "5847                    Ente Ospedaliero Cantonale - EOC    NaN\n",
       "6072   Inst. universit. romand de Santé au Travail - IST    NaN\n",
       "8266     Eidg. Hochschulinstitut für Berufsbildung - EHB    NaN\n",
       "8470              Zürcher Fachhochschule (ohne PH) - ZFH    NaN\n",
       "8717            Università della Svizzera italiana - USI    NaN\n",
       "...                                                  ...    ...\n",
       "15515              Pädagogische Hochschule Bern - PHBern     BE\n",
       "16655           Institut Universitaire Kurt Bösch - IUKB    NaN\n",
       "18035             Schweizer Paraplegiker Forschung - SPF    NaN\n",
       "18550                           Hochschule Luzern - HSLU     LU\n",
       "19141         Forschungsinstitut für Opthalmologie - IRO    NaN\n",
       "19316   Haute école pédagogique du canton de Vaud - HEPL    NaN\n",
       "26433                    Fachhochschule Ostschweiz - FHO    NaN\n",
       "27814  Inst. Suisse de Spéléologie et Karstologie - I...    NaN\n",
       "27895            Swiss Institute of Bioinformatics - SIB    NaN\n",
       "28169     Haute école pédagogique BE, JU, NE - HEPBEJUNE    NaN\n",
       "28178              Pädagogische Hochschule Luzern - PHLU     LU\n",
       "31512                          Forschungskommission SAGW    NaN\n",
       "32142                    Istituto Svizzero di Roma - ISR      -\n",
       "33524  Pädag. Hochschule Tessin (Teilschule SUPSI) - ASP     TI\n",
       "35067      Haute école pédagogique fribourgeoise - HEPFR    NaN\n",
       "35261              Pädagogische Hochschule Schwyz - PHSZ     SZ\n",
       "36021             Pädagogische Hochschule Thurgau - PHTG     TG\n",
       "37364             Biotechnologie Institut Thurgau - BITG     TG\n",
       "40511                     Fachhochschule Kalaidos - FHKD    NaN\n",
       "41018  Schweizer Kompetenzzentrum Sozialwissensch. - ...    NaN\n",
       "41467              Pädagogische Hochschule Wallis - PHVS    NaN\n",
       "43711  Schweiz. Hochschule für Logopädie Rorschach - ...   None\n",
       "45038                 Pädagogische Hochschule Zug - PHZG    NaN\n",
       "45205          Instituto Ricerche Solari Locarno - IRSOL     TI\n",
       "45459              Franklin University Switzerland - FUS    NaN\n",
       "47601        Pädagogische Hochschule Schaffhausen - PHSH     SH\n",
       "48266   Pädagogische Hochschule Nordwestschweiz - PHFHNW    NaN\n",
       "48769  Staatsunabh. Theologische Hochschule Basel - STHB     BS\n",
       "51199                Facoltà di Teologia di Lugano - FTL     TI\n",
       "53016  Fernfachhochschule Schweiz (Mitglied SUPSI) - ...    NaN\n",
       "\n",
       "[65 rows x 2 columns]"
      ]
     },
     "execution_count": 14,
     "metadata": {},
     "output_type": "execute_result"
    }
   ],
   "source": [
    "print(unknown_uni['Canton'].isnull().value_counts())\n",
    "unknown_uni#.head(10)"
   ]
  },
  {
   "cell_type": "code",
   "execution_count": 15,
   "metadata": {
    "collapsed": false
   },
   "outputs": [],
   "source": [
    "unknown_uni[unknown_uni['Canton'].isnull()].to_csv(\"data/still_unknown_uni.csv\")"
   ]
  },
  {
   "cell_type": "markdown",
   "metadata": {},
   "source": [
    "We process the unknown university manually and load them"
   ]
  },
  {
   "cell_type": "code",
   "execution_count": 16,
   "metadata": {
    "collapsed": true
   },
   "outputs": [],
   "source": [
    "processed_unknown_uni_path = 'data/processed_unknown_uni.csv'\n",
    "processed_unknown_uni = pd.read_csv(processed_unknown_uni_path, sep=',')"
   ]
  },
  {
   "cell_type": "code",
   "execution_count": 17,
   "metadata": {
    "collapsed": false
   },
   "outputs": [
    {
     "data": {
      "text/html": [
       "<div>\n",
       "<table border=\"1\" class=\"dataframe\">\n",
       "  <thead>\n",
       "    <tr style=\"text-align: right;\">\n",
       "      <th></th>\n",
       "      <th>Unnamed: 0</th>\n",
       "      <th>University</th>\n",
       "      <th>Canton</th>\n",
       "    </tr>\n",
       "  </thead>\n",
       "  <tbody>\n",
       "    <tr>\n",
       "      <th>0</th>\n",
       "      <td>2</td>\n",
       "      <td>NPO (Biblioth., Museen, Verwalt.)</td>\n",
       "      <td>NaN</td>\n",
       "    </tr>\n",
       "    <tr>\n",
       "      <th>1</th>\n",
       "      <td>29</td>\n",
       "      <td>Eidg. Forschungsanstalt für Wald,Schnee,Land</td>\n",
       "      <td>ZH</td>\n",
       "    </tr>\n",
       "    <tr>\n",
       "      <th>2</th>\n",
       "      <td>56</td>\n",
       "      <td>Inst. de Hautes Etudes Internat. et du Dév</td>\n",
       "      <td>GE</td>\n",
       "    </tr>\n",
       "    <tr>\n",
       "      <th>3</th>\n",
       "      <td>83</td>\n",
       "      <td>Weitere Institute</td>\n",
       "      <td>NaN</td>\n",
       "    </tr>\n",
       "    <tr>\n",
       "      <th>4</th>\n",
       "      <td>89</td>\n",
       "      <td>Firmen/Privatwirtschaft</td>\n",
       "      <td>NaN</td>\n",
       "    </tr>\n",
       "    <tr>\n",
       "      <th>5</th>\n",
       "      <td>138</td>\n",
       "      <td>Pädagogische Hochschule Graubünden</td>\n",
       "      <td>GR</td>\n",
       "    </tr>\n",
       "    <tr>\n",
       "      <th>6</th>\n",
       "      <td>674</td>\n",
       "      <td>Schweiz. Institut für Kunstwissenschaft</td>\n",
       "      <td>ZH</td>\n",
       "    </tr>\n",
       "    <tr>\n",
       "      <th>7</th>\n",
       "      <td>704</td>\n",
       "      <td>SUP della Svizzera italiana</td>\n",
       "      <td>TI</td>\n",
       "    </tr>\n",
       "    <tr>\n",
       "      <th>8</th>\n",
       "      <td>748</td>\n",
       "      <td>HES de Suisse occidentale</td>\n",
       "      <td>JU</td>\n",
       "    </tr>\n",
       "    <tr>\n",
       "      <th>9</th>\n",
       "      <td>1793</td>\n",
       "      <td>Eidg. Anstalt für Wasserversorgung</td>\n",
       "      <td>ZH</td>\n",
       "    </tr>\n",
       "    <tr>\n",
       "      <th>10</th>\n",
       "      <td>1851</td>\n",
       "      <td>Eidg. Material und Prüfungsanstalt</td>\n",
       "      <td>ZH</td>\n",
       "    </tr>\n",
       "    <tr>\n",
       "      <th>11</th>\n",
       "      <td>2471</td>\n",
       "      <td>Berner Fachhochschule</td>\n",
       "      <td>BE</td>\n",
       "    </tr>\n",
       "    <tr>\n",
       "      <th>12</th>\n",
       "      <td>2634</td>\n",
       "      <td>Swiss Center for Electronics and Microtech.</td>\n",
       "      <td>NE</td>\n",
       "    </tr>\n",
       "    <tr>\n",
       "      <th>13</th>\n",
       "      <td>4872</td>\n",
       "      <td>Weitere Spitäler</td>\n",
       "      <td>NaN</td>\n",
       "    </tr>\n",
       "    <tr>\n",
       "      <th>14</th>\n",
       "      <td>4961</td>\n",
       "      <td>Allergie- und Asthmaforschung</td>\n",
       "      <td>ZH</td>\n",
       "    </tr>\n",
       "    <tr>\n",
       "      <th>15</th>\n",
       "      <td>5090</td>\n",
       "      <td>Forschungsinstitut für biologischen Landbau</td>\n",
       "      <td>AG</td>\n",
       "    </tr>\n",
       "    <tr>\n",
       "      <th>16</th>\n",
       "      <td>5136</td>\n",
       "      <td>Friedrich Miescher Institute</td>\n",
       "      <td>BS</td>\n",
       "    </tr>\n",
       "    <tr>\n",
       "      <th>17</th>\n",
       "      <td>5292</td>\n",
       "      <td>Forschungsanstalten Agroscope</td>\n",
       "      <td>-</td>\n",
       "    </tr>\n",
       "    <tr>\n",
       "      <th>18</th>\n",
       "      <td>5847</td>\n",
       "      <td>Ente Ospedaliero Cantonale</td>\n",
       "      <td>TI</td>\n",
       "    </tr>\n",
       "    <tr>\n",
       "      <th>19</th>\n",
       "      <td>6072</td>\n",
       "      <td>Inst. universit. romand de Santé au Travail</td>\n",
       "      <td>VD</td>\n",
       "    </tr>\n",
       "    <tr>\n",
       "      <th>20</th>\n",
       "      <td>8266</td>\n",
       "      <td>Eidg. Hochschulinstitut für Berufsbildung</td>\n",
       "      <td>BE</td>\n",
       "    </tr>\n",
       "    <tr>\n",
       "      <th>21</th>\n",
       "      <td>8470</td>\n",
       "      <td>Zürcher Fachhochschule (ohne PH)</td>\n",
       "      <td>ZH</td>\n",
       "    </tr>\n",
       "    <tr>\n",
       "      <th>22</th>\n",
       "      <td>8717</td>\n",
       "      <td>Università della Svizzera italiana</td>\n",
       "      <td>TI</td>\n",
       "    </tr>\n",
       "    <tr>\n",
       "      <th>23</th>\n",
       "      <td>8770</td>\n",
       "      <td>Institut für Kulturforschung Graubünden</td>\n",
       "      <td>GR</td>\n",
       "    </tr>\n",
       "    <tr>\n",
       "      <th>24</th>\n",
       "      <td>8825</td>\n",
       "      <td>Fachhochschule Nordwestschweiz (ohne PH)</td>\n",
       "      <td>SO</td>\n",
       "    </tr>\n",
       "    <tr>\n",
       "      <th>25</th>\n",
       "      <td>9088</td>\n",
       "      <td>Interkant. Hochschule für Heilpädagogik ZH</td>\n",
       "      <td>ZH</td>\n",
       "    </tr>\n",
       "    <tr>\n",
       "      <th>26</th>\n",
       "      <td>11071</td>\n",
       "      <td>Centre de rech. sur l'environnement alpin</td>\n",
       "      <td>VS</td>\n",
       "    </tr>\n",
       "    <tr>\n",
       "      <th>27</th>\n",
       "      <td>14364</td>\n",
       "      <td>Idiap Research Institute</td>\n",
       "      <td>VS</td>\n",
       "    </tr>\n",
       "    <tr>\n",
       "      <th>28</th>\n",
       "      <td>16655</td>\n",
       "      <td>Institut Universitaire Kurt Bösch</td>\n",
       "      <td>VS</td>\n",
       "    </tr>\n",
       "    <tr>\n",
       "      <th>29</th>\n",
       "      <td>18035</td>\n",
       "      <td>Schweizer Paraplegiker Forschung</td>\n",
       "      <td>LU</td>\n",
       "    </tr>\n",
       "    <tr>\n",
       "      <th>30</th>\n",
       "      <td>19141</td>\n",
       "      <td>Forschungsinstitut für Opthalmologie</td>\n",
       "      <td>-</td>\n",
       "    </tr>\n",
       "    <tr>\n",
       "      <th>31</th>\n",
       "      <td>19316</td>\n",
       "      <td>Haute école pédagogique du canton de Vaud</td>\n",
       "      <td>VD</td>\n",
       "    </tr>\n",
       "    <tr>\n",
       "      <th>32</th>\n",
       "      <td>26433</td>\n",
       "      <td>Fachhochschule Ostschweiz</td>\n",
       "      <td>SG</td>\n",
       "    </tr>\n",
       "    <tr>\n",
       "      <th>33</th>\n",
       "      <td>27814</td>\n",
       "      <td>Inst. Suisse de Spéléologie et Karstologie</td>\n",
       "      <td>NE</td>\n",
       "    </tr>\n",
       "    <tr>\n",
       "      <th>34</th>\n",
       "      <td>27895</td>\n",
       "      <td>Swiss Institute of Bioinformatics</td>\n",
       "      <td>VD</td>\n",
       "    </tr>\n",
       "    <tr>\n",
       "      <th>35</th>\n",
       "      <td>28169</td>\n",
       "      <td>Haute école pédagogique BE, JU, NE</td>\n",
       "      <td>NaN</td>\n",
       "    </tr>\n",
       "    <tr>\n",
       "      <th>36</th>\n",
       "      <td>31512</td>\n",
       "      <td>Forschungskommission SAGW</td>\n",
       "      <td>BE</td>\n",
       "    </tr>\n",
       "    <tr>\n",
       "      <th>37</th>\n",
       "      <td>35067</td>\n",
       "      <td>Haute école pédagogique fribourgeoise</td>\n",
       "      <td>FR</td>\n",
       "    </tr>\n",
       "    <tr>\n",
       "      <th>38</th>\n",
       "      <td>40511</td>\n",
       "      <td>Fachhochschule Kalaidos</td>\n",
       "      <td>ZH</td>\n",
       "    </tr>\n",
       "    <tr>\n",
       "      <th>39</th>\n",
       "      <td>41018</td>\n",
       "      <td>Schweizer Kompetenzzentrum Sozialwissensch.</td>\n",
       "      <td>VD</td>\n",
       "    </tr>\n",
       "    <tr>\n",
       "      <th>40</th>\n",
       "      <td>41467</td>\n",
       "      <td>Pädagogische Hochschule Wallis</td>\n",
       "      <td>VS</td>\n",
       "    </tr>\n",
       "    <tr>\n",
       "      <th>41</th>\n",
       "      <td>43711</td>\n",
       "      <td>Schweiz. Hochschule für Logopädie Rorschach</td>\n",
       "      <td>SG</td>\n",
       "    </tr>\n",
       "    <tr>\n",
       "      <th>42</th>\n",
       "      <td>45038</td>\n",
       "      <td>Pädagogische Hochschule Zug</td>\n",
       "      <td>ZG</td>\n",
       "    </tr>\n",
       "    <tr>\n",
       "      <th>43</th>\n",
       "      <td>45459</td>\n",
       "      <td>Franklin University Switzerland</td>\n",
       "      <td>TI</td>\n",
       "    </tr>\n",
       "    <tr>\n",
       "      <th>44</th>\n",
       "      <td>48266</td>\n",
       "      <td>Pädagogische Hochschule Nordwestschweiz</td>\n",
       "      <td>NaN</td>\n",
       "    </tr>\n",
       "    <tr>\n",
       "      <th>45</th>\n",
       "      <td>53016</td>\n",
       "      <td>Fernfachhochschule Schweiz (Mitglied SUPSI)</td>\n",
       "      <td>NaN</td>\n",
       "    </tr>\n",
       "  </tbody>\n",
       "</table>\n",
       "</div>"
      ],
      "text/plain": [
       "    Unnamed: 0                                    University Canton\n",
       "0            2             NPO (Biblioth., Museen, Verwalt.)    NaN\n",
       "1           29  Eidg. Forschungsanstalt für Wald,Schnee,Land     ZH\n",
       "2           56    Inst. de Hautes Etudes Internat. et du Dév     GE\n",
       "3           83                             Weitere Institute    NaN\n",
       "4           89                       Firmen/Privatwirtschaft    NaN\n",
       "5          138            Pädagogische Hochschule Graubünden     GR\n",
       "6          674       Schweiz. Institut für Kunstwissenschaft     ZH\n",
       "7          704                   SUP della Svizzera italiana     TI\n",
       "8          748                     HES de Suisse occidentale     JU\n",
       "9         1793            Eidg. Anstalt für Wasserversorgung     ZH\n",
       "10        1851            Eidg. Material und Prüfungsanstalt     ZH\n",
       "11        2471                         Berner Fachhochschule     BE\n",
       "12        2634   Swiss Center for Electronics and Microtech.     NE\n",
       "13        4872                              Weitere Spitäler    NaN\n",
       "14        4961                 Allergie- und Asthmaforschung     ZH\n",
       "15        5090   Forschungsinstitut für biologischen Landbau     AG\n",
       "16        5136                  Friedrich Miescher Institute     BS\n",
       "17        5292                 Forschungsanstalten Agroscope      -\n",
       "18        5847                    Ente Ospedaliero Cantonale     TI\n",
       "19        6072   Inst. universit. romand de Santé au Travail     VD\n",
       "20        8266     Eidg. Hochschulinstitut für Berufsbildung     BE\n",
       "21        8470              Zürcher Fachhochschule (ohne PH)     ZH\n",
       "22        8717            Università della Svizzera italiana     TI\n",
       "23        8770       Institut für Kulturforschung Graubünden     GR\n",
       "24        8825      Fachhochschule Nordwestschweiz (ohne PH)     SO\n",
       "25        9088    Interkant. Hochschule für Heilpädagogik ZH     ZH\n",
       "26       11071     Centre de rech. sur l'environnement alpin     VS\n",
       "27       14364                      Idiap Research Institute     VS\n",
       "28       16655             Institut Universitaire Kurt Bösch     VS\n",
       "29       18035              Schweizer Paraplegiker Forschung     LU\n",
       "30       19141          Forschungsinstitut für Opthalmologie      -\n",
       "31       19316     Haute école pédagogique du canton de Vaud     VD\n",
       "32       26433                     Fachhochschule Ostschweiz     SG\n",
       "33       27814    Inst. Suisse de Spéléologie et Karstologie     NE\n",
       "34       27895             Swiss Institute of Bioinformatics     VD\n",
       "35       28169            Haute école pédagogique BE, JU, NE    NaN\n",
       "36       31512                     Forschungskommission SAGW     BE\n",
       "37       35067         Haute école pédagogique fribourgeoise     FR\n",
       "38       40511                       Fachhochschule Kalaidos     ZH\n",
       "39       41018   Schweizer Kompetenzzentrum Sozialwissensch.     VD\n",
       "40       41467                Pädagogische Hochschule Wallis     VS\n",
       "41       43711   Schweiz. Hochschule für Logopädie Rorschach     SG\n",
       "42       45038                   Pädagogische Hochschule Zug     ZG\n",
       "43       45459               Franklin University Switzerland     TI\n",
       "44       48266       Pädagogische Hochschule Nordwestschweiz    NaN\n",
       "45       53016   Fernfachhochschule Schweiz (Mitglied SUPSI)    NaN"
      ]
     },
     "execution_count": 17,
     "metadata": {},
     "output_type": "execute_result"
    }
   ],
   "source": [
    "processed_unknown_uni"
   ]
  },
  {
   "cell_type": "code",
   "execution_count": 39,
   "metadata": {
    "collapsed": false
   },
   "outputs": [
    {
     "data": {
      "text/plain": [
       "array(['NPO (Biblioth., Museen, Verwalt.)',\n",
       "       'Eidg. Forschungsanstalt für Wald,Schnee,Land',\n",
       "       'Inst. de Hautes Etudes Internat. et du Dév', 'Weitere Institute',\n",
       "       'Firmen/Privatwirtschaft', 'Pädagogische Hochschule Graubünden',\n",
       "       'Schweiz. Institut für Kunstwissenschaft',\n",
       "       'SUP della Svizzera italiana', 'HES de Suisse occidentale',\n",
       "       'Eidg. Anstalt für Wasserversorgung',\n",
       "       'Eidg. Material und Prüfungsanstalt', 'Berner Fachhochschule',\n",
       "       'Swiss Center for Electronics and Microtech.', 'Weitere Spitäler',\n",
       "       'Allergie- und Asthmaforschung',\n",
       "       'Forschungsinstitut für biologischen Landbau',\n",
       "       'Friedrich Miescher Institute', 'Forschungsanstalten Agroscope',\n",
       "       'Ente Ospedaliero Cantonale',\n",
       "       'Inst. universit. romand de Santé au Travail',\n",
       "       'Eidg. Hochschulinstitut für Berufsbildung',\n",
       "       'Zürcher Fachhochschule (ohne PH)',\n",
       "       'Università della Svizzera italiana',\n",
       "       'Institut für Kulturforschung Graubünden',\n",
       "       'Fachhochschule Nordwestschweiz (ohne PH)',\n",
       "       'Interkant. Hochschule für Heilpädagogik ZH',\n",
       "       \"Centre de rech. sur l'environnement alpin\",\n",
       "       'Idiap Research Institute', 'Institut Universitaire Kurt Bösch',\n",
       "       'Schweizer Paraplegiker Forschung',\n",
       "       'Forschungsinstitut für Opthalmologie',\n",
       "       'Haute école pédagogique du canton de Vaud',\n",
       "       'Fachhochschule Ostschweiz',\n",
       "       'Inst. Suisse de Spéléologie et Karstologie',\n",
       "       'Swiss Institute of Bioinformatics',\n",
       "       'Haute école pédagogique BE, JU, NE', 'Forschungskommission SAGW',\n",
       "       'Haute école pédagogique fribourgeoise', 'Fachhochschule Kalaidos',\n",
       "       'Schweizer Kompetenzzentrum Sozialwissensch.',\n",
       "       'Pädagogische Hochschule Wallis',\n",
       "       'Schweiz. Hochschule für Logopädie Rorschach',\n",
       "       'Pädagogische Hochschule Zug', 'Franklin University Switzerland',\n",
       "       'Pädagogische Hochschule Nordwestschweiz',\n",
       "       'Fernfachhochschule Schweiz (Mitglied SUPSI)'], dtype=object)"
      ]
     },
     "execution_count": 39,
     "metadata": {},
     "output_type": "execute_result"
    }
   ],
   "source": [
    "processed_unknown_uni[\"University\"].values\n",
    "\n",
    "grant_data[\"University\"].values\n",
    "processed_unknown_uni[\"University\"].values"
   ]
  },
  {
   "cell_type": "markdown",
   "metadata": {},
   "source": [
    "We can save cleaned data for later use without needing to run again the slow cell above"
   ]
  },
  {
   "cell_type": "code",
   "execution_count": 19,
   "metadata": {
    "collapsed": true
   },
   "outputs": [],
   "source": [
    "grant_data.to_csv(\"data/data.csv\")"
   ]
  },
  {
   "cell_type": "markdown",
   "metadata": {},
   "source": [
    "We should finally be able to retrieve the canton feature in this dataframe."
   ]
  },
  {
   "cell_type": "markdown",
   "metadata": {
    "collapsed": false
   },
   "source": [
    "## Creating the map"
   ]
  },
  {
   "cell_type": "markdown",
   "metadata": {},
   "source": [
    "We have to manipulate a little bit the data frame first. It makes a bit more sense to use the means instead of the sums to check differences. Otherwise we would simply see a huge difference between ZH (ETHZ) and VD (EPFL) with the others cantons, since they hold so many more projects."
   ]
  },
  {
   "cell_type": "code",
   "execution_count": 252,
   "metadata": {
    "collapsed": false
   },
   "outputs": [
    {
     "data": {
      "text/html": [
       "<div>\n",
       "<table border=\"1\" class=\"dataframe\">\n",
       "  <thead>\n",
       "    <tr style=\"text-align: right;\">\n",
       "      <th></th>\n",
       "      <th>Canton</th>\n",
       "      <th>Approved Amount</th>\n",
       "    </tr>\n",
       "  </thead>\n",
       "  <tbody>\n",
       "    <tr>\n",
       "      <th>0</th>\n",
       "      <td>BE</td>\n",
       "      <td>277396</td>\n",
       "    </tr>\n",
       "    <tr>\n",
       "      <th>1</th>\n",
       "      <td>BS</td>\n",
       "      <td>284500</td>\n",
       "    </tr>\n",
       "    <tr>\n",
       "      <th>2</th>\n",
       "      <td>FR</td>\n",
       "      <td>220108</td>\n",
       "    </tr>\n",
       "    <tr>\n",
       "      <th>3</th>\n",
       "      <td>GE</td>\n",
       "      <td>288047</td>\n",
       "    </tr>\n",
       "    <tr>\n",
       "      <th>4</th>\n",
       "      <td>LU</td>\n",
       "      <td>189382</td>\n",
       "    </tr>\n",
       "    <tr>\n",
       "      <th>5</th>\n",
       "      <td>NE</td>\n",
       "      <td>241777</td>\n",
       "    </tr>\n",
       "    <tr>\n",
       "      <th>6</th>\n",
       "      <td>SG</td>\n",
       "      <td>162059</td>\n",
       "    </tr>\n",
       "    <tr>\n",
       "      <th>7</th>\n",
       "      <td>VD</td>\n",
       "      <td>278009</td>\n",
       "    </tr>\n",
       "    <tr>\n",
       "      <th>8</th>\n",
       "      <td>ZH</td>\n",
       "      <td>267871</td>\n",
       "    </tr>\n",
       "  </tbody>\n",
       "</table>\n",
       "</div>"
      ],
      "text/plain": [
       "  Canton  Approved Amount\n",
       "0     BE           277396\n",
       "1     BS           284500\n",
       "2     FR           220108\n",
       "3     GE           288047\n",
       "4     LU           189382\n",
       "5     NE           241777\n",
       "6     SG           162059\n",
       "7     VD           278009\n",
       "8     ZH           267871"
      ]
     },
     "execution_count": 252,
     "metadata": {},
     "output_type": "execute_result"
    }
   ],
   "source": [
    "canonical_grant_data = grant_data[[\"Approved Amount\", \"Canton\"]]#.set_index([\"Canton\"])\n",
    "#canonical_grant_data = canonical_grant_data.groupby(canonical_grant_data.index).mean()\n",
    "#canonical_grant_data = canonical_grant_data.groupby(canonical_grant_data[\"Canton\"]).mean()\n",
    "canonical_grant_data = canonical_grant_data.groupby([\"Canton\"], as_index=False).mean()\n",
    "canonical_grant_data"
   ]
  },
  {
   "cell_type": "markdown",
   "metadata": {},
   "source": [
    "We already want to create a scale for the plot:"
   ]
  },
  {
   "cell_type": "code",
   "execution_count": 253,
   "metadata": {
    "collapsed": false
   },
   "outputs": [
    {
     "data": {
      "text/plain": [
       "[162059.0, 193556.0, 225053.0, 256550.0, 288047.0]"
      ]
     },
     "execution_count": 253,
     "metadata": {},
     "output_type": "execute_result"
    }
   ],
   "source": [
    "scale = np.linspace(min(canonical_grant_data[\"Approved Amount\"]), max(canonical_grant_data[\"Approved Amount\"]), 5).tolist()\n",
    "scale"
   ]
  },
  {
   "cell_type": "markdown",
   "metadata": {},
   "source": [
    "However for Folium to work we need to have a match between the indices of the DF with the abbreviations present in the json file. Thus we add null values to the DF"
   ]
  },
  {
   "cell_type": "code",
   "execution_count": 254,
   "metadata": {
    "collapsed": false
   },
   "outputs": [],
   "source": [
    "for x in acronyms.values:\n",
    "    if x not in canonical_grant_data[\"Canton\"].values:\n",
    "        canonical_grant_data = canonical_grant_data.append({\"Canton\" : x, \"Approved Amount\" : 0}, ignore_index=True)"
   ]
  },
  {
   "cell_type": "code",
   "execution_count": 255,
   "metadata": {
    "collapsed": false
   },
   "outputs": [],
   "source": [
    "geo_str = 'ch-cantons.topojson.json'\n",
    "ch_map = folium.Map(location=[46.6430788,8.018626], tiles='Mapbox Bright', zoom_start=7)\n",
    "ch_map.choropleth(geo_path=geo_str, \n",
    "                     data=canonical_grant_data,\n",
    "                     columns=[\"Canton\", \"Approved Amount\"],\n",
    "                     threshold_scale=scale,\n",
    "                     key_on='feature.id',\n",
    "                     topojson='objects.cantons',\n",
    "                     fill_color='YlGn', fill_opacity=0.7, line_opacity=0.2,   \n",
    "                     legend_name = 'Average grant data per project'\n",
    "                    )\n",
    "ch_map.save('ch_map.html')\n"
   ]
  },
  {
   "cell_type": "code",
   "execution_count": 256,
   "metadata": {
    "collapsed": false
   },
   "outputs": [
    {
     "data": {
      "text/html": [
       "<iframe width='100%' height=\"350\" src=\"ch_map.html\"></iframe>"
      ],
      "text/plain": [
       "<IPython.core.display.HTML object>"
      ]
     },
     "metadata": {},
     "output_type": "display_data"
    }
   ],
   "source": [
    "\n",
    "%%HTML\n",
    "<iframe width='100%' height=\"350\" src=\"ch_map.html\"></iframe>\n"
   ]
  },
  {
   "cell_type": "markdown",
   "metadata": {},
   "source": [
    "## Conclusion\n",
    "\n",
    "It appears that on average, Geneva gets more money than the other cantons for a research project. This could potentially be linked to the international interest the city gets, and the involvement of many multinational firms in said projects. "
   ]
  },
  {
   "cell_type": "code",
   "execution_count": null,
   "metadata": {
    "collapsed": true
   },
   "outputs": [],
   "source": []
  }
 ],
 "metadata": {
  "anaconda-cloud": {},
  "kernelspec": {
   "display_name": "Python [Root]",
   "language": "python",
   "name": "Python [Root]"
  },
  "language_info": {
   "codemirror_mode": {
    "name": "ipython",
    "version": 3
   },
   "file_extension": ".py",
   "mimetype": "text/x-python",
   "name": "python",
   "nbconvert_exporter": "python",
   "pygments_lexer": "ipython3",
   "version": "3.5.2"
  }
 },
 "nbformat": 4,
 "nbformat_minor": 1
}
