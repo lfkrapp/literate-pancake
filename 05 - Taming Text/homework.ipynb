{
 "cells": [
  {
   "cell_type": "markdown",
   "metadata": {},
   "source": [
    "# Taming text"
   ]
  },
  {
   "cell_type": "code",
   "execution_count": 1,
   "metadata": {
    "collapsed": false
   },
   "outputs": [],
   "source": [
    "%matplotlib inline\n",
    "import pandas as pd\n",
    "pd.options.mode.chained_assignment = None  # default='warn'\n",
    "\n",
    "import numpy as np\n",
    "\n",
    "import matplotlib.pyplot as plt\n",
    "plt.style.use('ggplot')\n",
    "\n",
    "from wordcloud import WordCloud\n",
    "from PIL import Image\n",
    "\n",
    "import nltk\n",
    "import string\n",
    "\n",
    "import pycountry\n",
    "from nltk.sentiment.util import *\n",
    "\n",
    "from tqdm import tqdm\n",
    "import re\n",
    "\n",
    "\n",
    "%load_ext autoreload\n"
   ]
  },
  {
   "cell_type": "markdown",
   "metadata": {},
   "source": [
    "## 1) Word cloud from the corpus\n",
    "\n",
    "In this first part we want to extract from Mrs Clinton emails a word cloud. "
   ]
  },
  {
   "cell_type": "markdown",
   "metadata": {},
   "source": [
    "### 1.1) Data extraction"
   ]
  },
  {
   "cell_type": "code",
   "execution_count": 2,
   "metadata": {
    "collapsed": false
   },
   "outputs": [
    {
     "data": {
      "text/html": [
       "<div>\n",
       "<table border=\"1\" class=\"dataframe\">\n",
       "  <thead>\n",
       "    <tr style=\"text-align: right;\">\n",
       "      <th></th>\n",
       "      <th>Id</th>\n",
       "      <th>DocNumber</th>\n",
       "      <th>MetadataSubject</th>\n",
       "      <th>MetadataTo</th>\n",
       "      <th>MetadataFrom</th>\n",
       "      <th>SenderPersonId</th>\n",
       "      <th>MetadataDateSent</th>\n",
       "      <th>MetadataDateReleased</th>\n",
       "      <th>MetadataPdfLink</th>\n",
       "      <th>MetadataCaseNumber</th>\n",
       "      <th>...</th>\n",
       "      <th>ExtractedTo</th>\n",
       "      <th>ExtractedFrom</th>\n",
       "      <th>ExtractedCc</th>\n",
       "      <th>ExtractedDateSent</th>\n",
       "      <th>ExtractedCaseNumber</th>\n",
       "      <th>ExtractedDocNumber</th>\n",
       "      <th>ExtractedDateReleased</th>\n",
       "      <th>ExtractedReleaseInPartOrFull</th>\n",
       "      <th>ExtractedBodyText</th>\n",
       "      <th>RawText</th>\n",
       "    </tr>\n",
       "  </thead>\n",
       "  <tbody>\n",
       "    <tr>\n",
       "      <th>0</th>\n",
       "      <td>1</td>\n",
       "      <td>C05739545</td>\n",
       "      <td>WOW</td>\n",
       "      <td>H</td>\n",
       "      <td>Sullivan, Jacob J</td>\n",
       "      <td>87.0</td>\n",
       "      <td>2012-09-12T04:00:00+00:00</td>\n",
       "      <td>2015-05-22T04:00:00+00:00</td>\n",
       "      <td>DOCUMENTS/HRC_Email_1_296/HRCH2/DOC_0C05739545...</td>\n",
       "      <td>F-2015-04841</td>\n",
       "      <td>...</td>\n",
       "      <td>NaN</td>\n",
       "      <td>Sullivan, Jacob J &lt;Sullivan11@state.gov&gt;</td>\n",
       "      <td>NaN</td>\n",
       "      <td>Wednesday, September 12, 2012 10:16 AM</td>\n",
       "      <td>F-2015-04841</td>\n",
       "      <td>C05739545</td>\n",
       "      <td>05/13/2015</td>\n",
       "      <td>RELEASE IN FULL</td>\n",
       "      <td>NaN</td>\n",
       "      <td>UNCLASSIFIED\\nU.S. Department of State\\nCase N...</td>\n",
       "    </tr>\n",
       "    <tr>\n",
       "      <th>1</th>\n",
       "      <td>2</td>\n",
       "      <td>C05739546</td>\n",
       "      <td>H: LATEST: HOW SYRIA IS AIDING QADDAFI AND MOR...</td>\n",
       "      <td>H</td>\n",
       "      <td>NaN</td>\n",
       "      <td>NaN</td>\n",
       "      <td>2011-03-03T05:00:00+00:00</td>\n",
       "      <td>2015-05-22T04:00:00+00:00</td>\n",
       "      <td>DOCUMENTS/HRC_Email_1_296/HRCH1/DOC_0C05739546...</td>\n",
       "      <td>F-2015-04841</td>\n",
       "      <td>...</td>\n",
       "      <td>NaN</td>\n",
       "      <td>NaN</td>\n",
       "      <td>NaN</td>\n",
       "      <td>NaN</td>\n",
       "      <td>F-2015-04841</td>\n",
       "      <td>C05739546</td>\n",
       "      <td>05/13/2015</td>\n",
       "      <td>RELEASE IN PART</td>\n",
       "      <td>B6\\nThursday, March 3, 2011 9:45 PM\\nH: Latest...</td>\n",
       "      <td>UNCLASSIFIED\\nU.S. Department of State\\nCase N...</td>\n",
       "    </tr>\n",
       "    <tr>\n",
       "      <th>2</th>\n",
       "      <td>3</td>\n",
       "      <td>C05739547</td>\n",
       "      <td>CHRIS STEVENS</td>\n",
       "      <td>;H</td>\n",
       "      <td>Mills, Cheryl D</td>\n",
       "      <td>32.0</td>\n",
       "      <td>2012-09-12T04:00:00+00:00</td>\n",
       "      <td>2015-05-22T04:00:00+00:00</td>\n",
       "      <td>DOCUMENTS/HRC_Email_1_296/HRCH2/DOC_0C05739547...</td>\n",
       "      <td>F-2015-04841</td>\n",
       "      <td>...</td>\n",
       "      <td>B6</td>\n",
       "      <td>Mills, Cheryl D &lt;MillsCD@state.gov&gt;</td>\n",
       "      <td>Abedin, Huma</td>\n",
       "      <td>Wednesday, September 12, 2012 11:52 AM</td>\n",
       "      <td>F-2015-04841</td>\n",
       "      <td>C05739547</td>\n",
       "      <td>05/14/2015</td>\n",
       "      <td>RELEASE IN PART</td>\n",
       "      <td>Thx</td>\n",
       "      <td>UNCLASSIFIED\\nU.S. Department of State\\nCase N...</td>\n",
       "    </tr>\n",
       "    <tr>\n",
       "      <th>3</th>\n",
       "      <td>4</td>\n",
       "      <td>C05739550</td>\n",
       "      <td>CAIRO CONDEMNATION - FINAL</td>\n",
       "      <td>H</td>\n",
       "      <td>Mills, Cheryl D</td>\n",
       "      <td>32.0</td>\n",
       "      <td>2012-09-12T04:00:00+00:00</td>\n",
       "      <td>2015-05-22T04:00:00+00:00</td>\n",
       "      <td>DOCUMENTS/HRC_Email_1_296/HRCH2/DOC_0C05739550...</td>\n",
       "      <td>F-2015-04841</td>\n",
       "      <td>...</td>\n",
       "      <td>NaN</td>\n",
       "      <td>Mills, Cheryl D &lt;MillsCD@state.gov&gt;</td>\n",
       "      <td>Mitchell, Andrew B</td>\n",
       "      <td>Wednesday, September 12,2012 12:44 PM</td>\n",
       "      <td>F-2015-04841</td>\n",
       "      <td>C05739550</td>\n",
       "      <td>05/13/2015</td>\n",
       "      <td>RELEASE IN PART</td>\n",
       "      <td>NaN</td>\n",
       "      <td>UNCLASSIFIED\\nU.S. Department of State\\nCase N...</td>\n",
       "    </tr>\n",
       "    <tr>\n",
       "      <th>4</th>\n",
       "      <td>5</td>\n",
       "      <td>C05739554</td>\n",
       "      <td>H: LATEST: HOW SYRIA IS AIDING QADDAFI AND MOR...</td>\n",
       "      <td>Abedin, Huma</td>\n",
       "      <td>H</td>\n",
       "      <td>80.0</td>\n",
       "      <td>2011-03-11T05:00:00+00:00</td>\n",
       "      <td>2015-05-22T04:00:00+00:00</td>\n",
       "      <td>DOCUMENTS/HRC_Email_1_296/HRCH1/DOC_0C05739554...</td>\n",
       "      <td>F-2015-04841</td>\n",
       "      <td>...</td>\n",
       "      <td>NaN</td>\n",
       "      <td>NaN</td>\n",
       "      <td>NaN</td>\n",
       "      <td>NaN</td>\n",
       "      <td>F-2015-04841</td>\n",
       "      <td>C05739554</td>\n",
       "      <td>05/13/2015</td>\n",
       "      <td>RELEASE IN PART</td>\n",
       "      <td>H &lt;hrod17@clintonemail.com&gt;\\nFriday, March 11,...</td>\n",
       "      <td>B6\\nUNCLASSIFIED\\nU.S. Department of State\\nCa...</td>\n",
       "    </tr>\n",
       "  </tbody>\n",
       "</table>\n",
       "<p>5 rows × 22 columns</p>\n",
       "</div>"
      ],
      "text/plain": [
       "   Id  DocNumber                                    MetadataSubject  \\\n",
       "0   1  C05739545                                                WOW   \n",
       "1   2  C05739546  H: LATEST: HOW SYRIA IS AIDING QADDAFI AND MOR...   \n",
       "2   3  C05739547                                      CHRIS STEVENS   \n",
       "3   4  C05739550                         CAIRO CONDEMNATION - FINAL   \n",
       "4   5  C05739554  H: LATEST: HOW SYRIA IS AIDING QADDAFI AND MOR...   \n",
       "\n",
       "     MetadataTo       MetadataFrom  SenderPersonId           MetadataDateSent  \\\n",
       "0             H  Sullivan, Jacob J            87.0  2012-09-12T04:00:00+00:00   \n",
       "1             H                NaN             NaN  2011-03-03T05:00:00+00:00   \n",
       "2            ;H    Mills, Cheryl D            32.0  2012-09-12T04:00:00+00:00   \n",
       "3             H    Mills, Cheryl D            32.0  2012-09-12T04:00:00+00:00   \n",
       "4  Abedin, Huma                  H            80.0  2011-03-11T05:00:00+00:00   \n",
       "\n",
       "        MetadataDateReleased  \\\n",
       "0  2015-05-22T04:00:00+00:00   \n",
       "1  2015-05-22T04:00:00+00:00   \n",
       "2  2015-05-22T04:00:00+00:00   \n",
       "3  2015-05-22T04:00:00+00:00   \n",
       "4  2015-05-22T04:00:00+00:00   \n",
       "\n",
       "                                     MetadataPdfLink MetadataCaseNumber  \\\n",
       "0  DOCUMENTS/HRC_Email_1_296/HRCH2/DOC_0C05739545...       F-2015-04841   \n",
       "1  DOCUMENTS/HRC_Email_1_296/HRCH1/DOC_0C05739546...       F-2015-04841   \n",
       "2  DOCUMENTS/HRC_Email_1_296/HRCH2/DOC_0C05739547...       F-2015-04841   \n",
       "3  DOCUMENTS/HRC_Email_1_296/HRCH2/DOC_0C05739550...       F-2015-04841   \n",
       "4  DOCUMENTS/HRC_Email_1_296/HRCH1/DOC_0C05739554...       F-2015-04841   \n",
       "\n",
       "                         ...                         ExtractedTo  \\\n",
       "0                        ...                                 NaN   \n",
       "1                        ...                                 NaN   \n",
       "2                        ...                                  B6   \n",
       "3                        ...                                 NaN   \n",
       "4                        ...                                 NaN   \n",
       "\n",
       "                              ExtractedFrom         ExtractedCc  \\\n",
       "0  Sullivan, Jacob J <Sullivan11@state.gov>                 NaN   \n",
       "1                                       NaN                 NaN   \n",
       "2       Mills, Cheryl D <MillsCD@state.gov>        Abedin, Huma   \n",
       "3       Mills, Cheryl D <MillsCD@state.gov>  Mitchell, Andrew B   \n",
       "4                                       NaN                 NaN   \n",
       "\n",
       "                        ExtractedDateSent ExtractedCaseNumber  \\\n",
       "0  Wednesday, September 12, 2012 10:16 AM        F-2015-04841   \n",
       "1                                     NaN        F-2015-04841   \n",
       "2  Wednesday, September 12, 2012 11:52 AM        F-2015-04841   \n",
       "3   Wednesday, September 12,2012 12:44 PM        F-2015-04841   \n",
       "4                                     NaN        F-2015-04841   \n",
       "\n",
       "  ExtractedDocNumber ExtractedDateReleased ExtractedReleaseInPartOrFull  \\\n",
       "0          C05739545            05/13/2015              RELEASE IN FULL   \n",
       "1          C05739546            05/13/2015              RELEASE IN PART   \n",
       "2          C05739547            05/14/2015              RELEASE IN PART   \n",
       "3          C05739550            05/13/2015              RELEASE IN PART   \n",
       "4          C05739554            05/13/2015              RELEASE IN PART   \n",
       "\n",
       "                                   ExtractedBodyText  \\\n",
       "0                                                NaN   \n",
       "1  B6\\nThursday, March 3, 2011 9:45 PM\\nH: Latest...   \n",
       "2                                                Thx   \n",
       "3                                                NaN   \n",
       "4  H <hrod17@clintonemail.com>\\nFriday, March 11,...   \n",
       "\n",
       "                                             RawText  \n",
       "0  UNCLASSIFIED\\nU.S. Department of State\\nCase N...  \n",
       "1  UNCLASSIFIED\\nU.S. Department of State\\nCase N...  \n",
       "2  UNCLASSIFIED\\nU.S. Department of State\\nCase N...  \n",
       "3  UNCLASSIFIED\\nU.S. Department of State\\nCase N...  \n",
       "4  B6\\nUNCLASSIFIED\\nU.S. Department of State\\nCa...  \n",
       "\n",
       "[5 rows x 22 columns]"
      ]
     },
     "execution_count": 2,
     "metadata": {},
     "output_type": "execute_result"
    }
   ],
   "source": [
    "path = 'hillary-clinton-emails/'\n",
    "emails = pd.read_csv(path + \"Emails.csv\")\n",
    "emails.head()"
   ]
  },
  {
   "cell_type": "markdown",
   "metadata": {},
   "source": [
    "It seems that we are provided with either the raw text file or an \"attempt at extracting the body\" of the message. We compare them on one instance to understand them better."
   ]
  },
  {
   "cell_type": "code",
   "execution_count": 3,
   "metadata": {
    "collapsed": false
   },
   "outputs": [
    {
     "name": "stdout",
     "output_type": "stream",
     "text": [
      "UNCLASSIFIED\n",
      "U.S. Department of State\n",
      "Case No. F-2015-04841\n",
      "Doc No. C05739546\n",
      "Date: 05/13/2015\n",
      "STATE DEPT. - PRODUCED TO HOUSE SELECT BENGHAZI COMM.\n",
      "SUBJECT TO AGREEMENT ON SENSITIVE INFORMATION & REDACTIONS. NO FOIA WAIVER.\n",
      "RELEASE IN\n",
      "PART B6\n",
      "From:\n",
      "Sent:\n",
      "To:\n",
      "Subject:\n",
      "Attachments:\n",
      "B6\n",
      "Thursday, March 3, 2011 9:45 PM\n",
      "H: Latest How Syria is aiding Qaddafi and more... Sid\n",
      "hrc memo syria aiding libya 030311.docx; hrc memo syria aiding libya 030311.docx\n",
      "CONFIDENTIAL\n",
      "March 3, 2011\n",
      "For: Hillary\n",
      "From: Sid\n",
      "Re: Syria aiding Qaddafi\n",
      "This memo has two parts. Part one is the report that Syria is providing air support for Qaddafi. Part two is a note\n",
      "to Cody from Lord David Owen, former UK foreign secretary on his views of an increasingly complex crisis. It\n",
      "seems that the situation is developing into a protracted civil war with various nations backing opposing sides\n",
      "with unforeseen consequences. Under these circumstances the crucial challenge is to deprive Qaddafi of his\n",
      "strategic depth—his support both financial and military.\n",
      "I. Report\n",
      "During the afternoon of March 3, advisers to Muammar Qaddafi stated privately that the Libyan\n",
      "Leader has decided that civil war is inevitable, pitting troops and mercenary troops loyal to him\n",
      "against the rebel forces gathering around Benghazi. Qaddafi is convinced that these rebels are\n",
      "being supported by the United States, Western Europe and Israel. On March 2 Qaddafi told his\n",
      "son Saif al-Islam that he believes the intelligence services of the United States, Great Britain,\n",
      "Egypt, and France have deployed paramilitary officers to Benghazi to assist in organizing,\n",
      "training, and equipping opposition forces. Qaddafi is convinced that the National Libyan Council\n",
      "(NLC), and its leader, former Minister of Justice Mustafa Mohamed Abdel Galil have been\n",
      "chosen by the foreign powers to replace him. On March 1 advisors to Qaddafi stated that\n",
      "UNCLASSIFIED\n",
      "U.S. Department of State\n",
      "Case No. F-2015-04841\n",
      "Doc No. C05739546\n",
      "Date: 05/13/2015\n",
      "STATE DEPT. - PRODUCED TO HOUSE SELECT BENGHAZI COMM.\n",
      "SUBJECT TO AGREEMENT ON SENSITIVE INFORMATION & REDACTIONS. NO FOIA WAIVER. STATE-SCB0045000\n",
      "\f",
      "UNCLASSIFIED\n",
      "U.S. Department of State\n",
      "Case No. F-2015-04841\n",
      "Doc No. C05739546\n",
      "Date: 05/13/2015\n",
      "STATE DEPT. - PRODUCED TO HOUSE SELECT BENGHAZI COMM.\n",
      "SUBJECT TO AGREEMENT ON SENSITIVE INFORMATION & REDACTIONS. NO FOIA WAIVER.\n",
      "Qaddafi's cousin, Col. Ali Qaddafiddam had failed in efforts to recruit fighters among the\n",
      "Egyptian population living immediately across the border with Libya.\n",
      "These individuals added that during the week of February 21 the Libyan Leader spoke to Syrian\n",
      "President Bashir al-Assad on at least three occasions by secure telephone lines. During the\n",
      "conversations Qaddafi asked that Syrian officers and technicians currently training the Libyan\n",
      "Air Force be placed under command of the Libyan Army and allowed to fight against the rebel\n",
      "forces.\n",
      "(Source Comment: Senior Libyan Army officers still loyal to Qaddafi added that On February\n",
      "23, President Assad told General Isam Hallaq, the commander in chief of the Syrian Air Force,\n",
      "to instruct the pilots and technicians in Tripoli to help the Libyan regime, should full scale Civil\n",
      "War breaks out in the immediate future.)\n",
      "On March 2, a military officer with ties to Qaddfi's son Khamis stated privately that the number\n",
      "of Libyan pilots defecting to the opposition has destroyed the morale and professional spirit of\n",
      "the Libyan Air Force at this critical moment, when Tripoli's air superiority is its principal weapon\n",
      "against insurgents. In the opinion of this individual Qaddafi and his senior military advisors are\n",
      "convinced that the European Union and the U.S will impose a no-fly zone over Libya in the\n",
      "immediate future. These advisors believe that the no fly zone will serve as air support for\n",
      "opposition forces. They are also prepared for the Western allies to bomb anti-aircraft facilities in\n",
      "and around Tripoli in preparation for the establishment of the no-fly zone. Foreign Minister\n",
      "Mousa Kousa is convinced that that Russia and Turkey will oppose the move, and may prevent\n",
      "the implementation of the no fly zone.\n",
      "The Syrian soldiers in Libya are part of a mission established in 1984 following the signing of a\n",
      "military agreement between Qaddafi and Syria's long-time ruler and Bashir's father, Hafez al-\n",
      "Assad, in the presence of General Soubhi Haddad, who was the commander in chief of the Air\n",
      "Force at the time. Both Air Forces are equipped with Russian materiel and have had long-\n",
      "standing, close links with Moscow.\n",
      "Note from David Owen, former UK foreign secretary\n",
      "UNCLASSIFIED\n",
      "U.S. Department of State\n",
      "Case No. F-2015-04841\n",
      "Doc No. C05739546\n",
      "Date: 05/13/2015\n",
      "STATE DEPT. - PRODUCED TO HOUSE SELECT BENGHAZI COMM.\n",
      "SUBJECT TO AGREEMENT ON SENSITIVE INFORMATION & REDACTIONS. NO FOIA WAIVER. STATE-SCB0045001\n",
      "\f",
      "UNCLASSIFIED\n",
      "U.S. Department of State\n",
      "Case No. F-2015-04841\n",
      "Doc No. C05739546\n",
      "Date: 05/13/2015\n",
      "STATE DEPT. - PRODUCED TO HOUSE SELECT BENGHAZI COMM.\n",
      "SUBJECT TO AGREEMENT ON SENSITIVE INFORMATION & REDACTIONS. NO FOIA WAIVER.\n",
      "In exchange for Syria's help, Libya provided financial support to the Syrian state, including funds\n",
      "in support of operations carried out by the Syrian intelligence services in Lebanon. Libyan money\n",
      "helped Hafez al-Assad bribe his brother Rifaat, the author of an attempted coup d'etat in 1983,\n",
      "to leave the country and go into exile in Spain and France, where he has remained ever since.\n",
      "According to individuals with access to the Syrian military, Damascus has also sent a second\n",
      "team of pilots and technicians to Tripoli. These are lower-ranking officers loyal to the regime\n",
      "who are specialized in flying helicopters. Before their departure for Tripoli on February 23, they\n",
      "met with General Allaq and General Jamil Hasan, head of Air Force's Intelligence.\n",
      "(Source Comment: During the afternoon of 3 March, an associate of Saif al-Islam Qaddafi\n",
      "stated that he and the Libyan leaders other family members were concerned over the\n",
      "announcement of Jose Luis Moreno-Ocampo, chief prosecutor of the International Criminal\n",
      "Court (ICC), announced that he was investigating Qaddafi, his sons Khamis, the commander of\n",
      "the 32 battalion, and Montasem, as well as the head of Gadhafi's personal security detail, the\n",
      "Director-General of the External Security Organization (Abuzaid Dorda), the spokesman of the\n",
      "regime (Musa Ibrahim), and the Minister of Foreign Affairs (Mousa Kousa). This source added\n",
      "that Saif al-Islam had said that Qaddafi himself found the announcement amusing.)\n",
      "From: Lord Owen\n",
      "Cody,\n",
      "Realistically the UN will not authorise a no fly zone while Gaddafi continues to hold off bombing and\n",
      "strafing but keeping it up front and on the military agenda keeps him worried. Yet for a few frustrating months\n",
      "that ambivalence kept the Serbian aeroplanes on the ground before we acted. My hope is that preparations\n",
      "continue with visuals of planes flying off carriers, airborne early warning planes flying and people with clout\n",
      "outside the Administration demanding preparations. But and it is a big BUT what else can and should we be\n",
      "doing? Encourage humanitarian ships and convoys from Egypt to bring in supplies since we must ensure the\n",
      "cities in the East can hold up living standards, maybe for months. More adventurous, Egyptian Special Forces to\n",
      "go in and advise, even supplying hand held missiles. It appears they have few missiles; the military in the East\n",
      "having been deliberately kept ill-equipped. There is old Nasserite sentiment for a Federation of Egypt, Sudan\n",
      "and Libya. I know some will say Egypt has enough problems and they should stay resolutely focused on\n",
      "domestic reforms. it is delicate but words alone and the balance of advantage will slip to Gaddafi. A Gaddafi\n",
      "victory is possible and needs to be weighed in the balance now when deciding what to do.\n",
      "I'm more worried than I am ready to say publicly.\n",
      "Yours\n",
      "David\n",
      "UNCLASSIFIED\n",
      "U.S. Department of State\n",
      "Case No. F-2015-04841\n",
      "Doc No. C05739546\n",
      "Date: 05/13/2015\n",
      "STATE DEPT. - PRODUCED TO HOUSE SELECT BENGHAZI COMM.\n",
      "SUBJECT TO AGREEMENT ON SENSITIVE INFORMATION & REDACTIONS. NO FOIA WAIVER. STATE-SCB0045002\n",
      "\f",
      "\n"
     ]
    }
   ],
   "source": [
    "print(emails.head()[\"RawText\"][1])"
   ]
  },
  {
   "cell_type": "code",
   "execution_count": 4,
   "metadata": {
    "collapsed": false
   },
   "outputs": [
    {
     "name": "stdout",
     "output_type": "stream",
     "text": [
      "B6\n",
      "Thursday, March 3, 2011 9:45 PM\n",
      "H: Latest How Syria is aiding Qaddafi and more... Sid\n",
      "hrc memo syria aiding libya 030311.docx; hrc memo syria aiding libya 030311.docx\n",
      "March 3, 2011\n",
      "For: Hillary\n"
     ]
    }
   ],
   "source": [
    "print(emails.head()[\"ExtractedBodyText\"][1])"
   ]
  },
  {
   "cell_type": "markdown",
   "metadata": {},
   "source": [
    "\n",
    "I hate rapid conclusion but it feels as if the Extracted Body Text feature won't get us far. We thus create a new data frame to process."
   ]
  },
  {
   "cell_type": "code",
   "execution_count": 5,
   "metadata": {
    "collapsed": false
   },
   "outputs": [
    {
     "data": {
      "text/plain": [
       "0    UNCLASSIFIED\\nU.S. Department of State\\nCase N...\n",
       "1    UNCLASSIFIED\\nU.S. Department of State\\nCase N...\n",
       "2    UNCLASSIFIED\\nU.S. Department of State\\nCase N...\n",
       "3    UNCLASSIFIED\\nU.S. Department of State\\nCase N...\n",
       "4    B6\\nUNCLASSIFIED\\nU.S. Department of State\\nCa...\n",
       "Name: RawText, dtype: object"
      ]
     },
     "execution_count": 5,
     "metadata": {},
     "output_type": "execute_result"
    }
   ],
   "source": [
    "emails_rawtext = emails[\"RawText\"]\n",
    "emails_rawtext.head()"
   ]
  },
  {
   "cell_type": "markdown",
   "metadata": {},
   "source": [
    "We finally extract the corpus"
   ]
  },
  {
   "cell_type": "code",
   "execution_count": 6,
   "metadata": {
    "collapsed": false
   },
   "outputs": [],
   "source": [
    "raw_corpus = emails_rawtext.str.cat(sep=\" \")"
   ]
  },
  {
   "cell_type": "markdown",
   "metadata": {},
   "source": [
    "### 1.2) Initial wordcloud"
   ]
  },
  {
   "cell_type": "markdown",
   "metadata": {},
   "source": [
    "Defining the wordcloud generation"
   ]
  },
  {
   "cell_type": "code",
   "execution_count": 7,
   "metadata": {
    "collapsed": false
   },
   "outputs": [],
   "source": [
    "def generate_wordcloud(text):\n",
    "    mask = np.array(Image.open(\"trumpmask.jpg\"))\n",
    "    return WordCloud(background_color=\"white\", mask=mask).generate(text)"
   ]
  },
  {
   "cell_type": "markdown",
   "metadata": {},
   "source": [
    "Plot wordcloud for raw corpus"
   ]
  },
  {
   "cell_type": "code",
   "execution_count": 8,
   "metadata": {
    "collapsed": false
   },
   "outputs": [
    {
     "data": {
      "image/png": "[encoded data removed]",
      "text/plain": [
       "<matplotlib.figure.Figure at 0x7f4b0e354be0>"
      ]
     },
     "metadata": {},
     "output_type": "display_data"
    }
   ],
   "source": [
    "raw_wordcloud = generate_wordcloud(raw_corpus)\n",
    "plt.imshow(raw_wordcloud)\n",
    "plt.show()"
   ]
  },
  {
   "cell_type": "markdown",
   "metadata": {},
   "source": [
    "### 1.3) Data processing\n",
    "\n",
    "Defining the preprocessing pipeline"
   ]
  },
  {
   "cell_type": "code",
   "execution_count": null,
   "metadata": {
    "collapsed": false
   },
   "outputs": [],
   "source": []
  },
  {
   "cell_type": "code",
   "execution_count": 23,
   "metadata": {
    "collapsed": false
   },
   "outputs": [],
   "source": [
    "def preprocessing(raw, add_stopwords=[], verbose=False):\n",
    "    # Tokenization\n",
    "    if verbose:\n",
    "        print(\"Tokenization...\")\n",
    "    punctuations = list(string.punctuation)\n",
    "    tokens = nltk.word_tokenize(raw)\n",
    "    tokenized = [token.lower() for token in tokens if token not in punctuations]\n",
    "    \n",
    "    # Stopword removal\n",
    "    if verbose:\n",
    "        print(\"Stopword removal...\")\n",
    "    stop_filter = nltk.corpus.stopwords.words('english')\n",
    "    filtered = [word for word in tokenized if word not in stop_filter]\n",
    "    #Apparently the other one doesnt completely work\n",
    "    filtered = [word for word in filtered if word not in add_stopwords]\n",
    "\n",
    "    \n",
    "    # Lemmatisation\n",
    "    if verbose:\n",
    "        print(\"Lemmatization...\")\n",
    "    wnl = nltk.stem.wordnet.WordNetLemmatizer()\n",
    "    #lemmatized = [wnl.lemmatize(word) for word in filtered]\n",
    "    lemmatized = [wnl.lemmatize(i,j[0].lower()) if j[0].lower() in ['a','n','v'] else wnl.lemmatize(i) for i,j in nltk.pos_tag(filtered)]\n",
    "    \n",
    "    return lemmatized"
   ]
  },
  {
   "cell_type": "markdown",
   "metadata": {},
   "source": [
    "Preprocess corpus and save to file (**not necessary to run cell bellow since super long**)"
   ]
  },
  {
   "cell_type": "code",
   "execution_count": 24,
   "metadata": {
    "collapsed": false
   },
   "outputs": [
    {
     "name": "stdout",
     "output_type": "stream",
     "text": [
      "Tokenization...\n",
      "Stopword removal...\n",
      "Lemmatization...\n"
     ]
    },
    {
     "data": {
      "text/plain": [
       "'\\n'"
      ]
     },
     "execution_count": 24,
     "metadata": {},
     "output_type": "execute_result"
    }
   ],
   "source": [
    "stopwords = [\n",
    "             \"case\", \"us\", \"c\", \"f\", \"//\", \"``\", \"h\", \"s\", \"u\", \"stategov\", \"would\", \"b\", \"j\", \"cc\",\n",
    "             \"new\", \"doc\", \"gov\", \"release\", \"part\", \"in\", \"doc\", \"no\", \"gov\", \"b6\", \"time\", \"original\",\n",
    "             \"say\", \"from\", \"sent\", \"to\", \"subject\", \"attachments\", \"monday\", \"tuesday\", \"wednesday\", \n",
    "             \"thursday\", \"friday\", \"saturday\", \"sunday\", \"january\", \"february\", \"march\", \"april\", \"may\", \n",
    "             \"june\", \"july\", \"august\", \"september\", \"october\", \"november\", \"december\",\n",
    "             \"unclassified\", \"send\", \"state\", \"department\", \"date\", \"message\", \"state\", \"pm\", \"call\", \"send\"\n",
    "]\n",
    "\n",
    "#if you want to regenerate the processed text file, uncomment this first one. Otherwise just reload what we saved\n",
    "preprocessed_corpus = preprocessing(raw_corpus, add_stopwords=stopwords, verbose=True)\n",
    "#preprocessed_corpus = [line.rstrip('\\n') for line in open('processed_corpus.txt')]\n",
    "\n",
    "digits = re.compile(r'[\\'-.?!,\":;()|0-9]')\n",
    "preprocessed_corpus = [digits.sub(\"\", word) for word in preprocessed_corpus]   \n",
    "preprocessed_corpus = list(filter(None, preprocessed_corpus)) # remove empty strings\n",
    "\n",
    "\n",
    "corpus_file = open(\"processed_corpus.txt\", 'w')\n",
    "for word in preprocessed_corpus:\n",
    "    corpus_file.write(\"%s\\n\" % word)\n",
    "corpus_file.close()\n",
    "\"\"\"\n",
    "\"\"\""
   ]
  },
  {
   "cell_type": "code",
   "execution_count": null,
   "metadata": {
    "collapsed": false
   },
   "outputs": [],
   "source": []
  },
  {
   "cell_type": "code",
   "execution_count": 25,
   "metadata": {
    "collapsed": true
   },
   "outputs": [],
   "source": [
    "#def stopword_removal(raw, add_stopwords=[]):\n",
    "#    filtered = [word for word in raw if word not in add_stopwords]\n",
    "#    return filtered"
   ]
  },
  {
   "cell_type": "markdown",
   "metadata": {},
   "source": [
    "Here we reload the initial filtering that was done and we further remove words identified as generic mail things. We also want to identify discriminating words, and remove any high frequency one."
   ]
  },
  {
   "cell_type": "code",
   "execution_count": 26,
   "metadata": {
    "collapsed": false
   },
   "outputs": [],
   "source": [
    "#preprocessed_corpus = [line.rstrip('\\n') for line in open('processed_corpus.txt')]\n",
    "#stopwords = []\n",
    "#preprocessed_corpus = stopword_removal(preprocessed_corpus, stopwords)\n",
    "#corpus_file = open(\"processed_corpus.txt\", 'w')\n",
    "#for word in preprocessed_corpus:\n",
    "#    corpus_file.write(\"%s\\n\" % word)"
   ]
  },
  {
   "cell_type": "markdown",
   "metadata": {},
   "source": [
    "Load preprocessed_corpus"
   ]
  },
  {
   "cell_type": "code",
   "execution_count": null,
   "metadata": {
    "collapsed": false
   },
   "outputs": [],
   "source": []
  },
  {
   "cell_type": "code",
   "execution_count": null,
   "metadata": {
    "collapsed": true
   },
   "outputs": [],
   "source": []
  },
  {
   "cell_type": "code",
   "execution_count": 21,
   "metadata": {
    "collapsed": false,
    "scrolled": true
   },
   "outputs": [
    {
     "data": {
      "image/png": "[encoded data removed]",
      "text/plain": [
       "<matplotlib.figure.Figure at 0x7f4aebfbc710>"
      ]
     },
     "metadata": {},
     "output_type": "display_data"
    }
   ],
   "source": [
    "corpus_str = ' '.join(preprocessed_corpus)\n",
    "preprocessed_wordcloud = generate_wordcloud(corpus_str)\n",
    "plt.imshow(preprocessed_wordcloud)\n",
    "plt.show()"
   ]
  },
  {
   "cell_type": "markdown",
   "metadata": {},
   "source": [
    "They are words that appear in each email and they are not very relevant. "
   ]
  },
  {
   "cell_type": "code",
   "execution_count": 22,
   "metadata": {
    "collapsed": false
   },
   "outputs": [
    {
     "data": {
      "image/png": "[encoded data removed]",
      "text/plain": [
       "<matplotlib.figure.Figure at 0x7f4aec17d5c0>"
      ]
     },
     "metadata": {},
     "output_type": "display_data"
    }
   ],
   "source": [
    "fd = nltk.FreqDist(preprocessed_corpus)\n",
    "fd.plot(30, cumulative=False)"
   ]
  },
  {
   "cell_type": "markdown",
   "metadata": {},
   "source": [
    "We indeed see that different words appear. What is not suprising, auto generated words and generic ones would appear more frequently in the non processed corpus. After preprocessing, the most appearing token is a name: Huma Abedin. Important figure in the Democratic Party (vice chairwoman), she's nicknamed Hillary Clinton's second daughter.\n",
    "https://fr.wikipedia.org/wiki/Huma_Abedin\n",
    "\n",
    "From the two word clous, it now seems clear that without preprocessing, we could not run a precise data analysis on the corpus."
   ]
  },
  {
   "cell_type": "markdown",
   "metadata": {
    "collapsed": false
   },
   "source": [
    "## Mentions of world countries in the whole corpus"
   ]
  },
  {
   "cell_type": "code",
   "execution_count": null,
   "metadata": {
    "collapsed": false
   },
   "outputs": [],
   "source": [
    "country_names = [country.name.lower() for country in pycountry.countries]   \n",
    "country_codes = [country.alpha_2 for country in pycountry.countries]\n",
    "\n",
    "def country_mentions(text):\n",
    "    prepro = preprocessing(text)\n",
    "    \n",
    "    matches = []\n",
    "    for k in range(len(country_names)):\n",
    "        matches.extend([word for word in prepro if word == country_names[k]])\n",
    "        matches.extend([country_names[k] for word in prepro if word == country_codes[k]])\n",
    "    \n",
    "    return list(set(matches))"
   ]
  },
  {
   "cell_type": "markdown",
   "metadata": {},
   "source": [
    "Find mentions of world countries (**takes ~5 min to run**)"
   ]
  },
  {
   "cell_type": "code",
   "execution_count": null,
   "metadata": {
    "collapsed": false
   },
   "outputs": [],
   "source": [
    "#mentions = emails_rawtext.apply(country_mentions)\n",
    "tqdm.pandas(desc=\"Extracting mentions of country\")\n",
    "mentions = emails_rawtext.progress_apply(country_mentions)"
   ]
  },
  {
   "cell_type": "code",
   "execution_count": null,
   "metadata": {
    "collapsed": false
   },
   "outputs": [],
   "source": [
    "mentions.head(10)"
   ]
  },
  {
   "cell_type": "code",
   "execution_count": null,
   "metadata": {
    "collapsed": false
   },
   "outputs": [],
   "source": []
  },
  {
   "cell_type": "code",
   "execution_count": null,
   "metadata": {
    "collapsed": false
   },
   "outputs": [],
   "source": [
    "countries = pd.DataFrame(columns=['alpha_2', 'alpha_3', 'name', 'official_name'])\n",
    "country = list(pycountry.countries)[0]\n",
    "\n",
    "for country in list(pycountry.countries):\n",
    "    try:\n",
    "        a3 = country.alpha_3\n",
    "    except (AttributeError):\n",
    "        a3 = np.nan\n",
    "    try:\n",
    "        offi = country.official_name\n",
    "    except (AttributeError):\n",
    "        offi = np.nan\n",
    "    countries.loc[country.numeric] = [country.alpha_2, a3, country.name, offi]"
   ]
  },
  {
   "cell_type": "code",
   "execution_count": null,
   "metadata": {
    "collapsed": false
   },
   "outputs": [],
   "source": [
    "def email_processing(emails):\n",
    "    "
   ]
  },
  {
   "cell_type": "code",
   "execution_count": null,
   "metadata": {
    "collapsed": false
   },
   "outputs": [],
   "source": []
  },
  {
   "cell_type": "code",
   "execution_count": null,
   "metadata": {
    "collapsed": true
   },
   "outputs": [],
   "source": []
  }
 ],
 "metadata": {
  "anaconda-cloud": {},
  "kernelspec": {
   "display_name": "Python [Root]",
   "language": "python",
   "name": "Python [Root]"
  },
  "language_info": {
   "codemirror_mode": {
    "name": "ipython",
    "version": 3
   },
   "file_extension": ".py",
   "mimetype": "text/x-python",
   "name": "python",
   "nbconvert_exporter": "python",
   "pygments_lexer": "ipython3",
   "version": "3.5.2"
  }
 },
 "nbformat": 4,
 "nbformat_minor": 0
}
