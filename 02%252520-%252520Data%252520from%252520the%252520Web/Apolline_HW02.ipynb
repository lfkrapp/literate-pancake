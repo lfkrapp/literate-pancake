{
 "cells": [
  {
   "cell_type": "markdown",
   "metadata": {},
   "source": [
    "# Homework 2 : Data from the web"
   ]
  },
  {
   "cell_type": "code",
   "execution_count": 14,
   "metadata": {
    "collapsed": true
   },
   "outputs": [],
   "source": [
    "import pandas as pd\n",
    "import numpy as np\n",
    "import requests                # Handle HTTP request\n",
    "from bs4 import BeautifulSoup  # Pull data out of HTML and XML files\n",
    "import time\n",
    "import glob                    # Load files\n",
    "import re                      # Regexp\n",
    "import scipy.stats as stats    # Hypothesis Testing"
   ]
  },
  {
   "cell_type": "markdown",
   "metadata": {},
   "source": [
    "## I - Scraping Data "
   ]
  },
  {
   "cell_type": "markdown",
   "metadata": {},
   "source": [
    "This part aims to scrap IS-Academia Data. We get Informatique students from 2007 to 2016 for each Bachelor and Master semester."
   ]
  },
  {
   "cell_type": "markdown",
   "metadata": {},
   "source": [
    "### a - Analysing form"
   ]
  },
  {
   "cell_type": "markdown",
   "metadata": {},
   "source": [
    "In this first part, we get the form paramters (name and values) in order to build future HTTP requests."
   ]
  },
  {
   "cell_type": "code",
   "execution_count": 47,
   "metadata": {
    "collapsed": false
   },
   "outputs": [
    {
     "name": "stdout",
     "output_type": "stream",
     "text": [
      "200\n"
     ]
    }
   ],
   "source": [
    "base_url = 'http://isa.epfl.ch/imoniteur_ISAP/!GEDPUBLICREPORTS'\n",
    "form_url= base_url + \".filter\"\n",
    "form_get_params = {'ww_i_reportModel': '133685247'}\n",
    "r = requests.get(form_url, params=form_get_params)\n",
    "print(r.status_code)                                  # Status code = 200 => OK"
   ]
  },
  {
   "cell_type": "code",
   "execution_count": 49,
   "metadata": {
    "collapsed": false,
    "scrolled": false
   },
   "outputs": [
    {
     "name": "stdout",
     "output_type": "stream",
     "text": [
      "Param  1  :  ww_x_UNITE_ACAD\n",
      "Param  2  :  ww_x_PERIODE_ACAD\n",
      "Param  3  :  ww_x_PERIODE_PEDAGO\n",
      "Param  4  :  ww_x_HIVERETE\n"
     ]
    }
   ],
   "source": [
    "soup = BeautifulSoup(r.text, 'html.parser')\n",
    "inputs = soup.select('form select')               # Get all the form inputs\n",
    "for i in range(len(inputs)):\n",
    "    print('Param ',i+1,' : ',inputs[i]['name'])"
   ]
  },
  {
   "cell_type": "code",
   "execution_count": 50,
   "metadata": {
    "collapsed": false,
    "scrolled": true
   },
   "outputs": [
    {
     "name": "stdout",
     "output_type": "stream",
     "text": [
      "Param  1  :  ww_x_UNITE_ACAD  -  20 values\n",
      "Null  - Value :  null\n",
      "Architecture  - Value :  942293\n",
      "Chimie et génie chimique  - Value :  246696\n",
      "Cours de mathématiques spéciales  - Value :  943282\n",
      "EME (EPFL Middle East)  - Value :  637841336\n",
      "Génie civil  - Value :  942623\n",
      "Génie mécanique  - Value :  944263\n",
      "Génie électrique et électronique   - Value :  943936\n",
      "Humanités digitales  - Value :  2054839157\n",
      "Informatique  - Value :  249847\n",
      "Ingénierie financière  - Value :  120623110\n",
      "Management de la technologie  - Value :  946882\n",
      "Mathématiques  - Value :  944590\n",
      "Microtechnique  - Value :  945244\n",
      "Physique  - Value :  945571\n",
      "Science et génie des matériaux  - Value :  944917\n",
      "Sciences et ingénierie de l'environnement  - Value :  942953\n",
      "Sciences et technologies du vivant  - Value :  945901\n",
      "Section FCUE  - Value :  1574548993\n",
      "Systèmes de communication  - Value :  946228\n",
      "\n",
      "\n",
      "Param  2  :  ww_x_PERIODE_ACAD  -  11 values\n",
      "Null  - Value :  null\n",
      "2016-2017  - Value :  355925344\n",
      "2015-2016  - Value :  213638028\n",
      "2014-2015  - Value :  213637922\n",
      "2013-2014  - Value :  213637754\n",
      "2012-2013  - Value :  123456101\n",
      "2011-2012  - Value :  123455150\n",
      "2010-2011  - Value :  39486325\n",
      "2009-2010  - Value :  978195\n",
      "2008-2009  - Value :  978187\n",
      "2007-2008  - Value :  978181\n",
      "\n",
      "\n",
      "Param  3  :  ww_x_PERIODE_PEDAGO  -  25 values\n",
      "Null  - Value :  null\n",
      "Bachelor semestre 1  - Value :  249108\n",
      "Bachelor semestre 2  - Value :  249114\n",
      "Bachelor semestre 3  - Value :  942155\n",
      "Bachelor semestre 4  - Value :  942163\n",
      "Bachelor semestre 5  - Value :  942120\n",
      "Bachelor semestre 5b  - Value :  2226768\n",
      "Bachelor semestre 6  - Value :  942175\n",
      "Bachelor semestre 6b  - Value :  2226785\n",
      "Master semestre 1  - Value :  2230106\n",
      "Master semestre 2  - Value :  942192\n",
      "Master semestre 3  - Value :  2230128\n",
      "Master semestre 4  - Value :  2230140\n",
      "Mineur semestre 1  - Value :  2335667\n",
      "Mineur semestre 2  - Value :  2335676\n",
      "Mise à niveau  - Value :  2063602308\n",
      "Projet Master automne  - Value :  249127\n",
      "Projet Master printemps  - Value :  3781783\n",
      "Semestre automne  - Value :  953159\n",
      "Semestre printemps  - Value :  2754553\n",
      "Stage automne 3ème année  - Value :  953137\n",
      "Stage automne 4ème année  - Value :  2226616\n",
      "Stage printemps 3ème année  - Value :  983606\n",
      "Stage printemps 4ème année  - Value :  2226626\n",
      "Stage printemps master  - Value :  2227132\n",
      "\n",
      "\n",
      "Param  4  :  ww_x_HIVERETE  -  3 values\n",
      "Null  - Value :  null\n",
      "Semestre d'automne  - Value :  2936286\n",
      "Semestre de printemps  - Value :  2936295\n",
      "\n",
      "\n"
     ]
    }
   ],
   "source": [
    "for i in range(len(inputs)):\n",
    "    options = inputs[i].select('option')\n",
    "    print('Param ',i+1,' : ',inputs[i]['name'], ' - ', len(options), 'values')\n",
    "    for j in range(len(options)):\n",
    "        if len(options[j].contents) == 0:\n",
    "            print('Null', ' - Value : ',options[j]['value'])\n",
    "        else:\n",
    "            print(options[j].contents[0], ' - Value : ',options[j]['value'])\n",
    "    print('\\n')"
   ]
  },
  {
   "cell_type": "markdown",
   "metadata": {},
   "source": [
    "### b - Scraping Data"
   ]
  },
  {
   "cell_type": "code",
   "execution_count": 173,
   "metadata": {
    "collapsed": true
   },
   "outputs": [],
   "source": [
    "def saveHTML(params, file):\n",
    "    \"Get the result of a request -which parameters are given in params- and save it into a file\"\n",
    "    \n",
    "    base_url = 'http://isa.epfl.ch/imoniteur_ISAP/!GEDPUBLICREPORTS'   \n",
    "    data_url = base_url + \".html\"\n",
    "    \n",
    "    form_params = {'ww_x_GPS': '-1', \n",
    "                  'ww_i_reportModel': '133685247', \n",
    "                  'ww_i_reportModelXsl': '133685270', # HTML\n",
    "                  'ww_x_UNITE_ACAD': '249847', # Informatique\n",
    "                  'ww_x_PERIODE_ACAD': '', \n",
    "                  'ww_x_PERIODE_PEDAGO': '',\n",
    "                  'ww_x_HIVERETE': None }\n",
    "    for key, value in params.items():\n",
    "        form_params[key] = value\n",
    "        \n",
    "    r = requests.get(data_url, params=form_params)\n",
    "\n",
    "    html_file = open(file, \"w\")\n",
    "    html_file.write(r.text)\n",
    "    html_file.close()\n",
    "    \n",
    "    return r "
   ]
  },
  {
   "cell_type": "code",
   "execution_count": 52,
   "metadata": {
    "collapsed": false
   },
   "outputs": [],
   "source": [
    "def scrapBachelor():\n",
    "    \"Scrap the Bachelor Data from 2007 to 2016 for each pedagogic semester\"\n",
    "    \n",
    "    params = {'ww_x_PERIODE_ACAD':'', 'ww_x_PERIODE_PEDAGO':''}\n",
    "    ww_x_PERIODE_ACAD = {'2016':'355925344','2015':'213638028','2014':'213637922','2013':'213637754','2012':'123456101',\n",
    "                        '2011':'123455150','2010 ':'39486325','2009 ':'978195','2008 ':'978187','2007 ':'978181'}\n",
    "    ww_x_PERIODE_PEDAGO = {'BS1':'249108','BS2':'249114','BS3':'942155','BS4':'942163','BS5':'942120','BS6':'942175'}\n",
    "    \n",
    "    for key_acad, value_acad in ww_x_PERIODE_ACAD.items():\n",
    "        for key_peda, value_peda in ww_x_PERIODE_PEDAGO.items():\n",
    "            params['ww_x_PERIODE_ACAD'] = value_acad\n",
    "            params['ww_x_PERIODE_PEDAGO'] = value_peda\n",
    "            filename = \"./DataApo/Bachelor/Informatique_\"+key_acad+\"_\"+key_peda+\".html\"\n",
    "            saveHTML(params, filename)\n",
    "            time.sleep(0.05)\n",
    "            \n",
    "scrapBachelor()"
   ]
  },
  {
   "cell_type": "code",
   "execution_count": 53,
   "metadata": {
    "collapsed": true
   },
   "outputs": [],
   "source": [
    "def scrapMaster():\n",
    "    \"Scrap the Master Data from 2007 to 2016 for each pedagogic semester (and project)\"\n",
    "    \n",
    "    params = {'ww_x_PERIODE_ACAD':'', 'ww_x_PERIODE_PEDAGO':''}\n",
    "    ww_x_PERIODE_ACAD = {'2016':'355925344','2015':'213638028','2014':'213637922','2013':'213637754','2012':'123456101',\n",
    "                        '2011':'123455150','2010 ':'39486325','2009 ':'978195','2008 ':'978187','2007 ':'978181'}\n",
    "    ww_x_PERIODE_PEDAGO = {'MS1':'2230106','MS2':'942192','MS3':'2230128','MS4':'2230140',\n",
    "                           'ProjetAutomne':'249127','ProjetPrintemps':'3781783'}\n",
    "    \n",
    "    for key_acad, value_acad in ww_x_PERIODE_ACAD.items():\n",
    "        for key_peda, value_peda in ww_x_PERIODE_PEDAGO.items():\n",
    "            params['ww_x_PERIODE_ACAD'] = value_acad\n",
    "            params['ww_x_PERIODE_PEDAGO'] = value_peda\n",
    "            filename = \"./DataApo/Master/Informatique_\"+key_acad+\"_\"+key_peda+\".html\"\n",
    "            saveHTML(params, filename)\n",
    "            time.sleep(0.05)\n",
    "scrapMaster()"
   ]
  },
  {
   "cell_type": "markdown",
   "metadata": {},
   "source": [
    "### c - Parsing HTML"
   ]
  },
  {
   "cell_type": "code",
   "execution_count": 2,
   "metadata": {
    "collapsed": true
   },
   "outputs": [],
   "source": [
    "def parseHTML(file_content):\n",
    "    \"Convert the HTML table into a DataFrame\"\n",
    "    table = BeautifulSoup(file_content, 'html.parser').find('table')\n",
    "    rows_html = table.findAll('tr')\n",
    "    header = [th.string for th in rows_html[1]] # row[0] is the title\n",
    "    # we drop the last column (empty) and the first row (header)\n",
    "    rows = [[td.string for td in row_html.findAll('td')][:-1] for row_html in rows_html[2:]]\n",
    "    return pd.DataFrame(data=rows, columns=header)"
   ]
  },
  {
   "cell_type": "code",
   "execution_count": 3,
   "metadata": {
    "collapsed": true
   },
   "outputs": [],
   "source": [
    "def get_file_content(file_path):\n",
    "    \"Read a file content and return it as a string\"\n",
    "    file = open(file_path, \"r\")\n",
    "    file_content = file.read()\n",
    "    file.close() \n",
    "    return file_content\n",
    "\n",
    "def getYearSemester(file_path):      # file_path example : './ApoData/Bachelor/Informatique_2007 _BS1.html'\n",
    "    \"Retrieve the year and the semester associated to a file using its name\"\n",
    "    year = int(re.search(\"[0-9]{4}\", file_path).group(0))\n",
    "    num_semester = int(re.findall(\"[0-9]\", file_path)[-1])\n",
    "    return year, num_semester"
   ]
  },
  {
   "cell_type": "markdown",
   "metadata": {},
   "source": [
    "## II - Analysing Bachelor Data"
   ]
  },
  {
   "cell_type": "markdown",
   "metadata": {},
   "source": [
    "### a - Loading the data"
   ]
  },
  {
   "cell_type": "markdown",
   "metadata": {},
   "source": [
    "Bachelor Data are loaded from the HTML files previously scrapped.<br/>\n",
    "Each HTML table is converted to a dataframe thanks to the <i>parseHTML</i> function.<br/>\n",
    "Year and Bachelor Semester are also added to the dataFrame.<br/>\n",
    "Then, the tables are concatenated by rows (which is an easy operation because all the dataframes have the same form)."
   ]
  },
  {
   "cell_type": "code",
   "execution_count": 4,
   "metadata": {
    "collapsed": false
   },
   "outputs": [],
   "source": [
    "def loadBachelorData():\n",
    "    folder_path = \"./DataApo/Bachelor\"\n",
    "    paths_iterator = glob.iglob(folder_path+'/*.html')\n",
    "    for idx, file_path in enumerate(paths_iterator):\n",
    "        file_content = get_file_content(file_path)\n",
    "        df_temp = parseHTML(file_content)\n",
    "        year, num_semester = getYearSemester(file_path)\n",
    "        df_temp['Year'] = year\n",
    "        df_temp['Bachelor Semester'] = num_semester\n",
    "        if idx == 0:\n",
    "            df = df_temp\n",
    "        else: \n",
    "            df = pd.concat([df,df_temp], axis=0)\n",
    "    return df"
   ]
  },
  {
   "cell_type": "code",
   "execution_count": 5,
   "metadata": {
    "collapsed": false
   },
   "outputs": [
    {
     "data": {
      "text/html": [
       "<div>\n",
       "<table border=\"1\" class=\"dataframe\">\n",
       "  <thead>\n",
       "    <tr style=\"text-align: right;\">\n",
       "      <th></th>\n",
       "      <th>Civilité</th>\n",
       "      <th>Nom Prénom</th>\n",
       "      <th>Orientation Bachelor</th>\n",
       "      <th>Orientation Master</th>\n",
       "      <th>Spécialisation</th>\n",
       "      <th>Filière opt.</th>\n",
       "      <th>Mineur</th>\n",
       "      <th>Statut</th>\n",
       "      <th>Type Echange</th>\n",
       "      <th>Ecole Echange</th>\n",
       "      <th>No Sciper</th>\n",
       "      <th>Year</th>\n",
       "      <th>Bachelor Semester</th>\n",
       "    </tr>\n",
       "  </thead>\n",
       "  <tbody>\n",
       "    <tr>\n",
       "      <th>0</th>\n",
       "      <td>Monsieur</td>\n",
       "      <td>Arévalo Christian</td>\n",
       "      <td>None</td>\n",
       "      <td>None</td>\n",
       "      <td>None</td>\n",
       "      <td>None</td>\n",
       "      <td>None</td>\n",
       "      <td>Présent</td>\n",
       "      <td>None</td>\n",
       "      <td>None</td>\n",
       "      <td>169569</td>\n",
       "      <td>2007</td>\n",
       "      <td>1</td>\n",
       "    </tr>\n",
       "    <tr>\n",
       "      <th>1</th>\n",
       "      <td>Monsieur</td>\n",
       "      <td>Aubelle Flavien</td>\n",
       "      <td>None</td>\n",
       "      <td>None</td>\n",
       "      <td>None</td>\n",
       "      <td>None</td>\n",
       "      <td>None</td>\n",
       "      <td>Présent</td>\n",
       "      <td>None</td>\n",
       "      <td>None</td>\n",
       "      <td>174905</td>\n",
       "      <td>2007</td>\n",
       "      <td>1</td>\n",
       "    </tr>\n",
       "    <tr>\n",
       "      <th>2</th>\n",
       "      <td>Monsieur</td>\n",
       "      <td>Badoud Morgan</td>\n",
       "      <td>None</td>\n",
       "      <td>None</td>\n",
       "      <td>None</td>\n",
       "      <td>None</td>\n",
       "      <td>None</td>\n",
       "      <td>Présent</td>\n",
       "      <td>None</td>\n",
       "      <td>None</td>\n",
       "      <td>173922</td>\n",
       "      <td>2007</td>\n",
       "      <td>1</td>\n",
       "    </tr>\n",
       "    <tr>\n",
       "      <th>3</th>\n",
       "      <td>Monsieur</td>\n",
       "      <td>Baeriswyl Jonathan</td>\n",
       "      <td>None</td>\n",
       "      <td>None</td>\n",
       "      <td>None</td>\n",
       "      <td>None</td>\n",
       "      <td>None</td>\n",
       "      <td>Présent</td>\n",
       "      <td>None</td>\n",
       "      <td>None</td>\n",
       "      <td>179406</td>\n",
       "      <td>2007</td>\n",
       "      <td>1</td>\n",
       "    </tr>\n",
       "    <tr>\n",
       "      <th>4</th>\n",
       "      <td>Monsieur</td>\n",
       "      <td>Barroco Michael</td>\n",
       "      <td>None</td>\n",
       "      <td>None</td>\n",
       "      <td>None</td>\n",
       "      <td>None</td>\n",
       "      <td>None</td>\n",
       "      <td>Présent</td>\n",
       "      <td>None</td>\n",
       "      <td>None</td>\n",
       "      <td>179428</td>\n",
       "      <td>2007</td>\n",
       "      <td>1</td>\n",
       "    </tr>\n",
       "  </tbody>\n",
       "</table>\n",
       "</div>"
      ],
      "text/plain": [
       "   Civilité          Nom Prénom Orientation Bachelor Orientation Master  \\\n",
       "0  Monsieur   Arévalo Christian                 None               None   \n",
       "1  Monsieur     Aubelle Flavien                 None               None   \n",
       "2  Monsieur       Badoud Morgan                 None               None   \n",
       "3  Monsieur  Baeriswyl Jonathan                 None               None   \n",
       "4  Monsieur     Barroco Michael                 None               None   \n",
       "\n",
       "  Spécialisation Filière opt. Mineur   Statut Type Echange Ecole Echange  \\\n",
       "0           None         None   None  Présent         None          None   \n",
       "1           None         None   None  Présent         None          None   \n",
       "2           None         None   None  Présent         None          None   \n",
       "3           None         None   None  Présent         None          None   \n",
       "4           None         None   None  Présent         None          None   \n",
       "\n",
       "  No Sciper  Year  Bachelor Semester  \n",
       "0    169569  2007                  1  \n",
       "1    174905  2007                  1  \n",
       "2    173922  2007                  1  \n",
       "3    179406  2007                  1  \n",
       "4    179428  2007                  1  "
      ]
     },
     "execution_count": 5,
     "metadata": {},
     "output_type": "execute_result"
    }
   ],
   "source": [
    "df = loadBachelorData()\n",
    "df.to_csv(\"Bachelor.csv\")\n",
    "df.head()"
   ]
  },
  {
   "cell_type": "markdown",
   "metadata": {},
   "source": [
    "Now, we want to keep the students who get their Bachelor.<br/>\n",
    "In order to do this, we check if the students have at least one entry for Bachelor Semester 1 and Bachelor Semester 6 (otherwise, we consider that the student failed).<br/>\n",
    "We will see later the problems we can encounter by applying this method naively."
   ]
  },
  {
   "cell_type": "code",
   "execution_count": 174,
   "metadata": {
    "collapsed": false
   },
   "outputs": [],
   "source": [
    "def semesterOneToSix(sciper, df):\n",
    "    \"Tell if a student has entry for both Bachelor Semester 1 and Semester 6, and his number of Bachelor semesters\"\n",
    "    \n",
    "    # Get all the semesters of a student\n",
    "    studentSemesters = df.loc[df['No Sciper'] == sciper] # = df[df.isin([sciper])['No Sciper']]\n",
    "    # Check semester 1 and 6\n",
    "    semesterOne = studentSemesters.isin([1])['Bachelor Semester'].value_counts() \n",
    "    semesterSix = studentSemesters.isin([6])['Bachelor Semester'].value_counts()\n",
    "    # At least one 1st and 6th semester\n",
    "    if (True in semesterOne.keys() and semesterOne[True] > 0) and (True in semesterSix.keys() and semesterSix[True] > 0): \n",
    "        return True, len(studentSemesters)\n",
    "    else:\n",
    "        return False, len(studentSemesters)"
   ]
  },
  {
   "cell_type": "markdown",
   "metadata": {},
   "source": [
    "We build a new DataFrame with all the information we need : the student sciper, the gender and the numbers of Bachelor semesters of each student who succeed his Bachelor."
   ]
  },
  {
   "cell_type": "code",
   "execution_count": 7,
   "metadata": {
    "collapsed": false
   },
   "outputs": [],
   "source": [
    "success_bachelor = {'No Sciper': [], 'Gender': [], 'Number of semesters': []}\n",
    "for row in df.iterrows():\n",
    "    sciper = row[1]['No Sciper']\n",
    "    if not (sciper in success_bachelor['No Sciper']):\n",
    "        success, nb_semesters = semesterOneToSix(sciper, df)\n",
    "        if success:             # Only the students who have entry for semester 1 and 6\n",
    "            success_bachelor['No Sciper'].append(sciper)\n",
    "            success_bachelor['Gender'].append(row[1]['Civilité'])\n",
    "            success_bachelor['Number of semesters'].append(nb_semesters)      "
   ]
  },
  {
   "cell_type": "code",
   "execution_count": 9,
   "metadata": {
    "collapsed": false
   },
   "outputs": [
    {
     "data": {
      "text/html": [
       "<div>\n",
       "<table border=\"1\" class=\"dataframe\">\n",
       "  <thead>\n",
       "    <tr style=\"text-align: right;\">\n",
       "      <th></th>\n",
       "      <th>Gender</th>\n",
       "      <th>No Sciper</th>\n",
       "      <th>Number of semesters</th>\n",
       "    </tr>\n",
       "  </thead>\n",
       "  <tbody>\n",
       "    <tr>\n",
       "      <th>0</th>\n",
       "      <td>Monsieur</td>\n",
       "      <td>169569</td>\n",
       "      <td>6</td>\n",
       "    </tr>\n",
       "    <tr>\n",
       "      <th>1</th>\n",
       "      <td>Monsieur</td>\n",
       "      <td>174905</td>\n",
       "      <td>10</td>\n",
       "    </tr>\n",
       "    <tr>\n",
       "      <th>2</th>\n",
       "      <td>Monsieur</td>\n",
       "      <td>179406</td>\n",
       "      <td>8</td>\n",
       "    </tr>\n",
       "    <tr>\n",
       "      <th>3</th>\n",
       "      <td>Monsieur</td>\n",
       "      <td>179428</td>\n",
       "      <td>8</td>\n",
       "    </tr>\n",
       "    <tr>\n",
       "      <th>4</th>\n",
       "      <td>Monsieur</td>\n",
       "      <td>179449</td>\n",
       "      <td>6</td>\n",
       "    </tr>\n",
       "  </tbody>\n",
       "</table>\n",
       "</div>"
      ],
      "text/plain": [
       "     Gender No Sciper  Number of semesters\n",
       "0  Monsieur    169569                    6\n",
       "1  Monsieur    174905                   10\n",
       "2  Monsieur    179406                    8\n",
       "3  Monsieur    179428                    8\n",
       "4  Monsieur    179449                    6"
      ]
     },
     "execution_count": 9,
     "metadata": {},
     "output_type": "execute_result"
    }
   ],
   "source": [
    "success_bachelor = pd.DataFrame(success_bachelor)\n",
    "success_bachelor.head()"
   ]
  },
  {
   "cell_type": "code",
   "execution_count": 10,
   "metadata": {
    "collapsed": false,
    "scrolled": true
   },
   "outputs": [
    {
     "data": {
      "text/plain": [
       "count    397.000000\n",
       "mean       7.083123\n",
       "std        1.524428\n",
       "min        4.000000\n",
       "25%        6.000000\n",
       "50%        6.000000\n",
       "75%        8.000000\n",
       "max       12.000000\n",
       "Name: Number of semesters, dtype: float64"
      ]
     },
     "execution_count": 10,
     "metadata": {},
     "output_type": "execute_result"
    }
   ],
   "source": [
    "success_bachelor['Number of semesters'].describe()"
   ]
  },
  {
   "cell_type": "markdown",
   "metadata": {},
   "source": [
    "According to this data, it takes approximately 7 semesters to a student to go from the first to the sixth semester.<br/>\n",
    "Besides, we observe that the minimum of semesters necessary to complete the Bachelor is 4 instead of 6."
   ]
  },
  {
   "cell_type": "code",
   "execution_count": 346,
   "metadata": {
    "collapsed": false
   },
   "outputs": [
    {
     "data": {
      "text/html": [
       "<div>\n",
       "<table border=\"1\" class=\"dataframe\">\n",
       "  <thead>\n",
       "    <tr style=\"text-align: right;\">\n",
       "      <th></th>\n",
       "      <th>Gender</th>\n",
       "      <th>No Sciper</th>\n",
       "      <th>Number of semesters</th>\n",
       "    </tr>\n",
       "  </thead>\n",
       "  <tbody>\n",
       "    <tr>\n",
       "      <th>241</th>\n",
       "      <td>Monsieur</td>\n",
       "      <td>204222</td>\n",
       "      <td>4</td>\n",
       "    </tr>\n",
       "  </tbody>\n",
       "</table>\n",
       "</div>"
      ],
      "text/plain": [
       "       Gender No Sciper  Number of semesters\n",
       "241  Monsieur    204222                    4"
      ]
     },
     "execution_count": 346,
     "metadata": {},
     "output_type": "execute_result"
    }
   ],
   "source": [
    "success_bachelor.loc[success_bachelor['Number of semesters'] < 6]"
   ]
  },
  {
   "cell_type": "markdown",
   "metadata": {},
   "source": [
    "Only one student is concerned. Let's have a look at him :"
   ]
  },
  {
   "cell_type": "code",
   "execution_count": 99,
   "metadata": {
    "collapsed": false
   },
   "outputs": [],
   "source": [
    "def getStudentSemesters(df, sciper):\n",
    "    \"Get all the bachelor semesters of a student\"\n",
    "    \n",
    "    return df.loc[df['No Sciper'] == sciper]"
   ]
  },
  {
   "cell_type": "code",
   "execution_count": 349,
   "metadata": {
    "collapsed": false,
    "scrolled": false
   },
   "outputs": [
    {
     "data": {
      "text/html": [
       "<div>\n",
       "<table border=\"1\" class=\"dataframe\">\n",
       "  <thead>\n",
       "    <tr style=\"text-align: right;\">\n",
       "      <th></th>\n",
       "      <th>Civilité</th>\n",
       "      <th>Nom Prénom</th>\n",
       "      <th>Orientation Bachelor</th>\n",
       "      <th>Orientation Master</th>\n",
       "      <th>Spécialisation</th>\n",
       "      <th>Filière opt.</th>\n",
       "      <th>Mineur</th>\n",
       "      <th>Statut</th>\n",
       "      <th>Type Echange</th>\n",
       "      <th>Ecole Echange</th>\n",
       "      <th>No Sciper</th>\n",
       "      <th>Year</th>\n",
       "      <th>Bachelor Semester</th>\n",
       "    </tr>\n",
       "  </thead>\n",
       "  <tbody>\n",
       "    <tr>\n",
       "      <th>149</th>\n",
       "      <td>Monsieur</td>\n",
       "      <td>Séguy Louis Marie James</td>\n",
       "      <td>None</td>\n",
       "      <td>None</td>\n",
       "      <td>None</td>\n",
       "      <td>None</td>\n",
       "      <td>None</td>\n",
       "      <td>Présent</td>\n",
       "      <td>None</td>\n",
       "      <td>None</td>\n",
       "      <td>204222</td>\n",
       "      <td>2011</td>\n",
       "      <td>1</td>\n",
       "    </tr>\n",
       "    <tr>\n",
       "      <th>108</th>\n",
       "      <td>Monsieur</td>\n",
       "      <td>Séguy Louis Marie James</td>\n",
       "      <td>None</td>\n",
       "      <td>None</td>\n",
       "      <td>None</td>\n",
       "      <td>None</td>\n",
       "      <td>None</td>\n",
       "      <td>Présent</td>\n",
       "      <td>None</td>\n",
       "      <td>None</td>\n",
       "      <td>204222</td>\n",
       "      <td>2011</td>\n",
       "      <td>2</td>\n",
       "    </tr>\n",
       "    <tr>\n",
       "      <th>116</th>\n",
       "      <td>Monsieur</td>\n",
       "      <td>Séguy Louis Marie James</td>\n",
       "      <td>None</td>\n",
       "      <td>None</td>\n",
       "      <td>None</td>\n",
       "      <td>None</td>\n",
       "      <td>None</td>\n",
       "      <td>Présent</td>\n",
       "      <td>None</td>\n",
       "      <td>None</td>\n",
       "      <td>204222</td>\n",
       "      <td>2014</td>\n",
       "      <td>5</td>\n",
       "    </tr>\n",
       "    <tr>\n",
       "      <th>95</th>\n",
       "      <td>Monsieur</td>\n",
       "      <td>Séguy Louis Marie James</td>\n",
       "      <td>None</td>\n",
       "      <td>None</td>\n",
       "      <td>None</td>\n",
       "      <td>None</td>\n",
       "      <td>None</td>\n",
       "      <td>Présent</td>\n",
       "      <td>None</td>\n",
       "      <td>None</td>\n",
       "      <td>204222</td>\n",
       "      <td>2014</td>\n",
       "      <td>6</td>\n",
       "    </tr>\n",
       "  </tbody>\n",
       "</table>\n",
       "</div>"
      ],
      "text/plain": [
       "     Civilité               Nom Prénom Orientation Bachelor  \\\n",
       "149  Monsieur  Séguy Louis Marie James                 None   \n",
       "108  Monsieur  Séguy Louis Marie James                 None   \n",
       "116  Monsieur  Séguy Louis Marie James                 None   \n",
       "95   Monsieur  Séguy Louis Marie James                 None   \n",
       "\n",
       "    Orientation Master Spécialisation Filière opt. Mineur   Statut  \\\n",
       "149               None           None         None   None  Présent   \n",
       "108               None           None         None   None  Présent   \n",
       "116               None           None         None   None  Présent   \n",
       "95                None           None         None   None  Présent   \n",
       "\n",
       "    Type Echange Ecole Echange No Sciper  Year  Bachelor Semester  \n",
       "149         None          None    204222  2011                  1  \n",
       "108         None          None    204222  2011                  2  \n",
       "116         None          None    204222  2014                  5  \n",
       "95          None          None    204222  2014                  6  "
      ]
     },
     "execution_count": 349,
     "metadata": {},
     "output_type": "execute_result"
    }
   ],
   "source": [
    "getStudentSemesters(df, '204222')"
   ]
  },
  {
   "cell_type": "markdown",
   "metadata": {},
   "source": [
    "Semesters 4 and 5 are missing, just as years 2012 an 2013. We can suppose that this student is an outlier caused by missing data in IS-Academia.<br/>\n",
    "So, we chose to delete it in order to not distort the stats:"
   ]
  },
  {
   "cell_type": "code",
   "execution_count": 98,
   "metadata": {
    "collapsed": false
   },
   "outputs": [
    {
     "data": {
      "text/plain": [
       "0"
      ]
     },
     "execution_count": 98,
     "metadata": {},
     "output_type": "execute_result"
    }
   ],
   "source": [
    "outlier_index = success_bachelor.loc[success_bachelor['Number of semesters'] < 6].index\n",
    "success_bachelor = success_bachelor.drop(outlier_index)\n",
    "len(success_bachelor.loc[success_bachelor['Number of semesters'] < 6])"
   ]
  },
  {
   "cell_type": "markdown",
   "metadata": {},
   "source": [
    "### b - Hypothesis Testing"
   ]
  },
  {
   "cell_type": "markdown",
   "metadata": {},
   "source": [
    "We want to know if the male and female students need the same time to go from de 1st semester to the 6th semester."
   ]
  },
  {
   "cell_type": "code",
   "execution_count": 11,
   "metadata": {
    "collapsed": false
   },
   "outputs": [
    {
     "data": {
      "text/html": [
       "<div>\n",
       "<table border=\"1\" class=\"dataframe\">\n",
       "  <thead>\n",
       "    <tr style=\"text-align: right;\">\n",
       "      <th></th>\n",
       "      <th>Number of semesters</th>\n",
       "    </tr>\n",
       "  </thead>\n",
       "  <tbody>\n",
       "    <tr>\n",
       "      <th>count</th>\n",
       "      <td>368.000000</td>\n",
       "    </tr>\n",
       "    <tr>\n",
       "      <th>mean</th>\n",
       "      <td>7.105978</td>\n",
       "    </tr>\n",
       "    <tr>\n",
       "      <th>std</th>\n",
       "      <td>1.536891</td>\n",
       "    </tr>\n",
       "    <tr>\n",
       "      <th>min</th>\n",
       "      <td>4.000000</td>\n",
       "    </tr>\n",
       "    <tr>\n",
       "      <th>25%</th>\n",
       "      <td>6.000000</td>\n",
       "    </tr>\n",
       "    <tr>\n",
       "      <th>50%</th>\n",
       "      <td>6.000000</td>\n",
       "    </tr>\n",
       "    <tr>\n",
       "      <th>75%</th>\n",
       "      <td>8.000000</td>\n",
       "    </tr>\n",
       "    <tr>\n",
       "      <th>max</th>\n",
       "      <td>12.000000</td>\n",
       "    </tr>\n",
       "  </tbody>\n",
       "</table>\n",
       "</div>"
      ],
      "text/plain": [
       "       Number of semesters\n",
       "count           368.000000\n",
       "mean              7.105978\n",
       "std               1.536891\n",
       "min               4.000000\n",
       "25%               6.000000\n",
       "50%               6.000000\n",
       "75%               8.000000\n",
       "max              12.000000"
      ]
     },
     "execution_count": 11,
     "metadata": {},
     "output_type": "execute_result"
    }
   ],
   "source": [
    "men=success_bachelor.loc[success_bachelor['Gender'] == 'Monsieur']\n",
    "men.describe()"
   ]
  },
  {
   "cell_type": "code",
   "execution_count": 12,
   "metadata": {
    "collapsed": false,
    "scrolled": false
   },
   "outputs": [
    {
     "data": {
      "text/html": [
       "<div>\n",
       "<table border=\"1\" class=\"dataframe\">\n",
       "  <thead>\n",
       "    <tr style=\"text-align: right;\">\n",
       "      <th></th>\n",
       "      <th>Number of semesters</th>\n",
       "    </tr>\n",
       "  </thead>\n",
       "  <tbody>\n",
       "    <tr>\n",
       "      <th>count</th>\n",
       "      <td>29.000000</td>\n",
       "    </tr>\n",
       "    <tr>\n",
       "      <th>mean</th>\n",
       "      <td>6.793103</td>\n",
       "    </tr>\n",
       "    <tr>\n",
       "      <th>std</th>\n",
       "      <td>1.346406</td>\n",
       "    </tr>\n",
       "    <tr>\n",
       "      <th>min</th>\n",
       "      <td>6.000000</td>\n",
       "    </tr>\n",
       "    <tr>\n",
       "      <th>25%</th>\n",
       "      <td>6.000000</td>\n",
       "    </tr>\n",
       "    <tr>\n",
       "      <th>50%</th>\n",
       "      <td>6.000000</td>\n",
       "    </tr>\n",
       "    <tr>\n",
       "      <th>75%</th>\n",
       "      <td>8.000000</td>\n",
       "    </tr>\n",
       "    <tr>\n",
       "      <th>max</th>\n",
       "      <td>11.000000</td>\n",
       "    </tr>\n",
       "  </tbody>\n",
       "</table>\n",
       "</div>"
      ],
      "text/plain": [
       "       Number of semesters\n",
       "count            29.000000\n",
       "mean              6.793103\n",
       "std               1.346406\n",
       "min               6.000000\n",
       "25%               6.000000\n",
       "50%               6.000000\n",
       "75%               8.000000\n",
       "max              11.000000"
      ]
     },
     "execution_count": 12,
     "metadata": {},
     "output_type": "execute_result"
    }
   ],
   "source": [
    "women=success_bachelor.loc[success_bachelor['Gender'] == 'Madame']\n",
    "women.describe()"
   ]
  },
  {
   "cell_type": "markdown",
   "metadata": {},
   "source": [
    "- We observe that male are represented by 368 students whereas female are only 29.\n",
    "- The women need on average 6.8 semesters whereas the men need 7.1 semester.<br/>\n",
    "The difference is quite small, and the quantiles are the same for both of the groups.<br/>\n",
    "- Let's see if the difference in average statistically significant."
   ]
  },
  {
   "cell_type": "markdown",
   "metadata": {},
   "source": [
    "Let's apply Hypothesis Testing:<br/>\n",
    "- <b>H0</b> : mean(female) = mean(male)\n",
    "- <b>H1</b> : mean(female) != mean(male)"
   ]
  },
  {
   "cell_type": "markdown",
   "metadata": {},
   "source": [
    "Our test statistic is therefore mean(female) - mean(male)<br/>\n",
    "As we compare 2 populations, we chose to use a <b>two-sample t-test</b>. For this test, we say the variances are different because we observed different std in the 2 precedent tables.<br/>"
   ]
  },
  {
   "cell_type": "code",
   "execution_count": 17,
   "metadata": {
    "collapsed": false
   },
   "outputs": [
    {
     "data": {
      "text/plain": [
       "Ttest_indResult(statistic=-1.191705695448116, pvalue=0.24162457057331926)"
      ]
     },
     "execution_count": 17,
     "metadata": {},
     "output_type": "execute_result"
    }
   ],
   "source": [
    "stats.ttest_ind(a=women['Number of semesters'], b=men['Number of semesters'], equal_var=False)"
   ]
  },
  {
   "cell_type": "markdown",
   "metadata": {},
   "source": [
    "We obtain a p-value = 0.22 > 0.05. Therefore, we keep the null hypothesis (H0) and conclude that the difference in average isn't statistically significant with a significance level of 0.05."
   ]
  },
  {
   "cell_type": "markdown",
   "metadata": {},
   "source": [
    "<b>Filtering Data</b>"
   ]
  },
  {
   "cell_type": "markdown",
   "metadata": {},
   "source": [
    "Up to now, we considered that :\n",
    "- a student succeeded his Bachelor if he had an entry for both Bachelor semester 1 and 6. \n",
    "- the number of his Bachelor semesters was egal to his number of entries."
   ]
  },
  {
   "cell_type": "markdown",
   "metadata": {},
   "source": [
    "However, there are 2 problems :\n",
    "- A student who made his Bachelor semester 1 in 2007 can have made another semester 1 in 2006.\n",
    "- A student who made a Bachelor semester 5 in 2016 and not Bachelor semester 6 in 2015 is likely to make 2 extra semesters. "
   ]
  },
  {
   "cell_type": "code",
   "execution_count": 164,
   "metadata": {
    "collapsed": false
   },
   "outputs": [
    {
     "data": {
      "text/plain": [
       "True"
      ]
     },
     "execution_count": 164,
     "metadata": {},
     "output_type": "execute_result"
    }
   ],
   "source": [
    "df2 = df\n",
    "\n",
    "# unique index\n",
    "id_range = np.array(range(len(df)))\n",
    "df2.index = id_range\n",
    "df2.index.is_unique"
   ]
  },
  {
   "cell_type": "markdown",
   "metadata": {},
   "source": [
    "We get the No Sciper of students who registered to a Bachelor semester 1 in 2007 and who didn't make a second semester 1 in 2008 (we can't make 3 times the same semester)"
   ]
  },
  {
   "cell_type": "code",
   "execution_count": 117,
   "metadata": {
    "collapsed": false
   },
   "outputs": [
    {
     "data": {
      "text/plain": [
       "(90, 96, 76)"
      ]
     },
     "execution_count": 117,
     "metadata": {},
     "output_type": "execute_result"
    }
   ],
   "source": [
    "index_2007 = df2.loc[df['Year'] == 2007].index\n",
    "index_2008 = df2.loc[df['Year'] == 2008].index\n",
    "index_ba1 = df2.loc[df['Bachelor Semester'] == 1].index\n",
    "\n",
    "index_ba1_2007 = np.intersect1d(index_2007,index_ba1)\n",
    "index_ba1_2008 = np.intersect1d(index_2008,index_ba1)\n",
    "\n",
    "sciper_ba1_2007 = df2.iloc[index_ba1_2007]['No Sciper'] # here, iloc and df2.index are the same\n",
    "sciper_ba1_2008 = df2.iloc[index_ba1_2008]['No Sciper']\n",
    "\n",
    "sciper_ba1_2007_without_ba1_2008 = np.setdiff1d(sciper_ba1_2007, sciper_ba1_2008)\n",
    "\n",
    "len(sciper_ba1_2007), len(sciper_ba1_2008), len(sciper_ba1_2007_without_ba1_2008)"
   ]
  },
  {
   "cell_type": "markdown",
   "metadata": {},
   "source": [
    "We get the No Sciper of students who registered to a Bachelor semester 5 in 2016 and who didn't make semester 6 in 2015."
   ]
  },
  {
   "cell_type": "code",
   "execution_count": 175,
   "metadata": {
    "collapsed": false
   },
   "outputs": [
    {
     "data": {
      "text/plain": [
       "(104, 119, 88)"
      ]
     },
     "execution_count": 175,
     "metadata": {},
     "output_type": "execute_result"
    }
   ],
   "source": [
    "index_2015 = df2.loc[df['Year'] == 2015].index\n",
    "index_2016 = df2.loc[df['Year'] == 2016].index\n",
    "index_ba5 = df2.loc[df['Bachelor Semester'] == 5].index\n",
    "index_ba6 = df2.loc[df['Bachelor Semester'] == 6].index\n",
    "\n",
    "index_ba6_2015 = np.intersect1d(index_2015,index_ba6)\n",
    "index_ba5_2016 = np.intersect1d(index_2016,index_ba5)\n",
    "\n",
    "sciper_ba6_2015 = df2.iloc[index_ba6_2015]['No Sciper']\n",
    "sciper_ba5_2016 = df2.iloc[index_ba5_2016]['No Sciper']\n",
    "\n",
    "sciper_ba6_2015_and_ba5_2016 = np.setdiff1d(sciper_ba5_2016, sciper_ba6_2015)\n",
    "\n",
    "len(sciper_ba6_2015), len(sciper_ba5_2016), len(sciper_ba6_2015_and_ba5_2016)"
   ]
  },
  {
   "cell_type": "markdown",
   "metadata": {},
   "source": [
    "If we note :\n",
    "- A : The ensemble of the students who have an entry for both semester 1 and 6\n",
    "- B : The union of the students to drop"
   ]
  },
  {
   "cell_type": "markdown",
   "metadata": {},
   "source": [
    "Then we obtain sciper of the students to keep by A\\B."
   ]
  },
  {
   "cell_type": "code",
   "execution_count": 176,
   "metadata": {
    "collapsed": false
   },
   "outputs": [
    {
     "data": {
      "text/plain": [
       "(164, 61, 396, 335)"
      ]
     },
     "execution_count": 176,
     "metadata": {},
     "output_type": "execute_result"
    }
   ],
   "source": [
    "sciperToDrop = np.union1d(sciper_ba1_2007_without_ba1_2008, sciper_ba6_2015_and_ba5_2016)\n",
    "sciperDropped = np.intersect1d(sciperToDrop, success_bachelor['No Sciper'])\n",
    "sciperToKeep = np.setdiff1d(success_bachelor['No Sciper'], sciperDropped)\n",
    "len(sciperToDrop), len(sciperDropped), len(success_bachelor), len(sciperToKeep)"
   ]
  },
  {
   "cell_type": "markdown",
   "metadata": {},
   "source": [
    "An inner join enables to keep the desired students."
   ]
  },
  {
   "cell_type": "code",
   "execution_count": 177,
   "metadata": {
    "collapsed": false,
    "scrolled": true
   },
   "outputs": [
    {
     "data": {
      "text/html": [
       "<div>\n",
       "<table border=\"1\" class=\"dataframe\">\n",
       "  <thead>\n",
       "    <tr style=\"text-align: right;\">\n",
       "      <th></th>\n",
       "      <th>Gender</th>\n",
       "      <th>No Sciper</th>\n",
       "      <th>Number of semesters</th>\n",
       "    </tr>\n",
       "  </thead>\n",
       "  <tbody>\n",
       "    <tr>\n",
       "      <th>0</th>\n",
       "      <td>Monsieur</td>\n",
       "      <td>175379</td>\n",
       "      <td>8</td>\n",
       "    </tr>\n",
       "    <tr>\n",
       "      <th>1</th>\n",
       "      <td>Monsieur</td>\n",
       "      <td>181244</td>\n",
       "      <td>12</td>\n",
       "    </tr>\n",
       "    <tr>\n",
       "      <th>2</th>\n",
       "      <td>Monsieur</td>\n",
       "      <td>184772</td>\n",
       "      <td>6</td>\n",
       "    </tr>\n",
       "    <tr>\n",
       "      <th>3</th>\n",
       "      <td>Monsieur</td>\n",
       "      <td>186264</td>\n",
       "      <td>11</td>\n",
       "    </tr>\n",
       "    <tr>\n",
       "      <th>4</th>\n",
       "      <td>Monsieur</td>\n",
       "      <td>185949</td>\n",
       "      <td>6</td>\n",
       "    </tr>\n",
       "  </tbody>\n",
       "</table>\n",
       "</div>"
      ],
      "text/plain": [
       "     Gender No Sciper  Number of semesters\n",
       "0  Monsieur    175379                    8\n",
       "1  Monsieur    181244                   12\n",
       "2  Monsieur    184772                    6\n",
       "3  Monsieur    186264                   11\n",
       "4  Monsieur    185949                    6"
      ]
     },
     "execution_count": 177,
     "metadata": {},
     "output_type": "execute_result"
    }
   ],
   "source": [
    "sciperToKeep_df = pd.DataFrame(sciperToKeep, columns=[\"No Sciper\"])\n",
    "success_bachelor2 = (pd.merge(success_bachelor,sciperToKeep_df, how=\"inner\"))\n",
    "success_bachelor2.head()"
   ]
  },
  {
   "cell_type": "markdown",
   "metadata": {},
   "source": [
    "The new dataframe is described by the following statistics values :"
   ]
  },
  {
   "cell_type": "code",
   "execution_count": 178,
   "metadata": {
    "collapsed": false
   },
   "outputs": [
    {
     "data": {
      "text/html": [
       "<div>\n",
       "<table border=\"1\" class=\"dataframe\">\n",
       "  <thead>\n",
       "    <tr style=\"text-align: right;\">\n",
       "      <th></th>\n",
       "      <th>Number of semesters</th>\n",
       "    </tr>\n",
       "  </thead>\n",
       "  <tbody>\n",
       "    <tr>\n",
       "      <th>count</th>\n",
       "      <td>335.000000</td>\n",
       "    </tr>\n",
       "    <tr>\n",
       "      <th>mean</th>\n",
       "      <td>7.197015</td>\n",
       "    </tr>\n",
       "    <tr>\n",
       "      <th>std</th>\n",
       "      <td>1.579241</td>\n",
       "    </tr>\n",
       "    <tr>\n",
       "      <th>min</th>\n",
       "      <td>6.000000</td>\n",
       "    </tr>\n",
       "    <tr>\n",
       "      <th>25%</th>\n",
       "      <td>6.000000</td>\n",
       "    </tr>\n",
       "    <tr>\n",
       "      <th>50%</th>\n",
       "      <td>6.000000</td>\n",
       "    </tr>\n",
       "    <tr>\n",
       "      <th>75%</th>\n",
       "      <td>8.000000</td>\n",
       "    </tr>\n",
       "    <tr>\n",
       "      <th>max</th>\n",
       "      <td>12.000000</td>\n",
       "    </tr>\n",
       "  </tbody>\n",
       "</table>\n",
       "</div>"
      ],
      "text/plain": [
       "       Number of semesters\n",
       "count           335.000000\n",
       "mean              7.197015\n",
       "std               1.579241\n",
       "min               6.000000\n",
       "25%               6.000000\n",
       "50%               6.000000\n",
       "75%               8.000000\n",
       "max              12.000000"
      ]
     },
     "execution_count": 178,
     "metadata": {},
     "output_type": "execute_result"
    }
   ],
   "source": [
    "success_bachelor2.describe()"
   ]
  },
  {
   "cell_type": "code",
   "execution_count": 179,
   "metadata": {
    "collapsed": false,
    "scrolled": true
   },
   "outputs": [
    {
     "data": {
      "text/html": [
       "<div>\n",
       "<table border=\"1\" class=\"dataframe\">\n",
       "  <thead>\n",
       "    <tr style=\"text-align: right;\">\n",
       "      <th></th>\n",
       "      <th>Number of semesters</th>\n",
       "    </tr>\n",
       "  </thead>\n",
       "  <tbody>\n",
       "    <tr>\n",
       "      <th>count</th>\n",
       "      <td>309.000000</td>\n",
       "    </tr>\n",
       "    <tr>\n",
       "      <th>mean</th>\n",
       "      <td>7.223301</td>\n",
       "    </tr>\n",
       "    <tr>\n",
       "      <th>std</th>\n",
       "      <td>1.592996</td>\n",
       "    </tr>\n",
       "    <tr>\n",
       "      <th>min</th>\n",
       "      <td>6.000000</td>\n",
       "    </tr>\n",
       "    <tr>\n",
       "      <th>25%</th>\n",
       "      <td>6.000000</td>\n",
       "    </tr>\n",
       "    <tr>\n",
       "      <th>50%</th>\n",
       "      <td>6.000000</td>\n",
       "    </tr>\n",
       "    <tr>\n",
       "      <th>75%</th>\n",
       "      <td>8.000000</td>\n",
       "    </tr>\n",
       "    <tr>\n",
       "      <th>max</th>\n",
       "      <td>12.000000</td>\n",
       "    </tr>\n",
       "  </tbody>\n",
       "</table>\n",
       "</div>"
      ],
      "text/plain": [
       "       Number of semesters\n",
       "count           309.000000\n",
       "mean              7.223301\n",
       "std               1.592996\n",
       "min               6.000000\n",
       "25%               6.000000\n",
       "50%               6.000000\n",
       "75%               8.000000\n",
       "max              12.000000"
      ]
     },
     "execution_count": 179,
     "metadata": {},
     "output_type": "execute_result"
    }
   ],
   "source": [
    "men2=success_bachelor2.loc[success_bachelor2['Gender'] == 'Monsieur']\n",
    "men2.describe()"
   ]
  },
  {
   "cell_type": "code",
   "execution_count": 180,
   "metadata": {
    "collapsed": false,
    "scrolled": false
   },
   "outputs": [
    {
     "data": {
      "text/html": [
       "<div>\n",
       "<table border=\"1\" class=\"dataframe\">\n",
       "  <thead>\n",
       "    <tr style=\"text-align: right;\">\n",
       "      <th></th>\n",
       "      <th>Number of semesters</th>\n",
       "    </tr>\n",
       "  </thead>\n",
       "  <tbody>\n",
       "    <tr>\n",
       "      <th>count</th>\n",
       "      <td>26.000000</td>\n",
       "    </tr>\n",
       "    <tr>\n",
       "      <th>mean</th>\n",
       "      <td>6.884615</td>\n",
       "    </tr>\n",
       "    <tr>\n",
       "      <th>std</th>\n",
       "      <td>1.395046</td>\n",
       "    </tr>\n",
       "    <tr>\n",
       "      <th>min</th>\n",
       "      <td>6.000000</td>\n",
       "    </tr>\n",
       "    <tr>\n",
       "      <th>25%</th>\n",
       "      <td>6.000000</td>\n",
       "    </tr>\n",
       "    <tr>\n",
       "      <th>50%</th>\n",
       "      <td>6.000000</td>\n",
       "    </tr>\n",
       "    <tr>\n",
       "      <th>75%</th>\n",
       "      <td>8.000000</td>\n",
       "    </tr>\n",
       "    <tr>\n",
       "      <th>max</th>\n",
       "      <td>11.000000</td>\n",
       "    </tr>\n",
       "  </tbody>\n",
       "</table>\n",
       "</div>"
      ],
      "text/plain": [
       "       Number of semesters\n",
       "count            26.000000\n",
       "mean              6.884615\n",
       "std               1.395046\n",
       "min               6.000000\n",
       "25%               6.000000\n",
       "50%               6.000000\n",
       "75%               8.000000\n",
       "max              11.000000"
      ]
     },
     "execution_count": 180,
     "metadata": {},
     "output_type": "execute_result"
    }
   ],
   "source": [
    "women2=success_bachelor2.loc[success_bachelor2['Gender'] == 'Madame']\n",
    "women2.describe()"
   ]
  },
  {
   "cell_type": "markdown",
   "metadata": {},
   "source": [
    "The difference between male and female students is a bit more elevated than previouly, but stays pretty small."
   ]
  },
  {
   "cell_type": "code",
   "execution_count": 181,
   "metadata": {
    "collapsed": false
   },
   "outputs": [
    {
     "data": {
      "text/plain": [
       "Ttest_indResult(statistic=-1.2242690386586714, pvalue=0.22927095396453942)"
      ]
     },
     "execution_count": 181,
     "metadata": {},
     "output_type": "execute_result"
    }
   ],
   "source": [
    "stats.ttest_ind(a=women['Number of semesters'], b=men['Number of semesters'], equal_var=False)"
   ]
  },
  {
   "cell_type": "markdown",
   "metadata": {},
   "source": [
    "The two-sample t-test gives a p-value = 0.22 > 0.05.<br/> \n",
    "Again, we keep the null hypothesis (H0) and conclude that the difference in average isn't statistically significant with a significance level of 0.05."
   ]
  },
  {
   "cell_type": "markdown",
   "metadata": {},
   "source": [
    "## III - Analysing Master Data"
   ]
  },
  {
   "cell_type": "markdown",
   "metadata": {},
   "source": [
    "### a - Loading the data"
   ]
  },
  {
   "cell_type": "markdown",
   "metadata": {},
   "source": [
    "Master Data are loaded from the HTML files previously scrapped.\n",
    "Each HTML table is converted to a dataframe thanks to the parseHTML function.\n",
    "Year and Bachelor Semester are also added to the dataFrame.\n",
    "Then, the tables are concatenated by rows (which is an easy operation because all the dataframes have the same form)."
   ]
  },
  {
   "cell_type": "code",
   "execution_count": 185,
   "metadata": {
    "collapsed": true
   },
   "outputs": [],
   "source": [
    "def loadMasterData():\n",
    "    folder_path = \"./DataApo/Master\"\n",
    "    paths_iterator = glob.iglob(folder_path+'/*.html')\n",
    "    for idx, file_path in enumerate(paths_iterator):\n",
    "        file_content = get_file_content(file_path)\n",
    "        df_temp = parseHTML(file_content)\n",
    "        year, num_semester = getYearSemester(file_path)\n",
    "        df_temp['Year'] = year\n",
    "        df_temp['Bachelor Semester'] = num_semester\n",
    "        if idx == 0:\n",
    "            df = df_temp\n",
    "        else: \n",
    "            df = pd.concat([df,df_temp], axis=0)\n",
    "    return df"
   ]
  },
  {
   "cell_type": "code",
   "execution_count": 186,
   "metadata": {
    "collapsed": false
   },
   "outputs": [
    {
     "data": {
      "text/html": [
       "<div>\n",
       "<table border=\"1\" class=\"dataframe\">\n",
       "  <thead>\n",
       "    <tr style=\"text-align: right;\">\n",
       "      <th></th>\n",
       "      <th>Civilité</th>\n",
       "      <th>Nom Prénom</th>\n",
       "      <th>Orientation Bachelor</th>\n",
       "      <th>Orientation Master</th>\n",
       "      <th>Spécialisation</th>\n",
       "      <th>Filière opt.</th>\n",
       "      <th>Mineur</th>\n",
       "      <th>Statut</th>\n",
       "      <th>Type Echange</th>\n",
       "      <th>Ecole Echange</th>\n",
       "      <th>No Sciper</th>\n",
       "      <th>Year</th>\n",
       "      <th>Bachelor Semester</th>\n",
       "    </tr>\n",
       "  </thead>\n",
       "  <tbody>\n",
       "    <tr>\n",
       "      <th>0</th>\n",
       "      <td>Monsieur</td>\n",
       "      <td>Arévalo Christian</td>\n",
       "      <td>None</td>\n",
       "      <td>None</td>\n",
       "      <td>None</td>\n",
       "      <td>None</td>\n",
       "      <td>None</td>\n",
       "      <td>Présent</td>\n",
       "      <td>None</td>\n",
       "      <td>None</td>\n",
       "      <td>169569</td>\n",
       "      <td>2007</td>\n",
       "      <td>1</td>\n",
       "    </tr>\n",
       "    <tr>\n",
       "      <th>1</th>\n",
       "      <td>Monsieur</td>\n",
       "      <td>Aubelle Flavien</td>\n",
       "      <td>None</td>\n",
       "      <td>None</td>\n",
       "      <td>None</td>\n",
       "      <td>None</td>\n",
       "      <td>None</td>\n",
       "      <td>Présent</td>\n",
       "      <td>None</td>\n",
       "      <td>None</td>\n",
       "      <td>174905</td>\n",
       "      <td>2007</td>\n",
       "      <td>1</td>\n",
       "    </tr>\n",
       "    <tr>\n",
       "      <th>2</th>\n",
       "      <td>Monsieur</td>\n",
       "      <td>Badoud Morgan</td>\n",
       "      <td>None</td>\n",
       "      <td>None</td>\n",
       "      <td>None</td>\n",
       "      <td>None</td>\n",
       "      <td>None</td>\n",
       "      <td>Présent</td>\n",
       "      <td>None</td>\n",
       "      <td>None</td>\n",
       "      <td>173922</td>\n",
       "      <td>2007</td>\n",
       "      <td>1</td>\n",
       "    </tr>\n",
       "    <tr>\n",
       "      <th>3</th>\n",
       "      <td>Monsieur</td>\n",
       "      <td>Baeriswyl Jonathan</td>\n",
       "      <td>None</td>\n",
       "      <td>None</td>\n",
       "      <td>None</td>\n",
       "      <td>None</td>\n",
       "      <td>None</td>\n",
       "      <td>Présent</td>\n",
       "      <td>None</td>\n",
       "      <td>None</td>\n",
       "      <td>179406</td>\n",
       "      <td>2007</td>\n",
       "      <td>1</td>\n",
       "    </tr>\n",
       "    <tr>\n",
       "      <th>4</th>\n",
       "      <td>Monsieur</td>\n",
       "      <td>Barroco Michael</td>\n",
       "      <td>None</td>\n",
       "      <td>None</td>\n",
       "      <td>None</td>\n",
       "      <td>None</td>\n",
       "      <td>None</td>\n",
       "      <td>Présent</td>\n",
       "      <td>None</td>\n",
       "      <td>None</td>\n",
       "      <td>179428</td>\n",
       "      <td>2007</td>\n",
       "      <td>1</td>\n",
       "    </tr>\n",
       "  </tbody>\n",
       "</table>\n",
       "</div>"
      ],
      "text/plain": [
       "   Civilité          Nom Prénom Orientation Bachelor Orientation Master  \\\n",
       "0  Monsieur   Arévalo Christian                 None               None   \n",
       "1  Monsieur     Aubelle Flavien                 None               None   \n",
       "2  Monsieur       Badoud Morgan                 None               None   \n",
       "3  Monsieur  Baeriswyl Jonathan                 None               None   \n",
       "4  Monsieur     Barroco Michael                 None               None   \n",
       "\n",
       "  Spécialisation Filière opt. Mineur   Statut Type Echange Ecole Echange  \\\n",
       "0           None         None   None  Présent         None          None   \n",
       "1           None         None   None  Présent         None          None   \n",
       "2           None         None   None  Présent         None          None   \n",
       "3           None         None   None  Présent         None          None   \n",
       "4           None         None   None  Présent         None          None   \n",
       "\n",
       "  No Sciper  Year  Bachelor Semester  \n",
       "0    169569  2007                  1  \n",
       "1    174905  2007                  1  \n",
       "2    173922  2007                  1  \n",
       "3    179406  2007                  1  \n",
       "4    179428  2007                  1  "
      ]
     },
     "execution_count": 186,
     "metadata": {},
     "output_type": "execute_result"
    }
   ],
   "source": [
    "df = loadBachelorData()\n",
    "df.to_csv(\"Master.csv\")\n",
    "df.head()"
   ]
  },
  {
   "cell_type": "code",
   "execution_count": 188,
   "metadata": {
    "collapsed": false
   },
   "outputs": [
    {
     "data": {
      "text/plain": [
       "True"
      ]
     },
     "execution_count": 188,
     "metadata": {},
     "output_type": "execute_result"
    }
   ],
   "source": [
    "# unique index\n",
    "id_range = np.array(range(len(df)))\n",
    "df.index = id_range\n",
    "df.index.is_unique"
   ]
  },
  {
   "cell_type": "code",
   "execution_count": null,
   "metadata": {
    "collapsed": true
   },
   "outputs": [],
   "source": []
  },
  {
   "cell_type": "markdown",
   "metadata": {},
   "source": [
    "### b - Hypothesis Testing"
   ]
  }
 ],
 "metadata": {
  "anaconda-cloud": {},
  "kernelspec": {
   "display_name": "Python [conda root]",
   "language": "python",
   "name": "conda-root-py"
  },
  "language_info": {
   "codemirror_mode": {
    "name": "ipython",
    "version": 3
   },
   "file_extension": ".py",
   "mimetype": "text/x-python",
   "name": "python",
   "nbconvert_exporter": "python",
   "pygments_lexer": "ipython3",
   "version": "3.5.2"
  }
 },
 "nbformat": 4,
 "nbformat_minor": 1
}
