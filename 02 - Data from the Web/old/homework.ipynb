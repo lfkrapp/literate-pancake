{
 "cells": [
  {
   "cell_type": "code",
   "execution_count": 1,
   "metadata": {
    "collapsed": true
   },
   "outputs": [],
   "source": [
    "%matplotlib inline\n",
    "import pandas as pd\n",
    "import numpy as np\n",
    "import glob\n",
    "import re\n",
    "import matplotlib.pyplot as plt"
   ]
  },
  {
   "cell_type": "markdown",
   "metadata": {},
   "source": [
    "Running the different scripts we have in the folder, we obtained this folder data/info/bachelor with all the .xls files from 2007 and on, over which we will want to run this analysis script.\n",
    "The first thing we do is to load the data, after some preliminary checks: is the file structure coherent from one file to another? We check this with a print of the column names each file has. The result is encouraging since the files share the same structure. \n",
    "\n",
    "Having the data, we knew we only needed to keep a few columns: the gender, the identity (sciper to ease things up and avoid people with the same name being an issue) and the presence.\n",
    "\n",
    "The first two seem to be logical indices, and the gender is more macroscopic than the ID. Thus in the dataframe extracted from a single .xls, we ditch everything else than the 3 previously mentionned, and hierarchically reindex the rows : gender -> index.\n",
    "\n",
    "We are left with a single column: the Status. When we tried to merge the DFs together, we realized it would be convenient to have a column per semester and year. This seems logical to visualize and individual's progression within EPFL. The semester and year can be extracted from the file's name, and as a value we can keep the presence. The latter can be either: Present, Away (or NaN). By monitoring the succession of presences, we can determine the time it took to a given student to get his bachelors.\n",
    "\n",
    "\n",
    "An issue that occured to us afterwards is: what if someone is registered in BA1 in 2007 but has done it's first BA1 in 2006 ? \n",
    "\n",
    "\n"
   ]
  },
  {
   "cell_type": "code",
   "execution_count": null,
   "metadata": {
    "collapsed": false
   },
   "outputs": [],
   "source": []
  },
  {
   "cell_type": "code",
   "execution_count": 2,
   "metadata": {
    "collapsed": false
   },
   "outputs": [],
   "source": [
    "#In this block we get the data and wrangle it\n",
    "\n",
    "folder_path = \"data/info/bachelor\"\n",
    "students = pd.DataFrame([])\n",
    "for file_path in glob.iglob(folder_path+'/*.XLS'):\n",
    "        tmp_data = pd.read_html(file_path, index_col=[0, 10], header=2)[0] #excel format is corrupted, but reading them as html works\n",
    "        #We extract the Year and semester from the file's name\n",
    "        num_sem = float(re.sub(\"[^0-9]\", \"\", str(file_path).strip())[-2])\n",
    "        if num_sem % 2 == 0:\n",
    "            Year = re.sub(\"[^0-9]\", \"\", str(file_path).strip())[4:8]\n",
    "            Semester = \"Summer\"\n",
    "\n",
    "        else:\n",
    "            Year = re.sub(\"[^0-9]\", \"\", str(file_path).strip())[:4]\n",
    "            Semester = \"Winter\"\n",
    "        #We sort by index, the most macroscopic index being the gender\n",
    "        tmp_data= tmp_data[[\"Statut\"]].sort_index()\n",
    "        #We rename the columns so as to have the season and year instead of something called \"Status\"\n",
    "        tmp_data.columns=[[Year], [Semester]]\n",
    "        students = pd.concat([students, tmp_data], axis=1, join='outer')   \n",
    "             \n",
    "students = students.sort_index(axis=1)\n",
    "students.to_csv(\"Students.csv\")\n",
    "students.columns.is_unique\n",
    "students[students==\"Présent\"] = 1\n",
    "students[students==\"Congé\"] = 1 #you cannot take a year off during your bachelors, congés will be put for Erasmus 90% of the time\n",
    "students = students.fillna(0)"
   ]
  },
  {
   "cell_type": "code",
   "execution_count": null,
   "metadata": {
    "collapsed": false
   },
   "outputs": [],
   "source": []
  },
  {
   "cell_type": "code",
   "execution_count": 3,
   "metadata": {
    "collapsed": false
   },
   "outputs": [
    {
     "data": {
      "text/html": [
       "<div>\n",
       "<table border=\"1\" class=\"dataframe\">\n",
       "  <thead>\n",
       "    <tr style=\"text-align: right;\">\n",
       "      <th></th>\n",
       "      <th>0</th>\n",
       "    </tr>\n",
       "  </thead>\n",
       "  <tbody>\n",
       "    <tr>\n",
       "      <th>count</th>\n",
       "      <td>32.000000</td>\n",
       "    </tr>\n",
       "    <tr>\n",
       "      <th>mean</th>\n",
       "      <td>6.781250</td>\n",
       "    </tr>\n",
       "    <tr>\n",
       "      <th>std</th>\n",
       "      <td>1.288519</td>\n",
       "    </tr>\n",
       "    <tr>\n",
       "      <th>min</th>\n",
       "      <td>6.000000</td>\n",
       "    </tr>\n",
       "    <tr>\n",
       "      <th>25%</th>\n",
       "      <td>6.000000</td>\n",
       "    </tr>\n",
       "    <tr>\n",
       "      <th>50%</th>\n",
       "      <td>6.000000</td>\n",
       "    </tr>\n",
       "    <tr>\n",
       "      <th>75%</th>\n",
       "      <td>7.250000</td>\n",
       "    </tr>\n",
       "    <tr>\n",
       "      <th>max</th>\n",
       "      <td>11.000000</td>\n",
       "    </tr>\n",
       "  </tbody>\n",
       "</table>\n",
       "</div>"
      ],
      "text/plain": [
       "               0\n",
       "count  32.000000\n",
       "mean    6.781250\n",
       "std     1.288519\n",
       "min     6.000000\n",
       "25%     6.000000\n",
       "50%     6.000000\n",
       "75%     7.250000\n",
       "max    11.000000"
      ]
     },
     "execution_count": 3,
     "metadata": {},
     "output_type": "execute_result"
    }
   ],
   "source": [
    "Madame = pd.DataFrame(students.loc[\"Madame\"].sum(axis=1))\n",
    "Madame = Madame[Madame[0] > 5]\n",
    "Madame.describe()"
   ]
  },
  {
   "cell_type": "code",
   "execution_count": 4,
   "metadata": {
    "collapsed": false
   },
   "outputs": [
    {
     "data": {
      "text/html": [
       "<div>\n",
       "<table border=\"1\" class=\"dataframe\">\n",
       "  <thead>\n",
       "    <tr style=\"text-align: right;\">\n",
       "      <th></th>\n",
       "      <th>0</th>\n",
       "    </tr>\n",
       "  </thead>\n",
       "  <tbody>\n",
       "    <tr>\n",
       "      <th>count</th>\n",
       "      <td>263.000000</td>\n",
       "    </tr>\n",
       "    <tr>\n",
       "      <th>mean</th>\n",
       "      <td>6.969582</td>\n",
       "    </tr>\n",
       "    <tr>\n",
       "      <th>std</th>\n",
       "      <td>1.356011</td>\n",
       "    </tr>\n",
       "    <tr>\n",
       "      <th>min</th>\n",
       "      <td>6.000000</td>\n",
       "    </tr>\n",
       "    <tr>\n",
       "      <th>25%</th>\n",
       "      <td>6.000000</td>\n",
       "    </tr>\n",
       "    <tr>\n",
       "      <th>50%</th>\n",
       "      <td>6.000000</td>\n",
       "    </tr>\n",
       "    <tr>\n",
       "      <th>75%</th>\n",
       "      <td>8.000000</td>\n",
       "    </tr>\n",
       "    <tr>\n",
       "      <th>max</th>\n",
       "      <td>12.000000</td>\n",
       "    </tr>\n",
       "  </tbody>\n",
       "</table>\n",
       "</div>"
      ],
      "text/plain": [
       "                0\n",
       "count  263.000000\n",
       "mean     6.969582\n",
       "std      1.356011\n",
       "min      6.000000\n",
       "25%      6.000000\n",
       "50%      6.000000\n",
       "75%      8.000000\n",
       "max     12.000000"
      ]
     },
     "execution_count": 4,
     "metadata": {},
     "output_type": "execute_result"
    }
   ],
   "source": [
    "Monsieur = pd.DataFrame(students.loc[\"Monsieur\"].sum(axis=1)) \n",
    "Monsieur = Monsieur[Monsieur[0] > 5]\n",
    "Monsieur.describe()"
   ]
  },
  {
   "cell_type": "code",
   "execution_count": 38,
   "metadata": {
    "collapsed": false
   },
   "outputs": [
    {
     "data": {
      "text/plain": [
       "(-1.0010467950952722,\n",
       " 1.0000000159916886,\n",
       " -1.0058195355897017,\n",
       " 1.005357531594262)"
      ]
     },
     "execution_count": 38,
     "metadata": {},
     "output_type": "execute_result"
    },
    {
     "data": {
      "image/png": "[encoded data removed]",
      "text/plain": [
       "<matplotlib.figure.Figure at 0x7fb7386c6f28>"
      ]
     },
     "metadata": {},
     "output_type": "display_data"
    }
   ],
   "source": [
    "labels = \"Men\", \"Women\"\n",
    "sizes = [Monsieur.size, Madame.size]\n",
    "colors = [\"lightblue\", \"pink\"]\n",
    "\n",
    "plt.pie(sizes, labels=labels, colors=colors,\n",
    "        autopct='%1.1f%%', shadow=True)\n",
    "plt.axis('equal')"
   ]
  },
  {
   "cell_type": "code",
   "execution_count": 28,
   "metadata": {
    "collapsed": false
   },
   "outputs": [
    {
     "data": {
      "text/plain": [
       "<matplotlib.legend.Legend at 0x7fb738685828>"
      ]
     },
     "execution_count": 28,
     "metadata": {},
     "output_type": "execute_result"
    },
    {
     "data": {
      "image/png": "[encoded data removed]",
      "text/plain": [
       "<matplotlib.figure.Figure at 0x7fb738787ba8>"
      ]
     },
     "metadata": {},
     "output_type": "display_data"
    }
   ],
   "source": [
    "plt.hist(Monsieur, alpha = 0.5, label = \"Men\")\n",
    "plt.hist(Madame, facecolor='red', alpha = 0.5, label = \"Women\")\n",
    "plt.xlabel(\"Number of semesters\")\n",
    "plt.ylabel(\"Count\")\n",
    "plt.legend()\n"
   ]
  },
  {
   "cell_type": "markdown",
   "metadata": {},
   "source": [
    "MASTER STUDENTS"
   ]
  },
  {
   "cell_type": "code",
   "execution_count": 46,
   "metadata": {
    "collapsed": false
   },
   "outputs": [],
   "source": [
    "#In this block we get the data and wrangle it\n",
    "\n",
    "folder_path = \"data/info/master\"\n",
    "students = pd.DataFrame([])\n",
    "for file_path in glob.iglob(folder_path+'/*.XLS'):\n",
    "        tmp_data = pd.read_html(file_path, index_col=[0, 10], header=2)[0] #excel format is corrupted, but reading them as html works\n",
    "        #We extract the Year and semester from the file's name\n",
    "        num_sem = float(re.sub(\"[^0-9]\", \"\", str(file_path).strip())[-2])\n",
    "        if num_sem % 2 == 0:\n",
    "            Year = re.sub(\"[^0-9]\", \"\", str(file_path).strip())[4:8]\n",
    "            Semester = \"Summer\"\n",
    "\n",
    "        else:\n",
    "            Year = re.sub(\"[^0-9]\", \"\", str(file_path).strip())[:4]\n",
    "            Semester = \"Winter\"\n",
    "        #We sort by index, the most macroscopic index being the gender\n",
    "        tmp_data= tmp_data[[\"Statut\"]].sort_index()\n",
    "        #We rename the columns so as to have the season and year instead of something called \"Status\"\n",
    "        tmp_data.columns=[[Year], [Semester]]\n",
    "        students = pd.concat([students, tmp_data], axis=1, join='outer')   \n",
    "             \n",
    "students = students.sort_index(axis=1)\n",
    "students.to_csv(\"Students.csv\")\n",
    "students.columns.is_unique\n",
    "students[students==\"Présent\"] = 1\n",
    "students[students==\"Stage\"] = 1\n",
    "\n",
    "students[students==\"Congé\"] = 1 #you cannot take a year off during your bachelors, congés will be put for Erasmus 90% of the time\n",
    "students = students.fillna(0)"
   ]
  },
  {
   "cell_type": "code",
   "execution_count": 50,
   "metadata": {
    "collapsed": false
   },
   "outputs": [
    {
     "data": {
      "text/html": [
       "<div>\n",
       "<table border=\"1\" class=\"dataframe\">\n",
       "  <thead>\n",
       "    <tr style=\"text-align: right;\">\n",
       "      <th></th>\n",
       "      <th>0</th>\n",
       "    </tr>\n",
       "  </thead>\n",
       "  <tbody>\n",
       "    <tr>\n",
       "      <th>count</th>\n",
       "      <td>36.000000</td>\n",
       "    </tr>\n",
       "    <tr>\n",
       "      <th>mean</th>\n",
       "      <td>4.583333</td>\n",
       "    </tr>\n",
       "    <tr>\n",
       "      <th>std</th>\n",
       "      <td>0.731925</td>\n",
       "    </tr>\n",
       "    <tr>\n",
       "      <th>min</th>\n",
       "      <td>4.000000</td>\n",
       "    </tr>\n",
       "    <tr>\n",
       "      <th>25%</th>\n",
       "      <td>4.000000</td>\n",
       "    </tr>\n",
       "    <tr>\n",
       "      <th>50%</th>\n",
       "      <td>4.000000</td>\n",
       "    </tr>\n",
       "    <tr>\n",
       "      <th>75%</th>\n",
       "      <td>5.000000</td>\n",
       "    </tr>\n",
       "    <tr>\n",
       "      <th>max</th>\n",
       "      <td>7.000000</td>\n",
       "    </tr>\n",
       "  </tbody>\n",
       "</table>\n",
       "</div>"
      ],
      "text/plain": [
       "               0\n",
       "count  36.000000\n",
       "mean    4.583333\n",
       "std     0.731925\n",
       "min     4.000000\n",
       "25%     4.000000\n",
       "50%     4.000000\n",
       "75%     5.000000\n",
       "max     7.000000"
      ]
     },
     "execution_count": 50,
     "metadata": {},
     "output_type": "execute_result"
    }
   ],
   "source": [
    "Madame = pd.DataFrame(students.loc[\"Madame\"].sum(axis=1))\n",
    "Madame = Madame[Madame[0] > 3]\n",
    "Madame.describe()"
   ]
  },
  {
   "cell_type": "code",
   "execution_count": 49,
   "metadata": {
    "collapsed": false
   },
   "outputs": [
    {
     "data": {
      "text/html": [
       "<div>\n",
       "<table border=\"1\" class=\"dataframe\">\n",
       "  <thead>\n",
       "    <tr style=\"text-align: right;\">\n",
       "      <th></th>\n",
       "      <th>0</th>\n",
       "    </tr>\n",
       "  </thead>\n",
       "  <tbody>\n",
       "    <tr>\n",
       "      <th>count</th>\n",
       "      <td>241.000000</td>\n",
       "    </tr>\n",
       "    <tr>\n",
       "      <th>mean</th>\n",
       "      <td>4.526971</td>\n",
       "    </tr>\n",
       "    <tr>\n",
       "      <th>std</th>\n",
       "      <td>0.719012</td>\n",
       "    </tr>\n",
       "    <tr>\n",
       "      <th>min</th>\n",
       "      <td>4.000000</td>\n",
       "    </tr>\n",
       "    <tr>\n",
       "      <th>25%</th>\n",
       "      <td>4.000000</td>\n",
       "    </tr>\n",
       "    <tr>\n",
       "      <th>50%</th>\n",
       "      <td>4.000000</td>\n",
       "    </tr>\n",
       "    <tr>\n",
       "      <th>75%</th>\n",
       "      <td>5.000000</td>\n",
       "    </tr>\n",
       "    <tr>\n",
       "      <th>max</th>\n",
       "      <td>8.000000</td>\n",
       "    </tr>\n",
       "  </tbody>\n",
       "</table>\n",
       "</div>"
      ],
      "text/plain": [
       "                0\n",
       "count  241.000000\n",
       "mean     4.526971\n",
       "std      0.719012\n",
       "min      4.000000\n",
       "25%      4.000000\n",
       "50%      4.000000\n",
       "75%      5.000000\n",
       "max      8.000000"
      ]
     },
     "execution_count": 49,
     "metadata": {},
     "output_type": "execute_result"
    }
   ],
   "source": [
    "Monsieur = pd.DataFrame(students.loc[\"Monsieur\"].sum(axis=1)) \n",
    "Monsieur = Monsieur[Monsieur[0] > 3]\n",
    "Monsieur.describe()"
   ]
  },
  {
   "cell_type": "code",
   "execution_count": 51,
   "metadata": {
    "collapsed": false
   },
   "outputs": [
    {
     "data": {
      "text/plain": [
       "(-1.0053821988790754,\n",
       " 1.0000000255729682,\n",
       " -1.0055744056328064,\n",
       " 1.0062094784133699)"
      ]
     },
     "execution_count": 51,
     "metadata": {},
     "output_type": "execute_result"
    },
    {
     "data": {
      "image/png": "[encoded data removed]",
      "text/plain": [
       "<matplotlib.figure.Figure at 0x7fb738344978>"
      ]
     },
     "metadata": {},
     "output_type": "display_data"
    }
   ],
   "source": [
    "labels = \"Men\", \"Women\"\n",
    "sizes = [Monsieur.size, Madame.size]\n",
    "colors = [\"lightblue\", \"pink\"]\n",
    "\n",
    "plt.pie(sizes, labels=labels, colors=colors,\n",
    "        autopct='%1.1f%%', shadow=True)\n",
    "plt.axis('equal')"
   ]
  },
  {
   "cell_type": "code",
   "execution_count": 52,
   "metadata": {
    "collapsed": false
   },
   "outputs": [
    {
     "data": {
      "text/plain": [
       "<matplotlib.legend.Legend at 0x7fb7385d25c0>"
      ]
     },
     "execution_count": 52,
     "metadata": {},
     "output_type": "execute_result"
    },
    {
     "data": {
      "image/png": "[encoded data removed]",
      "text/plain": [
       "<matplotlib.figure.Figure at 0x7fb7386d3d30>"
      ]
     },
     "metadata": {},
     "output_type": "display_data"
    }
   ],
   "source": [
    "plt.hist(Monsieur, alpha = 0.5, label = \"Men\")\n",
    "plt.hist(Madame, facecolor='red', alpha = 0.5, label = \"Women\")\n",
    "plt.xlabel(\"Number of semesters\")\n",
    "plt.ylabel(\"Count\")\n",
    "plt.legend()"
   ]
  },
  {
   "cell_type": "code",
   "execution_count": null,
   "metadata": {
    "collapsed": true
   },
   "outputs": [],
   "source": []
  }
 ],
 "metadata": {
  "anaconda-cloud": {},
  "kernelspec": {
   "display_name": "Python [Root]",
   "language": "python",
   "name": "Python [Root]"
  },
  "language_info": {
   "codemirror_mode": {
    "name": "ipython",
    "version": 3
   },
   "file_extension": ".py",
   "mimetype": "text/x-python",
   "name": "python",
   "nbconvert_exporter": "python",
   "pygments_lexer": "ipython3",
   "version": "3.5.2"
  }
 },
 "nbformat": 4,
 "nbformat_minor": 0
}
