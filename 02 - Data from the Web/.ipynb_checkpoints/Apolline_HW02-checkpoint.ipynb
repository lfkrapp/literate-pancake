{
 "cells": [
  {
   "cell_type": "markdown",
   "metadata": {},
   "source": [
    "# Homework 2 : Data from the web"
   ]
  },
  {
   "cell_type": "code",
   "execution_count": 2,
   "metadata": {
    "collapsed": false
   },
   "outputs": [],
   "source": [
    "%matplotlib inline\n",
    "\n",
    "import pandas as pd\n",
    "import numpy as np\n",
    "import requests                # Handle HTTP request\n",
    "from bs4 import BeautifulSoup  # Pull data out of HTML and XML files\n",
    "import time\n",
    "import glob                    # Load files\n",
    "import re                      # Regexp\n",
    "import scipy.stats as stats    # Hypothesis Testing\n",
    "import matplotlib.pyplot as plt"
   ]
  },
  {
   "cell_type": "markdown",
   "metadata": {},
   "source": [
    "## I - Scraping Data "
   ]
  },
  {
   "cell_type": "markdown",
   "metadata": {},
   "source": [
    "This part aims to scrap IS-Academia Data. We get Informatique students from 2007 to 2016 for each Bachelor and Master semester."
   ]
  },
  {
   "cell_type": "markdown",
   "metadata": {},
   "source": [
    "### a - Analysing form"
   ]
  },
  {
   "cell_type": "markdown",
   "metadata": {},
   "source": [
    "In this first part, we get the form paramters (name and values) in order to build future HTTP requests."
   ]
  },
  {
   "cell_type": "code",
   "execution_count": 3,
   "metadata": {
    "collapsed": false
   },
   "outputs": [
    {
     "name": "stdout",
     "output_type": "stream",
     "text": [
      "200\n"
     ]
    }
   ],
   "source": [
    "base_url = 'http://isa.epfl.ch/imoniteur_ISAP/!GEDPUBLICREPORTS'\n",
    "form_url= base_url + \".filter\"\n",
    "form_get_params = {'ww_i_reportModel': '133685247'}\n",
    "r = requests.get(form_url, params=form_get_params)\n",
    "print(r.status_code)                                  # Status code = 200 => OK"
   ]
  },
  {
   "cell_type": "code",
   "execution_count": 4,
   "metadata": {
    "collapsed": false,
    "scrolled": false
   },
   "outputs": [
    {
     "name": "stdout",
     "output_type": "stream",
     "text": [
      "Param  1  :  ww_x_UNITE_ACAD\n",
      "Param  2  :  ww_x_PERIODE_ACAD\n",
      "Param  3  :  ww_x_PERIODE_PEDAGO\n",
      "Param  4  :  ww_x_HIVERETE\n"
     ]
    }
   ],
   "source": [
    "soup = BeautifulSoup(r.text, 'html.parser')\n",
    "inputs = soup.select('form select')               # Get all the form inputs\n",
    "for i in range(len(inputs)):\n",
    "    print('Param ',i+1,' : ',inputs[i]['name'])"
   ]
  },
  {
   "cell_type": "code",
   "execution_count": 5,
   "metadata": {
    "collapsed": false,
    "scrolled": true
   },
   "outputs": [
    {
     "name": "stdout",
     "output_type": "stream",
     "text": [
      "Param  1  :  ww_x_UNITE_ACAD  -  20 values\n",
      "Null  - Value :  null\n",
      "Architecture  - Value :  942293\n",
      "Chimie et génie chimique  - Value :  246696\n",
      "Cours de mathématiques spéciales  - Value :  943282\n",
      "EME (EPFL Middle East)  - Value :  637841336\n",
      "Génie civil  - Value :  942623\n",
      "Génie mécanique  - Value :  944263\n",
      "Génie électrique et électronique   - Value :  943936\n",
      "Humanités digitales  - Value :  2054839157\n",
      "Informatique  - Value :  249847\n",
      "Ingénierie financière  - Value :  120623110\n",
      "Management de la technologie  - Value :  946882\n",
      "Mathématiques  - Value :  944590\n",
      "Microtechnique  - Value :  945244\n",
      "Physique  - Value :  945571\n",
      "Science et génie des matériaux  - Value :  944917\n",
      "Sciences et ingénierie de l'environnement  - Value :  942953\n",
      "Sciences et technologies du vivant  - Value :  945901\n",
      "Section FCUE  - Value :  1574548993\n",
      "Systèmes de communication  - Value :  946228\n",
      "\n",
      "\n",
      "Param  2  :  ww_x_PERIODE_ACAD  -  11 values\n",
      "Null  - Value :  null\n",
      "2016-2017  - Value :  355925344\n",
      "2015-2016  - Value :  213638028\n",
      "2014-2015  - Value :  213637922\n",
      "2013-2014  - Value :  213637754\n",
      "2012-2013  - Value :  123456101\n",
      "2011-2012  - Value :  123455150\n",
      "2010-2011  - Value :  39486325\n",
      "2009-2010  - Value :  978195\n",
      "2008-2009  - Value :  978187\n",
      "2007-2008  - Value :  978181\n",
      "\n",
      "\n",
      "Param  3  :  ww_x_PERIODE_PEDAGO  -  25 values\n",
      "Null  - Value :  null\n",
      "Bachelor semestre 1  - Value :  249108\n",
      "Bachelor semestre 2  - Value :  249114\n",
      "Bachelor semestre 3  - Value :  942155\n",
      "Bachelor semestre 4  - Value :  942163\n",
      "Bachelor semestre 5  - Value :  942120\n",
      "Bachelor semestre 5b  - Value :  2226768\n",
      "Bachelor semestre 6  - Value :  942175\n",
      "Bachelor semestre 6b  - Value :  2226785\n",
      "Master semestre 1  - Value :  2230106\n",
      "Master semestre 2  - Value :  942192\n",
      "Master semestre 3  - Value :  2230128\n",
      "Master semestre 4  - Value :  2230140\n",
      "Mineur semestre 1  - Value :  2335667\n",
      "Mineur semestre 2  - Value :  2335676\n",
      "Mise à niveau  - Value :  2063602308\n",
      "Projet Master automne  - Value :  249127\n",
      "Projet Master printemps  - Value :  3781783\n",
      "Semestre automne  - Value :  953159\n",
      "Semestre printemps  - Value :  2754553\n",
      "Stage automne 3ème année  - Value :  953137\n",
      "Stage automne 4ème année  - Value :  2226616\n",
      "Stage printemps 3ème année  - Value :  983606\n",
      "Stage printemps 4ème année  - Value :  2226626\n",
      "Stage printemps master  - Value :  2227132\n",
      "\n",
      "\n",
      "Param  4  :  ww_x_HIVERETE  -  3 values\n",
      "Null  - Value :  null\n",
      "Semestre d'automne  - Value :  2936286\n",
      "Semestre de printemps  - Value :  2936295\n",
      "\n",
      "\n"
     ]
    }
   ],
   "source": [
    "for i in range(len(inputs)):\n",
    "    options = inputs[i].select('option')\n",
    "    print('Param ',i+1,' : ',inputs[i]['name'], ' - ', len(options), 'values')\n",
    "    for j in range(len(options)):\n",
    "        if len(options[j].contents) == 0:\n",
    "            print('Null', ' - Value : ',options[j]['value'])\n",
    "        else:\n",
    "            print(options[j].contents[0], ' - Value : ',options[j]['value'])\n",
    "    print('\\n')"
   ]
  },
  {
   "cell_type": "markdown",
   "metadata": {},
   "source": [
    "### b - Scraping Data"
   ]
  },
  {
   "cell_type": "code",
   "execution_count": 6,
   "metadata": {
    "collapsed": true
   },
   "outputs": [],
   "source": [
    "def saveHTML(params, file):\n",
    "    \"Get the result of a request -which parameters are given in params- and save it into a file\"\n",
    "    \n",
    "    base_url = 'http://isa.epfl.ch/imoniteur_ISAP/!GEDPUBLICREPORTS'   \n",
    "    data_url = base_url + \".html\"\n",
    "    \n",
    "    form_params = {'ww_x_GPS': '-1', \n",
    "                  'ww_i_reportModel': '133685247', \n",
    "                  'ww_i_reportModelXsl': '133685270', # HTML\n",
    "                  'ww_x_UNITE_ACAD': '249847', # Informatique\n",
    "                  'ww_x_PERIODE_ACAD': '', \n",
    "                  'ww_x_PERIODE_PEDAGO': '',\n",
    "                  'ww_x_HIVERETE': None }\n",
    "    for key, value in params.items():\n",
    "        form_params[key] = value\n",
    "        \n",
    "    r = requests.get(data_url, params=form_params)\n",
    "\n",
    "    html_file = open(file, \"w\")\n",
    "    html_file.write(r.text)\n",
    "    html_file.close()\n",
    "    \n",
    "    return r "
   ]
  },
  {
   "cell_type": "code",
   "execution_count": 7,
   "metadata": {
    "collapsed": false,
    "scrolled": true
   },
   "outputs": [],
   "source": [
    "def scrapBachelor():\n",
    "    \"Scrap the Bachelor Data from 2007 to 2016 for each pedagogic semester\"\n",
    "    \n",
    "    params = {'ww_x_PERIODE_ACAD':'', 'ww_x_PERIODE_PEDAGO':''}\n",
    "    ww_x_PERIODE_ACAD = {'2016':'355925344','2015':'213638028','2014':'213637922','2013':'213637754','2012':'123456101',\n",
    "                        '2011':'123455150','2010 ':'39486325','2009 ':'978195','2008 ':'978187','2007 ':'978181'}\n",
    "    ww_x_PERIODE_PEDAGO = {'BS1':'249108','BS2':'249114','BS3':'942155','BS4':'942163','BS5':'942120','BS6':'942175'}\n",
    "    \n",
    "    for key_acad, value_acad in ww_x_PERIODE_ACAD.items():\n",
    "        for key_peda, value_peda in ww_x_PERIODE_PEDAGO.items():\n",
    "            params['ww_x_PERIODE_ACAD'] = value_acad\n",
    "            params['ww_x_PERIODE_PEDAGO'] = value_peda\n",
    "            filename = \"./data/Bachelor/Informatique_\"+key_acad.rstrip()+\"_\"+key_peda+\".html\"\n",
    "            saveHTML(params, filename)\n",
    "            time.sleep(0.05)\n",
    "            \n",
    "scrapBachelor()"
   ]
  },
  {
   "cell_type": "code",
   "execution_count": 8,
   "metadata": {
    "collapsed": false
   },
   "outputs": [],
   "source": [
    "def scrapMaster():\n",
    "    \"Scrap the Master Data from 2007 to 2016 for each pedagogic semester (and project)\"\n",
    "    \n",
    "    params = {'ww_x_PERIODE_ACAD':'', 'ww_x_PERIODE_PEDAGO':'', 'ww_x_HIVERETE':''}\n",
    "    ww_x_PERIODE_ACAD = {'2016':'355925344','2015':'213638028','2014':'213637922','2013':'213637754','2012':'123456101',\n",
    "                        '2011':'123455150','2010 ':'39486325','2009 ':'978195','2008 ':'978187','2007 ':'978181'}\n",
    "    ww_x_PERIODE_PEDAGO = {'MS1':'2230106','MS2':'942192','MS3':'2230128','MS4':'2230140',\n",
    "                           'ProjetAutomne':'249127','ProjetPrintemps':'3781783'}\n",
    "    ww_x_HIVERETE = {'Automne':'2936286', 'Printemps':'2936295'} # For the masters, we take the season into account\n",
    "    \n",
    "    for key_acad, value_acad in ww_x_PERIODE_ACAD.items():\n",
    "        for key_hiv, value_hiv in ww_x_HIVERETE.items():\n",
    "            for key_peda, value_peda in ww_x_PERIODE_PEDAGO.items():\n",
    "                params['ww_x_PERIODE_ACAD'] = value_acad\n",
    "                params['ww_x_PERIODE_PEDAGO'] = value_peda\n",
    "                params['ww_x_HIVERETE'] = value_hiv\n",
    "                filename = \"./data/Master/Informatique_\"+key_acad.rstrip()+\"_\"+key_hiv+\"_\"+key_peda+\".html\"\n",
    "                saveHTML(params, filename)\n",
    "                time.sleep(0.05)\n",
    "scrapMaster()"
   ]
  },
  {
   "cell_type": "markdown",
   "metadata": {},
   "source": [
    "### c - Parsing HTML"
   ]
  },
  {
   "cell_type": "code",
   "execution_count": 9,
   "metadata": {
    "collapsed": true
   },
   "outputs": [],
   "source": [
    "def parseHTML(file_content):\n",
    "    \"Convert the HTML table into a DataFrame\"\n",
    "    table = BeautifulSoup(file_content, 'html.parser').find('table')\n",
    "    rows_html = table.findAll('tr')\n",
    "    if(len(rows_html)>1):\n",
    "        header = [th.string for th in rows_html[1]] # row[0] is the title\n",
    "        # we drop the last column (empty) and the first row (header)\n",
    "        rows = [[td.string for td in row_html.findAll('td')][:-1] for row_html in rows_html[2:]]\n",
    "        return pd.DataFrame(data=rows, columns=header)\n",
    "    else:\n",
    "        return None"
   ]
  },
  {
   "cell_type": "code",
   "execution_count": 10,
   "metadata": {
    "collapsed": true
   },
   "outputs": [],
   "source": [
    "def get_file_content(file_path):\n",
    "    \"Read a file content and return it as a string\"\n",
    "    file = open(file_path, \"r\")\n",
    "    file_content = file.read()\n",
    "    file.close() \n",
    "    return file_content"
   ]
  },
  {
   "cell_type": "code",
   "execution_count": 11,
   "metadata": {
    "collapsed": true
   },
   "outputs": [],
   "source": [
    "def getYearSemesterBachelor(file_path):      # file_path example : './ApoData/Bachelor/Informatique_2007 _BS1.html'\n",
    "    \"Retrieve the year and the semester associated to a Bachelor file using its name\"\n",
    "    year = int(re.search(\"[0-9]{4}\", file_path).group(0))\n",
    "    num_semester = int(re.findall(\"[0-9]\", file_path)[-1])\n",
    "    return year, num_semester"
   ]
  },
  {
   "cell_type": "code",
   "execution_count": 12,
   "metadata": {
    "collapsed": true
   },
   "outputs": [],
   "source": [
    "def getYearSemesterSeasonMaster(file_path): # example : './ApoData/Master/Informatique_2011_Printemps_MS2.html'\n",
    "    \"Retrieve the year, the season and the semester associated to a Master file using its name\"\n",
    "    #file_name = file_path.split('\\\\')[1].split('.')[0]\n",
    "    file_name = file_path.split('/')[3].split('.')[0]\n",
    "    unit, year, season, num_semester = file_name.split('_')\n",
    "    if num_semester.find('Projet')!=-1:      \n",
    "        num_semester = 'Projet'\n",
    "    else:\n",
    "        num_semester = int(re.findall(\"[0-9]\", num_semester)[0])\n",
    "    return int(year), season, num_semester"
   ]
  },
  {
   "cell_type": "markdown",
   "metadata": {},
   "source": [
    "## II - Analysing Bachelor Data"
   ]
  },
  {
   "cell_type": "markdown",
   "metadata": {},
   "source": [
    "### a - Loading the data"
   ]
  },
  {
   "cell_type": "markdown",
   "metadata": {},
   "source": [
    "Bachelor Data are loaded from the HTML files previously scrapped.<br/>\n",
    "Each HTML table is converted to a dataframe thanks to the <i>parseHTML</i> function.<br/>\n",
    "Year and Bachelor Semester are also added to the dataFrame.<br/>\n",
    "Then, the tables are concatenated by rows (which is an easy operation because all the dataframes have the same form)."
   ]
  },
  {
   "cell_type": "code",
   "execution_count": 13,
   "metadata": {
    "collapsed": false
   },
   "outputs": [],
   "source": [
    "def loadBachelorData():\n",
    "    folder_path = \"./data/Bachelor\"\n",
    "    paths_iterator = glob.iglob(folder_path+'/*.html')\n",
    "    for idx, file_path in enumerate(paths_iterator):\n",
    "        file_content = get_file_content(file_path)\n",
    "        df_temp = parseHTML(file_content)\n",
    "        year, num_semester = getYearSemesterBachelor(file_path)\n",
    "        df_temp['Year'] = year\n",
    "        df_temp['Bachelor Semester'] = num_semester\n",
    "        if idx == 0:\n",
    "            df = df_temp\n",
    "        else: \n",
    "            df = pd.concat([df,df_temp], axis=0)\n",
    "    return df"
   ]
  },
  {
   "cell_type": "code",
   "execution_count": 14,
   "metadata": {
    "collapsed": false
   },
   "outputs": [
    {
     "data": {
      "text/html": [
       "<div>\n",
       "<table border=\"1\" class=\"dataframe\">\n",
       "  <thead>\n",
       "    <tr style=\"text-align: right;\">\n",
       "      <th></th>\n",
       "      <th>Civilité</th>\n",
       "      <th>Nom Prénom</th>\n",
       "      <th>Orientation Bachelor</th>\n",
       "      <th>Orientation Master</th>\n",
       "      <th>Spécialisation</th>\n",
       "      <th>Filière opt.</th>\n",
       "      <th>Mineur</th>\n",
       "      <th>Statut</th>\n",
       "      <th>Type Echange</th>\n",
       "      <th>Ecole Echange</th>\n",
       "      <th>No Sciper</th>\n",
       "      <th>Year</th>\n",
       "      <th>Bachelor Semester</th>\n",
       "    </tr>\n",
       "  </thead>\n",
       "  <tbody>\n",
       "    <tr>\n",
       "      <th>0</th>\n",
       "      <td>Monsieur</td>\n",
       "      <td>Amruthalingam Ludovic Hadrien</td>\n",
       "      <td>None</td>\n",
       "      <td>None</td>\n",
       "      <td>None</td>\n",
       "      <td>None</td>\n",
       "      <td>None</td>\n",
       "      <td>Présent</td>\n",
       "      <td>None</td>\n",
       "      <td>None</td>\n",
       "      <td>194178</td>\n",
       "      <td>2011</td>\n",
       "      <td>3</td>\n",
       "    </tr>\n",
       "    <tr>\n",
       "      <th>1</th>\n",
       "      <td>Monsieur</td>\n",
       "      <td>Angel Axel</td>\n",
       "      <td>None</td>\n",
       "      <td>None</td>\n",
       "      <td>None</td>\n",
       "      <td>None</td>\n",
       "      <td>None</td>\n",
       "      <td>Présent</td>\n",
       "      <td>None</td>\n",
       "      <td>None</td>\n",
       "      <td>201284</td>\n",
       "      <td>2011</td>\n",
       "      <td>3</td>\n",
       "    </tr>\n",
       "    <tr>\n",
       "      <th>2</th>\n",
       "      <td>Monsieur</td>\n",
       "      <td>Antognini Marco</td>\n",
       "      <td>None</td>\n",
       "      <td>None</td>\n",
       "      <td>None</td>\n",
       "      <td>None</td>\n",
       "      <td>None</td>\n",
       "      <td>Présent</td>\n",
       "      <td>None</td>\n",
       "      <td>None</td>\n",
       "      <td>194182</td>\n",
       "      <td>2011</td>\n",
       "      <td>3</td>\n",
       "    </tr>\n",
       "    <tr>\n",
       "      <th>3</th>\n",
       "      <td>Monsieur</td>\n",
       "      <td>Babst Timo Philip</td>\n",
       "      <td>None</td>\n",
       "      <td>None</td>\n",
       "      <td>None</td>\n",
       "      <td>None</td>\n",
       "      <td>None</td>\n",
       "      <td>Présent</td>\n",
       "      <td>None</td>\n",
       "      <td>None</td>\n",
       "      <td>201232</td>\n",
       "      <td>2011</td>\n",
       "      <td>3</td>\n",
       "    </tr>\n",
       "    <tr>\n",
       "      <th>4</th>\n",
       "      <td>Monsieur</td>\n",
       "      <td>Bastin Cédric</td>\n",
       "      <td>None</td>\n",
       "      <td>None</td>\n",
       "      <td>None</td>\n",
       "      <td>None</td>\n",
       "      <td>None</td>\n",
       "      <td>Présent</td>\n",
       "      <td>None</td>\n",
       "      <td>None</td>\n",
       "      <td>204179</td>\n",
       "      <td>2011</td>\n",
       "      <td>3</td>\n",
       "    </tr>\n",
       "  </tbody>\n",
       "</table>\n",
       "</div>"
      ],
      "text/plain": [
       "   Civilité                     Nom Prénom Orientation Bachelor  \\\n",
       "0  Monsieur  Amruthalingam Ludovic Hadrien                 None   \n",
       "1  Monsieur                     Angel Axel                 None   \n",
       "2  Monsieur                Antognini Marco                 None   \n",
       "3  Monsieur              Babst Timo Philip                 None   \n",
       "4  Monsieur                  Bastin Cédric                 None   \n",
       "\n",
       "  Orientation Master Spécialisation Filière opt. Mineur   Statut Type Echange  \\\n",
       "0               None           None         None   None  Présent         None   \n",
       "1               None           None         None   None  Présent         None   \n",
       "2               None           None         None   None  Présent         None   \n",
       "3               None           None         None   None  Présent         None   \n",
       "4               None           None         None   None  Présent         None   \n",
       "\n",
       "  Ecole Echange No Sciper  Year  Bachelor Semester  \n",
       "0          None    194178  2011                  3  \n",
       "1          None    201284  2011                  3  \n",
       "2          None    194182  2011                  3  \n",
       "3          None    201232  2011                  3  \n",
       "4          None    204179  2011                  3  "
      ]
     },
     "execution_count": 14,
     "metadata": {},
     "output_type": "execute_result"
    }
   ],
   "source": [
    "df = loadBachelorData()\n",
    "df.to_csv(\"Bachelor.csv\")\n",
    "df.head()"
   ]
  },
  {
   "cell_type": "markdown",
   "metadata": {},
   "source": [
    "Now, we want to keep the students who get their Bachelor.<br/>\n",
    "In order to do this, we check if the students have at least one entry for Bachelor Semester 1 and Bachelor Semester 6 (otherwise, we consider that the student failed).<br/>\n",
    "We will see later the problems we can encounter by applying this method naively."
   ]
  },
  {
   "cell_type": "code",
   "execution_count": 15,
   "metadata": {
    "collapsed": false
   },
   "outputs": [],
   "source": [
    "def semesterOneToSix(sciper, df):\n",
    "    \"Tell if a student has entry for both Bachelor Semester 1 and Semester 6, and his number of Bachelor semesters\"\n",
    "    \n",
    "    # Get all the semesters of a student\n",
    "    studentSemesters = df.loc[df['No Sciper'] == sciper] # = df[df.isin([sciper])['No Sciper']]\n",
    "    # Check semester 1 and 6\n",
    "    semesterOne = studentSemesters.isin([1])['Bachelor Semester'].value_counts() \n",
    "    semesterSix = studentSemesters.isin([6])['Bachelor Semester'].value_counts()\n",
    "    # At least one 1st and 6th semester\n",
    "    if (True in semesterOne.keys() and semesterOne[True] > 0) and (True in semesterSix.keys() and semesterSix[True] > 0): \n",
    "        return True, len(studentSemesters)\n",
    "    else:\n",
    "        return False, len(studentSemesters)"
   ]
  },
  {
   "cell_type": "markdown",
   "metadata": {},
   "source": [
    "We build a new DataFrame with all the information we need : the student sciper, the gender and the numbers of Bachelor semesters of each student who succeed his Bachelor."
   ]
  },
  {
   "cell_type": "code",
   "execution_count": 16,
   "metadata": {
    "collapsed": false
   },
   "outputs": [],
   "source": [
    "success_bachelor = {'No Sciper': [], 'Gender': [], 'Number of semesters': []}\n",
    "for row in df.iterrows():\n",
    "    sciper = row[1]['No Sciper']\n",
    "    if not (sciper in success_bachelor['No Sciper']):\n",
    "        success, nb_semesters = semesterOneToSix(sciper, df)\n",
    "        if success:             # Only the students who have entry for semester 1 and 6\n",
    "            success_bachelor['No Sciper'].append(sciper)\n",
    "            success_bachelor['Gender'].append(row[1]['Civilité'])\n",
    "            success_bachelor['Number of semesters'].append(nb_semesters)      "
   ]
  },
  {
   "cell_type": "code",
   "execution_count": 17,
   "metadata": {
    "collapsed": false
   },
   "outputs": [
    {
     "data": {
      "text/html": [
       "<div>\n",
       "<table border=\"1\" class=\"dataframe\">\n",
       "  <thead>\n",
       "    <tr style=\"text-align: right;\">\n",
       "      <th></th>\n",
       "      <th>Gender</th>\n",
       "      <th>No Sciper</th>\n",
       "      <th>Number of semesters</th>\n",
       "    </tr>\n",
       "  </thead>\n",
       "  <tbody>\n",
       "    <tr>\n",
       "      <th>0</th>\n",
       "      <td>Monsieur</td>\n",
       "      <td>201284</td>\n",
       "      <td>6</td>\n",
       "    </tr>\n",
       "    <tr>\n",
       "      <th>1</th>\n",
       "      <td>Monsieur</td>\n",
       "      <td>194182</td>\n",
       "      <td>8</td>\n",
       "    </tr>\n",
       "    <tr>\n",
       "      <th>2</th>\n",
       "      <td>Monsieur</td>\n",
       "      <td>201232</td>\n",
       "      <td>6</td>\n",
       "    </tr>\n",
       "    <tr>\n",
       "      <th>3</th>\n",
       "      <td>Monsieur</td>\n",
       "      <td>204179</td>\n",
       "      <td>6</td>\n",
       "    </tr>\n",
       "    <tr>\n",
       "      <th>4</th>\n",
       "      <td>Monsieur</td>\n",
       "      <td>204569</td>\n",
       "      <td>6</td>\n",
       "    </tr>\n",
       "  </tbody>\n",
       "</table>\n",
       "</div>"
      ],
      "text/plain": [
       "     Gender No Sciper  Number of semesters\n",
       "0  Monsieur    201284                    6\n",
       "1  Monsieur    194182                    8\n",
       "2  Monsieur    201232                    6\n",
       "3  Monsieur    204179                    6\n",
       "4  Monsieur    204569                    6"
      ]
     },
     "execution_count": 17,
     "metadata": {},
     "output_type": "execute_result"
    }
   ],
   "source": [
    "success_bachelor = pd.DataFrame(success_bachelor)\n",
    "success_bachelor.head()"
   ]
  },
  {
   "cell_type": "code",
   "execution_count": 18,
   "metadata": {
    "collapsed": false
   },
   "outputs": [
    {
     "name": "stdout",
     "output_type": "stream",
     "text": [
      "1482 397\n"
     ]
    }
   ],
   "source": [
    "initial_number_of_students = len(df['No Sciper'].drop_duplicates())\n",
    "print(initial_number_of_students, len(success_bachelor))"
   ]
  },
  {
   "cell_type": "markdown",
   "metadata": {},
   "source": [
    "We kept 397 of 1481 initial students. Some of them may have failed, some other could be exchange students, and some could have been victims of missing data."
   ]
  },
  {
   "cell_type": "code",
   "execution_count": 19,
   "metadata": {
    "collapsed": false,
    "scrolled": true
   },
   "outputs": [
    {
     "data": {
      "text/plain": [
       "count    397.000000\n",
       "mean       7.083123\n",
       "std        1.524428\n",
       "min        4.000000\n",
       "25%        6.000000\n",
       "50%        6.000000\n",
       "75%        8.000000\n",
       "max       12.000000\n",
       "Name: Number of semesters, dtype: float64"
      ]
     },
     "execution_count": 19,
     "metadata": {},
     "output_type": "execute_result"
    }
   ],
   "source": [
    "success_bachelor['Number of semesters'].describe()"
   ]
  },
  {
   "cell_type": "markdown",
   "metadata": {},
   "source": [
    "According to this data, it takes approximately 7 semesters to a student to complete de Bachelor<br/>\n",
    "Besides, we observe that the minimum of semesters necessary to complete the Bachelor is 4 instead of 6."
   ]
  },
  {
   "cell_type": "code",
   "execution_count": 20,
   "metadata": {
    "collapsed": false
   },
   "outputs": [
    {
     "data": {
      "text/html": [
       "<div>\n",
       "<table border=\"1\" class=\"dataframe\">\n",
       "  <thead>\n",
       "    <tr style=\"text-align: right;\">\n",
       "      <th></th>\n",
       "      <th>Gender</th>\n",
       "      <th>No Sciper</th>\n",
       "      <th>Number of semesters</th>\n",
       "    </tr>\n",
       "  </thead>\n",
       "  <tbody>\n",
       "    <tr>\n",
       "      <th>265</th>\n",
       "      <td>Monsieur</td>\n",
       "      <td>204222</td>\n",
       "      <td>4</td>\n",
       "    </tr>\n",
       "  </tbody>\n",
       "</table>\n",
       "</div>"
      ],
      "text/plain": [
       "       Gender No Sciper  Number of semesters\n",
       "265  Monsieur    204222                    4"
      ]
     },
     "execution_count": 20,
     "metadata": {},
     "output_type": "execute_result"
    }
   ],
   "source": [
    "success_bachelor.loc[success_bachelor['Number of semesters'] < 6]"
   ]
  },
  {
   "cell_type": "markdown",
   "metadata": {},
   "source": [
    "Only one student is concerned. Let's have a look at him :"
   ]
  },
  {
   "cell_type": "code",
   "execution_count": 21,
   "metadata": {
    "collapsed": false
   },
   "outputs": [],
   "source": [
    "def getStudentSemesters(df, sciper):\n",
    "    \"Get all the bachelor semesters of a student\"\n",
    "    \n",
    "    return df.loc[df['No Sciper'] == sciper]"
   ]
  },
  {
   "cell_type": "code",
   "execution_count": 22,
   "metadata": {
    "collapsed": false,
    "scrolled": false
   },
   "outputs": [
    {
     "data": {
      "text/html": [
       "<div>\n",
       "<table border=\"1\" class=\"dataframe\">\n",
       "  <thead>\n",
       "    <tr style=\"text-align: right;\">\n",
       "      <th></th>\n",
       "      <th>Civilité</th>\n",
       "      <th>Nom Prénom</th>\n",
       "      <th>Orientation Bachelor</th>\n",
       "      <th>Orientation Master</th>\n",
       "      <th>Spécialisation</th>\n",
       "      <th>Filière opt.</th>\n",
       "      <th>Mineur</th>\n",
       "      <th>Statut</th>\n",
       "      <th>Type Echange</th>\n",
       "      <th>Ecole Echange</th>\n",
       "      <th>No Sciper</th>\n",
       "      <th>Year</th>\n",
       "      <th>Bachelor Semester</th>\n",
       "    </tr>\n",
       "  </thead>\n",
       "  <tbody>\n",
       "    <tr>\n",
       "      <th>95</th>\n",
       "      <td>Monsieur</td>\n",
       "      <td>Séguy Louis Marie James</td>\n",
       "      <td>None</td>\n",
       "      <td>None</td>\n",
       "      <td>None</td>\n",
       "      <td>None</td>\n",
       "      <td>None</td>\n",
       "      <td>Présent</td>\n",
       "      <td>None</td>\n",
       "      <td>None</td>\n",
       "      <td>204222</td>\n",
       "      <td>2014</td>\n",
       "      <td>6</td>\n",
       "    </tr>\n",
       "    <tr>\n",
       "      <th>116</th>\n",
       "      <td>Monsieur</td>\n",
       "      <td>Séguy Louis Marie James</td>\n",
       "      <td>None</td>\n",
       "      <td>None</td>\n",
       "      <td>None</td>\n",
       "      <td>None</td>\n",
       "      <td>None</td>\n",
       "      <td>Présent</td>\n",
       "      <td>None</td>\n",
       "      <td>None</td>\n",
       "      <td>204222</td>\n",
       "      <td>2014</td>\n",
       "      <td>5</td>\n",
       "    </tr>\n",
       "    <tr>\n",
       "      <th>108</th>\n",
       "      <td>Monsieur</td>\n",
       "      <td>Séguy Louis Marie James</td>\n",
       "      <td>None</td>\n",
       "      <td>None</td>\n",
       "      <td>None</td>\n",
       "      <td>None</td>\n",
       "      <td>None</td>\n",
       "      <td>Présent</td>\n",
       "      <td>None</td>\n",
       "      <td>None</td>\n",
       "      <td>204222</td>\n",
       "      <td>2011</td>\n",
       "      <td>2</td>\n",
       "    </tr>\n",
       "    <tr>\n",
       "      <th>149</th>\n",
       "      <td>Monsieur</td>\n",
       "      <td>Séguy Louis Marie James</td>\n",
       "      <td>None</td>\n",
       "      <td>None</td>\n",
       "      <td>None</td>\n",
       "      <td>None</td>\n",
       "      <td>None</td>\n",
       "      <td>Présent</td>\n",
       "      <td>None</td>\n",
       "      <td>None</td>\n",
       "      <td>204222</td>\n",
       "      <td>2011</td>\n",
       "      <td>1</td>\n",
       "    </tr>\n",
       "  </tbody>\n",
       "</table>\n",
       "</div>"
      ],
      "text/plain": [
       "     Civilité               Nom Prénom Orientation Bachelor  \\\n",
       "95   Monsieur  Séguy Louis Marie James                 None   \n",
       "116  Monsieur  Séguy Louis Marie James                 None   \n",
       "108  Monsieur  Séguy Louis Marie James                 None   \n",
       "149  Monsieur  Séguy Louis Marie James                 None   \n",
       "\n",
       "    Orientation Master Spécialisation Filière opt. Mineur   Statut  \\\n",
       "95                None           None         None   None  Présent   \n",
       "116               None           None         None   None  Présent   \n",
       "108               None           None         None   None  Présent   \n",
       "149               None           None         None   None  Présent   \n",
       "\n",
       "    Type Echange Ecole Echange No Sciper  Year  Bachelor Semester  \n",
       "95          None          None    204222  2014                  6  \n",
       "116         None          None    204222  2014                  5  \n",
       "108         None          None    204222  2011                  2  \n",
       "149         None          None    204222  2011                  1  "
      ]
     },
     "execution_count": 22,
     "metadata": {},
     "output_type": "execute_result"
    }
   ],
   "source": [
    "getStudentSemesters(df, '204222')"
   ]
  },
  {
   "cell_type": "markdown",
   "metadata": {},
   "source": [
    "Semesters 4 and 5 are missing, just as years 2012 an 2013. We can suppose that this student is an outlier caused by missing data in IS-Academia.<br/>\n",
    "So, we chose to delete it in order to not distort the stats:"
   ]
  },
  {
   "cell_type": "code",
   "execution_count": 23,
   "metadata": {
    "collapsed": false
   },
   "outputs": [
    {
     "data": {
      "text/plain": [
       "0"
      ]
     },
     "execution_count": 23,
     "metadata": {},
     "output_type": "execute_result"
    }
   ],
   "source": [
    "outlier_index = success_bachelor.loc[success_bachelor['Number of semesters'] < 6].index\n",
    "success_bachelor = success_bachelor.drop(outlier_index)\n",
    "len(success_bachelor.loc[success_bachelor['Number of semesters'] < 6])"
   ]
  },
  {
   "cell_type": "markdown",
   "metadata": {},
   "source": [
    "### b - Hypothesis Testing"
   ]
  },
  {
   "cell_type": "markdown",
   "metadata": {},
   "source": [
    "We want to know if the male and female students need the same time to go from de 1st semester to the 6th semester."
   ]
  },
  {
   "cell_type": "code",
   "execution_count": 24,
   "metadata": {
    "collapsed": false
   },
   "outputs": [
    {
     "data": {
      "text/html": [
       "<div>\n",
       "<table border=\"1\" class=\"dataframe\">\n",
       "  <thead>\n",
       "    <tr style=\"text-align: right;\">\n",
       "      <th></th>\n",
       "      <th>Number of semesters</th>\n",
       "    </tr>\n",
       "  </thead>\n",
       "  <tbody>\n",
       "    <tr>\n",
       "      <th>count</th>\n",
       "      <td>367.000000</td>\n",
       "    </tr>\n",
       "    <tr>\n",
       "      <th>mean</th>\n",
       "      <td>7.114441</td>\n",
       "    </tr>\n",
       "    <tr>\n",
       "      <th>std</th>\n",
       "      <td>1.530379</td>\n",
       "    </tr>\n",
       "    <tr>\n",
       "      <th>min</th>\n",
       "      <td>6.000000</td>\n",
       "    </tr>\n",
       "    <tr>\n",
       "      <th>25%</th>\n",
       "      <td>6.000000</td>\n",
       "    </tr>\n",
       "    <tr>\n",
       "      <th>50%</th>\n",
       "      <td>6.000000</td>\n",
       "    </tr>\n",
       "    <tr>\n",
       "      <th>75%</th>\n",
       "      <td>8.000000</td>\n",
       "    </tr>\n",
       "    <tr>\n",
       "      <th>max</th>\n",
       "      <td>12.000000</td>\n",
       "    </tr>\n",
       "  </tbody>\n",
       "</table>\n",
       "</div>"
      ],
      "text/plain": [
       "       Number of semesters\n",
       "count           367.000000\n",
       "mean              7.114441\n",
       "std               1.530379\n",
       "min               6.000000\n",
       "25%               6.000000\n",
       "50%               6.000000\n",
       "75%               8.000000\n",
       "max              12.000000"
      ]
     },
     "execution_count": 24,
     "metadata": {},
     "output_type": "execute_result"
    }
   ],
   "source": [
    "men=success_bachelor.loc[success_bachelor['Gender'] == 'Monsieur']\n",
    "men.describe()"
   ]
  },
  {
   "cell_type": "code",
   "execution_count": 25,
   "metadata": {
    "collapsed": false,
    "scrolled": true
   },
   "outputs": [
    {
     "data": {
      "text/html": [
       "<div>\n",
       "<table border=\"1\" class=\"dataframe\">\n",
       "  <thead>\n",
       "    <tr style=\"text-align: right;\">\n",
       "      <th></th>\n",
       "      <th>Number of semesters</th>\n",
       "    </tr>\n",
       "  </thead>\n",
       "  <tbody>\n",
       "    <tr>\n",
       "      <th>count</th>\n",
       "      <td>29.000000</td>\n",
       "    </tr>\n",
       "    <tr>\n",
       "      <th>mean</th>\n",
       "      <td>6.793103</td>\n",
       "    </tr>\n",
       "    <tr>\n",
       "      <th>std</th>\n",
       "      <td>1.346406</td>\n",
       "    </tr>\n",
       "    <tr>\n",
       "      <th>min</th>\n",
       "      <td>6.000000</td>\n",
       "    </tr>\n",
       "    <tr>\n",
       "      <th>25%</th>\n",
       "      <td>6.000000</td>\n",
       "    </tr>\n",
       "    <tr>\n",
       "      <th>50%</th>\n",
       "      <td>6.000000</td>\n",
       "    </tr>\n",
       "    <tr>\n",
       "      <th>75%</th>\n",
       "      <td>8.000000</td>\n",
       "    </tr>\n",
       "    <tr>\n",
       "      <th>max</th>\n",
       "      <td>11.000000</td>\n",
       "    </tr>\n",
       "  </tbody>\n",
       "</table>\n",
       "</div>"
      ],
      "text/plain": [
       "       Number of semesters\n",
       "count            29.000000\n",
       "mean              6.793103\n",
       "std               1.346406\n",
       "min               6.000000\n",
       "25%               6.000000\n",
       "50%               6.000000\n",
       "75%               8.000000\n",
       "max              11.000000"
      ]
     },
     "execution_count": 25,
     "metadata": {},
     "output_type": "execute_result"
    }
   ],
   "source": [
    "women=success_bachelor.loc[success_bachelor['Gender'] == 'Madame']\n",
    "women.describe()"
   ]
  },
  {
   "cell_type": "markdown",
   "metadata": {},
   "source": [
    "- We observe that male are represented by 368 students whereas female are only 29.\n",
    "- The women need on average 6.8 semesters whereas the men need 7.1 semester.<br/>\n",
    "The difference is quite small, and the quantiles are the same for both of the groups.<br/>\n",
    "- Let's see if the difference in average statistically significant."
   ]
  },
  {
   "cell_type": "markdown",
   "metadata": {},
   "source": [
    "Let's apply Hypothesis Testing:<br/>\n",
    "- <b>H0</b> : mean(female) = mean(male)\n",
    "- <b>H1</b> : mean(female) != mean(male)"
   ]
  },
  {
   "cell_type": "markdown",
   "metadata": {},
   "source": [
    "Our test statistic is therefore mean(female) - mean(male)<br/>\n",
    "As we compare 2 populations, we chose to use a <b>two-sample t-test</b>. For this test, we say the variances are different because we observed different std in the 2 precedent tables.<br/>"
   ]
  },
  {
   "cell_type": "code",
   "execution_count": 26,
   "metadata": {
    "collapsed": false
   },
   "outputs": [
    {
     "data": {
      "text/plain": [
       "Ttest_indResult(statistic=-1.224269038658671, pvalue=0.22927095396453964)"
      ]
     },
     "execution_count": 26,
     "metadata": {},
     "output_type": "execute_result"
    }
   ],
   "source": [
    "stats.ttest_ind(a=women['Number of semesters'], b=men['Number of semesters'], equal_var=False)"
   ]
  },
  {
   "cell_type": "markdown",
   "metadata": {},
   "source": [
    "We obtain a p-value = 0.22 > 0.05. Therefore, we keep the null hypothesis (H0) and conclude that the difference in average isn't statistically significant with a significance level of 0.05."
   ]
  },
  {
   "cell_type": "markdown",
   "metadata": {},
   "source": [
    "<b>Filtering Data</b>"
   ]
  },
  {
   "cell_type": "markdown",
   "metadata": {},
   "source": [
    "Up to now, we considered that :\n",
    "- a student succeeded his Bachelor if he had an entry for both Bachelor semester 1 and 6. \n",
    "- the number of his Bachelor semesters was egal to his number of entries."
   ]
  },
  {
   "cell_type": "markdown",
   "metadata": {},
   "source": [
    "However, there are 2 problems :\n",
    "- A student who made his Bachelor semester 1 in 2007 can have made another semester 1 in 2006.\n",
    "- A student who made a Bachelor semester 5 in 2016 and not Bachelor semester 6 in 2015 is likely to make 2 extra semesters. "
   ]
  },
  {
   "cell_type": "code",
   "execution_count": 27,
   "metadata": {
    "collapsed": false
   },
   "outputs": [
    {
     "data": {
      "text/plain": [
       "True"
      ]
     },
     "execution_count": 27,
     "metadata": {},
     "output_type": "execute_result"
    }
   ],
   "source": [
    "df2 = df\n",
    "\n",
    "# unique index\n",
    "id_range = np.array(range(len(df)))\n",
    "df2.index = id_range\n",
    "df2.index.is_unique"
   ]
  },
  {
   "cell_type": "markdown",
   "metadata": {},
   "source": [
    "We get the No Sciper of students who registered to a Bachelor semester 1 in 2007 and who didn't make a second semester 1 in 2008 (we can't make 3 times the same semester)"
   ]
  },
  {
   "cell_type": "code",
   "execution_count": 28,
   "metadata": {
    "collapsed": false
   },
   "outputs": [
    {
     "data": {
      "text/plain": [
       "(90, 96, 76)"
      ]
     },
     "execution_count": 28,
     "metadata": {},
     "output_type": "execute_result"
    }
   ],
   "source": [
    "index_2007 = df2.loc[df['Year'] == 2007].index\n",
    "index_2008 = df2.loc[df['Year'] == 2008].index\n",
    "index_ba1 = df2.loc[df['Bachelor Semester'] == 1].index\n",
    "\n",
    "index_ba1_2007 = np.intersect1d(index_2007,index_ba1)\n",
    "index_ba1_2008 = np.intersect1d(index_2008,index_ba1)\n",
    "\n",
    "sciper_ba1_2007 = df2.iloc[index_ba1_2007]['No Sciper'] # here, iloc and df2.index are the same\n",
    "sciper_ba1_2008 = df2.iloc[index_ba1_2008]['No Sciper']\n",
    "\n",
    "sciper_ba1_2007_without_ba1_2008 = np.setdiff1d(sciper_ba1_2007, sciper_ba1_2008)\n",
    "\n",
    "len(sciper_ba1_2007), len(sciper_ba1_2008), len(sciper_ba1_2007_without_ba1_2008)"
   ]
  },
  {
   "cell_type": "markdown",
   "metadata": {},
   "source": [
    "We get the No Sciper of students who registered to a Bachelor semester 5 in 2016 and who didn't make semester 6 in 2015."
   ]
  },
  {
   "cell_type": "code",
   "execution_count": 29,
   "metadata": {
    "collapsed": false
   },
   "outputs": [
    {
     "data": {
      "text/plain": [
       "(104, 119, 88)"
      ]
     },
     "execution_count": 29,
     "metadata": {},
     "output_type": "execute_result"
    }
   ],
   "source": [
    "index_2015 = df2.loc[df['Year'] == 2015].index\n",
    "index_2016 = df2.loc[df['Year'] == 2016].index\n",
    "index_ba5 = df2.loc[df['Bachelor Semester'] == 5].index\n",
    "index_ba6 = df2.loc[df['Bachelor Semester'] == 6].index\n",
    "\n",
    "index_ba6_2015 = np.intersect1d(index_2015,index_ba6)\n",
    "index_ba5_2016 = np.intersect1d(index_2016,index_ba5)\n",
    "\n",
    "sciper_ba6_2015 = df2.iloc[index_ba6_2015]['No Sciper']\n",
    "sciper_ba5_2016 = df2.iloc[index_ba5_2016]['No Sciper']\n",
    "\n",
    "sciper_ba6_2015_and_ba5_2016 = np.setdiff1d(sciper_ba5_2016, sciper_ba6_2015)\n",
    "\n",
    "len(sciper_ba6_2015), len(sciper_ba5_2016), len(sciper_ba6_2015_and_ba5_2016)"
   ]
  },
  {
   "cell_type": "markdown",
   "metadata": {},
   "source": [
    "If we note :\n",
    "- A : The ensemble of the students who have an entry for both semester 1 and 6\n",
    "- B : The union of the students to drop"
   ]
  },
  {
   "cell_type": "markdown",
   "metadata": {},
   "source": [
    "Then we obtain sciper of the students to keep by A\\B."
   ]
  },
  {
   "cell_type": "code",
   "execution_count": 30,
   "metadata": {
    "collapsed": false
   },
   "outputs": [
    {
     "data": {
      "text/plain": [
       "(164, 61, 396, 335)"
      ]
     },
     "execution_count": 30,
     "metadata": {},
     "output_type": "execute_result"
    }
   ],
   "source": [
    "sciperToDrop = np.union1d(sciper_ba1_2007_without_ba1_2008, sciper_ba6_2015_and_ba5_2016)\n",
    "sciperDropped = np.intersect1d(sciperToDrop, success_bachelor['No Sciper'])\n",
    "sciperToKeep = np.setdiff1d(success_bachelor['No Sciper'], sciperDropped)\n",
    "len(sciperToDrop), len(sciperDropped), len(success_bachelor), len(sciperToKeep)"
   ]
  },
  {
   "cell_type": "markdown",
   "metadata": {},
   "source": [
    "An inner join enables to keep the desired students."
   ]
  },
  {
   "cell_type": "code",
   "execution_count": 31,
   "metadata": {
    "collapsed": false,
    "scrolled": true
   },
   "outputs": [
    {
     "data": {
      "text/html": [
       "<div>\n",
       "<table border=\"1\" class=\"dataframe\">\n",
       "  <thead>\n",
       "    <tr style=\"text-align: right;\">\n",
       "      <th></th>\n",
       "      <th>Gender</th>\n",
       "      <th>No Sciper</th>\n",
       "      <th>Number of semesters</th>\n",
       "    </tr>\n",
       "  </thead>\n",
       "  <tbody>\n",
       "    <tr>\n",
       "      <th>0</th>\n",
       "      <td>Monsieur</td>\n",
       "      <td>201284</td>\n",
       "      <td>6</td>\n",
       "    </tr>\n",
       "    <tr>\n",
       "      <th>1</th>\n",
       "      <td>Monsieur</td>\n",
       "      <td>194182</td>\n",
       "      <td>8</td>\n",
       "    </tr>\n",
       "    <tr>\n",
       "      <th>2</th>\n",
       "      <td>Monsieur</td>\n",
       "      <td>201232</td>\n",
       "      <td>6</td>\n",
       "    </tr>\n",
       "    <tr>\n",
       "      <th>3</th>\n",
       "      <td>Monsieur</td>\n",
       "      <td>204179</td>\n",
       "      <td>6</td>\n",
       "    </tr>\n",
       "    <tr>\n",
       "      <th>4</th>\n",
       "      <td>Monsieur</td>\n",
       "      <td>204569</td>\n",
       "      <td>6</td>\n",
       "    </tr>\n",
       "  </tbody>\n",
       "</table>\n",
       "</div>"
      ],
      "text/plain": [
       "     Gender No Sciper  Number of semesters\n",
       "0  Monsieur    201284                    6\n",
       "1  Monsieur    194182                    8\n",
       "2  Monsieur    201232                    6\n",
       "3  Monsieur    204179                    6\n",
       "4  Monsieur    204569                    6"
      ]
     },
     "execution_count": 31,
     "metadata": {},
     "output_type": "execute_result"
    }
   ],
   "source": [
    "sciperToKeep_df = pd.DataFrame(sciperToKeep, columns=[\"No Sciper\"])\n",
    "success_bachelor2 = (pd.merge(success_bachelor,sciperToKeep_df, how=\"inner\"))\n",
    "success_bachelor2.head()"
   ]
  },
  {
   "cell_type": "markdown",
   "metadata": {},
   "source": [
    "The new dataframe is described by the following statistics values :"
   ]
  },
  {
   "cell_type": "code",
   "execution_count": 32,
   "metadata": {
    "collapsed": false
   },
   "outputs": [
    {
     "data": {
      "text/html": [
       "<div>\n",
       "<table border=\"1\" class=\"dataframe\">\n",
       "  <thead>\n",
       "    <tr style=\"text-align: right;\">\n",
       "      <th></th>\n",
       "      <th>Number of semesters</th>\n",
       "    </tr>\n",
       "  </thead>\n",
       "  <tbody>\n",
       "    <tr>\n",
       "      <th>count</th>\n",
       "      <td>335.000000</td>\n",
       "    </tr>\n",
       "    <tr>\n",
       "      <th>mean</th>\n",
       "      <td>7.197015</td>\n",
       "    </tr>\n",
       "    <tr>\n",
       "      <th>std</th>\n",
       "      <td>1.579241</td>\n",
       "    </tr>\n",
       "    <tr>\n",
       "      <th>min</th>\n",
       "      <td>6.000000</td>\n",
       "    </tr>\n",
       "    <tr>\n",
       "      <th>25%</th>\n",
       "      <td>6.000000</td>\n",
       "    </tr>\n",
       "    <tr>\n",
       "      <th>50%</th>\n",
       "      <td>6.000000</td>\n",
       "    </tr>\n",
       "    <tr>\n",
       "      <th>75%</th>\n",
       "      <td>8.000000</td>\n",
       "    </tr>\n",
       "    <tr>\n",
       "      <th>max</th>\n",
       "      <td>12.000000</td>\n",
       "    </tr>\n",
       "  </tbody>\n",
       "</table>\n",
       "</div>"
      ],
      "text/plain": [
       "       Number of semesters\n",
       "count           335.000000\n",
       "mean              7.197015\n",
       "std               1.579241\n",
       "min               6.000000\n",
       "25%               6.000000\n",
       "50%               6.000000\n",
       "75%               8.000000\n",
       "max              12.000000"
      ]
     },
     "execution_count": 32,
     "metadata": {},
     "output_type": "execute_result"
    }
   ],
   "source": [
    "success_bachelor2.describe()"
   ]
  },
  {
   "cell_type": "code",
   "execution_count": 33,
   "metadata": {
    "collapsed": false,
    "scrolled": true
   },
   "outputs": [
    {
     "data": {
      "text/html": [
       "<div>\n",
       "<table border=\"1\" class=\"dataframe\">\n",
       "  <thead>\n",
       "    <tr style=\"text-align: right;\">\n",
       "      <th></th>\n",
       "      <th>Number of semesters</th>\n",
       "    </tr>\n",
       "  </thead>\n",
       "  <tbody>\n",
       "    <tr>\n",
       "      <th>count</th>\n",
       "      <td>309.000000</td>\n",
       "    </tr>\n",
       "    <tr>\n",
       "      <th>mean</th>\n",
       "      <td>7.223301</td>\n",
       "    </tr>\n",
       "    <tr>\n",
       "      <th>std</th>\n",
       "      <td>1.592996</td>\n",
       "    </tr>\n",
       "    <tr>\n",
       "      <th>min</th>\n",
       "      <td>6.000000</td>\n",
       "    </tr>\n",
       "    <tr>\n",
       "      <th>25%</th>\n",
       "      <td>6.000000</td>\n",
       "    </tr>\n",
       "    <tr>\n",
       "      <th>50%</th>\n",
       "      <td>6.000000</td>\n",
       "    </tr>\n",
       "    <tr>\n",
       "      <th>75%</th>\n",
       "      <td>8.000000</td>\n",
       "    </tr>\n",
       "    <tr>\n",
       "      <th>max</th>\n",
       "      <td>12.000000</td>\n",
       "    </tr>\n",
       "  </tbody>\n",
       "</table>\n",
       "</div>"
      ],
      "text/plain": [
       "       Number of semesters\n",
       "count           309.000000\n",
       "mean              7.223301\n",
       "std               1.592996\n",
       "min               6.000000\n",
       "25%               6.000000\n",
       "50%               6.000000\n",
       "75%               8.000000\n",
       "max              12.000000"
      ]
     },
     "execution_count": 33,
     "metadata": {},
     "output_type": "execute_result"
    }
   ],
   "source": [
    "men2=success_bachelor2.loc[success_bachelor2['Gender'] == 'Monsieur']\n",
    "men2.describe()"
   ]
  },
  {
   "cell_type": "code",
   "execution_count": 34,
   "metadata": {
    "collapsed": false,
    "scrolled": false
   },
   "outputs": [
    {
     "data": {
      "text/html": [
       "<div>\n",
       "<table border=\"1\" class=\"dataframe\">\n",
       "  <thead>\n",
       "    <tr style=\"text-align: right;\">\n",
       "      <th></th>\n",
       "      <th>Number of semesters</th>\n",
       "    </tr>\n",
       "  </thead>\n",
       "  <tbody>\n",
       "    <tr>\n",
       "      <th>count</th>\n",
       "      <td>26.000000</td>\n",
       "    </tr>\n",
       "    <tr>\n",
       "      <th>mean</th>\n",
       "      <td>6.884615</td>\n",
       "    </tr>\n",
       "    <tr>\n",
       "      <th>std</th>\n",
       "      <td>1.395046</td>\n",
       "    </tr>\n",
       "    <tr>\n",
       "      <th>min</th>\n",
       "      <td>6.000000</td>\n",
       "    </tr>\n",
       "    <tr>\n",
       "      <th>25%</th>\n",
       "      <td>6.000000</td>\n",
       "    </tr>\n",
       "    <tr>\n",
       "      <th>50%</th>\n",
       "      <td>6.000000</td>\n",
       "    </tr>\n",
       "    <tr>\n",
       "      <th>75%</th>\n",
       "      <td>8.000000</td>\n",
       "    </tr>\n",
       "    <tr>\n",
       "      <th>max</th>\n",
       "      <td>11.000000</td>\n",
       "    </tr>\n",
       "  </tbody>\n",
       "</table>\n",
       "</div>"
      ],
      "text/plain": [
       "       Number of semesters\n",
       "count            26.000000\n",
       "mean              6.884615\n",
       "std               1.395046\n",
       "min               6.000000\n",
       "25%               6.000000\n",
       "50%               6.000000\n",
       "75%               8.000000\n",
       "max              11.000000"
      ]
     },
     "execution_count": 34,
     "metadata": {},
     "output_type": "execute_result"
    }
   ],
   "source": [
    "women2=success_bachelor2.loc[success_bachelor2['Gender'] == 'Madame']\n",
    "women2.describe()"
   ]
  },
  {
   "cell_type": "markdown",
   "metadata": {},
   "source": [
    "The difference between male and female students is a bit more elevated than previouly, but stays pretty small."
   ]
  },
  {
   "cell_type": "code",
   "execution_count": 35,
   "metadata": {
    "collapsed": false
   },
   "outputs": [
    {
     "data": {
      "text/plain": [
       "Ttest_indResult(statistic=-1.224269038658671, pvalue=0.22927095396453964)"
      ]
     },
     "execution_count": 35,
     "metadata": {},
     "output_type": "execute_result"
    }
   ],
   "source": [
    "stats.ttest_ind(a=women['Number of semesters'], b=men['Number of semesters'], equal_var=False)"
   ]
  },
  {
   "cell_type": "markdown",
   "metadata": {},
   "source": [
    "The two-sample t-test gives a p-value = 0.22 > 0.05.<br/> \n",
    "Again, we keep the null hypothesis (H0) and conclude that the difference in average isn't statistically significant with a significance level of 0.05."
   ]
  },
  {
   "cell_type": "code",
   "execution_count": 36,
   "metadata": {
    "collapsed": false
   },
   "outputs": [
    {
     "data": {
      "text/plain": [
       "<matplotlib.text.Text at 0x7f3a8f6bec88>"
      ]
     },
     "execution_count": 36,
     "metadata": {},
     "output_type": "execute_result"
    },
    {
     "data": {
      "image/png": "[encoded data removed]",
      "text/plain": [
       "<matplotlib.figure.Figure at 0x7f3a8f6b1320>"
      ]
     },
     "metadata": {},
     "output_type": "display_data"
    }
   ],
   "source": [
    "labels = \"Men\", \"Women\"\n",
    "sizes = [men2.size, women2.size]\n",
    "colors = [\"dodgerblue\", \"pink\"]\n",
    "\n",
    "plt.pie(sizes, labels=labels, colors=colors,\n",
    "        autopct='%1.1f%%', shadow=True)\n",
    "plt.axis('equal')\n",
    "plt.title(\"Students that completed the Bachelor\")"
   ]
  },
  {
   "cell_type": "code",
   "execution_count": 37,
   "metadata": {
    "collapsed": false
   },
   "outputs": [
    {
     "data": {
      "text/plain": [
       "<matplotlib.legend.Legend at 0x7f3acb048a20>"
      ]
     },
     "execution_count": 37,
     "metadata": {},
     "output_type": "execute_result"
    },
    {
     "data": {
      "image/png": "[encoded data removed]",
      "text/plain": [
       "<matplotlib.figure.Figure at 0x7f3a8d1ddf98>"
      ]
     },
     "metadata": {},
     "output_type": "display_data"
    }
   ],
   "source": [
    "plt.hist(men2[\"Number of semesters\"], facecolor='dodgerblue', alpha = 1, label = \"Men\")\n",
    "plt.hist(women2[\"Number of semesters\"], facecolor='pink', alpha = 1, label = \"Women\")\n",
    "plt.xlabel(\"Number of semesters\")\n",
    "plt.ylabel(\"Count\")\n",
    "plt.legend()\n"
   ]
  },
  {
   "cell_type": "markdown",
   "metadata": {},
   "source": [
    "## III - Analysing Master Data"
   ]
  },
  {
   "cell_type": "markdown",
   "metadata": {},
   "source": [
    "### a - Loading the data"
   ]
  },
  {
   "cell_type": "markdown",
   "metadata": {},
   "source": [
    "Master Data are loaded from the HTML files previously scrapped.\n",
    "Each HTML table is converted to a dataframe thanks to the parseHTML function.\n",
    "Year and Bachelor Semester are also added to the dataFrame.\n",
    "Then, the tables are concatenated by rows (which is an easy operation because all the dataframes have the same form)."
   ]
  },
  {
   "cell_type": "code",
   "execution_count": 38,
   "metadata": {
    "collapsed": true
   },
   "outputs": [],
   "source": [
    "def loadMasterData():\n",
    "    folder_path = \"./data/Master\"\n",
    "    paths_iterator = glob.iglob(folder_path+'/*.html')\n",
    "    for idx, file_path in enumerate(paths_iterator):\n",
    "        file_content = get_file_content(file_path)\n",
    "        df_temp = parseHTML(file_content)\n",
    "        if not(df_temp is None):    # Some files are empty (especially semester 4)\n",
    "            year, season, num_semester = getYearSemesterSeasonMaster(file_path)\n",
    "            df_temp['Year'] = year\n",
    "            df_temp['Season'] = season\n",
    "            df_temp['Master Semester'] = num_semester\n",
    "            if idx == 0:\n",
    "                df = df_temp\n",
    "            else: \n",
    "                df = pd.concat([df,df_temp], axis=0)\n",
    "    return df"
   ]
  },
  {
   "cell_type": "code",
   "execution_count": 39,
   "metadata": {
    "collapsed": false,
    "scrolled": false
   },
   "outputs": [
    {
     "data": {
      "text/html": [
       "<div>\n",
       "<table border=\"1\" class=\"dataframe\">\n",
       "  <thead>\n",
       "    <tr style=\"text-align: right;\">\n",
       "      <th></th>\n",
       "      <th>Civilité</th>\n",
       "      <th>Nom Prénom</th>\n",
       "      <th>Orientation Bachelor</th>\n",
       "      <th>Orientation Master</th>\n",
       "      <th>Spécialisation</th>\n",
       "      <th>Filière opt.</th>\n",
       "      <th>Mineur</th>\n",
       "      <th>Statut</th>\n",
       "      <th>Type Echange</th>\n",
       "      <th>Ecole Echange</th>\n",
       "      <th>No Sciper</th>\n",
       "      <th>Year</th>\n",
       "      <th>Season</th>\n",
       "      <th>Master Semester</th>\n",
       "    </tr>\n",
       "  </thead>\n",
       "  <tbody>\n",
       "    <tr>\n",
       "      <th>0</th>\n",
       "      <td>Monsieur</td>\n",
       "      <td>Aeberhard François-Xavier</td>\n",
       "      <td>None</td>\n",
       "      <td>None</td>\n",
       "      <td>None</td>\n",
       "      <td>None</td>\n",
       "      <td>None</td>\n",
       "      <td>Stage</td>\n",
       "      <td>None</td>\n",
       "      <td>None</td>\n",
       "      <td>153066</td>\n",
       "      <td>2008</td>\n",
       "      <td>Printemps</td>\n",
       "      <td>2</td>\n",
       "    </tr>\n",
       "    <tr>\n",
       "      <th>1</th>\n",
       "      <td>Madame</td>\n",
       "      <td>Aydin Ebru</td>\n",
       "      <td>None</td>\n",
       "      <td>None</td>\n",
       "      <td>None</td>\n",
       "      <td>None</td>\n",
       "      <td>None</td>\n",
       "      <td>Présent</td>\n",
       "      <td>None</td>\n",
       "      <td>None</td>\n",
       "      <td>183512</td>\n",
       "      <td>2008</td>\n",
       "      <td>Printemps</td>\n",
       "      <td>2</td>\n",
       "    </tr>\n",
       "    <tr>\n",
       "      <th>2</th>\n",
       "      <td>Monsieur</td>\n",
       "      <td>Bakshev Stanimir</td>\n",
       "      <td>None</td>\n",
       "      <td>None</td>\n",
       "      <td>None</td>\n",
       "      <td>None</td>\n",
       "      <td>None</td>\n",
       "      <td>Présent</td>\n",
       "      <td>None</td>\n",
       "      <td>None</td>\n",
       "      <td>185607</td>\n",
       "      <td>2008</td>\n",
       "      <td>Printemps</td>\n",
       "      <td>2</td>\n",
       "    </tr>\n",
       "    <tr>\n",
       "      <th>3</th>\n",
       "      <td>Monsieur</td>\n",
       "      <td>Bécholey Alexandre</td>\n",
       "      <td>None</td>\n",
       "      <td>None</td>\n",
       "      <td>None</td>\n",
       "      <td>None</td>\n",
       "      <td>None</td>\n",
       "      <td>Présent</td>\n",
       "      <td>None</td>\n",
       "      <td>None</td>\n",
       "      <td>160213</td>\n",
       "      <td>2008</td>\n",
       "      <td>Printemps</td>\n",
       "      <td>2</td>\n",
       "    </tr>\n",
       "    <tr>\n",
       "      <th>4</th>\n",
       "      <td>Madame</td>\n",
       "      <td>Benabdallah Zeineb</td>\n",
       "      <td>None</td>\n",
       "      <td>None</td>\n",
       "      <td>Biocomputing</td>\n",
       "      <td>None</td>\n",
       "      <td>None</td>\n",
       "      <td>Présent</td>\n",
       "      <td>None</td>\n",
       "      <td>None</td>\n",
       "      <td>154573</td>\n",
       "      <td>2008</td>\n",
       "      <td>Printemps</td>\n",
       "      <td>2</td>\n",
       "    </tr>\n",
       "  </tbody>\n",
       "</table>\n",
       "</div>"
      ],
      "text/plain": [
       "   Civilité                 Nom Prénom Orientation Bachelor  \\\n",
       "0  Monsieur  Aeberhard François-Xavier                 None   \n",
       "1    Madame                 Aydin Ebru                 None   \n",
       "2  Monsieur           Bakshev Stanimir                 None   \n",
       "3  Monsieur         Bécholey Alexandre                 None   \n",
       "4    Madame         Benabdallah Zeineb                 None   \n",
       "\n",
       "  Orientation Master Spécialisation Filière opt. Mineur   Statut Type Echange  \\\n",
       "0               None           None         None   None    Stage         None   \n",
       "1               None           None         None   None  Présent         None   \n",
       "2               None           None         None   None  Présent         None   \n",
       "3               None           None         None   None  Présent         None   \n",
       "4               None   Biocomputing         None   None  Présent         None   \n",
       "\n",
       "  Ecole Echange No Sciper  Year     Season Master Semester  \n",
       "0          None    153066  2008  Printemps               2  \n",
       "1          None    183512  2008  Printemps               2  \n",
       "2          None    185607  2008  Printemps               2  \n",
       "3          None    160213  2008  Printemps               2  \n",
       "4          None    154573  2008  Printemps               2  "
      ]
     },
     "execution_count": 39,
     "metadata": {},
     "output_type": "execute_result"
    }
   ],
   "source": [
    "df = loadMasterData()\n",
    "df.to_csv(\"Master.csv\")\n",
    "df.head()"
   ]
  },
  {
   "cell_type": "markdown",
   "metadata": {},
   "source": [
    "Some data are missing. As an example, Master Semester 4 are never registered."
   ]
  },
  {
   "cell_type": "code",
   "execution_count": 40,
   "metadata": {
    "collapsed": false
   },
   "outputs": [
    {
     "data": {
      "text/plain": [
       "True"
      ]
     },
     "execution_count": 40,
     "metadata": {},
     "output_type": "execute_result"
    }
   ],
   "source": [
    "# unique index\n",
    "id_range = np.array(range(len(df)))\n",
    "df.index = id_range\n",
    "df.index.is_unique"
   ]
  },
  {
   "cell_type": "markdown",
   "metadata": {},
   "source": [
    "As some data are missing, we implement some operations on couples (year, season) in order to compute the duration of a master."
   ]
  },
  {
   "cell_type": "code",
   "execution_count": 41,
   "metadata": {
    "collapsed": false
   },
   "outputs": [],
   "source": [
    "def getMinYearSeason(studentSemesters):\n",
    "    minYear = studentSemesters['Year'].min()\n",
    "    minYearSemesters = studentSemesters.loc[studentSemesters['Year'] == minYear]\n",
    "    minSeason = 'Automne' if len(minYearSemesters.loc[minYearSemesters['Season'] == 'Automne']) > 0 else 'Printemps'\n",
    "    return minSeason, minYear\n",
    "\n",
    "def getMaxYearSeason(studentSemesters):\n",
    "    maxYear = studentSemesters['Year'].max()\n",
    "    maxYearSemesters = studentSemesters.loc[studentSemesters['Year'] == maxYear]\n",
    "    maxSeason = 'Printemps' if len(maxYearSemesters.loc[maxYearSemesters['Season'] == 'Printemps']) > 0 else 'Automne'\n",
    "    return maxSeason, maxYear\n",
    "\n",
    "def getNumberOfSemestersBetweenYearSeason(seasonMin, yearMin, seasonMax, yearMax):\n",
    "    \"Returns the number of semesters between (seasonMin, yearMin) and (seasonMax, yearMax)\"\n",
    "    numberOfSemesters = (yearMax - yearMin)*2\n",
    "    if seasonMin == 'Automne':\n",
    "        numberOfSemesters += 2\n",
    "    else:\n",
    "        numberOfSemesters += 1\n",
    "    if seasonMax == 'Automne':\n",
    "        numberOfSemesters -= 1\n",
    "    return numberOfSemesters"
   ]
  },
  {
   "cell_type": "markdown",
   "metadata": {},
   "source": [
    "We wrote some functions in order to manipulates easily students semesters :"
   ]
  },
  {
   "cell_type": "code",
   "execution_count": 42,
   "metadata": {
    "collapsed": false
   },
   "outputs": [],
   "source": [
    "def getStudentMasterSemesters(df,sciper):\n",
    "    \"Get all the Master Semester of a student\"\n",
    "    return df.loc[df['No Sciper'] == sciper] # = df[df['No Sciper'].isin([sciper])] = df[df.isin([sciper])['No Sciper']]\n",
    "\n",
    "def getStudentSemestersN(studentSemesters, no_semester):\n",
    "    \"Get the n-th semesters of a student using his semesters dataframe \"\n",
    "    return studentSemesters.loc[studentSemesters['Master Semester'] == no_semester]"
   ]
  },
  {
   "cell_type": "markdown",
   "metadata": {},
   "source": [
    "These 2 functions enables to :\n",
    "- compute the number of semesters between 1st semester 1 and last semester 2 of a student\n",
    "- compute the number of semesters between the 1st and the last semester of a student"
   ]
  },
  {
   "cell_type": "code",
   "execution_count": 43,
   "metadata": {
    "collapsed": true
   },
   "outputs": [],
   "source": [
    "def getMaxDistanceBetweenSemester1And2(studentSemesters):\n",
    "    \"Get the number of semesters between 1st semester 1 and last semester 2\"\n",
    "    semesters_one = getStudentSemestersN(studentSemesters,1)\n",
    "    semesters_two = getStudentSemestersN(studentSemesters,2)\n",
    "    if len(semesters_one) > 0 and len(semesters_two) > 0:\n",
    "        minSeason, minYear = getMinYearSeason(semesters_one)\n",
    "        maxSeason, maxYear = getMaxYearSeason(semesters_two)\n",
    "        return getNumberOfSemestersBetweenYearSeason(minSeason, minYear, maxSeason, maxYear)\n",
    "    else:\n",
    "        return None\n",
    "\n",
    "def getNumberOfSemesters(studentSemesters):\n",
    "    \"Get the number of semesters between the 1st and the last semesters\"\n",
    "    minSeason, minYear = getMinYearSeason(studentSemesters)\n",
    "    maxSeason, maxYear = getMaxYearSeason(studentSemesters)\n",
    "    return getNumberOfSemestersBetweenYearSeason(minSeason, minYear, maxSeason, maxYear)"
   ]
  },
  {
   "cell_type": "markdown",
   "metadata": {},
   "source": [
    "Finally, we will need to know if :\n",
    "- The student did a project during his master\n",
    "- The data about Mineur are valid\n",
    "- The student's specialization"
   ]
  },
  {
   "cell_type": "code",
   "execution_count": 44,
   "metadata": {
    "collapsed": true
   },
   "outputs": [],
   "source": [
    "def studentHasProject(studentSemesters):\n",
    "    project_semesters = getStudentSemestersN(studentSemesters, 'Projet')\n",
    "    if len(project_semesters) > 0:\n",
    "        return True\n",
    "    else:\n",
    "        return False\n",
    "\n",
    "def studentHasMineur(studentSemesters):\n",
    "    if (len(studentSemesters['Mineur'].value_counts()) > 0):\n",
    "        return True\n",
    "    else:\n",
    "        return False\n",
    "    \n",
    "def studentValidityMineur(studentSemesters):\n",
    "    \"If a Mineur field is not empty, the student should also appear registered in Master semestre 3.\"\n",
    "    if studentHasMineur(studentSemesters) == True:\n",
    "        if len(getStudentSemestersN(studentSemesters, 3)) > 0:\n",
    "            return True\n",
    "        else:\n",
    "            return False\n",
    "    return True\n",
    "\n",
    "def studentSpecialisation(studentSemesters):\n",
    "    semestersWithSpecialization = studentSemesters[studentSemesters['Spécialisation'].notnull()]\n",
    "    if (len(semestersWithSpecialization) > 0):\n",
    "        specialization_name = semestersWithSpecialization['Spécialisation'].values[0]\n",
    "        return specialization_name\n",
    "    else:\n",
    "        return None"
   ]
  },
  {
   "cell_type": "markdown",
   "metadata": {},
   "source": [
    "Features of a valid student :\n",
    "- He has at least an entry for semester 1 and 2.\n",
    "- If a Mineur field is not empty, the student should also appear registered in Master semestre 3.\n",
    "- He made a Projet Semester."
   ]
  },
  {
   "cell_type": "code",
   "execution_count": 45,
   "metadata": {
    "collapsed": false
   },
   "outputs": [],
   "source": [
    "def student_is_valid(df,sciper):\n",
    "    studentSemesters = getStudentMasterSemesters(df,sciper)\n",
    "    semester_one = len(getStudentSemestersN(studentSemesters, 1)) > 0\n",
    "    semester_two = len(getStudentSemestersN(studentSemesters, 2)) > 0\n",
    "    mineur_validity = studentValidityMineur(studentSemesters)\n",
    "    project = studentHasProject(studentSemesters)\n",
    "    return semester_one and semester_two and mineur_validity and project"
   ]
  },
  {
   "cell_type": "markdown",
   "metadata": {},
   "source": [
    "Let's build the dataframe of valid students :"
   ]
  },
  {
   "cell_type": "code",
   "execution_count": 46,
   "metadata": {
    "collapsed": true
   },
   "outputs": [],
   "source": [
    "valid_students = {'No Sciper': [], 'Gender': [], 'Specialization': [], \n",
    "                  'Semesters between M1 and M2':[], 'Number of semesters':[]}\n",
    "\n",
    "for row in df.iterrows():\n",
    "    sciper = row[1]['No Sciper']\n",
    "    if not (sciper in valid_students['No Sciper']):     # no duplicates\n",
    "        valid = student_is_valid(df, sciper)\n",
    "        if valid:                                       # valid students only\n",
    "            studentSemesters = getStudentMasterSemesters(df,sciper)\n",
    "            valid_students['No Sciper'].append(sciper)\n",
    "            valid_students['Gender'].append(row[1]['Civilité'])\n",
    "            valid_students['Specialization'].append(studentSpecialisation(studentSemesters))\n",
    "            valid_students['Semesters between M1 and M2'].append(getMaxDistanceBetweenSemester1And2(studentSemesters))\n",
    "            valid_students['Number of semesters'].append(getNumberOfSemesters(studentSemesters))  "
   ]
  },
  {
   "cell_type": "code",
   "execution_count": 47,
   "metadata": {
    "collapsed": false,
    "scrolled": true
   },
   "outputs": [
    {
     "data": {
      "text/html": [
       "<div>\n",
       "<table border=\"1\" class=\"dataframe\">\n",
       "  <thead>\n",
       "    <tr style=\"text-align: right;\">\n",
       "      <th></th>\n",
       "      <th>Gender</th>\n",
       "      <th>No Sciper</th>\n",
       "      <th>Number of semesters</th>\n",
       "      <th>Semesters between M1 and M2</th>\n",
       "      <th>Specialization</th>\n",
       "    </tr>\n",
       "  </thead>\n",
       "  <tbody>\n",
       "    <tr>\n",
       "      <th>0</th>\n",
       "      <td>Madame</td>\n",
       "      <td>183512</td>\n",
       "      <td>3</td>\n",
       "      <td>2</td>\n",
       "      <td>None</td>\n",
       "    </tr>\n",
       "    <tr>\n",
       "      <th>1</th>\n",
       "      <td>Monsieur</td>\n",
       "      <td>160213</td>\n",
       "      <td>5</td>\n",
       "      <td>2</td>\n",
       "      <td>None</td>\n",
       "    </tr>\n",
       "    <tr>\n",
       "      <th>2</th>\n",
       "      <td>Madame</td>\n",
       "      <td>154573</td>\n",
       "      <td>6</td>\n",
       "      <td>4</td>\n",
       "      <td>Biocomputing</td>\n",
       "    </tr>\n",
       "    <tr>\n",
       "      <th>3</th>\n",
       "      <td>Monsieur</td>\n",
       "      <td>185523</td>\n",
       "      <td>4</td>\n",
       "      <td>2</td>\n",
       "      <td>Internet computing</td>\n",
       "    </tr>\n",
       "    <tr>\n",
       "      <th>4</th>\n",
       "      <td>Monsieur</td>\n",
       "      <td>166491</td>\n",
       "      <td>8</td>\n",
       "      <td>6</td>\n",
       "      <td>None</td>\n",
       "    </tr>\n",
       "  </tbody>\n",
       "</table>\n",
       "</div>"
      ],
      "text/plain": [
       "     Gender No Sciper  Number of semesters  Semesters between M1 and M2  \\\n",
       "0    Madame    183512                    3                            2   \n",
       "1  Monsieur    160213                    5                            2   \n",
       "2    Madame    154573                    6                            4   \n",
       "3  Monsieur    185523                    4                            2   \n",
       "4  Monsieur    166491                    8                            6   \n",
       "\n",
       "       Specialization  \n",
       "0                None  \n",
       "1                None  \n",
       "2        Biocomputing  \n",
       "3  Internet computing  \n",
       "4                None  "
      ]
     },
     "execution_count": 47,
     "metadata": {},
     "output_type": "execute_result"
    }
   ],
   "source": [
    "valid_master_students = pd.DataFrame(valid_students)\n",
    "valid_master_students.head()"
   ]
  },
  {
   "cell_type": "code",
   "execution_count": 48,
   "metadata": {
    "collapsed": false
   },
   "outputs": [
    {
     "name": "stdout",
     "output_type": "stream",
     "text": [
      "977 114\n"
     ]
    }
   ],
   "source": [
    "initial_number_of_students = len(df['No Sciper'].drop_duplicates())\n",
    "print(initial_number_of_students, len(valid_master_students))"
   ]
  },
  {
   "cell_type": "markdown",
   "metadata": {},
   "source": [
    "We kept 114 in 977 students."
   ]
  },
  {
   "cell_type": "markdown",
   "metadata": {},
   "source": [
    "### b - Analysing Data"
   ]
  },
  {
   "cell_type": "code",
   "execution_count": 49,
   "metadata": {
    "collapsed": false
   },
   "outputs": [
    {
     "data": {
      "text/plain": [
       "count    114.000000\n",
       "mean       2.912281\n",
       "std        1.133258\n",
       "min        2.000000\n",
       "25%        2.000000\n",
       "50%        2.000000\n",
       "75%        4.000000\n",
       "max        6.000000\n",
       "Name: Semesters between M1 and M2, dtype: float64"
      ]
     },
     "execution_count": 49,
     "metadata": {},
     "output_type": "execute_result"
    }
   ],
   "source": [
    "valid_master_students['Semesters between M1 and M2'].describe()"
   ]
  },
  {
   "cell_type": "markdown",
   "metadata": {},
   "source": [
    "In average, the M1 and M2 are fulfilled after 3 semesters."
   ]
  },
  {
   "cell_type": "code",
   "execution_count": 50,
   "metadata": {
    "collapsed": false
   },
   "outputs": [
    {
     "data": {
      "text/plain": [
       "count    114.000000\n",
       "mean       4.280702\n",
       "std        1.109164\n",
       "min        3.000000\n",
       "25%        3.000000\n",
       "50%        4.000000\n",
       "75%        5.000000\n",
       "max        9.000000\n",
       "Name: Number of semesters, dtype: float64"
      ]
     },
     "execution_count": 50,
     "metadata": {},
     "output_type": "execute_result"
    }
   ],
   "source": [
    "valid_master_students['Number of semesters'].describe()"
   ]
  },
  {
   "cell_type": "markdown",
   "metadata": {},
   "source": [
    "The average stay at the EPFL is 4.3 semesters for master students (without taking into account that the M4 is never registered).<br/>\n",
    "Here, the average stay is only the number of semesters between the 1st and the last registered on IS-Academia."
   ]
  },
  {
   "cell_type": "markdown",
   "metadata": {},
   "source": [
    "<b>Specialization</b>"
   ]
  },
  {
   "cell_type": "code",
   "execution_count": 51,
   "metadata": {
    "collapsed": false
   },
   "outputs": [
    {
     "data": {
      "text/plain": [
       "<matplotlib.text.Text at 0x7f3a8b9ac278>"
      ]
     },
     "execution_count": 51,
     "metadata": {},
     "output_type": "execute_result"
    },
    {
     "data": {
      "image/png": "[encoded data removed]",
      "text/plain": [
       "<matplotlib.figure.Figure at 0x7f3a8b9fd978>"
      ]
     },
     "metadata": {},
     "output_type": "display_data"
    }
   ],
   "source": [
    "df_valid_with_specialization = valid_master_students[valid_master_students['Specialization'].notnull()]\n",
    "labels = \"with minor: %d students\"%len(df_valid_with_specialization), \"w/o minor\" \n",
    "\n",
    "sizes = [len(df_valid_with_specialization), len(valid_master_students) - len(df_valid_with_specialization)]\n",
    "colors = [\"forestgreen\", \"orangered\"]\n",
    "\n",
    "plt.pie(sizes, labels=labels, colors=colors,\n",
    "        autopct='%1.1f%%', shadow=True)\n",
    "plt.axis('equal')\n",
    "plt.title(\"Specialization proportion at masters\")"
   ]
  },
  {
   "cell_type": "markdown",
   "metadata": {},
   "source": [
    "On the 114 valid students, only 28 have specialization."
   ]
  },
  {
   "cell_type": "code",
   "execution_count": 52,
   "metadata": {
    "collapsed": false,
    "scrolled": true
   },
   "outputs": [
    {
     "data": {
      "text/plain": [
       "Internet computing                10\n",
       "Foundations of Software            7\n",
       "Signals, Images and Interfaces     3\n",
       "Computer Engineering - SP          2\n",
       "Software Systems                   2\n",
       "Information Security - SP          2\n",
       "Service science                    1\n",
       "Biocomputing                       1\n",
       "Name: Specialization, dtype: int64"
      ]
     },
     "execution_count": 52,
     "metadata": {},
     "output_type": "execute_result"
    }
   ],
   "source": [
    "df_valid_with_specialization['Specialization'].value_counts()"
   ]
  },
  {
   "cell_type": "markdown",
   "metadata": {},
   "source": [
    "The samples are very smalls : Indeed, 6 of 8 consists of 3 students or less. By the way, the statistics aren't really reliable for this kind of samples."
   ]
  },
  {
   "cell_type": "code",
   "execution_count": 53,
   "metadata": {
    "collapsed": false,
    "scrolled": false
   },
   "outputs": [
    {
     "data": {
      "text/html": [
       "<div>\n",
       "<table border=\"1\" class=\"dataframe\">\n",
       "  <thead>\n",
       "    <tr style=\"text-align: right;\">\n",
       "      <th></th>\n",
       "      <th>Gender</th>\n",
       "      <th>No Sciper</th>\n",
       "      <th>Number of semesters</th>\n",
       "      <th>Semesters between M1 and M2</th>\n",
       "      <th>Specialization</th>\n",
       "    </tr>\n",
       "  </thead>\n",
       "  <tbody>\n",
       "    <tr>\n",
       "      <th>2</th>\n",
       "      <td>Madame</td>\n",
       "      <td>154573</td>\n",
       "      <td>6</td>\n",
       "      <td>4</td>\n",
       "      <td>Biocomputing</td>\n",
       "    </tr>\n",
       "    <tr>\n",
       "      <th>3</th>\n",
       "      <td>Monsieur</td>\n",
       "      <td>185523</td>\n",
       "      <td>4</td>\n",
       "      <td>2</td>\n",
       "      <td>Internet computing</td>\n",
       "    </tr>\n",
       "    <tr>\n",
       "      <th>6</th>\n",
       "      <td>Monsieur</td>\n",
       "      <td>146742</td>\n",
       "      <td>9</td>\n",
       "      <td>4</td>\n",
       "      <td>Signals, Images and Interfaces</td>\n",
       "    </tr>\n",
       "    <tr>\n",
       "      <th>8</th>\n",
       "      <td>Monsieur</td>\n",
       "      <td>186060</td>\n",
       "      <td>4</td>\n",
       "      <td>2</td>\n",
       "      <td>Foundations of Software</td>\n",
       "    </tr>\n",
       "    <tr>\n",
       "      <th>9</th>\n",
       "      <td>Monsieur</td>\n",
       "      <td>185522</td>\n",
       "      <td>4</td>\n",
       "      <td>2</td>\n",
       "      <td>Internet computing</td>\n",
       "    </tr>\n",
       "    <tr>\n",
       "      <th>18</th>\n",
       "      <td>Monsieur</td>\n",
       "      <td>180072</td>\n",
       "      <td>4</td>\n",
       "      <td>2</td>\n",
       "      <td>Internet computing</td>\n",
       "    </tr>\n",
       "    <tr>\n",
       "      <th>20</th>\n",
       "      <td>Monsieur</td>\n",
       "      <td>165819</td>\n",
       "      <td>4</td>\n",
       "      <td>2</td>\n",
       "      <td>Foundations of Software</td>\n",
       "    </tr>\n",
       "    <tr>\n",
       "      <th>21</th>\n",
       "      <td>Monsieur</td>\n",
       "      <td>179878</td>\n",
       "      <td>4</td>\n",
       "      <td>2</td>\n",
       "      <td>Internet computing</td>\n",
       "    </tr>\n",
       "    <tr>\n",
       "      <th>24</th>\n",
       "      <td>Monsieur</td>\n",
       "      <td>210215</td>\n",
       "      <td>5</td>\n",
       "      <td>4</td>\n",
       "      <td>Internet computing</td>\n",
       "    </tr>\n",
       "    <tr>\n",
       "      <th>31</th>\n",
       "      <td>Monsieur</td>\n",
       "      <td>175702</td>\n",
       "      <td>4</td>\n",
       "      <td>2</td>\n",
       "      <td>Foundations of Software</td>\n",
       "    </tr>\n",
       "    <tr>\n",
       "      <th>32</th>\n",
       "      <td>Monsieur</td>\n",
       "      <td>194182</td>\n",
       "      <td>7</td>\n",
       "      <td>6</td>\n",
       "      <td>Foundations of Software</td>\n",
       "    </tr>\n",
       "    <tr>\n",
       "      <th>33</th>\n",
       "      <td>Monsieur</td>\n",
       "      <td>201600</td>\n",
       "      <td>7</td>\n",
       "      <td>6</td>\n",
       "      <td>Foundations of Software</td>\n",
       "    </tr>\n",
       "    <tr>\n",
       "      <th>36</th>\n",
       "      <td>Monsieur</td>\n",
       "      <td>214637</td>\n",
       "      <td>5</td>\n",
       "      <td>4</td>\n",
       "      <td>Internet computing</td>\n",
       "    </tr>\n",
       "    <tr>\n",
       "      <th>42</th>\n",
       "      <td>Monsieur</td>\n",
       "      <td>214632</td>\n",
       "      <td>5</td>\n",
       "      <td>4</td>\n",
       "      <td>Foundations of Software</td>\n",
       "    </tr>\n",
       "    <tr>\n",
       "      <th>43</th>\n",
       "      <td>Monsieur</td>\n",
       "      <td>194328</td>\n",
       "      <td>5</td>\n",
       "      <td>4</td>\n",
       "      <td>Information Security - SP</td>\n",
       "    </tr>\n",
       "    <tr>\n",
       "      <th>44</th>\n",
       "      <td>Monsieur</td>\n",
       "      <td>212790</td>\n",
       "      <td>5</td>\n",
       "      <td>4</td>\n",
       "      <td>Internet computing</td>\n",
       "    </tr>\n",
       "    <tr>\n",
       "      <th>45</th>\n",
       "      <td>Monsieur</td>\n",
       "      <td>218353</td>\n",
       "      <td>5</td>\n",
       "      <td>4</td>\n",
       "      <td>Computer Engineering - SP</td>\n",
       "    </tr>\n",
       "    <tr>\n",
       "      <th>46</th>\n",
       "      <td>Monsieur</td>\n",
       "      <td>212859</td>\n",
       "      <td>5</td>\n",
       "      <td>4</td>\n",
       "      <td>Information Security - SP</td>\n",
       "    </tr>\n",
       "    <tr>\n",
       "      <th>49</th>\n",
       "      <td>Monsieur</td>\n",
       "      <td>204253</td>\n",
       "      <td>5</td>\n",
       "      <td>4</td>\n",
       "      <td>Signals, Images and Interfaces</td>\n",
       "    </tr>\n",
       "    <tr>\n",
       "      <th>55</th>\n",
       "      <td>Madame</td>\n",
       "      <td>217301</td>\n",
       "      <td>5</td>\n",
       "      <td>4</td>\n",
       "      <td>Computer Engineering - SP</td>\n",
       "    </tr>\n",
       "    <tr>\n",
       "      <th>56</th>\n",
       "      <td>Monsieur</td>\n",
       "      <td>244587</td>\n",
       "      <td>5</td>\n",
       "      <td>4</td>\n",
       "      <td>Software Systems</td>\n",
       "    </tr>\n",
       "    <tr>\n",
       "      <th>59</th>\n",
       "      <td>Monsieur</td>\n",
       "      <td>216702</td>\n",
       "      <td>5</td>\n",
       "      <td>4</td>\n",
       "      <td>Internet computing</td>\n",
       "    </tr>\n",
       "    <tr>\n",
       "      <th>60</th>\n",
       "      <td>Monsieur</td>\n",
       "      <td>195675</td>\n",
       "      <td>5</td>\n",
       "      <td>4</td>\n",
       "      <td>Internet computing</td>\n",
       "    </tr>\n",
       "    <tr>\n",
       "      <th>62</th>\n",
       "      <td>Monsieur</td>\n",
       "      <td>217469</td>\n",
       "      <td>5</td>\n",
       "      <td>4</td>\n",
       "      <td>Foundations of Software</td>\n",
       "    </tr>\n",
       "    <tr>\n",
       "      <th>64</th>\n",
       "      <td>Monsieur</td>\n",
       "      <td>205864</td>\n",
       "      <td>5</td>\n",
       "      <td>4</td>\n",
       "      <td>Software Systems</td>\n",
       "    </tr>\n",
       "    <tr>\n",
       "      <th>96</th>\n",
       "      <td>Monsieur</td>\n",
       "      <td>180731</td>\n",
       "      <td>4</td>\n",
       "      <td>2</td>\n",
       "      <td>Signals, Images and Interfaces</td>\n",
       "    </tr>\n",
       "    <tr>\n",
       "      <th>99</th>\n",
       "      <td>Monsieur</td>\n",
       "      <td>202059</td>\n",
       "      <td>5</td>\n",
       "      <td>4</td>\n",
       "      <td>Service science</td>\n",
       "    </tr>\n",
       "    <tr>\n",
       "      <th>100</th>\n",
       "      <td>Monsieur</td>\n",
       "      <td>192861</td>\n",
       "      <td>6</td>\n",
       "      <td>4</td>\n",
       "      <td>Internet computing</td>\n",
       "    </tr>\n",
       "  </tbody>\n",
       "</table>\n",
       "</div>"
      ],
      "text/plain": [
       "       Gender No Sciper  Number of semesters  Semesters between M1 and M2  \\\n",
       "2      Madame    154573                    6                            4   \n",
       "3    Monsieur    185523                    4                            2   \n",
       "6    Monsieur    146742                    9                            4   \n",
       "8    Monsieur    186060                    4                            2   \n",
       "9    Monsieur    185522                    4                            2   \n",
       "18   Monsieur    180072                    4                            2   \n",
       "20   Monsieur    165819                    4                            2   \n",
       "21   Monsieur    179878                    4                            2   \n",
       "24   Monsieur    210215                    5                            4   \n",
       "31   Monsieur    175702                    4                            2   \n",
       "32   Monsieur    194182                    7                            6   \n",
       "33   Monsieur    201600                    7                            6   \n",
       "36   Monsieur    214637                    5                            4   \n",
       "42   Monsieur    214632                    5                            4   \n",
       "43   Monsieur    194328                    5                            4   \n",
       "44   Monsieur    212790                    5                            4   \n",
       "45   Monsieur    218353                    5                            4   \n",
       "46   Monsieur    212859                    5                            4   \n",
       "49   Monsieur    204253                    5                            4   \n",
       "55     Madame    217301                    5                            4   \n",
       "56   Monsieur    244587                    5                            4   \n",
       "59   Monsieur    216702                    5                            4   \n",
       "60   Monsieur    195675                    5                            4   \n",
       "62   Monsieur    217469                    5                            4   \n",
       "64   Monsieur    205864                    5                            4   \n",
       "96   Monsieur    180731                    4                            2   \n",
       "99   Monsieur    202059                    5                            4   \n",
       "100  Monsieur    192861                    6                            4   \n",
       "\n",
       "                     Specialization  \n",
       "2                      Biocomputing  \n",
       "3                Internet computing  \n",
       "6    Signals, Images and Interfaces  \n",
       "8           Foundations of Software  \n",
       "9                Internet computing  \n",
       "18               Internet computing  \n",
       "20          Foundations of Software  \n",
       "21               Internet computing  \n",
       "24               Internet computing  \n",
       "31          Foundations of Software  \n",
       "32          Foundations of Software  \n",
       "33          Foundations of Software  \n",
       "36               Internet computing  \n",
       "42          Foundations of Software  \n",
       "43        Information Security - SP  \n",
       "44               Internet computing  \n",
       "45        Computer Engineering - SP  \n",
       "46        Information Security - SP  \n",
       "49   Signals, Images and Interfaces  \n",
       "55        Computer Engineering - SP  \n",
       "56                 Software Systems  \n",
       "59               Internet computing  \n",
       "60               Internet computing  \n",
       "62          Foundations of Software  \n",
       "64                 Software Systems  \n",
       "96   Signals, Images and Interfaces  \n",
       "99                  Service science  \n",
       "100              Internet computing  "
      ]
     },
     "execution_count": 53,
     "metadata": {},
     "output_type": "execute_result"
    }
   ],
   "source": [
    "df_grouped = df_valid_with_specialization.groupby(df_valid_with_specialization['Specialization'])\n",
    "df_grouped.mean()\n",
    "df_valid_with_specialization"
   ]
  },
  {
   "cell_type": "markdown",
   "metadata": {},
   "source": [
    "- <b>Semesters between M1 and M2</b><br/>\n",
    "For the global population, the M1 and M2 are fulfilled after 3 semesters. Here, the tendance is rather 4.\n",
    "- <b>Number of semesters</b><br/>\n",
    "The average stay at the EPFL is 4.3 semesters for the global population. Here, the number of semesters is more elevated (5 or 6 semesters, in average)\n",
    "- <b>Conclusion</b><br/>\n",
    "Even if the samples of students are too small to be reliable, Master students with Specialization tend to stay more time at the EPFL."
   ]
  },
  {
   "cell_type": "code",
   "execution_count": 54,
   "metadata": {
    "collapsed": false
   },
   "outputs": [
    {
     "data": {
      "text/plain": [
       "<matplotlib.text.Text at 0x7f3a8b98ec88>"
      ]
     },
     "execution_count": 54,
     "metadata": {},
     "output_type": "execute_result"
    },
    {
     "data": {
      "image/png": "[encoded data removed]",
      "text/plain": [
       "<matplotlib.figure.Figure at 0x7f3a8b969f28>"
      ]
     },
     "metadata": {},
     "output_type": "display_data"
    }
   ],
   "source": [
    "labels = df_valid_with_specialization['Specialization'].value_counts().index\n",
    "\n",
    "plt.pie(df_valid_with_specialization['Specialization'].value_counts(), labels=labels, autopct='%1.1f%%', shadow=True)\n",
    "\n",
    "plt.axis('equal')\n",
    "plt.title(\"Choices of specialization\")"
   ]
  },
  {
   "cell_type": "code",
   "execution_count": null,
   "metadata": {
    "collapsed": false
   },
   "outputs": [],
   "source": []
  },
  {
   "cell_type": "markdown",
   "metadata": {},
   "source": [
    "<b>Hypothesis Testing</b>"
   ]
  },
  {
   "cell_type": "markdown",
   "metadata": {},
   "source": [
    "The specialization's samples are too small too make tests. However, if their size had enabled it, we would have proceed like this :"
   ]
  },
  {
   "cell_type": "markdown",
   "metadata": {},
   "source": [
    "We want to know the difference in \"average stay at the EPFL\" is statistically significant between the global master population and each specialization:<br/>\n",
    "- <b>H0</b> : mean(population) = mean(specialization_n)\n",
    "- <b>H1</b> : mean(population) != mean(specialization_n)"
   ]
  },
  {
   "cell_type": "markdown",
   "metadata": {},
   "source": [
    "As we compare the mean of 2 populations (or more accurately, population and subpopulations), we choose to use a <b>two-sample t-test</b> (as previously with Bachelor students).<br/>\n",
    "In order to work on independant dataframes, we remove students from the n-th specialization from the population dataframe."
   ]
  },
  {
   "cell_type": "code",
   "execution_count": 55,
   "metadata": {
    "collapsed": false,
    "scrolled": true
   },
   "outputs": [
    {
     "name": "stdout",
     "output_type": "stream",
     "text": [
      "Biocomputing  -  1 students\n",
      "pvalue : nan\n",
      "The sample is too small\n",
      "\n",
      "\n",
      "Internet computing  -  10 students\n",
      "pvalue : 0.076291762712\n",
      "H0 validated : No significant difference\n",
      "\n",
      "\n",
      "Signals, Images and Interfaces  -  3 students\n",
      "pvalue : 0.367078873668\n",
      "H0 validated : No significant difference\n",
      "\n",
      "\n",
      "Foundations of Software  -  7 students\n",
      "pvalue : 0.123229491401\n",
      "H0 validated : No significant difference\n",
      "\n",
      "\n",
      "Information Security - SP  -  2 students\n",
      "pvalue : 2.6371257522e-10\n",
      "H1 validated : Significant difference\n",
      "\n",
      "\n",
      "Computer Engineering - SP  -  2 students\n",
      "pvalue : 2.6371257522e-10\n",
      "H1 validated : Significant difference\n",
      "\n",
      "\n",
      "Software Systems  -  2 students\n",
      "pvalue : 2.6371257522e-10\n",
      "H1 validated : Significant difference\n",
      "\n",
      "\n",
      "Service science  -  1 students\n",
      "pvalue : nan\n",
      "The sample is too small\n",
      "\n",
      "\n"
     ]
    },
    {
     "name": "stderr",
     "output_type": "stream",
     "text": [
      "/home/pierre/anaconda3/lib/python3.5/site-packages/numpy/core/_methods.py:82: RuntimeWarning: Degrees of freedom <= 0 for slice\n",
      "  warnings.warn(\"Degrees of freedom <= 0 for slice\", RuntimeWarning)\n"
     ]
    }
   ],
   "source": [
    "specializations = df_valid_with_specialization['Specialization'].drop_duplicates()\n",
    "\n",
    "def pvalue_signification(pvalue):\n",
    "    if np.isnan(pvalue):\n",
    "        return \"The sample is too small\"\n",
    "    if pvalue > 0.05:\n",
    "        return \"H0 validated : No significant difference\"\n",
    "    else:\n",
    "        return \"H1 validated : Significant difference\"\n",
    "\n",
    "for specialization in specializations:\n",
    "    # Removing students from the specialization from the global population\n",
    "    spe_idx = valid_master_students[valid_master_students['Specialization'] == specialization].index\n",
    "    pop_without_specialization = valid_master_students.drop(spe_idx)\n",
    "    \n",
    "    # Getting the specialization dataframe\n",
    "    specialization_df = df_valid_with_specialization.loc[df_valid_with_specialization['Specialization'] == specialization]\n",
    "    \n",
    "    print(specialization,' - ', len(specialization_df),'students')\n",
    "    \n",
    "    # two-sample t-test\n",
    "    stat, pvalue = stats.ttest_ind(a=pop_without_specialization['Number of semesters'], \n",
    "                                   b=specialization_df['Number of semesters'], equal_var=False)\n",
    "    print('pvalue :', pvalue)\n",
    "    print(pvalue_signification(pvalue))\n",
    "    print('\\n')"
   ]
  },
  {
   "cell_type": "code",
   "execution_count": null,
   "metadata": {
    "collapsed": true
   },
   "outputs": [],
   "source": []
  }
 ],
 "metadata": {
  "anaconda-cloud": {},
  "kernelspec": {
   "display_name": "Python [Root]",
   "language": "python",
   "name": "Python [Root]"
  },
  "language_info": {
   "codemirror_mode": {
    "name": "ipython",
    "version": 3
   },
   "file_extension": ".py",
   "mimetype": "text/x-python",
   "name": "python",
   "nbconvert_exporter": "python",
   "pygments_lexer": "ipython3",
   "version": "3.5.2"
  }
 },
 "nbformat": 4,
 "nbformat_minor": 1
}
