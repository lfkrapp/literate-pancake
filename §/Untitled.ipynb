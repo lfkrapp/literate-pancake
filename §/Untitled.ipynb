{
 "cells": [
  {
   "cell_type": "markdown",
   "metadata": {},
   "source": [
    "# Taming text"
   ]
  },
  {
   "cell_type": "code",
   "execution_count": 1,
   "metadata": {
    "collapsed": false
   },
   "outputs": [],
   "source": [
    "%matplotlib inline\n",
    "import pandas as pd\n",
    "pd.options.mode.chained_assignment = None  # default='warn'\n",
    "\n",
    "import numpy as np\n",
    "\n",
    "import matplotlib.pyplot as plt\n",
    "plt.style.use('ggplot')\n",
    "\n",
    "from wordcloud import WordCloud\n",
    "from PIL import Image\n",
    "\n",
    "import nltk\n",
    "\n",
    "%load_ext autoreload\n",
    "%autoreload 2"
   ]
  },
  {
   "cell_type": "markdown",
   "metadata": {},
   "source": [
    "## 1) Word cloud from the corpus\n",
    "\n",
    "In this first part we want to extract from Mrs Clinton emails a word cloud. "
   ]
  },
  {
   "cell_type": "markdown",
   "metadata": {},
   "source": [
    "### 1.1) Data extraction"
   ]
  },
  {
   "cell_type": "code",
   "execution_count": 2,
   "metadata": {
    "collapsed": false
   },
   "outputs": [
    {
     "data": {
      "text/html": [
       "<div>\n",
       "<table border=\"1\" class=\"dataframe\">\n",
       "  <thead>\n",
       "    <tr style=\"text-align: right;\">\n",
       "      <th></th>\n",
       "      <th>Id</th>\n",
       "      <th>DocNumber</th>\n",
       "      <th>MetadataSubject</th>\n",
       "      <th>MetadataTo</th>\n",
       "      <th>MetadataFrom</th>\n",
       "      <th>SenderPersonId</th>\n",
       "      <th>MetadataDateSent</th>\n",
       "      <th>MetadataDateReleased</th>\n",
       "      <th>MetadataPdfLink</th>\n",
       "      <th>MetadataCaseNumber</th>\n",
       "      <th>...</th>\n",
       "      <th>ExtractedTo</th>\n",
       "      <th>ExtractedFrom</th>\n",
       "      <th>ExtractedCc</th>\n",
       "      <th>ExtractedDateSent</th>\n",
       "      <th>ExtractedCaseNumber</th>\n",
       "      <th>ExtractedDocNumber</th>\n",
       "      <th>ExtractedDateReleased</th>\n",
       "      <th>ExtractedReleaseInPartOrFull</th>\n",
       "      <th>ExtractedBodyText</th>\n",
       "      <th>RawText</th>\n",
       "    </tr>\n",
       "  </thead>\n",
       "  <tbody>\n",
       "    <tr>\n",
       "      <th>0</th>\n",
       "      <td>1</td>\n",
       "      <td>C05739545</td>\n",
       "      <td>WOW</td>\n",
       "      <td>H</td>\n",
       "      <td>Sullivan, Jacob J</td>\n",
       "      <td>87.0</td>\n",
       "      <td>2012-09-12T04:00:00+00:00</td>\n",
       "      <td>2015-05-22T04:00:00+00:00</td>\n",
       "      <td>DOCUMENTS/HRC_Email_1_296/HRCH2/DOC_0C05739545...</td>\n",
       "      <td>F-2015-04841</td>\n",
       "      <td>...</td>\n",
       "      <td>NaN</td>\n",
       "      <td>Sullivan, Jacob J &lt;Sullivan11@state.gov&gt;</td>\n",
       "      <td>NaN</td>\n",
       "      <td>Wednesday, September 12, 2012 10:16 AM</td>\n",
       "      <td>F-2015-04841</td>\n",
       "      <td>C05739545</td>\n",
       "      <td>05/13/2015</td>\n",
       "      <td>RELEASE IN FULL</td>\n",
       "      <td>NaN</td>\n",
       "      <td>UNCLASSIFIED\\nU.S. Department of State\\nCase N...</td>\n",
       "    </tr>\n",
       "    <tr>\n",
       "      <th>1</th>\n",
       "      <td>2</td>\n",
       "      <td>C05739546</td>\n",
       "      <td>H: LATEST: HOW SYRIA IS AIDING QADDAFI AND MOR...</td>\n",
       "      <td>H</td>\n",
       "      <td>NaN</td>\n",
       "      <td>NaN</td>\n",
       "      <td>2011-03-03T05:00:00+00:00</td>\n",
       "      <td>2015-05-22T04:00:00+00:00</td>\n",
       "      <td>DOCUMENTS/HRC_Email_1_296/HRCH1/DOC_0C05739546...</td>\n",
       "      <td>F-2015-04841</td>\n",
       "      <td>...</td>\n",
       "      <td>NaN</td>\n",
       "      <td>NaN</td>\n",
       "      <td>NaN</td>\n",
       "      <td>NaN</td>\n",
       "      <td>F-2015-04841</td>\n",
       "      <td>C05739546</td>\n",
       "      <td>05/13/2015</td>\n",
       "      <td>RELEASE IN PART</td>\n",
       "      <td>B6\\nThursday, March 3, 2011 9:45 PM\\nH: Latest...</td>\n",
       "      <td>UNCLASSIFIED\\nU.S. Department of State\\nCase N...</td>\n",
       "    </tr>\n",
       "    <tr>\n",
       "      <th>2</th>\n",
       "      <td>3</td>\n",
       "      <td>C05739547</td>\n",
       "      <td>CHRIS STEVENS</td>\n",
       "      <td>;H</td>\n",
       "      <td>Mills, Cheryl D</td>\n",
       "      <td>32.0</td>\n",
       "      <td>2012-09-12T04:00:00+00:00</td>\n",
       "      <td>2015-05-22T04:00:00+00:00</td>\n",
       "      <td>DOCUMENTS/HRC_Email_1_296/HRCH2/DOC_0C05739547...</td>\n",
       "      <td>F-2015-04841</td>\n",
       "      <td>...</td>\n",
       "      <td>B6</td>\n",
       "      <td>Mills, Cheryl D &lt;MillsCD@state.gov&gt;</td>\n",
       "      <td>Abedin, Huma</td>\n",
       "      <td>Wednesday, September 12, 2012 11:52 AM</td>\n",
       "      <td>F-2015-04841</td>\n",
       "      <td>C05739547</td>\n",
       "      <td>05/14/2015</td>\n",
       "      <td>RELEASE IN PART</td>\n",
       "      <td>Thx</td>\n",
       "      <td>UNCLASSIFIED\\nU.S. Department of State\\nCase N...</td>\n",
       "    </tr>\n",
       "    <tr>\n",
       "      <th>3</th>\n",
       "      <td>4</td>\n",
       "      <td>C05739550</td>\n",
       "      <td>CAIRO CONDEMNATION - FINAL</td>\n",
       "      <td>H</td>\n",
       "      <td>Mills, Cheryl D</td>\n",
       "      <td>32.0</td>\n",
       "      <td>2012-09-12T04:00:00+00:00</td>\n",
       "      <td>2015-05-22T04:00:00+00:00</td>\n",
       "      <td>DOCUMENTS/HRC_Email_1_296/HRCH2/DOC_0C05739550...</td>\n",
       "      <td>F-2015-04841</td>\n",
       "      <td>...</td>\n",
       "      <td>NaN</td>\n",
       "      <td>Mills, Cheryl D &lt;MillsCD@state.gov&gt;</td>\n",
       "      <td>Mitchell, Andrew B</td>\n",
       "      <td>Wednesday, September 12,2012 12:44 PM</td>\n",
       "      <td>F-2015-04841</td>\n",
       "      <td>C05739550</td>\n",
       "      <td>05/13/2015</td>\n",
       "      <td>RELEASE IN PART</td>\n",
       "      <td>NaN</td>\n",
       "      <td>UNCLASSIFIED\\nU.S. Department of State\\nCase N...</td>\n",
       "    </tr>\n",
       "    <tr>\n",
       "      <th>4</th>\n",
       "      <td>5</td>\n",
       "      <td>C05739554</td>\n",
       "      <td>H: LATEST: HOW SYRIA IS AIDING QADDAFI AND MOR...</td>\n",
       "      <td>Abedin, Huma</td>\n",
       "      <td>H</td>\n",
       "      <td>80.0</td>\n",
       "      <td>2011-03-11T05:00:00+00:00</td>\n",
       "      <td>2015-05-22T04:00:00+00:00</td>\n",
       "      <td>DOCUMENTS/HRC_Email_1_296/HRCH1/DOC_0C05739554...</td>\n",
       "      <td>F-2015-04841</td>\n",
       "      <td>...</td>\n",
       "      <td>NaN</td>\n",
       "      <td>NaN</td>\n",
       "      <td>NaN</td>\n",
       "      <td>NaN</td>\n",
       "      <td>F-2015-04841</td>\n",
       "      <td>C05739554</td>\n",
       "      <td>05/13/2015</td>\n",
       "      <td>RELEASE IN PART</td>\n",
       "      <td>H &lt;hrod17@clintonemail.com&gt;\\nFriday, March 11,...</td>\n",
       "      <td>B6\\nUNCLASSIFIED\\nU.S. Department of State\\nCa...</td>\n",
       "    </tr>\n",
       "  </tbody>\n",
       "</table>\n",
       "<p>5 rows × 22 columns</p>\n",
       "</div>"
      ],
      "text/plain": [
       "   Id  DocNumber                                    MetadataSubject  \\\n",
       "0   1  C05739545                                                WOW   \n",
       "1   2  C05739546  H: LATEST: HOW SYRIA IS AIDING QADDAFI AND MOR...   \n",
       "2   3  C05739547                                      CHRIS STEVENS   \n",
       "3   4  C05739550                         CAIRO CONDEMNATION - FINAL   \n",
       "4   5  C05739554  H: LATEST: HOW SYRIA IS AIDING QADDAFI AND MOR...   \n",
       "\n",
       "     MetadataTo       MetadataFrom  SenderPersonId           MetadataDateSent  \\\n",
       "0             H  Sullivan, Jacob J            87.0  2012-09-12T04:00:00+00:00   \n",
       "1             H                NaN             NaN  2011-03-03T05:00:00+00:00   \n",
       "2            ;H    Mills, Cheryl D            32.0  2012-09-12T04:00:00+00:00   \n",
       "3             H    Mills, Cheryl D            32.0  2012-09-12T04:00:00+00:00   \n",
       "4  Abedin, Huma                  H            80.0  2011-03-11T05:00:00+00:00   \n",
       "\n",
       "        MetadataDateReleased  \\\n",
       "0  2015-05-22T04:00:00+00:00   \n",
       "1  2015-05-22T04:00:00+00:00   \n",
       "2  2015-05-22T04:00:00+00:00   \n",
       "3  2015-05-22T04:00:00+00:00   \n",
       "4  2015-05-22T04:00:00+00:00   \n",
       "\n",
       "                                     MetadataPdfLink MetadataCaseNumber  \\\n",
       "0  DOCUMENTS/HRC_Email_1_296/HRCH2/DOC_0C05739545...       F-2015-04841   \n",
       "1  DOCUMENTS/HRC_Email_1_296/HRCH1/DOC_0C05739546...       F-2015-04841   \n",
       "2  DOCUMENTS/HRC_Email_1_296/HRCH2/DOC_0C05739547...       F-2015-04841   \n",
       "3  DOCUMENTS/HRC_Email_1_296/HRCH2/DOC_0C05739550...       F-2015-04841   \n",
       "4  DOCUMENTS/HRC_Email_1_296/HRCH1/DOC_0C05739554...       F-2015-04841   \n",
       "\n",
       "                         ...                         ExtractedTo  \\\n",
       "0                        ...                                 NaN   \n",
       "1                        ...                                 NaN   \n",
       "2                        ...                                  B6   \n",
       "3                        ...                                 NaN   \n",
       "4                        ...                                 NaN   \n",
       "\n",
       "                              ExtractedFrom         ExtractedCc  \\\n",
       "0  Sullivan, Jacob J <Sullivan11@state.gov>                 NaN   \n",
       "1                                       NaN                 NaN   \n",
       "2       Mills, Cheryl D <MillsCD@state.gov>        Abedin, Huma   \n",
       "3       Mills, Cheryl D <MillsCD@state.gov>  Mitchell, Andrew B   \n",
       "4                                       NaN                 NaN   \n",
       "\n",
       "                        ExtractedDateSent ExtractedCaseNumber  \\\n",
       "0  Wednesday, September 12, 2012 10:16 AM        F-2015-04841   \n",
       "1                                     NaN        F-2015-04841   \n",
       "2  Wednesday, September 12, 2012 11:52 AM        F-2015-04841   \n",
       "3   Wednesday, September 12,2012 12:44 PM        F-2015-04841   \n",
       "4                                     NaN        F-2015-04841   \n",
       "\n",
       "  ExtractedDocNumber ExtractedDateReleased ExtractedReleaseInPartOrFull  \\\n",
       "0          C05739545            05/13/2015              RELEASE IN FULL   \n",
       "1          C05739546            05/13/2015              RELEASE IN PART   \n",
       "2          C05739547            05/14/2015              RELEASE IN PART   \n",
       "3          C05739550            05/13/2015              RELEASE IN PART   \n",
       "4          C05739554            05/13/2015              RELEASE IN PART   \n",
       "\n",
       "                                   ExtractedBodyText  \\\n",
       "0                                                NaN   \n",
       "1  B6\\nThursday, March 3, 2011 9:45 PM\\nH: Latest...   \n",
       "2                                                Thx   \n",
       "3                                                NaN   \n",
       "4  H <hrod17@clintonemail.com>\\nFriday, March 11,...   \n",
       "\n",
       "                                             RawText  \n",
       "0  UNCLASSIFIED\\nU.S. Department of State\\nCase N...  \n",
       "1  UNCLASSIFIED\\nU.S. Department of State\\nCase N...  \n",
       "2  UNCLASSIFIED\\nU.S. Department of State\\nCase N...  \n",
       "3  UNCLASSIFIED\\nU.S. Department of State\\nCase N...  \n",
       "4  B6\\nUNCLASSIFIED\\nU.S. Department of State\\nCa...  \n",
       "\n",
       "[5 rows x 22 columns]"
      ]
     },
     "execution_count": 2,
     "metadata": {},
     "output_type": "execute_result"
    }
   ],
   "source": [
    "path = 'hillary-clinton-emails/'\n",
    "emails = pd.read_csv(path + \"Emails.csv\")\n",
    "emails.head()"
   ]
  },
  {
   "cell_type": "markdown",
   "metadata": {},
   "source": [
    "First, we verify if we can we use the Id as an index."
   ]
  },
  {
   "cell_type": "code",
   "execution_count": 3,
   "metadata": {
    "collapsed": false
   },
   "outputs": [
    {
     "data": {
      "text/plain": [
       "False    7945\n",
       "Name: Id, dtype: int64"
      ]
     },
     "execution_count": 3,
     "metadata": {},
     "output_type": "execute_result"
    }
   ],
   "source": [
    "emails[\"Id\"].duplicated().value_counts()"
   ]
  },
  {
   "cell_type": "markdown",
   "metadata": {},
   "source": [
    "\n",
    "\n",
    "\n",
    "It seems that we are provided with either the raw text file or an \"attempt at extracting the body\" of the message. We compare them on one instance to understand them better."
   ]
  },
  {
   "cell_type": "code",
   "execution_count": 4,
   "metadata": {
    "collapsed": false
   },
   "outputs": [
    {
     "name": "stdout",
     "output_type": "stream",
     "text": [
      "UNCLASSIFIED\n",
      "U.S. Department of State\n",
      "Case No. F-2015-04841\n",
      "Doc No. C05739546\n",
      "Date: 05/13/2015\n",
      "STATE DEPT. - PRODUCED TO HOUSE SELECT BENGHAZI COMM.\n",
      "SUBJECT TO AGREEMENT ON SENSITIVE INFORMATION & REDACTIONS. NO FOIA WAIVER.\n",
      "RELEASE IN\n",
      "PART B6\n",
      "From:\n",
      "Sent:\n",
      "To:\n",
      "Subject:\n",
      "Attachments:\n",
      "B6\n",
      "Thursday, March 3, 2011 9:45 PM\n",
      "H: Latest How Syria is aiding Qaddafi and more... Sid\n",
      "hrc memo syria aiding libya 030311.docx; hrc memo syria aiding libya 030311.docx\n",
      "CONFIDENTIAL\n",
      "March 3, 2011\n",
      "For: Hillary\n",
      "From: Sid\n",
      "Re: Syria aiding Qaddafi\n",
      "This memo has two parts. Part one is the report that Syria is providing air support for Qaddafi. Part two is a note\n",
      "to Cody from Lord David Owen, former UK foreign secretary on his views of an increasingly complex crisis. It\n",
      "seems that the situation is developing into a protracted civil war with various nations backing opposing sides\n",
      "with unforeseen consequences. Under these circumstances the crucial challenge is to deprive Qaddafi of his\n",
      "strategic depth—his support both financial and military.\n",
      "I. Report\n",
      "During the afternoon of March 3, advisers to Muammar Qaddafi stated privately that the Libyan\n",
      "Leader has decided that civil war is inevitable, pitting troops and mercenary troops loyal to him\n",
      "against the rebel forces gathering around Benghazi. Qaddafi is convinced that these rebels are\n",
      "being supported by the United States, Western Europe and Israel. On March 2 Qaddafi told his\n",
      "son Saif al-Islam that he believes the intelligence services of the United States, Great Britain,\n",
      "Egypt, and France have deployed paramilitary officers to Benghazi to assist in organizing,\n",
      "training, and equipping opposition forces. Qaddafi is convinced that the National Libyan Council\n",
      "(NLC), and its leader, former Minister of Justice Mustafa Mohamed Abdel Galil have been\n",
      "chosen by the foreign powers to replace him. On March 1 advisors to Qaddafi stated that\n",
      "UNCLASSIFIED\n",
      "U.S. Department of State\n",
      "Case No. F-2015-04841\n",
      "Doc No. C05739546\n",
      "Date: 05/13/2015\n",
      "STATE DEPT. - PRODUCED TO HOUSE SELECT BENGHAZI COMM.\n",
      "SUBJECT TO AGREEMENT ON SENSITIVE INFORMATION & REDACTIONS. NO FOIA WAIVER. STATE-SCB0045000\n",
      "\f",
      "UNCLASSIFIED\n",
      "U.S. Department of State\n",
      "Case No. F-2015-04841\n",
      "Doc No. C05739546\n",
      "Date: 05/13/2015\n",
      "STATE DEPT. - PRODUCED TO HOUSE SELECT BENGHAZI COMM.\n",
      "SUBJECT TO AGREEMENT ON SENSITIVE INFORMATION & REDACTIONS. NO FOIA WAIVER.\n",
      "Qaddafi's cousin, Col. Ali Qaddafiddam had failed in efforts to recruit fighters among the\n",
      "Egyptian population living immediately across the border with Libya.\n",
      "These individuals added that during the week of February 21 the Libyan Leader spoke to Syrian\n",
      "President Bashir al-Assad on at least three occasions by secure telephone lines. During the\n",
      "conversations Qaddafi asked that Syrian officers and technicians currently training the Libyan\n",
      "Air Force be placed under command of the Libyan Army and allowed to fight against the rebel\n",
      "forces.\n",
      "(Source Comment: Senior Libyan Army officers still loyal to Qaddafi added that On February\n",
      "23, President Assad told General Isam Hallaq, the commander in chief of the Syrian Air Force,\n",
      "to instruct the pilots and technicians in Tripoli to help the Libyan regime, should full scale Civil\n",
      "War breaks out in the immediate future.)\n",
      "On March 2, a military officer with ties to Qaddfi's son Khamis stated privately that the number\n",
      "of Libyan pilots defecting to the opposition has destroyed the morale and professional spirit of\n",
      "the Libyan Air Force at this critical moment, when Tripoli's air superiority is its principal weapon\n",
      "against insurgents. In the opinion of this individual Qaddafi and his senior military advisors are\n",
      "convinced that the European Union and the U.S will impose a no-fly zone over Libya in the\n",
      "immediate future. These advisors believe that the no fly zone will serve as air support for\n",
      "opposition forces. They are also prepared for the Western allies to bomb anti-aircraft facilities in\n",
      "and around Tripoli in preparation for the establishment of the no-fly zone. Foreign Minister\n",
      "Mousa Kousa is convinced that that Russia and Turkey will oppose the move, and may prevent\n",
      "the implementation of the no fly zone.\n",
      "The Syrian soldiers in Libya are part of a mission established in 1984 following the signing of a\n",
      "military agreement between Qaddafi and Syria's long-time ruler and Bashir's father, Hafez al-\n",
      "Assad, in the presence of General Soubhi Haddad, who was the commander in chief of the Air\n",
      "Force at the time. Both Air Forces are equipped with Russian materiel and have had long-\n",
      "standing, close links with Moscow.\n",
      "Note from David Owen, former UK foreign secretary\n",
      "UNCLASSIFIED\n",
      "U.S. Department of State\n",
      "Case No. F-2015-04841\n",
      "Doc No. C05739546\n",
      "Date: 05/13/2015\n",
      "STATE DEPT. - PRODUCED TO HOUSE SELECT BENGHAZI COMM.\n",
      "SUBJECT TO AGREEMENT ON SENSITIVE INFORMATION & REDACTIONS. NO FOIA WAIVER. STATE-SCB0045001\n",
      "\f",
      "UNCLASSIFIED\n",
      "U.S. Department of State\n",
      "Case No. F-2015-04841\n",
      "Doc No. C05739546\n",
      "Date: 05/13/2015\n",
      "STATE DEPT. - PRODUCED TO HOUSE SELECT BENGHAZI COMM.\n",
      "SUBJECT TO AGREEMENT ON SENSITIVE INFORMATION & REDACTIONS. NO FOIA WAIVER.\n",
      "In exchange for Syria's help, Libya provided financial support to the Syrian state, including funds\n",
      "in support of operations carried out by the Syrian intelligence services in Lebanon. Libyan money\n",
      "helped Hafez al-Assad bribe his brother Rifaat, the author of an attempted coup d'etat in 1983,\n",
      "to leave the country and go into exile in Spain and France, where he has remained ever since.\n",
      "According to individuals with access to the Syrian military, Damascus has also sent a second\n",
      "team of pilots and technicians to Tripoli. These are lower-ranking officers loyal to the regime\n",
      "who are specialized in flying helicopters. Before their departure for Tripoli on February 23, they\n",
      "met with General Allaq and General Jamil Hasan, head of Air Force's Intelligence.\n",
      "(Source Comment: During the afternoon of 3 March, an associate of Saif al-Islam Qaddafi\n",
      "stated that he and the Libyan leaders other family members were concerned over the\n",
      "announcement of Jose Luis Moreno-Ocampo, chief prosecutor of the International Criminal\n",
      "Court (ICC), announced that he was investigating Qaddafi, his sons Khamis, the commander of\n",
      "the 32 battalion, and Montasem, as well as the head of Gadhafi's personal security detail, the\n",
      "Director-General of the External Security Organization (Abuzaid Dorda), the spokesman of the\n",
      "regime (Musa Ibrahim), and the Minister of Foreign Affairs (Mousa Kousa). This source added\n",
      "that Saif al-Islam had said that Qaddafi himself found the announcement amusing.)\n",
      "From: Lord Owen\n",
      "Cody,\n",
      "Realistically the UN will not authorise a no fly zone while Gaddafi continues to hold off bombing and\n",
      "strafing but keeping it up front and on the military agenda keeps him worried. Yet for a few frustrating months\n",
      "that ambivalence kept the Serbian aeroplanes on the ground before we acted. My hope is that preparations\n",
      "continue with visuals of planes flying off carriers, airborne early warning planes flying and people with clout\n",
      "outside the Administration demanding preparations. But and it is a big BUT what else can and should we be\n",
      "doing? Encourage humanitarian ships and convoys from Egypt to bring in supplies since we must ensure the\n",
      "cities in the East can hold up living standards, maybe for months. More adventurous, Egyptian Special Forces to\n",
      "go in and advise, even supplying hand held missiles. It appears they have few missiles; the military in the East\n",
      "having been deliberately kept ill-equipped. There is old Nasserite sentiment for a Federation of Egypt, Sudan\n",
      "and Libya. I know some will say Egypt has enough problems and they should stay resolutely focused on\n",
      "domestic reforms. it is delicate but words alone and the balance of advantage will slip to Gaddafi. A Gaddafi\n",
      "victory is possible and needs to be weighed in the balance now when deciding what to do.\n",
      "I'm more worried than I am ready to say publicly.\n",
      "Yours\n",
      "David\n",
      "UNCLASSIFIED\n",
      "U.S. Department of State\n",
      "Case No. F-2015-04841\n",
      "Doc No. C05739546\n",
      "Date: 05/13/2015\n",
      "STATE DEPT. - PRODUCED TO HOUSE SELECT BENGHAZI COMM.\n",
      "SUBJECT TO AGREEMENT ON SENSITIVE INFORMATION & REDACTIONS. NO FOIA WAIVER. STATE-SCB0045002\n",
      "\f",
      "\n"
     ]
    }
   ],
   "source": [
    "print(emails.head()[\"RawText\"][1])"
   ]
  },
  {
   "cell_type": "code",
   "execution_count": 5,
   "metadata": {
    "collapsed": false
   },
   "outputs": [
    {
     "name": "stdout",
     "output_type": "stream",
     "text": [
      "B6\n",
      "Thursday, March 3, 2011 9:45 PM\n",
      "H: Latest How Syria is aiding Qaddafi and more... Sid\n",
      "hrc memo syria aiding libya 030311.docx; hrc memo syria aiding libya 030311.docx\n",
      "March 3, 2011\n",
      "For: Hillary\n"
     ]
    }
   ],
   "source": [
    "print(emails.head()[\"ExtractedBodyText\"][1])"
   ]
  },
  {
   "cell_type": "markdown",
   "metadata": {},
   "source": [
    "I hate rapid conclusion but it feels as if the Extracted Body Text feature won't get us far. We thus create a new data frame to process."
   ]
  },
  {
   "cell_type": "code",
   "execution_count": 98,
   "metadata": {
    "collapsed": false
   },
   "outputs": [
    {
     "data": {
      "text/plain": [
       "0                                                  NaN\n",
       "1    B6\\nThursday, March 3, 2011 9:45 PM\\nH: Latest...\n",
       "2                                                  Thx\n",
       "3                                                  NaN\n",
       "4    H <hrod17@clintonemail.com>\\nFriday, March 11,...\n",
       "Name: ExtractedBodyText, dtype: object"
      ]
     },
     "execution_count": 98,
     "metadata": {},
     "output_type": "execute_result"
    }
   ],
   "source": [
    "#emails_rawtext = emails[\"RawText\"]\n",
    "emails_rawtext = emails[\"ExtractedBodyText\"]\n",
    "emails_rawtext.head()"
   ]
  },
  {
   "cell_type": "markdown",
   "metadata": {},
   "source": [
    "We finally extract the corpus"
   ]
  },
  {
   "cell_type": "code",
   "execution_count": null,
   "metadata": {
    "collapsed": false
   },
   "outputs": [],
   "source": []
  },
  {
   "cell_type": "code",
   "execution_count": 99,
   "metadata": {
    "collapsed": false
   },
   "outputs": [],
   "source": [
    "corpus = emails_rawtext.str.cat(sep=\" \")\n",
    "with open(\"corpus.txt\", \"w\") as text_file:\n",
    "    print(corpus, file=text_file)"
   ]
  },
  {
   "cell_type": "markdown",
   "metadata": {},
   "source": [
    "### 1.2) Initial wordcloud"
   ]
  },
  {
   "cell_type": "code",
   "execution_count": null,
   "metadata": {
    "collapsed": false
   },
   "outputs": [],
   "source": []
  },
  {
   "cell_type": "code",
   "execution_count": 100,
   "metadata": {
    "collapsed": false
   },
   "outputs": [
    {
     "data": {
      "text/plain": [
       "<matplotlib.image.AxesImage at 0x7f9ddb60f940>"
      ]
     },
     "execution_count": 100,
     "metadata": {},
     "output_type": "execute_result"
    },
    {
     "data": {
      "image/png": "[encoded data removed]",
      "text/plain": [
       "<matplotlib.figure.Figure at 0x7f9ddb66d748>"
      ]
     },
     "metadata": {},
     "output_type": "display_data"
    }
   ],
   "source": [
    "text = corpus\n",
    "mask = np.array(Image.open(\"trumpmask.jpg\"))\n",
    "wordcloud = WordCloud(background_color=\"white\", mask=mask).generate(text)\n",
    "plt.imshow(wordcloud)"
   ]
  },
  {
   "cell_type": "code",
   "execution_count": null,
   "metadata": {
    "collapsed": false
   },
   "outputs": [],
   "source": []
  },
  {
   "cell_type": "markdown",
   "metadata": {},
   "source": [
    "It appears a lot of the most frequently appearing words are administrative, not human-written ones. \n",
    "\n",
    "### 1.3) Data processing\n",
    "\n",
    "To start with data exploration, we want to verify wether the most appearing previous words are indeed automatically generated. The words Department and Date seem to appear quite frequently for instance."
   ]
  },
  {
   "cell_type": "code",
   "execution_count": 121,
   "metadata": {
    "collapsed": false
   },
   "outputs": [
    {
     "data": {
      "image/png": "[encoded data removed]",
      "text/plain": [
       "<matplotlib.figure.Figure at 0x7f9ddb619898>"
      ]
     },
     "metadata": {},
     "output_type": "display_data"
    }
   ],
   "source": [
    "from nltk.tokenize import RegexpTokenizer\n",
    "tokenizer = RegexpTokenizer(r'\\w+')\n",
    "\n",
    "f=open('corpus.txt')    \n",
    "raw = f.read()      \n",
    "f.close()\n",
    "#tokens = nltk.word_tokenize(raw)   \n",
    "tokens = tokenizer.tokenize(raw)\n",
    "text = nltk.Text(tokens)      \n",
    "\n",
    "text.dispersion_plot([\"Department\", \"Date\"])"
   ]
  },
  {
   "cell_type": "markdown",
   "metadata": {},
   "source": [
    "They are words that appear in each email, thus chances are that they are auto generated. "
   ]
  },
  {
   "cell_type": "code",
   "execution_count": 102,
   "metadata": {
    "collapsed": false
   },
   "outputs": [
    {
     "name": "stdout",
     "output_type": "stream",
     "text": [
      "626330\n"
     ]
    },
    {
     "data": {
      "text/plain": [
       "['b6', 'thursday', 'march', '3', '2011']"
      ]
     },
     "execution_count": 102,
     "metadata": {},
     "output_type": "execute_result"
    }
   ],
   "source": [
    "words = [w.lower() for w in tokens]\n",
    "print(len(words))\n",
    "words[0:5]\n"
   ]
  },
  {
   "cell_type": "code",
   "execution_count": 103,
   "metadata": {
    "collapsed": false
   },
   "outputs": [
    {
     "name": "stdout",
     "output_type": "stream",
     "text": [
      "28824\n"
     ]
    },
    {
     "data": {
      "text/plain": [
       "['0',\n",
       " '00',\n",
       " '000',\n",
       " '00000000000000',\n",
       " '00000e2511c8',\n",
       " '0008',\n",
       " '000inci',\n",
       " '000th',\n",
       " '001',\n",
       " '00144feabdc0',\n",
       " '002',\n",
       " '004',\n",
       " '005',\n",
       " '006',\n",
       " '007',\n",
       " '008',\n",
       " '0081',\n",
       " '009',\n",
       " '00am',\n",
       " '00hrs']"
      ]
     },
     "execution_count": 103,
     "metadata": {},
     "output_type": "execute_result"
    }
   ],
   "source": [
    "vocab0 = sorted(set(words))\n",
    "print(len(vocab0))\n",
    "vocab0[0:20]"
   ]
  },
  {
   "cell_type": "markdown",
   "metadata": {},
   "source": [
    "We see a lot of digits we want to get rid of."
   ]
  },
  {
   "cell_type": "code",
   "execution_count": 104,
   "metadata": {
    "collapsed": false
   },
   "outputs": [
    {
     "name": "stdout",
     "output_type": "stream",
     "text": [
      "27508\n"
     ]
    },
    {
     "data": {
      "text/plain": [
       "['ec',\n",
       " 'inci',\n",
       " 'th',\n",
       " 'feabdc',\n",
       " 'am',\n",
       " 'hrs',\n",
       " 'n',\n",
       " 'o',\n",
       " 'pm',\n",
       " 'anta',\n",
       " '_attorney_general_andrew_cuomo_subpoenas_contracts_won_by_clients_offirm_tied_to',\n",
       " 'g',\n",
       " 'l',\n",
       " 'fregion',\n",
       " 'c',\n",
       " 'd',\n",
       " 'iht',\n",
       " 'am',\n",
       " 'pm',\n",
       " '_arab_opinion_poll_telhami']"
      ]
     },
     "execution_count": 104,
     "metadata": {},
     "output_type": "execute_result"
    }
   ],
   "source": [
    "import re\n",
    "digits = re.compile(r'[-.?!,\":;()|0-9]')\n",
    "vocab1 = [digits.sub(\"\", word) for word in vocab0]   \n",
    "vocab1 = list(filter(None, vocab1)) # remove empty strings\n",
    "print(len(vocab1))\n",
    "vocab1[0:20]"
   ]
  },
  {
   "cell_type": "markdown",
   "metadata": {},
   "source": [
    "We see some instances have the underscore as a separator."
   ]
  },
  {
   "cell_type": "code",
   "execution_count": 105,
   "metadata": {
    "collapsed": false
   },
   "outputs": [
    {
     "name": "stdout",
     "output_type": "stream",
     "text": [
      "27741\n"
     ]
    },
    {
     "data": {
      "text/plain": [
       "['ec',\n",
       " 'inci',\n",
       " 'th',\n",
       " 'feabdc',\n",
       " 'am',\n",
       " 'hrs',\n",
       " 'n',\n",
       " 'o',\n",
       " 'pm',\n",
       " 'anta',\n",
       " '',\n",
       " 'attorney',\n",
       " 'general',\n",
       " 'andrew',\n",
       " 'cuomo',\n",
       " 'subpoenas',\n",
       " 'contracts',\n",
       " 'won',\n",
       " 'by',\n",
       " 'clients']"
      ]
     },
     "execution_count": 105,
     "metadata": {},
     "output_type": "execute_result"
    }
   ],
   "source": [
    "vocab2 = []\n",
    "for i in vocab1:\n",
    "    vocab2.extend(i.split('_'))\n",
    "print(len(vocab2))\n",
    "vocab2[0:20]"
   ]
  },
  {
   "cell_type": "markdown",
   "metadata": {
    "collapsed": false
   },
   "source": [
    "We see that the vocabulary has many instances we're not particularily interested in. The goal now is to clean this vocabulary. To start, we'll use ntlk's built-in stop word removal."
   ]
  },
  {
   "cell_type": "code",
   "execution_count": 106,
   "metadata": {
    "collapsed": false
   },
   "outputs": [
    {
     "name": "stdout",
     "output_type": "stream",
     "text": [
      "27406\n"
     ]
    },
    {
     "data": {
      "text/plain": [
       "['ec',\n",
       " 'inci',\n",
       " 'th',\n",
       " 'feabdc',\n",
       " 'hrs',\n",
       " 'n',\n",
       " 'pm',\n",
       " 'anta',\n",
       " '',\n",
       " 'attorney',\n",
       " 'general',\n",
       " 'andrew',\n",
       " 'cuomo',\n",
       " 'subpoenas',\n",
       " 'contracts',\n",
       " 'clients',\n",
       " 'offirm',\n",
       " 'tied',\n",
       " 'g',\n",
       " 'l']"
      ]
     },
     "execution_count": 106,
     "metadata": {},
     "output_type": "execute_result"
    }
   ],
   "source": [
    "from nltk.corpus import stopwords\n",
    "vocab3 = [i for i in vocab2 if i not in stopwords.words('english')]\n",
    "print(len(vocab3))\n",
    "vocab3[0:20]"
   ]
  },
  {
   "cell_type": "markdown",
   "metadata": {},
   "source": [
    " Then, we stem the vocabulary, that is we merge for instance \"cat\" and \"cats\" into cat."
   ]
  },
  {
   "cell_type": "code",
   "execution_count": 107,
   "metadata": {
    "collapsed": false
   },
   "outputs": [
    {
     "name": "stdout",
     "output_type": "stream",
     "text": [
      "27406\n"
     ]
    },
    {
     "data": {
      "text/plain": [
       "['ec',\n",
       " 'inc',\n",
       " 'th',\n",
       " 'feabdc',\n",
       " 'hrs',\n",
       " 'n',\n",
       " 'pm',\n",
       " 'ant',\n",
       " '',\n",
       " 'attorney',\n",
       " 'gen',\n",
       " 'andrew',\n",
       " 'cuomo',\n",
       " 'subpoena',\n",
       " 'contract',\n",
       " 'cli',\n",
       " 'offirm',\n",
       " 'tied',\n",
       " 'g',\n",
       " 'l']"
      ]
     },
     "execution_count": 107,
     "metadata": {},
     "output_type": "execute_result"
    }
   ],
   "source": [
    "from nltk.stem import LancasterStemmer\n",
    "st = LancasterStemmer()\n",
    "vocab4 = [st.stem(i) for i in vocab3]\n",
    "print(len(vocab4))\n",
    "vocab4[0:20]"
   ]
  },
  {
   "cell_type": "markdown",
   "metadata": {
    "collapsed": true
   },
   "source": [
    "### 1.4) Processed wordcloud"
   ]
  },
  {
   "cell_type": "code",
   "execution_count": 113,
   "metadata": {
    "collapsed": false
   },
   "outputs": [
    {
     "data": {
      "text/plain": [
       "<matplotlib.image.AxesImage at 0x7f9dd2bb0390>"
      ]
     },
     "execution_count": 113,
     "metadata": {},
     "output_type": "execute_result"
    },
    {
     "data": {
      "image/png": "[encoded data removed]",
      "text/plain": [
       "<matplotlib.figure.Figure at 0x7f9dea5f16d8>"
      ]
     },
     "metadata": {},
     "output_type": "display_data"
    }
   ],
   "source": [
    "clean_corpus  = [word for word in corpus.split() if word.lower() not in vocab4]\n",
    "text = ' '.join(clean_corpus)\n",
    "\n"
   ]
  },
  {
   "cell_type": "code",
   "execution_count": 116,
   "metadata": {
    "collapsed": false
   },
   "outputs": [
    {
     "data": {
      "text/plain": [
       "<matplotlib.image.AxesImage at 0x7f9dd3236d30>"
      ]
     },
     "execution_count": 116,
     "metadata": {},
     "output_type": "execute_result"
    },
    {
     "data": {
      "image/png": "[encoded data removed]",
      "text/plain": [
       "<matplotlib.figure.Figure at 0x7f9dd2f856d8>"
      ]
     },
     "metadata": {},
     "output_type": "display_data"
    }
   ],
   "source": [
    "mask = np.array(Image.open(\"trumpmask.jpg\"))\n",
    "wordcloud = WordCloud(background_color=\"white\", mask=mask).generate(text)\n",
    "plt.imshow(wordcloud)"
   ]
  },
  {
   "cell_type": "markdown",
   "metadata": {
    "collapsed": true
   },
   "source": [
    "## 2) Mentions of countries"
   ]
  },
  {
   "cell_type": "code",
   "execution_count": 122,
   "metadata": {
    "collapsed": false
   },
   "outputs": [],
   "source": [
    "import pycountry\n",
    "f=open('corpus.txt')    \n",
    "raw = f.read() \n",
    "f.close()"
   ]
  },
  {
   "cell_type": "code",
   "execution_count": 136,
   "metadata": {
    "collapsed": false
   },
   "outputs": [
    {
     "data": {
      "text/plain": [
       "[Country(alpha_2='AW', alpha_3='ABW', name='Aruba', numeric='533'),\n",
       " Country(alpha_2='AF', alpha_3='AFG', name='Afghanistan', numeric='004', official_name='Islamic Republic of Afghanistan'),\n",
       " Country(alpha_2='AO', alpha_3='AGO', name='Angola', numeric='024', official_name='Republic of Angola'),\n",
       " Country(alpha_2='AI', alpha_3='AIA', name='Anguilla', numeric='660'),\n",
       " Country(alpha_2='AX', alpha_3='ALA', name='Åland Islands', numeric='248'),\n",
       " Country(alpha_2='AL', alpha_3='ALB', name='Albania', numeric='008', official_name='Republic of Albania'),\n",
       " Country(alpha_2='AD', alpha_3='AND', name='Andorra', numeric='020', official_name='Principality of Andorra'),\n",
       " Country(alpha_2='AE', alpha_3='ARE', name='United Arab Emirates', numeric='784'),\n",
       " Country(alpha_2='AR', alpha_3='ARG', name='Argentina', numeric='032', official_name='Argentine Republic'),\n",
       " Country(alpha_2='AM', alpha_3='ARM', name='Armenia', numeric='051', official_name='Republic of Armenia'),\n",
       " Country(alpha_2='AS', alpha_3='ASM', name='American Samoa', numeric='016'),\n",
       " Country(alpha_2='AQ', alpha_3='ATA', name='Antarctica', numeric='010'),\n",
       " Country(alpha_2='TF', alpha_3='ATF', name='French Southern Territories', numeric='260'),\n",
       " Country(alpha_2='AG', alpha_3='ATG', name='Antigua and Barbuda', numeric='028'),\n",
       " Country(alpha_2='AU', alpha_3='AUS', name='Australia', numeric='036'),\n",
       " Country(alpha_2='AT', alpha_3='AUT', name='Austria', numeric='040', official_name='Republic of Austria'),\n",
       " Country(alpha_2='AZ', alpha_3='AZE', name='Azerbaijan', numeric='031', official_name='Republic of Azerbaijan'),\n",
       " Country(alpha_2='BI', alpha_3='BDI', name='Burundi', numeric='108', official_name='Republic of Burundi'),\n",
       " Country(alpha_2='BE', alpha_3='BEL', name='Belgium', numeric='056', official_name='Kingdom of Belgium'),\n",
       " Country(alpha_2='BJ', alpha_3='BEN', name='Benin', numeric='204', official_name='Republic of Benin'),\n",
       " Country(alpha_2='BQ', alpha_3='BES', name='Bonaire, Sint Eustatius and Saba', numeric='535', official_name='Bonaire, Sint Eustatius and Saba'),\n",
       " Country(alpha_2='BF', alpha_3='BFA', name='Burkina Faso', numeric='854'),\n",
       " Country(alpha_2='BD', alpha_3='BGD', name='Bangladesh', numeric='050', official_name=\"People's Republic of Bangladesh\"),\n",
       " Country(alpha_2='BG', alpha_3='BGR', name='Bulgaria', numeric='100', official_name='Republic of Bulgaria'),\n",
       " Country(alpha_2='BH', alpha_3='BHR', name='Bahrain', numeric='048', official_name='Kingdom of Bahrain'),\n",
       " Country(alpha_2='BS', alpha_3='BHS', name='Bahamas', numeric='044', official_name='Commonwealth of the Bahamas'),\n",
       " Country(alpha_2='BA', alpha_3='BIH', name='Bosnia and Herzegovina', numeric='070', official_name='Republic of Bosnia and Herzegovina'),\n",
       " Country(alpha_2='BL', alpha_3='BLM', name='Saint Barthélemy', numeric='652'),\n",
       " Country(alpha_2='BY', alpha_3='BLR', name='Belarus', numeric='112', official_name='Republic of Belarus'),\n",
       " Country(alpha_2='BZ', alpha_3='BLZ', name='Belize', numeric='084'),\n",
       " Country(alpha_2='BM', alpha_3='BMU', name='Bermuda', numeric='060'),\n",
       " Country(alpha_2='BO', alpha_3='BOL', common_name='Bolivia', name='Bolivia, Plurinational State of', numeric='068', official_name='Plurinational State of Bolivia'),\n",
       " Country(alpha_2='BR', alpha_3='BRA', name='Brazil', numeric='076', official_name='Federative Republic of Brazil'),\n",
       " Country(alpha_2='BB', alpha_3='BRB', name='Barbados', numeric='052'),\n",
       " Country(alpha_2='BN', alpha_3='BRN', name='Brunei Darussalam', numeric='096'),\n",
       " Country(alpha_2='BT', alpha_3='BTN', name='Bhutan', numeric='064', official_name='Kingdom of Bhutan'),\n",
       " Country(alpha_2='BV', alpha_3='BVT', name='Bouvet Island', numeric='074'),\n",
       " Country(alpha_2='BW', alpha_3='BWA', name='Botswana', numeric='072', official_name='Republic of Botswana'),\n",
       " Country(alpha_2='CF', alpha_3='CAF', name='Central African Republic', numeric='140'),\n",
       " Country(alpha_2='CA', alpha_3='CAN', name='Canada', numeric='124'),\n",
       " Country(alpha_2='CC', alpha_3='CCK', name='Cocos (Keeling) Islands', numeric='166'),\n",
       " Country(alpha_2='CH', alpha_3='CHE', name='Switzerland', numeric='756', official_name='Swiss Confederation'),\n",
       " Country(alpha_2='CL', alpha_3='CHL', name='Chile', numeric='152', official_name='Republic of Chile'),\n",
       " Country(alpha_2='CN', alpha_3='CHN', name='China', numeric='156', official_name=\"People's Republic of China\"),\n",
       " Country(alpha_2='CI', alpha_3='CIV', name=\"Côte d'Ivoire\", numeric='384', official_name=\"Republic of Côte d'Ivoire\"),\n",
       " Country(alpha_2='CM', alpha_3='CMR', name='Cameroon', numeric='120', official_name='Republic of Cameroon'),\n",
       " Country(alpha_2='CD', alpha_3='COD', name='Congo, The Democratic Republic of the', numeric='180'),\n",
       " Country(alpha_2='CG', alpha_3='COG', name='Congo', numeric='178', official_name='Republic of the Congo'),\n",
       " Country(alpha_2='CK', alpha_3='COK', name='Cook Islands', numeric='184'),\n",
       " Country(alpha_2='CO', alpha_3='COL', name='Colombia', numeric='170', official_name='Republic of Colombia'),\n",
       " Country(alpha_2='KM', alpha_3='COM', name='Comoros', numeric='174', official_name='Union of the Comoros'),\n",
       " Country(alpha_2='CV', alpha_3='CPV', name='Cabo Verde', numeric='132', official_name='Republic of Cabo Verde'),\n",
       " Country(alpha_2='CR', alpha_3='CRI', name='Costa Rica', numeric='188', official_name='Republic of Costa Rica'),\n",
       " Country(alpha_2='CU', alpha_3='CUB', name='Cuba', numeric='192', official_name='Republic of Cuba'),\n",
       " Country(alpha_2='CW', alpha_3='CUW', name='Curaçao', numeric='531', official_name='Curaçao'),\n",
       " Country(alpha_2='CX', alpha_3='CXR', name='Christmas Island', numeric='162'),\n",
       " Country(alpha_2='KY', alpha_3='CYM', name='Cayman Islands', numeric='136'),\n",
       " Country(alpha_2='CY', alpha_3='CYP', name='Cyprus', numeric='196', official_name='Republic of Cyprus'),\n",
       " Country(alpha_2='CZ', alpha_3='CZE', name='Czechia', numeric='203', official_name='Czech Republic'),\n",
       " Country(alpha_2='DE', alpha_3='DEU', name='Germany', numeric='276', official_name='Federal Republic of Germany'),\n",
       " Country(alpha_2='DJ', alpha_3='DJI', name='Djibouti', numeric='262', official_name='Republic of Djibouti'),\n",
       " Country(alpha_2='DM', alpha_3='DMA', name='Dominica', numeric='212', official_name='Commonwealth of Dominica'),\n",
       " Country(alpha_2='DK', alpha_3='DNK', name='Denmark', numeric='208', official_name='Kingdom of Denmark'),\n",
       " Country(alpha_2='DO', alpha_3='DOM', name='Dominican Republic', numeric='214'),\n",
       " Country(alpha_2='DZ', alpha_3='DZA', name='Algeria', numeric='012', official_name=\"People's Democratic Republic of Algeria\"),\n",
       " Country(alpha_2='EC', alpha_3='ECU', name='Ecuador', numeric='218', official_name='Republic of Ecuador'),\n",
       " Country(alpha_2='EG', alpha_3='EGY', name='Egypt', numeric='818', official_name='Arab Republic of Egypt'),\n",
       " Country(alpha_2='ER', alpha_3='ERI', name='Eritrea', numeric='232', official_name='the State of Eritrea'),\n",
       " Country(alpha_2='EH', alpha_3='ESH', name='Western Sahara', numeric='732'),\n",
       " Country(alpha_2='ES', alpha_3='ESP', name='Spain', numeric='724', official_name='Kingdom of Spain'),\n",
       " Country(alpha_2='EE', alpha_3='EST', name='Estonia', numeric='233', official_name='Republic of Estonia'),\n",
       " Country(alpha_2='ET', alpha_3='ETH', name='Ethiopia', numeric='231', official_name='Federal Democratic Republic of Ethiopia'),\n",
       " Country(alpha_2='FI', alpha_3='FIN', name='Finland', numeric='246', official_name='Republic of Finland'),\n",
       " Country(alpha_2='FJ', alpha_3='FJI', name='Fiji', numeric='242', official_name='Republic of Fiji'),\n",
       " Country(alpha_2='FK', alpha_3='FLK', name='Falkland Islands (Malvinas)', numeric='238'),\n",
       " Country(alpha_2='FR', alpha_3='FRA', name='France', numeric='250', official_name='French Republic'),\n",
       " Country(alpha_2='FO', alpha_3='FRO', name='Faroe Islands', numeric='234'),\n",
       " Country(alpha_2='FM', alpha_3='FSM', name='Micronesia, Federated States of', numeric='583', official_name='Federated States of Micronesia'),\n",
       " Country(alpha_2='GA', alpha_3='GAB', name='Gabon', numeric='266', official_name='Gabonese Republic'),\n",
       " Country(alpha_2='GB', alpha_3='GBR', name='United Kingdom', numeric='826', official_name='United Kingdom of Great Britain and Northern Ireland'),\n",
       " Country(alpha_2='GE', alpha_3='GEO', name='Georgia', numeric='268'),\n",
       " Country(alpha_2='GG', alpha_3='GGY', name='Guernsey', numeric='831'),\n",
       " Country(alpha_2='GH', alpha_3='GHA', name='Ghana', numeric='288', official_name='Republic of Ghana'),\n",
       " Country(alpha_2='GI', alpha_3='GIB', name='Gibraltar', numeric='292'),\n",
       " Country(alpha_2='GN', alpha_3='GIN', name='Guinea', numeric='324', official_name='Republic of Guinea'),\n",
       " Country(alpha_2='GP', alpha_3='GLP', name='Guadeloupe', numeric='312'),\n",
       " Country(alpha_2='GM', alpha_3='GMB', name='Gambia', numeric='270', official_name='Islamic Republic of the Gambia'),\n",
       " Country(alpha_2='GW', alpha_3='GNB', name='Guinea-Bissau', numeric='624', official_name='Republic of Guinea-Bissau'),\n",
       " Country(alpha_2='GQ', alpha_3='GNQ', name='Equatorial Guinea', numeric='226', official_name='Republic of Equatorial Guinea'),\n",
       " Country(alpha_2='GR', alpha_3='GRC', name='Greece', numeric='300', official_name='Hellenic Republic'),\n",
       " Country(alpha_2='GD', alpha_3='GRD', name='Grenada', numeric='308'),\n",
       " Country(alpha_2='GL', alpha_3='GRL', name='Greenland', numeric='304'),\n",
       " Country(alpha_2='GT', alpha_3='GTM', name='Guatemala', numeric='320', official_name='Republic of Guatemala'),\n",
       " Country(alpha_2='GF', alpha_3='GUF', name='French Guiana', numeric='254'),\n",
       " Country(alpha_2='GU', alpha_3='GUM', name='Guam', numeric='316'),\n",
       " Country(alpha_2='GY', alpha_3='GUY', name='Guyana', numeric='328', official_name='Republic of Guyana'),\n",
       " Country(alpha_2='HK', alpha_3='HKG', name='Hong Kong', numeric='344', official_name='Hong Kong Special Administrative Region of China'),\n",
       " Country(alpha_2='HM', alpha_3='HMD', name='Heard Island and McDonald Islands', numeric='334'),\n",
       " Country(alpha_2='HN', alpha_3='HND', name='Honduras', numeric='340', official_name='Republic of Honduras'),\n",
       " Country(alpha_2='HR', alpha_3='HRV', name='Croatia', numeric='191', official_name='Republic of Croatia'),\n",
       " Country(alpha_2='HT', alpha_3='HTI', name='Haiti', numeric='332', official_name='Republic of Haiti'),\n",
       " Country(alpha_2='HU', alpha_3='HUN', name='Hungary', numeric='348', official_name='Hungary'),\n",
       " Country(alpha_2='ID', alpha_3='IDN', name='Indonesia', numeric='360', official_name='Republic of Indonesia'),\n",
       " Country(alpha_2='IM', alpha_3='IMN', name='Isle of Man', numeric='833'),\n",
       " Country(alpha_2='IN', alpha_3='IND', name='India', numeric='356', official_name='Republic of India'),\n",
       " Country(alpha_2='IO', alpha_3='IOT', name='British Indian Ocean Territory', numeric='086'),\n",
       " Country(alpha_2='IE', alpha_3='IRL', name='Ireland', numeric='372'),\n",
       " Country(alpha_2='IR', alpha_3='IRN', name='Iran, Islamic Republic of', numeric='364', official_name='Islamic Republic of Iran'),\n",
       " Country(alpha_2='IQ', alpha_3='IRQ', name='Iraq', numeric='368', official_name='Republic of Iraq'),\n",
       " Country(alpha_2='IS', alpha_3='ISL', name='Iceland', numeric='352', official_name='Republic of Iceland'),\n",
       " Country(alpha_2='IL', alpha_3='ISR', name='Israel', numeric='376', official_name='State of Israel'),\n",
       " Country(alpha_2='IT', alpha_3='ITA', name='Italy', numeric='380', official_name='Italian Republic'),\n",
       " Country(alpha_2='JM', alpha_3='JAM', name='Jamaica', numeric='388'),\n",
       " Country(alpha_2='JE', alpha_3='JEY', name='Jersey', numeric='832'),\n",
       " Country(alpha_2='JO', alpha_3='JOR', name='Jordan', numeric='400', official_name='Hashemite Kingdom of Jordan'),\n",
       " Country(alpha_2='JP', alpha_3='JPN', name='Japan', numeric='392'),\n",
       " Country(alpha_2='KZ', alpha_3='KAZ', name='Kazakhstan', numeric='398', official_name='Republic of Kazakhstan'),\n",
       " Country(alpha_2='KE', alpha_3='KEN', name='Kenya', numeric='404', official_name='Republic of Kenya'),\n",
       " Country(alpha_2='KG', alpha_3='KGZ', name='Kyrgyzstan', numeric='417', official_name='Kyrgyz Republic'),\n",
       " Country(alpha_2='KH', alpha_3='KHM', name='Cambodia', numeric='116', official_name='Kingdom of Cambodia'),\n",
       " Country(alpha_2='KI', alpha_3='KIR', name='Kiribati', numeric='296', official_name='Republic of Kiribati'),\n",
       " Country(alpha_2='KN', alpha_3='KNA', name='Saint Kitts and Nevis', numeric='659'),\n",
       " Country(alpha_2='KR', alpha_3='KOR', name='Korea, Republic of', numeric='410'),\n",
       " Country(alpha_2='KW', alpha_3='KWT', name='Kuwait', numeric='414', official_name='State of Kuwait'),\n",
       " Country(alpha_2='LA', alpha_3='LAO', name=\"Lao People's Democratic Republic\", numeric='418'),\n",
       " Country(alpha_2='LB', alpha_3='LBN', name='Lebanon', numeric='422', official_name='Lebanese Republic'),\n",
       " Country(alpha_2='LR', alpha_3='LBR', name='Liberia', numeric='430', official_name='Republic of Liberia'),\n",
       " Country(alpha_2='LY', alpha_3='LBY', name='Libya', numeric='434', official_name='Libya'),\n",
       " Country(alpha_2='LC', alpha_3='LCA', name='Saint Lucia', numeric='662'),\n",
       " Country(alpha_2='LI', alpha_3='LIE', name='Liechtenstein', numeric='438', official_name='Principality of Liechtenstein'),\n",
       " Country(alpha_2='LK', alpha_3='LKA', name='Sri Lanka', numeric='144', official_name='Democratic Socialist Republic of Sri Lanka'),\n",
       " Country(alpha_2='LS', alpha_3='LSO', name='Lesotho', numeric='426', official_name='Kingdom of Lesotho'),\n",
       " Country(alpha_2='LT', alpha_3='LTU', name='Lithuania', numeric='440', official_name='Republic of Lithuania'),\n",
       " Country(alpha_2='LU', alpha_3='LUX', name='Luxembourg', numeric='442', official_name='Grand Duchy of Luxembourg'),\n",
       " Country(alpha_2='LV', alpha_3='LVA', name='Latvia', numeric='428', official_name='Republic of Latvia'),\n",
       " Country(alpha_2='MO', alpha_3='MAC', name='Macao', numeric='446', official_name='Macao Special Administrative Region of China'),\n",
       " Country(alpha_2='MF', alpha_3='MAF', name='Saint Martin (French part)', numeric='663'),\n",
       " Country(alpha_2='MA', alpha_3='MAR', name='Morocco', numeric='504', official_name='Kingdom of Morocco'),\n",
       " Country(alpha_2='MC', alpha_3='MCO', name='Monaco', numeric='492', official_name='Principality of Monaco'),\n",
       " Country(alpha_2='MD', alpha_3='MDA', common_name='Moldova', name='Moldova, Republic of', numeric='498', official_name='Republic of Moldova'),\n",
       " Country(alpha_2='MG', alpha_3='MDG', name='Madagascar', numeric='450', official_name='Republic of Madagascar'),\n",
       " Country(alpha_2='MV', alpha_3='MDV', name='Maldives', numeric='462', official_name='Republic of Maldives'),\n",
       " Country(alpha_2='MX', alpha_3='MEX', name='Mexico', numeric='484', official_name='United Mexican States'),\n",
       " Country(alpha_2='MH', alpha_3='MHL', name='Marshall Islands', numeric='584', official_name='Republic of the Marshall Islands'),\n",
       " Country(alpha_2='MK', alpha_3='MKD', name='Macedonia, Republic of', numeric='807', official_name='The Former Yugoslav Republic of Macedonia'),\n",
       " Country(alpha_2='ML', alpha_3='MLI', name='Mali', numeric='466', official_name='Republic of Mali'),\n",
       " Country(alpha_2='MT', alpha_3='MLT', name='Malta', numeric='470', official_name='Republic of Malta'),\n",
       " Country(alpha_2='MM', alpha_3='MMR', name='Myanmar', numeric='104', official_name='Republic of Myanmar'),\n",
       " Country(alpha_2='ME', alpha_3='MNE', name='Montenegro', numeric='499', official_name='Montenegro'),\n",
       " Country(alpha_2='MN', alpha_3='MNG', name='Mongolia', numeric='496'),\n",
       " Country(alpha_2='MP', alpha_3='MNP', name='Northern Mariana Islands', numeric='580', official_name='Commonwealth of the Northern Mariana Islands'),\n",
       " Country(alpha_2='MZ', alpha_3='MOZ', name='Mozambique', numeric='508', official_name='Republic of Mozambique'),\n",
       " Country(alpha_2='MR', alpha_3='MRT', name='Mauritania', numeric='478', official_name='Islamic Republic of Mauritania'),\n",
       " Country(alpha_2='MS', alpha_3='MSR', name='Montserrat', numeric='500'),\n",
       " Country(alpha_2='MQ', alpha_3='MTQ', name='Martinique', numeric='474'),\n",
       " Country(alpha_2='MU', alpha_3='MUS', name='Mauritius', numeric='480', official_name='Republic of Mauritius'),\n",
       " Country(alpha_2='MW', alpha_3='MWI', name='Malawi', numeric='454', official_name='Republic of Malawi'),\n",
       " Country(alpha_2='MY', alpha_3='MYS', name='Malaysia', numeric='458'),\n",
       " Country(alpha_2='YT', alpha_3='MYT', name='Mayotte', numeric='175'),\n",
       " Country(alpha_2='NA', alpha_3='NAM', name='Namibia', numeric='516', official_name='Republic of Namibia'),\n",
       " Country(alpha_2='NC', alpha_3='NCL', name='New Caledonia', numeric='540'),\n",
       " Country(alpha_2='NE', alpha_3='NER', name='Niger', numeric='562', official_name='Republic of the Niger'),\n",
       " Country(alpha_2='NF', alpha_3='NFK', name='Norfolk Island', numeric='574'),\n",
       " Country(alpha_2='NG', alpha_3='NGA', name='Nigeria', numeric='566', official_name='Federal Republic of Nigeria'),\n",
       " Country(alpha_2='NI', alpha_3='NIC', name='Nicaragua', numeric='558', official_name='Republic of Nicaragua'),\n",
       " Country(alpha_2='NU', alpha_3='NIU', name='Niue', numeric='570', official_name='Niue'),\n",
       " Country(alpha_2='NL', alpha_3='NLD', name='Netherlands', numeric='528', official_name='Kingdom of the Netherlands'),\n",
       " Country(alpha_2='NO', alpha_3='NOR', name='Norway', numeric='578', official_name='Kingdom of Norway'),\n",
       " Country(alpha_2='NP', alpha_3='NPL', name='Nepal', numeric='524', official_name='Federal Democratic Republic of Nepal'),\n",
       " Country(alpha_2='NR', alpha_3='NRU', name='Nauru', numeric='520', official_name='Republic of Nauru'),\n",
       " Country(alpha_2='NZ', alpha_3='NZL', name='New Zealand', numeric='554'),\n",
       " Country(alpha_2='OM', alpha_3='OMN', name='Oman', numeric='512', official_name='Sultanate of Oman'),\n",
       " Country(alpha_2='PK', alpha_3='PAK', name='Pakistan', numeric='586', official_name='Islamic Republic of Pakistan'),\n",
       " Country(alpha_2='PA', alpha_3='PAN', name='Panama', numeric='591', official_name='Republic of Panama'),\n",
       " Country(alpha_2='PN', alpha_3='PCN', name='Pitcairn', numeric='612'),\n",
       " Country(alpha_2='PE', alpha_3='PER', name='Peru', numeric='604', official_name='Republic of Peru'),\n",
       " Country(alpha_2='PH', alpha_3='PHL', name='Philippines', numeric='608', official_name='Republic of the Philippines'),\n",
       " Country(alpha_2='PW', alpha_3='PLW', name='Palau', numeric='585', official_name='Republic of Palau'),\n",
       " Country(alpha_2='PG', alpha_3='PNG', name='Papua New Guinea', numeric='598', official_name='Independent State of Papua New Guinea'),\n",
       " Country(alpha_2='PL', alpha_3='POL', name='Poland', numeric='616', official_name='Republic of Poland'),\n",
       " Country(alpha_2='PR', alpha_3='PRI', name='Puerto Rico', numeric='630'),\n",
       " Country(alpha_2='KP', alpha_3='PRK', name=\"Korea, Democratic People's Republic of\", numeric='408', official_name=\"Democratic People's Republic of Korea\"),\n",
       " Country(alpha_2='PT', alpha_3='PRT', name='Portugal', numeric='620', official_name='Portuguese Republic'),\n",
       " Country(alpha_2='PY', alpha_3='PRY', name='Paraguay', numeric='600', official_name='Republic of Paraguay'),\n",
       " Country(alpha_2='PS', alpha_3='PSE', name='Palestine, State of', numeric='275', official_name='the State of Palestine'),\n",
       " Country(alpha_2='PF', alpha_3='PYF', name='French Polynesia', numeric='258'),\n",
       " Country(alpha_2='QA', alpha_3='QAT', name='Qatar', numeric='634', official_name='State of Qatar'),\n",
       " Country(alpha_2='RE', alpha_3='REU', name='Réunion', numeric='638'),\n",
       " Country(alpha_2='RO', alpha_3='ROU', name='Romania', numeric='642'),\n",
       " Country(alpha_2='RU', alpha_3='RUS', name='Russian Federation', numeric='643'),\n",
       " Country(alpha_2='RW', alpha_3='RWA', name='Rwanda', numeric='646', official_name='Rwandese Republic'),\n",
       " Country(alpha_2='SA', alpha_3='SAU', name='Saudi Arabia', numeric='682', official_name='Kingdom of Saudi Arabia'),\n",
       " Country(alpha_2='SD', alpha_3='SDN', name='Sudan', numeric='729', official_name='Republic of the Sudan'),\n",
       " Country(alpha_2='SN', alpha_3='SEN', name='Senegal', numeric='686', official_name='Republic of Senegal'),\n",
       " Country(alpha_2='SG', alpha_3='SGP', name='Singapore', numeric='702', official_name='Republic of Singapore'),\n",
       " Country(alpha_2='GS', alpha_3='SGS', name='South Georgia and the South Sandwich Islands', numeric='239'),\n",
       " Country(alpha_2='SH', alpha_3='SHN', name='Saint Helena, Ascension and Tristan da Cunha', numeric='654'),\n",
       " Country(alpha_2='SJ', alpha_3='SJM', name='Svalbard and Jan Mayen', numeric='744'),\n",
       " Country(alpha_2='SB', alpha_3='SLB', name='Solomon Islands', numeric='090'),\n",
       " Country(alpha_2='SL', alpha_3='SLE', name='Sierra Leone', numeric='694', official_name='Republic of Sierra Leone'),\n",
       " Country(alpha_2='SV', alpha_3='SLV', name='El Salvador', numeric='222', official_name='Republic of El Salvador'),\n",
       " Country(alpha_2='SM', alpha_3='SMR', name='San Marino', numeric='674', official_name='Republic of San Marino'),\n",
       " Country(alpha_2='SO', alpha_3='SOM', name='Somalia', numeric='706', official_name='Federal Republic of Somalia'),\n",
       " Country(alpha_2='PM', alpha_3='SPM', name='Saint Pierre and Miquelon', numeric='666'),\n",
       " Country(alpha_2='RS', alpha_3='SRB', name='Serbia', numeric='688', official_name='Republic of Serbia'),\n",
       " Country(alpha_2='SS', alpha_3='SSD', name='South Sudan', numeric='728', official_name='Republic of South Sudan'),\n",
       " Country(alpha_2='ST', alpha_3='STP', name='Sao Tome and Principe', numeric='678', official_name='Democratic Republic of Sao Tome and Principe'),\n",
       " Country(alpha_2='SR', alpha_3='SUR', name='Suriname', numeric='740', official_name='Republic of Suriname'),\n",
       " Country(alpha_2='SK', alpha_3='SVK', name='Slovakia', numeric='703', official_name='Slovak Republic'),\n",
       " Country(alpha_2='SI', alpha_3='SVN', name='Slovenia', numeric='705', official_name='Republic of Slovenia'),\n",
       " Country(alpha_2='SE', alpha_3='SWE', name='Sweden', numeric='752', official_name='Kingdom of Sweden'),\n",
       " Country(alpha_2='SZ', alpha_3='SWZ', name='Swaziland', numeric='748', official_name='Kingdom of Swaziland'),\n",
       " Country(alpha_2='SX', alpha_3='SXM', name='Sint Maarten (Dutch part)', numeric='534', official_name='Sint Maarten (Dutch part)'),\n",
       " Country(alpha_2='SC', alpha_3='SYC', name='Seychelles', numeric='690', official_name='Republic of Seychelles'),\n",
       " Country(alpha_2='SY', alpha_3='SYR', name='Syrian Arab Republic', numeric='760'),\n",
       " Country(alpha_2='TC', alpha_3='TCA', name='Turks and Caicos Islands', numeric='796'),\n",
       " Country(alpha_2='TD', alpha_3='TCD', name='Chad', numeric='148', official_name='Republic of Chad'),\n",
       " Country(alpha_2='TG', alpha_3='TGO', name='Togo', numeric='768', official_name='Togolese Republic'),\n",
       " Country(alpha_2='TH', alpha_3='THA', name='Thailand', numeric='764', official_name='Kingdom of Thailand'),\n",
       " Country(alpha_2='TJ', alpha_3='TJK', name='Tajikistan', numeric='762', official_name='Republic of Tajikistan'),\n",
       " Country(alpha_2='TK', alpha_3='TKL', name='Tokelau', numeric='772'),\n",
       " Country(alpha_2='TM', alpha_3='TKM', name='Turkmenistan', numeric='795'),\n",
       " Country(alpha_2='TL', alpha_3='TLS', name='Timor-Leste', numeric='626', official_name='Democratic Republic of Timor-Leste'),\n",
       " Country(alpha_2='TO', alpha_3='TON', name='Tonga', numeric='776', official_name='Kingdom of Tonga'),\n",
       " Country(alpha_2='TT', alpha_3='TTO', name='Trinidad and Tobago', numeric='780', official_name='Republic of Trinidad and Tobago'),\n",
       " Country(alpha_2='TN', alpha_3='TUN', name='Tunisia', numeric='788', official_name='Republic of Tunisia'),\n",
       " Country(alpha_2='TR', alpha_3='TUR', name='Turkey', numeric='792', official_name='Republic of Turkey'),\n",
       " Country(alpha_2='TV', alpha_3='TUV', name='Tuvalu', numeric='798'),\n",
       " Country(alpha_2='TW', alpha_3='TWN', common_name='Taiwan', name='Taiwan, Province of China', numeric='158', official_name='Taiwan, Province of China'),\n",
       " Country(alpha_2='TZ', alpha_3='TZA', common_name='Tanzania', name='Tanzania, United Republic of', numeric='834', official_name='United Republic of Tanzania'),\n",
       " Country(alpha_2='UG', alpha_3='UGA', name='Uganda', numeric='800', official_name='Republic of Uganda'),\n",
       " Country(alpha_2='UA', alpha_3='UKR', name='Ukraine', numeric='804'),\n",
       " Country(alpha_2='UM', alpha_3='UMI', name='United States Minor Outlying Islands', numeric='581'),\n",
       " Country(alpha_2='UY', alpha_3='URY', name='Uruguay', numeric='858', official_name='Eastern Republic of Uruguay'),\n",
       " Country(alpha_2='US', alpha_3='USA', name='United States', numeric='840', official_name='United States of America'),\n",
       " Country(alpha_2='UZ', alpha_3='UZB', name='Uzbekistan', numeric='860', official_name='Republic of Uzbekistan'),\n",
       " Country(alpha_2='VA', alpha_3='VAT', name='Holy See (Vatican City State)', numeric='336'),\n",
       " Country(alpha_2='VC', alpha_3='VCT', name='Saint Vincent and the Grenadines', numeric='670'),\n",
       " Country(alpha_2='VE', alpha_3='VEN', common_name='Venezuela', name='Venezuela, Bolivarian Republic of', numeric='862', official_name='Bolivarian Republic of Venezuela'),\n",
       " Country(alpha_2='VG', alpha_3='VGB', name='Virgin Islands, British', numeric='092', official_name='British Virgin Islands'),\n",
       " Country(alpha_2='VI', alpha_3='VIR', name='Virgin Islands, U.S.', numeric='850', official_name='Virgin Islands of the United States'),\n",
       " Country(alpha_2='VN', alpha_3='VNM', name='Viet Nam', numeric='704', official_name='Socialist Republic of Viet Nam'),\n",
       " Country(alpha_2='VU', alpha_3='VUT', name='Vanuatu', numeric='548', official_name='Republic of Vanuatu'),\n",
       " Country(alpha_2='WF', alpha_3='WLF', name='Wallis and Futuna', numeric='876'),\n",
       " Country(alpha_2='WS', alpha_3='WSM', name='Samoa', numeric='882', official_name='Independent State of Samoa'),\n",
       " Country(alpha_2='YE', alpha_3='YEM', name='Yemen', numeric='887', official_name='Republic of Yemen'),\n",
       " Country(alpha_2='ZA', alpha_3='ZAF', name='South Africa', numeric='710', official_name='Republic of South Africa'),\n",
       " Country(alpha_2='ZM', alpha_3='ZMB', name='Zambia', numeric='894', official_name='Republic of Zambia'),\n",
       " Country(alpha_2='ZW', alpha_3='ZWE', name='Zimbabwe', numeric='716', official_name='Republic of Zimbabwe')]"
      ]
     },
     "execution_count": 136,
     "metadata": {},
     "output_type": "execute_result"
    }
   ],
   "source": [
    "test = \"France is best, Switzerland  is shit CH\"\n",
    "mentions = [word for word in test if word in list(pycountry.countries)]\n",
    "mentions\n",
    "list(pycountry.countries)"
   ]
  },
  {
   "cell_type": "code",
   "execution_count": 127,
   "metadata": {
    "collapsed": false
   },
   "outputs": [
    {
     "data": {
      "text/plain": [
       "[]"
      ]
     },
     "execution_count": 127,
     "metadata": {},
     "output_type": "execute_result"
    }
   ],
   "source": []
  },
  {
   "cell_type": "code",
   "execution_count": null,
   "metadata": {
    "collapsed": true
   },
   "outputs": [],
   "source": []
  }
 ],
 "metadata": {
  "anaconda-cloud": {},
  "kernelspec": {
   "display_name": "Python [Root]",
   "language": "python",
   "name": "Python [Root]"
  },
  "language_info": {
   "codemirror_mode": {
    "name": "ipython",
    "version": 3
   },
   "file_extension": ".py",
   "mimetype": "text/x-python",
   "name": "python",
   "nbconvert_exporter": "python",
   "pygments_lexer": "ipython3",
   "version": "3.5.2"
  }
 },
 "nbformat": 4,
 "nbformat_minor": 0
}
